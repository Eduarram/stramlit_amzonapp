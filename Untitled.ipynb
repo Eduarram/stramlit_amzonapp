{
 "cells": [
  {
   "cell_type": "code",
   "execution_count": 1,
   "id": "3ec033ef-c20f-4edb-91f6-cc324f6ce8a3",
   "metadata": {},
   "outputs": [],
   "source": [
    "import pandas as pd \n",
    "import numpy as np \n",
    "import matplotlib.pyplot as plt \n",
    "import plotly as ply\n",
    "import bokeh as bok\n",
    "from tabulate import tabulate\n",
    "import seaborn as sns\n",
    "import datetime as dt"
   ]
  },
  {
   "cell_type": "code",
   "execution_count": 2,
   "id": "925f2843-4078-49c9-8cba-e92e21fe8fca",
   "metadata": {},
   "outputs": [
    {
     "name": "stdout",
     "output_type": "stream",
     "text": [
      "Package                       Version\n",
      "----------------------------- ------------\n",
      "alabaster                     0.7.12\n",
      "altair                        5.2.0\n",
      "anyio                         3.5.0\n",
      "appdirs                       1.4.4\n",
      "argon2-cffi                   21.3.0\n",
      "argon2-cffi-bindings          21.2.0\n",
      "arrow                         1.2.3\n",
      "asgiref                       3.7.2\n",
      "astroid                       2.14.2\n",
      "asttokens                     2.0.5\n",
      "async-lru                     2.0.4\n",
      "atomicwrites                  1.4.0\n",
      "attrs                         23.1.0\n",
      "autopep8                      1.6.0\n",
      "Babel                         2.11.0\n",
      "backcall                      0.2.0\n",
      "bcrypt                        3.2.0\n",
      "beautifulsoup4                4.12.2\n",
      "binaryornot                   0.4.4\n",
      "black                         0.0\n",
      "bleach                        4.1.0\n",
      "blinker                       1.7.0\n",
      "bokeh                         3.3.0\n",
      "Bottleneck                    1.3.5\n",
      "Brotli                        1.0.9\n",
      "cachetools                    5.3.3\n",
      "certifi                       2024.2.2\n",
      "cffi                          1.15.1\n",
      "chardet                       4.0.0\n",
      "charset-normalizer            2.0.4\n",
      "click                         8.1.7\n",
      "click-plugins                 1.1.1\n",
      "cligj                         0.7.2\n",
      "cloudpickle                   2.2.1\n",
      "colorama                      0.4.6\n",
      "comm                          0.2.2\n",
      "contourpy                     1.0.5\n",
      "cookiecutter                  1.7.3\n",
      "cryptography                  41.0.3\n",
      "cycler                        0.11.0\n",
      "Cython                        3.0.7\n",
      "debugpy                       1.6.7\n",
      "decorator                     5.1.1\n",
      "defusedxml                    0.7.1\n",
      "diff-match-patch              20200713\n",
      "dill                          0.3.7\n",
      "docstring-to-markdown         0.11\n",
      "docutils                      0.18.1\n",
      "entrypoints                   0.4\n",
      "et-xmlfile                    1.1.0\n",
      "executing                     0.8.3\n",
      "Faker                         24.4.0\n",
      "fastjsonschema                2.16.2\n",
      "favicon                       0.7.0\n",
      "fiona                         1.9.5\n",
      "flake8                        6.0.0\n",
      "fonttools                     4.25.0\n",
      "fqdn                          1.5.1\n",
      "frozendict                    2.3.10\n",
      "geopandas                     0.14.1\n",
      "gitdb                         4.0.11\n",
      "GitPython                     3.1.42\n",
      "h11                           0.14.0\n",
      "htbuilder                     0.6.2\n",
      "html5lib                      1.1\n",
      "htmltools                     0.5.1\n",
      "idna                          3.4\n",
      "imagesize                     1.4.1\n",
      "importlib-metadata            6.0.0\n",
      "inflection                    0.5.1\n",
      "intervaltree                  3.1.0\n",
      "ipykernel                     6.25.0\n",
      "ipython                       8.15.0\n",
      "ipython-genutils              0.2.0\n",
      "ipywidgets                    8.1.2\n",
      "isoduration                   20.11.0\n",
      "isort                         5.9.3\n",
      "jaraco.classes                3.2.1\n",
      "jedi                          0.18.1\n",
      "jellyfish                     1.0.1\n",
      "Jinja2                        3.1.2\n",
      "jinja2-time                   0.2.0\n",
      "joblib                        1.3.2\n",
      "json5                         0.9.6\n",
      "jsonpointer                   2.4\n",
      "jsonschema                    4.19.2\n",
      "jsonschema-specifications     2023.7.1\n",
      "jupyter_client                8.6.0\n",
      "jupyter_core                  5.5.0\n",
      "jupyter-events                0.8.0\n",
      "jupyter-lsp                   2.2.0\n",
      "jupyter_server                2.10.0\n",
      "jupyter_server_terminals      0.4.4\n",
      "jupyter-tabnine               1.2.3\n",
      "jupyterlab                    4.0.8\n",
      "jupyterlab-pygments           0.1.2\n",
      "jupyterlab_server             2.25.1\n",
      "jupyterlab_widgets            3.0.10\n",
      "keyring                       23.13.1\n",
      "kiwisolver                    1.4.4\n",
      "lazy-object-proxy             1.6.0\n",
      "linkify-it-py                 2.0.3\n",
      "loess                         2.1.2\n",
      "lxml                          4.9.4\n",
      "Markdown                      3.6\n",
      "markdown-it-py                3.0.0\n",
      "markdownlit                   0.0.7\n",
      "MarkupSafe                    2.1.1\n",
      "matplotlib                    3.8.0\n",
      "matplotlib-inline             0.1.6\n",
      "mccabe                        0.7.0\n",
      "mdit-py-plugins               0.4.0\n",
      "mdurl                         0.1.2\n",
      "mistune                       2.0.4\n",
      "mkl-fft                       1.3.8\n",
      "mkl-random                    1.2.4\n",
      "mkl-service                   2.4.0\n",
      "more-itertools                8.12.0\n",
      "multitasking                  0.0.11\n",
      "munkres                       1.1.4\n",
      "mypy-extensions               1.0.0\n",
      "nbclient                      0.8.0\n",
      "nbconvert                     7.10.0\n",
      "nbformat                      5.9.2\n",
      "nest-asyncio                  1.5.6\n",
      "notebook                      7.0.6\n",
      "notebook_shim                 0.2.3\n",
      "numexpr                       2.8.7\n",
      "numpy                         1.26.0\n",
      "numpydoc                      1.5.0\n",
      "openpyxl                      3.1.2\n",
      "overrides                     7.4.0\n",
      "packaging                     23.1\n",
      "pandas                        2.1.1\n",
      "pandocfilters                 1.5.0\n",
      "paramiko                      2.8.1\n",
      "parso                         0.8.3\n",
      "pathspec                      0.10.3\n",
      "patsy                         0.5.4\n",
      "peewee                        3.17.0\n",
      "pexpect                       4.8.0\n",
      "pickleshare                   0.7.5\n",
      "Pillow                        10.0.1\n",
      "pip                           23.3\n",
      "platformdirs                  3.10.0\n",
      "plotbin                       3.1.5\n",
      "plotly                        5.18.0\n",
      "pluggy                        1.0.0\n",
      "ply                           3.11\n",
      "pmdarima                      2.0.4\n",
      "poyo                          0.5.0\n",
      "prettytable                   3.10.0\n",
      "prometheus-client             0.14.1\n",
      "prompt-toolkit                3.0.36\n",
      "protobuf                      4.25.3\n",
      "psutil                        5.9.0\n",
      "ptyprocess                    0.7.0\n",
      "pure-eval                     0.2.2\n",
      "pyarrow                       15.0.2\n",
      "pycodestyle                   2.10.0\n",
      "pycparser                     2.21\n",
      "pydeck                        0.8.1b0\n",
      "pydocstyle                    6.3.0\n",
      "pyecharts                     2.0.5\n",
      "pyflakes                      3.0.1\n",
      "Pygments                      2.15.1\n",
      "pylint                        2.16.2\n",
      "pylint-venv                   2.3.0\n",
      "pyls-spyder                   0.4.0\n",
      "pymdown-extensions            10.7.1\n",
      "PyNaCl                        1.5.0\n",
      "pyOpenSSL                     23.2.0\n",
      "pyparsing                     3.0.9\n",
      "pyproj                        3.6.1\n",
      "PyQt5                         5.15.10\n",
      "PyQt5-sip                     12.13.0\n",
      "PyQtWebEngine                 5.15.6\n",
      "PySocks                       1.7.1\n",
      "python-dateutil               2.8.2\n",
      "python-json-logger            2.0.7\n",
      "python-lsp-black              1.2.1\n",
      "python-lsp-jsonrpc            1.0.0\n",
      "python-lsp-server             1.7.2\n",
      "python-multipart              0.0.9\n",
      "python-slugify                5.0.2\n",
      "pytoolconfig                  1.2.5\n",
      "pytz                          2023.3.post1\n",
      "pywin32                       305.1\n",
      "pywin32-ctypes                0.2.0\n",
      "pywinpty                      2.0.10\n",
      "PyYAML                        6.0.1\n",
      "pyzmq                         25.1.0\n",
      "QDarkStyle                    3.0.2\n",
      "qstylizer                     0.2.2\n",
      "QtAwesome                     1.2.2\n",
      "qtconsole                     5.4.2\n",
      "QtPy                          2.2.0\n",
      "questionary                   2.0.1\n",
      "referencing                   0.30.2\n",
      "requests                      2.31.0\n",
      "rfc3339-validator             0.1.4\n",
      "rfc3986-validator             0.1.1\n",
      "rich                          13.7.1\n",
      "rope                          1.7.0\n",
      "rpds-py                       0.10.6\n",
      "Rtree                         1.0.1\n",
      "scikit-learn                  1.3.2\n",
      "scipy                         1.11.3\n",
      "seaborn                       0.12.2\n",
      "Send2Trash                    1.8.2\n",
      "setuptools                    68.0.0\n",
      "shapely                       2.0.1\n",
      "simplejson                    3.19.2\n",
      "sip                           6.7.12\n",
      "six                           1.16.0\n",
      "smmap                         5.0.1\n",
      "sniffio                       1.2.0\n",
      "snowballstemmer               2.2.0\n",
      "sortedcontainers              2.4.0\n",
      "soupsieve                     2.5\n",
      "Sphinx                        5.0.2\n",
      "sphinxcontrib-applehelp       1.0.2\n",
      "sphinxcontrib-devhelp         1.0.2\n",
      "sphinxcontrib-htmlhelp        2.0.0\n",
      "sphinxcontrib-jsmath          1.0.1\n",
      "sphinxcontrib-qthelp          1.0.3\n",
      "sphinxcontrib-serializinghtml 1.1.5\n",
      "spyder                        5.4.3\n",
      "spyder-kernels                2.4.4\n",
      "st-annotated-text             4.0.1\n",
      "stack-data                    0.2.0\n",
      "starlette                     0.37.2\n",
      "statsmodels                   0.14.1\n",
      "streamlit                     1.32.2\n",
      "streamlit-camera-input-live   0.2.0\n",
      "streamlit-card                1.0.0\n",
      "streamlit-echarts             0.4.0\n",
      "streamlit-embedcode           0.1.2\n",
      "streamlit-extras              0.4.0\n",
      "streamlit-faker               0.0.3\n",
      "streamlit-image-coordinates   0.1.6\n",
      "streamlit-keyup               0.2.3\n",
      "streamlit-toggle-switch       1.0.2\n",
      "streamlit-vertical-slider     2.5.5\n",
      "tabulate                      0.9.0\n",
      "tenacity                      8.2.3\n",
      "terminado                     0.17.1\n",
      "text-unidecode                1.3\n",
      "textdistance                  4.2.1\n",
      "threadpoolctl                 3.2.0\n",
      "three-merge                   0.1.1\n",
      "tinycss2                      1.2.1\n",
      "toml                          0.10.2\n",
      "tomlkit                       0.11.1\n",
      "toolz                         0.12.1\n",
      "tornado                       6.3.3\n",
      "traitlets                     5.7.1\n",
      "typing_extensions             4.7.1\n",
      "tzdata                        2023.3\n",
      "uc-micro-py                   1.0.3\n",
      "ujson                         5.4.0\n",
      "Unidecode                     1.2.0\n",
      "uri-template                  1.3.0\n",
      "urllib3                       1.26.18\n",
      "uvicorn                       0.28.0\n",
      "watchdog                      2.1.6\n",
      "watchfiles                    0.21.0\n",
      "wcwidth                       0.2.5\n",
      "webcolors                     1.13\n",
      "webencodings                  0.5.1\n",
      "websocket-client              0.58.0\n",
      "websockets                    12.0\n",
      "whatthepatch                  1.0.2\n",
      "wheel                         0.41.2\n",
      "widgetsnbextension            4.0.10\n",
      "win-inet-pton                 1.1.0\n",
      "wrapt                         1.14.1\n",
      "xlrd                          2.0.1\n",
      "xyzservices                   2022.9.0\n",
      "yapf                          0.31.0\n",
      "yfinance                      0.2.33\n",
      "zipp                          3.11.0\n",
      "Note: you may need to restart the kernel to use updated packages.\n"
     ]
    }
   ],
   "source": [
    "pip list"
   ]
  },
  {
   "cell_type": "code",
   "execution_count": 3,
   "id": "203cec6e-291c-487e-90fa-f41141beaac0",
   "metadata": {},
   "outputs": [],
   "source": [
    "amazon_dta = pd.read_excel('Amazon.xlsx')"
   ]
  },
  {
   "cell_type": "code",
   "execution_count": 4,
   "id": "a96d7e56-213f-46c5-a99c-190c2d504620",
   "metadata": {},
   "outputs": [
    {
     "data": {
      "text/html": [
       "<div>\n",
       "<style scoped>\n",
       "    .dataframe tbody tr th:only-of-type {\n",
       "        vertical-align: middle;\n",
       "    }\n",
       "\n",
       "    .dataframe tbody tr th {\n",
       "        vertical-align: top;\n",
       "    }\n",
       "\n",
       "    .dataframe thead th {\n",
       "        text-align: right;\n",
       "    }\n",
       "</style>\n",
       "<table border=\"1\" class=\"dataframe\">\n",
       "  <thead>\n",
       "    <tr style=\"text-align: right;\">\n",
       "      <th></th>\n",
       "      <th>Order ID</th>\n",
       "      <th>Order Date</th>\n",
       "      <th>Ship Date</th>\n",
       "      <th>EmailID</th>\n",
       "      <th>Geography</th>\n",
       "      <th>Category</th>\n",
       "      <th>Product Name</th>\n",
       "      <th>Sales</th>\n",
       "      <th>Quantity</th>\n",
       "      <th>Profit</th>\n",
       "    </tr>\n",
       "  </thead>\n",
       "  <tbody>\n",
       "    <tr>\n",
       "      <th>0</th>\n",
       "      <td>CA-2013-138688</td>\n",
       "      <td>2013-06-13</td>\n",
       "      <td>2013-06-17</td>\n",
       "      <td>DarrinVanHuff@gmail.com</td>\n",
       "      <td>United States,Los Angeles,California</td>\n",
       "      <td>Labels</td>\n",
       "      <td>Self-Adhesive Address Labels for Typewriters b...</td>\n",
       "      <td>14.620</td>\n",
       "      <td>2</td>\n",
       "      <td>6.8714</td>\n",
       "    </tr>\n",
       "    <tr>\n",
       "      <th>1</th>\n",
       "      <td>CA-2011-115812</td>\n",
       "      <td>2011-06-09</td>\n",
       "      <td>2011-06-14</td>\n",
       "      <td>BrosinaHoffman@gmail.com</td>\n",
       "      <td>United States,Los Angeles,California</td>\n",
       "      <td>Furnishings</td>\n",
       "      <td>Eldon Expressions Wood and Plastic Desk Access...</td>\n",
       "      <td>48.860</td>\n",
       "      <td>7</td>\n",
       "      <td>14.1694</td>\n",
       "    </tr>\n",
       "    <tr>\n",
       "      <th>2</th>\n",
       "      <td>CA-2011-115812</td>\n",
       "      <td>2011-06-09</td>\n",
       "      <td>2011-06-14</td>\n",
       "      <td>BrosinaHoffman@gmail.com</td>\n",
       "      <td>United States,Los Angeles,California</td>\n",
       "      <td>Art</td>\n",
       "      <td>Newell 322</td>\n",
       "      <td>7.280</td>\n",
       "      <td>4</td>\n",
       "      <td>1.9656</td>\n",
       "    </tr>\n",
       "    <tr>\n",
       "      <th>3</th>\n",
       "      <td>CA-2011-115812</td>\n",
       "      <td>2011-06-09</td>\n",
       "      <td>2011-06-14</td>\n",
       "      <td>BrosinaHoffman@gmail.com</td>\n",
       "      <td>United States,Los Angeles,California</td>\n",
       "      <td>Phones</td>\n",
       "      <td>Mitel 5320 IP Phone VoIP phone</td>\n",
       "      <td>907.152</td>\n",
       "      <td>4</td>\n",
       "      <td>90.7152</td>\n",
       "    </tr>\n",
       "    <tr>\n",
       "      <th>4</th>\n",
       "      <td>CA-2011-115812</td>\n",
       "      <td>2011-06-09</td>\n",
       "      <td>2011-06-14</td>\n",
       "      <td>BrosinaHoffman@gmail.com</td>\n",
       "      <td>United States,Los Angeles,California</td>\n",
       "      <td>Binders</td>\n",
       "      <td>DXL Angle-View Binders with Locking Rings by S...</td>\n",
       "      <td>18.504</td>\n",
       "      <td>3</td>\n",
       "      <td>5.7825</td>\n",
       "    </tr>\n",
       "  </tbody>\n",
       "</table>\n",
       "</div>"
      ],
      "text/plain": [
       "         Order ID Order Date  Ship Date                   EmailID  \\\n",
       "0  CA-2013-138688 2013-06-13 2013-06-17   DarrinVanHuff@gmail.com   \n",
       "1  CA-2011-115812 2011-06-09 2011-06-14  BrosinaHoffman@gmail.com   \n",
       "2  CA-2011-115812 2011-06-09 2011-06-14  BrosinaHoffman@gmail.com   \n",
       "3  CA-2011-115812 2011-06-09 2011-06-14  BrosinaHoffman@gmail.com   \n",
       "4  CA-2011-115812 2011-06-09 2011-06-14  BrosinaHoffman@gmail.com   \n",
       "\n",
       "                              Geography     Category  \\\n",
       "0  United States,Los Angeles,California       Labels   \n",
       "1  United States,Los Angeles,California  Furnishings   \n",
       "2  United States,Los Angeles,California          Art   \n",
       "3  United States,Los Angeles,California       Phones   \n",
       "4  United States,Los Angeles,California      Binders   \n",
       "\n",
       "                                        Product Name    Sales  Quantity  \\\n",
       "0  Self-Adhesive Address Labels for Typewriters b...   14.620         2   \n",
       "1  Eldon Expressions Wood and Plastic Desk Access...   48.860         7   \n",
       "2                                         Newell 322    7.280         4   \n",
       "3                     Mitel 5320 IP Phone VoIP phone  907.152         4   \n",
       "4  DXL Angle-View Binders with Locking Rings by S...   18.504         3   \n",
       "\n",
       "    Profit  \n",
       "0   6.8714  \n",
       "1  14.1694  \n",
       "2   1.9656  \n",
       "3  90.7152  \n",
       "4   5.7825  "
      ]
     },
     "execution_count": 4,
     "metadata": {},
     "output_type": "execute_result"
    }
   ],
   "source": [
    "#os.listdir()\n",
    "amazon_dta.head()"
   ]
  },
  {
   "cell_type": "code",
   "execution_count": 5,
   "id": "50f1837d-ad6e-438c-b2a4-edc76cec69fd",
   "metadata": {},
   "outputs": [
    {
     "data": {
      "text/plain": [
       "Index(['Order ID', 'Order Date', 'Ship Date', 'EmailID', 'Geography',\n",
       "       'Category', 'Product Name', 'Sales', 'Quantity', 'Profit'],\n",
       "      dtype='object')"
      ]
     },
     "execution_count": 5,
     "metadata": {},
     "output_type": "execute_result"
    }
   ],
   "source": [
    "amazon_dta.columns"
   ]
  },
  {
   "cell_type": "code",
   "execution_count": 6,
   "id": "6722742f-b24a-47a7-bd1b-d772ad9f1cab",
   "metadata": {},
   "outputs": [],
   "source": [
    "resumen = amazon_dta.groupby('Category').agg({'Profit': 'sum', 'Sales': 'sum' , 'Quantity':'sum'})"
   ]
  },
  {
   "cell_type": "code",
   "execution_count": 7,
   "id": "44ff5b29-45c5-407c-b2d9-37584eb3f75e",
   "metadata": {},
   "outputs": [
    {
     "data": {
      "text/html": [
       "<div>\n",
       "<style scoped>\n",
       "    .dataframe tbody tr th:only-of-type {\n",
       "        vertical-align: middle;\n",
       "    }\n",
       "\n",
       "    .dataframe tbody tr th {\n",
       "        vertical-align: top;\n",
       "    }\n",
       "\n",
       "    .dataframe thead th {\n",
       "        text-align: right;\n",
       "    }\n",
       "</style>\n",
       "<table border=\"1\" class=\"dataframe\">\n",
       "  <thead>\n",
       "    <tr style=\"text-align: right;\">\n",
       "      <th></th>\n",
       "      <th>Profit</th>\n",
       "      <th>Sales</th>\n",
       "      <th>Quantity</th>\n",
       "    </tr>\n",
       "    <tr>\n",
       "      <th>Category</th>\n",
       "      <th></th>\n",
       "      <th></th>\n",
       "      <th></th>\n",
       "    </tr>\n",
       "  </thead>\n",
       "  <tbody>\n",
       "    <tr>\n",
       "      <th>Accessories</th>\n",
       "      <td>16484.5983</td>\n",
       "      <td>61114.1160</td>\n",
       "      <td>1032</td>\n",
       "    </tr>\n",
       "    <tr>\n",
       "      <th>Appliances</th>\n",
       "      <td>8261.2699</td>\n",
       "      <td>30236.3360</td>\n",
       "      <td>492</td>\n",
       "    </tr>\n",
       "    <tr>\n",
       "      <th>Art</th>\n",
       "      <td>2374.0970</td>\n",
       "      <td>9212.0660</td>\n",
       "      <td>926</td>\n",
       "    </tr>\n",
       "    <tr>\n",
       "      <th>Binders</th>\n",
       "      <td>16096.8016</td>\n",
       "      <td>55961.1130</td>\n",
       "      <td>1868</td>\n",
       "    </tr>\n",
       "    <tr>\n",
       "      <th>Bookcases</th>\n",
       "      <td>-1646.5117</td>\n",
       "      <td>36004.1235</td>\n",
       "      <td>306</td>\n",
       "    </tr>\n",
       "  </tbody>\n",
       "</table>\n",
       "</div>"
      ],
      "text/plain": [
       "                 Profit       Sales  Quantity\n",
       "Category                                     \n",
       "Accessories  16484.5983  61114.1160      1032\n",
       "Appliances    8261.2699  30236.3360       492\n",
       "Art           2374.0970   9212.0660       926\n",
       "Binders      16096.8016  55961.1130      1868\n",
       "Bookcases    -1646.5117  36004.1235       306"
      ]
     },
     "execution_count": 7,
     "metadata": {},
     "output_type": "execute_result"
    }
   ],
   "source": [
    "resumen.head()"
   ]
  },
  {
   "cell_type": "code",
   "execution_count": 8,
   "id": "4281b2ee-b1b7-408b-b8db-e9ba73602d61",
   "metadata": {},
   "outputs": [
    {
     "data": {
      "application/vnd.plotly.v1+json": {
       "config": {
        "plotlyServerURL": "https://plot.ly"
       },
       "data": [
        {
         "alignmentgroup": "True",
         "hovertemplate": "Category=%{x}<br>Profit=%{y}<extra></extra>",
         "legendgroup": "",
         "marker": {
          "color": "blue",
          "pattern": {
           "shape": ""
          }
         },
         "name": "",
         "offsetgroup": "",
         "orientation": "v",
         "showlegend": false,
         "textposition": "auto",
         "type": "bar",
         "x": [
          "Accessories",
          "Appliances",
          "Art",
          "Binders",
          "Bookcases",
          "Chairs",
          "Copiers",
          "Envelopes",
          "Fasteners",
          "Furnishings",
          "Labels",
          "Machines",
          "Paper",
          "Phones",
          "Storage",
          "Supplies",
          "Tables"
         ],
         "xaxis": "x",
         "y": [
          16484.5983,
          8261.2699,
          2374.097,
          16096.8016,
          -1646.5117,
          4027.5843,
          19327.2351,
          1908.7624,
          275.1907,
          7641.2704,
          2303.1223,
          -618.9264,
          12119.2364,
          9110.7426,
          8645.3222,
          626.0464999999999,
          1482.6073000000001
         ],
         "yaxis": "y"
        }
       ],
       "layout": {
        "barmode": "relative",
        "legend": {
         "tracegroupgap": 0
        },
        "margin": {
         "t": 60
        },
        "template": {
         "data": {
          "bar": [
           {
            "error_x": {
             "color": "#2a3f5f"
            },
            "error_y": {
             "color": "#2a3f5f"
            },
            "marker": {
             "line": {
              "color": "#E5ECF6",
              "width": 0.5
             },
             "pattern": {
              "fillmode": "overlay",
              "size": 10,
              "solidity": 0.2
             }
            },
            "type": "bar"
           }
          ],
          "barpolar": [
           {
            "marker": {
             "line": {
              "color": "#E5ECF6",
              "width": 0.5
             },
             "pattern": {
              "fillmode": "overlay",
              "size": 10,
              "solidity": 0.2
             }
            },
            "type": "barpolar"
           }
          ],
          "carpet": [
           {
            "aaxis": {
             "endlinecolor": "#2a3f5f",
             "gridcolor": "white",
             "linecolor": "white",
             "minorgridcolor": "white",
             "startlinecolor": "#2a3f5f"
            },
            "baxis": {
             "endlinecolor": "#2a3f5f",
             "gridcolor": "white",
             "linecolor": "white",
             "minorgridcolor": "white",
             "startlinecolor": "#2a3f5f"
            },
            "type": "carpet"
           }
          ],
          "choropleth": [
           {
            "colorbar": {
             "outlinewidth": 0,
             "ticks": ""
            },
            "type": "choropleth"
           }
          ],
          "contour": [
           {
            "colorbar": {
             "outlinewidth": 0,
             "ticks": ""
            },
            "colorscale": [
             [
              0,
              "#0d0887"
             ],
             [
              0.1111111111111111,
              "#46039f"
             ],
             [
              0.2222222222222222,
              "#7201a8"
             ],
             [
              0.3333333333333333,
              "#9c179e"
             ],
             [
              0.4444444444444444,
              "#bd3786"
             ],
             [
              0.5555555555555556,
              "#d8576b"
             ],
             [
              0.6666666666666666,
              "#ed7953"
             ],
             [
              0.7777777777777778,
              "#fb9f3a"
             ],
             [
              0.8888888888888888,
              "#fdca26"
             ],
             [
              1,
              "#f0f921"
             ]
            ],
            "type": "contour"
           }
          ],
          "contourcarpet": [
           {
            "colorbar": {
             "outlinewidth": 0,
             "ticks": ""
            },
            "type": "contourcarpet"
           }
          ],
          "heatmap": [
           {
            "colorbar": {
             "outlinewidth": 0,
             "ticks": ""
            },
            "colorscale": [
             [
              0,
              "#0d0887"
             ],
             [
              0.1111111111111111,
              "#46039f"
             ],
             [
              0.2222222222222222,
              "#7201a8"
             ],
             [
              0.3333333333333333,
              "#9c179e"
             ],
             [
              0.4444444444444444,
              "#bd3786"
             ],
             [
              0.5555555555555556,
              "#d8576b"
             ],
             [
              0.6666666666666666,
              "#ed7953"
             ],
             [
              0.7777777777777778,
              "#fb9f3a"
             ],
             [
              0.8888888888888888,
              "#fdca26"
             ],
             [
              1,
              "#f0f921"
             ]
            ],
            "type": "heatmap"
           }
          ],
          "heatmapgl": [
           {
            "colorbar": {
             "outlinewidth": 0,
             "ticks": ""
            },
            "colorscale": [
             [
              0,
              "#0d0887"
             ],
             [
              0.1111111111111111,
              "#46039f"
             ],
             [
              0.2222222222222222,
              "#7201a8"
             ],
             [
              0.3333333333333333,
              "#9c179e"
             ],
             [
              0.4444444444444444,
              "#bd3786"
             ],
             [
              0.5555555555555556,
              "#d8576b"
             ],
             [
              0.6666666666666666,
              "#ed7953"
             ],
             [
              0.7777777777777778,
              "#fb9f3a"
             ],
             [
              0.8888888888888888,
              "#fdca26"
             ],
             [
              1,
              "#f0f921"
             ]
            ],
            "type": "heatmapgl"
           }
          ],
          "histogram": [
           {
            "marker": {
             "pattern": {
              "fillmode": "overlay",
              "size": 10,
              "solidity": 0.2
             }
            },
            "type": "histogram"
           }
          ],
          "histogram2d": [
           {
            "colorbar": {
             "outlinewidth": 0,
             "ticks": ""
            },
            "colorscale": [
             [
              0,
              "#0d0887"
             ],
             [
              0.1111111111111111,
              "#46039f"
             ],
             [
              0.2222222222222222,
              "#7201a8"
             ],
             [
              0.3333333333333333,
              "#9c179e"
             ],
             [
              0.4444444444444444,
              "#bd3786"
             ],
             [
              0.5555555555555556,
              "#d8576b"
             ],
             [
              0.6666666666666666,
              "#ed7953"
             ],
             [
              0.7777777777777778,
              "#fb9f3a"
             ],
             [
              0.8888888888888888,
              "#fdca26"
             ],
             [
              1,
              "#f0f921"
             ]
            ],
            "type": "histogram2d"
           }
          ],
          "histogram2dcontour": [
           {
            "colorbar": {
             "outlinewidth": 0,
             "ticks": ""
            },
            "colorscale": [
             [
              0,
              "#0d0887"
             ],
             [
              0.1111111111111111,
              "#46039f"
             ],
             [
              0.2222222222222222,
              "#7201a8"
             ],
             [
              0.3333333333333333,
              "#9c179e"
             ],
             [
              0.4444444444444444,
              "#bd3786"
             ],
             [
              0.5555555555555556,
              "#d8576b"
             ],
             [
              0.6666666666666666,
              "#ed7953"
             ],
             [
              0.7777777777777778,
              "#fb9f3a"
             ],
             [
              0.8888888888888888,
              "#fdca26"
             ],
             [
              1,
              "#f0f921"
             ]
            ],
            "type": "histogram2dcontour"
           }
          ],
          "mesh3d": [
           {
            "colorbar": {
             "outlinewidth": 0,
             "ticks": ""
            },
            "type": "mesh3d"
           }
          ],
          "parcoords": [
           {
            "line": {
             "colorbar": {
              "outlinewidth": 0,
              "ticks": ""
             }
            },
            "type": "parcoords"
           }
          ],
          "pie": [
           {
            "automargin": true,
            "type": "pie"
           }
          ],
          "scatter": [
           {
            "fillpattern": {
             "fillmode": "overlay",
             "size": 10,
             "solidity": 0.2
            },
            "type": "scatter"
           }
          ],
          "scatter3d": [
           {
            "line": {
             "colorbar": {
              "outlinewidth": 0,
              "ticks": ""
             }
            },
            "marker": {
             "colorbar": {
              "outlinewidth": 0,
              "ticks": ""
             }
            },
            "type": "scatter3d"
           }
          ],
          "scattercarpet": [
           {
            "marker": {
             "colorbar": {
              "outlinewidth": 0,
              "ticks": ""
             }
            },
            "type": "scattercarpet"
           }
          ],
          "scattergeo": [
           {
            "marker": {
             "colorbar": {
              "outlinewidth": 0,
              "ticks": ""
             }
            },
            "type": "scattergeo"
           }
          ],
          "scattergl": [
           {
            "marker": {
             "colorbar": {
              "outlinewidth": 0,
              "ticks": ""
             }
            },
            "type": "scattergl"
           }
          ],
          "scattermapbox": [
           {
            "marker": {
             "colorbar": {
              "outlinewidth": 0,
              "ticks": ""
             }
            },
            "type": "scattermapbox"
           }
          ],
          "scatterpolar": [
           {
            "marker": {
             "colorbar": {
              "outlinewidth": 0,
              "ticks": ""
             }
            },
            "type": "scatterpolar"
           }
          ],
          "scatterpolargl": [
           {
            "marker": {
             "colorbar": {
              "outlinewidth": 0,
              "ticks": ""
             }
            },
            "type": "scatterpolargl"
           }
          ],
          "scatterternary": [
           {
            "marker": {
             "colorbar": {
              "outlinewidth": 0,
              "ticks": ""
             }
            },
            "type": "scatterternary"
           }
          ],
          "surface": [
           {
            "colorbar": {
             "outlinewidth": 0,
             "ticks": ""
            },
            "colorscale": [
             [
              0,
              "#0d0887"
             ],
             [
              0.1111111111111111,
              "#46039f"
             ],
             [
              0.2222222222222222,
              "#7201a8"
             ],
             [
              0.3333333333333333,
              "#9c179e"
             ],
             [
              0.4444444444444444,
              "#bd3786"
             ],
             [
              0.5555555555555556,
              "#d8576b"
             ],
             [
              0.6666666666666666,
              "#ed7953"
             ],
             [
              0.7777777777777778,
              "#fb9f3a"
             ],
             [
              0.8888888888888888,
              "#fdca26"
             ],
             [
              1,
              "#f0f921"
             ]
            ],
            "type": "surface"
           }
          ],
          "table": [
           {
            "cells": {
             "fill": {
              "color": "#EBF0F8"
             },
             "line": {
              "color": "white"
             }
            },
            "header": {
             "fill": {
              "color": "#C8D4E3"
             },
             "line": {
              "color": "white"
             }
            },
            "type": "table"
           }
          ]
         },
         "layout": {
          "annotationdefaults": {
           "arrowcolor": "#2a3f5f",
           "arrowhead": 0,
           "arrowwidth": 1
          },
          "autotypenumbers": "strict",
          "coloraxis": {
           "colorbar": {
            "outlinewidth": 0,
            "ticks": ""
           }
          },
          "colorscale": {
           "diverging": [
            [
             0,
             "#8e0152"
            ],
            [
             0.1,
             "#c51b7d"
            ],
            [
             0.2,
             "#de77ae"
            ],
            [
             0.3,
             "#f1b6da"
            ],
            [
             0.4,
             "#fde0ef"
            ],
            [
             0.5,
             "#f7f7f7"
            ],
            [
             0.6,
             "#e6f5d0"
            ],
            [
             0.7,
             "#b8e186"
            ],
            [
             0.8,
             "#7fbc41"
            ],
            [
             0.9,
             "#4d9221"
            ],
            [
             1,
             "#276419"
            ]
           ],
           "sequential": [
            [
             0,
             "#0d0887"
            ],
            [
             0.1111111111111111,
             "#46039f"
            ],
            [
             0.2222222222222222,
             "#7201a8"
            ],
            [
             0.3333333333333333,
             "#9c179e"
            ],
            [
             0.4444444444444444,
             "#bd3786"
            ],
            [
             0.5555555555555556,
             "#d8576b"
            ],
            [
             0.6666666666666666,
             "#ed7953"
            ],
            [
             0.7777777777777778,
             "#fb9f3a"
            ],
            [
             0.8888888888888888,
             "#fdca26"
            ],
            [
             1,
             "#f0f921"
            ]
           ],
           "sequentialminus": [
            [
             0,
             "#0d0887"
            ],
            [
             0.1111111111111111,
             "#46039f"
            ],
            [
             0.2222222222222222,
             "#7201a8"
            ],
            [
             0.3333333333333333,
             "#9c179e"
            ],
            [
             0.4444444444444444,
             "#bd3786"
            ],
            [
             0.5555555555555556,
             "#d8576b"
            ],
            [
             0.6666666666666666,
             "#ed7953"
            ],
            [
             0.7777777777777778,
             "#fb9f3a"
            ],
            [
             0.8888888888888888,
             "#fdca26"
            ],
            [
             1,
             "#f0f921"
            ]
           ]
          },
          "colorway": [
           "#636efa",
           "#EF553B",
           "#00cc96",
           "#ab63fa",
           "#FFA15A",
           "#19d3f3",
           "#FF6692",
           "#B6E880",
           "#FF97FF",
           "#FECB52"
          ],
          "font": {
           "color": "#2a3f5f"
          },
          "geo": {
           "bgcolor": "white",
           "lakecolor": "white",
           "landcolor": "#E5ECF6",
           "showlakes": true,
           "showland": true,
           "subunitcolor": "white"
          },
          "hoverlabel": {
           "align": "left"
          },
          "hovermode": "closest",
          "mapbox": {
           "style": "light"
          },
          "paper_bgcolor": "white",
          "plot_bgcolor": "#E5ECF6",
          "polar": {
           "angularaxis": {
            "gridcolor": "white",
            "linecolor": "white",
            "ticks": ""
           },
           "bgcolor": "#E5ECF6",
           "radialaxis": {
            "gridcolor": "white",
            "linecolor": "white",
            "ticks": ""
           }
          },
          "scene": {
           "xaxis": {
            "backgroundcolor": "#E5ECF6",
            "gridcolor": "white",
            "gridwidth": 2,
            "linecolor": "white",
            "showbackground": true,
            "ticks": "",
            "zerolinecolor": "white"
           },
           "yaxis": {
            "backgroundcolor": "#E5ECF6",
            "gridcolor": "white",
            "gridwidth": 2,
            "linecolor": "white",
            "showbackground": true,
            "ticks": "",
            "zerolinecolor": "white"
           },
           "zaxis": {
            "backgroundcolor": "#E5ECF6",
            "gridcolor": "white",
            "gridwidth": 2,
            "linecolor": "white",
            "showbackground": true,
            "ticks": "",
            "zerolinecolor": "white"
           }
          },
          "shapedefaults": {
           "line": {
            "color": "#2a3f5f"
           }
          },
          "ternary": {
           "aaxis": {
            "gridcolor": "white",
            "linecolor": "white",
            "ticks": ""
           },
           "baxis": {
            "gridcolor": "white",
            "linecolor": "white",
            "ticks": ""
           },
           "bgcolor": "#E5ECF6",
           "caxis": {
            "gridcolor": "white",
            "linecolor": "white",
            "ticks": ""
           }
          },
          "title": {
           "x": 0.05
          },
          "xaxis": {
           "automargin": true,
           "gridcolor": "white",
           "linecolor": "white",
           "ticks": "",
           "title": {
            "standoff": 15
           },
           "zerolinecolor": "white",
           "zerolinewidth": 2
          },
          "yaxis": {
           "automargin": true,
           "gridcolor": "white",
           "linecolor": "white",
           "ticks": "",
           "title": {
            "standoff": 15
           },
           "zerolinecolor": "white",
           "zerolinewidth": 2
          }
         }
        },
        "title": {
         "font": {
          "family": "Gravitas One",
          "size": 25
         },
         "text": "Profit by Category",
         "x": 0.5
        },
        "xaxis": {
         "anchor": "y",
         "domain": [
          0,
          1
         ],
         "tickfont": {
          "family": "Gravitas One",
          "size": 14
         },
         "title": {
          "text": "Category"
         }
        },
        "yaxis": {
         "anchor": "x",
         "domain": [
          0,
          1
         ],
         "tickfont": {
          "family": "Gravitas One",
          "size": 14
         },
         "title": {
          "text": "Profit"
         }
        }
       }
      }
     },
     "metadata": {},
     "output_type": "display_data"
    }
   ],
   "source": [
    "import plotly.express as px\n",
    "\n",
    "fuente = 'Gravitas One'\n",
    "\n",
    "fig = px.bar(resumen, x=resumen.index, y='Profit')\n",
    "fig.update_layout(\n",
    "    title=dict(\n",
    "        text=\"Profit by Category\",\n",
    "        x=0.5,  # Centra horizontalmente el título\n",
    "        font=dict(\n",
    "            family=fuente,  # Cambia la fuente del título\n",
    "            size=25\n",
    "        )\n",
    "    )\n",
    ")\n",
    "\n",
    "fig.update_xaxes(tickfont=dict(family=fuente, size=14))\n",
    "fig.update_yaxes(tickfont=dict(family=fuente, size=14))\n",
    "\n",
    "fig.update_traces(marker_color='blue')\n",
    "fig.show()"
   ]
  },
  {
   "cell_type": "code",
   "execution_count": 9,
   "id": "8ec9a87b-dae0-47dd-accb-6a0b88711efd",
   "metadata": {},
   "outputs": [
    {
     "data": {
      "application/vnd.plotly.v1+json": {
       "config": {
        "plotlyServerURL": "https://plot.ly"
       },
       "data": [
        {
         "alignmentgroup": "True",
         "hovertemplate": "Category=%{x}<br>Sales=%{y}<extra></extra>",
         "legendgroup": "",
         "marker": {
          "color": "blue",
          "pattern": {
           "shape": ""
          }
         },
         "name": "",
         "offsetgroup": "",
         "orientation": "v",
         "showlegend": false,
         "textposition": "auto",
         "type": "bar",
         "x": [
          "Accessories",
          "Appliances",
          "Art",
          "Binders",
          "Bookcases",
          "Chairs",
          "Copiers",
          "Envelopes",
          "Fasteners",
          "Furnishings",
          "Labels",
          "Machines",
          "Paper",
          "Phones",
          "Storage",
          "Supplies",
          "Tables"
         ],
         "xaxis": "x",
         "y": [
          61114.116,
          30236.336,
          9212.065999999999,
          55961.113,
          36004.1235,
          101781.328,
          49749.242,
          4118.099999999999,
          923.216,
          30072.73,
          5078.726,
          42444.122,
          26663.718,
          98684.352,
          70532.852,
          18127.122,
          84754.562
         ],
         "yaxis": "y"
        }
       ],
       "layout": {
        "barmode": "relative",
        "legend": {
         "tracegroupgap": 0
        },
        "margin": {
         "t": 60
        },
        "template": {
         "data": {
          "bar": [
           {
            "error_x": {
             "color": "#2a3f5f"
            },
            "error_y": {
             "color": "#2a3f5f"
            },
            "marker": {
             "line": {
              "color": "#E5ECF6",
              "width": 0.5
             },
             "pattern": {
              "fillmode": "overlay",
              "size": 10,
              "solidity": 0.2
             }
            },
            "type": "bar"
           }
          ],
          "barpolar": [
           {
            "marker": {
             "line": {
              "color": "#E5ECF6",
              "width": 0.5
             },
             "pattern": {
              "fillmode": "overlay",
              "size": 10,
              "solidity": 0.2
             }
            },
            "type": "barpolar"
           }
          ],
          "carpet": [
           {
            "aaxis": {
             "endlinecolor": "#2a3f5f",
             "gridcolor": "white",
             "linecolor": "white",
             "minorgridcolor": "white",
             "startlinecolor": "#2a3f5f"
            },
            "baxis": {
             "endlinecolor": "#2a3f5f",
             "gridcolor": "white",
             "linecolor": "white",
             "minorgridcolor": "white",
             "startlinecolor": "#2a3f5f"
            },
            "type": "carpet"
           }
          ],
          "choropleth": [
           {
            "colorbar": {
             "outlinewidth": 0,
             "ticks": ""
            },
            "type": "choropleth"
           }
          ],
          "contour": [
           {
            "colorbar": {
             "outlinewidth": 0,
             "ticks": ""
            },
            "colorscale": [
             [
              0,
              "#0d0887"
             ],
             [
              0.1111111111111111,
              "#46039f"
             ],
             [
              0.2222222222222222,
              "#7201a8"
             ],
             [
              0.3333333333333333,
              "#9c179e"
             ],
             [
              0.4444444444444444,
              "#bd3786"
             ],
             [
              0.5555555555555556,
              "#d8576b"
             ],
             [
              0.6666666666666666,
              "#ed7953"
             ],
             [
              0.7777777777777778,
              "#fb9f3a"
             ],
             [
              0.8888888888888888,
              "#fdca26"
             ],
             [
              1,
              "#f0f921"
             ]
            ],
            "type": "contour"
           }
          ],
          "contourcarpet": [
           {
            "colorbar": {
             "outlinewidth": 0,
             "ticks": ""
            },
            "type": "contourcarpet"
           }
          ],
          "heatmap": [
           {
            "colorbar": {
             "outlinewidth": 0,
             "ticks": ""
            },
            "colorscale": [
             [
              0,
              "#0d0887"
             ],
             [
              0.1111111111111111,
              "#46039f"
             ],
             [
              0.2222222222222222,
              "#7201a8"
             ],
             [
              0.3333333333333333,
              "#9c179e"
             ],
             [
              0.4444444444444444,
              "#bd3786"
             ],
             [
              0.5555555555555556,
              "#d8576b"
             ],
             [
              0.6666666666666666,
              "#ed7953"
             ],
             [
              0.7777777777777778,
              "#fb9f3a"
             ],
             [
              0.8888888888888888,
              "#fdca26"
             ],
             [
              1,
              "#f0f921"
             ]
            ],
            "type": "heatmap"
           }
          ],
          "heatmapgl": [
           {
            "colorbar": {
             "outlinewidth": 0,
             "ticks": ""
            },
            "colorscale": [
             [
              0,
              "#0d0887"
             ],
             [
              0.1111111111111111,
              "#46039f"
             ],
             [
              0.2222222222222222,
              "#7201a8"
             ],
             [
              0.3333333333333333,
              "#9c179e"
             ],
             [
              0.4444444444444444,
              "#bd3786"
             ],
             [
              0.5555555555555556,
              "#d8576b"
             ],
             [
              0.6666666666666666,
              "#ed7953"
             ],
             [
              0.7777777777777778,
              "#fb9f3a"
             ],
             [
              0.8888888888888888,
              "#fdca26"
             ],
             [
              1,
              "#f0f921"
             ]
            ],
            "type": "heatmapgl"
           }
          ],
          "histogram": [
           {
            "marker": {
             "pattern": {
              "fillmode": "overlay",
              "size": 10,
              "solidity": 0.2
             }
            },
            "type": "histogram"
           }
          ],
          "histogram2d": [
           {
            "colorbar": {
             "outlinewidth": 0,
             "ticks": ""
            },
            "colorscale": [
             [
              0,
              "#0d0887"
             ],
             [
              0.1111111111111111,
              "#46039f"
             ],
             [
              0.2222222222222222,
              "#7201a8"
             ],
             [
              0.3333333333333333,
              "#9c179e"
             ],
             [
              0.4444444444444444,
              "#bd3786"
             ],
             [
              0.5555555555555556,
              "#d8576b"
             ],
             [
              0.6666666666666666,
              "#ed7953"
             ],
             [
              0.7777777777777778,
              "#fb9f3a"
             ],
             [
              0.8888888888888888,
              "#fdca26"
             ],
             [
              1,
              "#f0f921"
             ]
            ],
            "type": "histogram2d"
           }
          ],
          "histogram2dcontour": [
           {
            "colorbar": {
             "outlinewidth": 0,
             "ticks": ""
            },
            "colorscale": [
             [
              0,
              "#0d0887"
             ],
             [
              0.1111111111111111,
              "#46039f"
             ],
             [
              0.2222222222222222,
              "#7201a8"
             ],
             [
              0.3333333333333333,
              "#9c179e"
             ],
             [
              0.4444444444444444,
              "#bd3786"
             ],
             [
              0.5555555555555556,
              "#d8576b"
             ],
             [
              0.6666666666666666,
              "#ed7953"
             ],
             [
              0.7777777777777778,
              "#fb9f3a"
             ],
             [
              0.8888888888888888,
              "#fdca26"
             ],
             [
              1,
              "#f0f921"
             ]
            ],
            "type": "histogram2dcontour"
           }
          ],
          "mesh3d": [
           {
            "colorbar": {
             "outlinewidth": 0,
             "ticks": ""
            },
            "type": "mesh3d"
           }
          ],
          "parcoords": [
           {
            "line": {
             "colorbar": {
              "outlinewidth": 0,
              "ticks": ""
             }
            },
            "type": "parcoords"
           }
          ],
          "pie": [
           {
            "automargin": true,
            "type": "pie"
           }
          ],
          "scatter": [
           {
            "fillpattern": {
             "fillmode": "overlay",
             "size": 10,
             "solidity": 0.2
            },
            "type": "scatter"
           }
          ],
          "scatter3d": [
           {
            "line": {
             "colorbar": {
              "outlinewidth": 0,
              "ticks": ""
             }
            },
            "marker": {
             "colorbar": {
              "outlinewidth": 0,
              "ticks": ""
             }
            },
            "type": "scatter3d"
           }
          ],
          "scattercarpet": [
           {
            "marker": {
             "colorbar": {
              "outlinewidth": 0,
              "ticks": ""
             }
            },
            "type": "scattercarpet"
           }
          ],
          "scattergeo": [
           {
            "marker": {
             "colorbar": {
              "outlinewidth": 0,
              "ticks": ""
             }
            },
            "type": "scattergeo"
           }
          ],
          "scattergl": [
           {
            "marker": {
             "colorbar": {
              "outlinewidth": 0,
              "ticks": ""
             }
            },
            "type": "scattergl"
           }
          ],
          "scattermapbox": [
           {
            "marker": {
             "colorbar": {
              "outlinewidth": 0,
              "ticks": ""
             }
            },
            "type": "scattermapbox"
           }
          ],
          "scatterpolar": [
           {
            "marker": {
             "colorbar": {
              "outlinewidth": 0,
              "ticks": ""
             }
            },
            "type": "scatterpolar"
           }
          ],
          "scatterpolargl": [
           {
            "marker": {
             "colorbar": {
              "outlinewidth": 0,
              "ticks": ""
             }
            },
            "type": "scatterpolargl"
           }
          ],
          "scatterternary": [
           {
            "marker": {
             "colorbar": {
              "outlinewidth": 0,
              "ticks": ""
             }
            },
            "type": "scatterternary"
           }
          ],
          "surface": [
           {
            "colorbar": {
             "outlinewidth": 0,
             "ticks": ""
            },
            "colorscale": [
             [
              0,
              "#0d0887"
             ],
             [
              0.1111111111111111,
              "#46039f"
             ],
             [
              0.2222222222222222,
              "#7201a8"
             ],
             [
              0.3333333333333333,
              "#9c179e"
             ],
             [
              0.4444444444444444,
              "#bd3786"
             ],
             [
              0.5555555555555556,
              "#d8576b"
             ],
             [
              0.6666666666666666,
              "#ed7953"
             ],
             [
              0.7777777777777778,
              "#fb9f3a"
             ],
             [
              0.8888888888888888,
              "#fdca26"
             ],
             [
              1,
              "#f0f921"
             ]
            ],
            "type": "surface"
           }
          ],
          "table": [
           {
            "cells": {
             "fill": {
              "color": "#EBF0F8"
             },
             "line": {
              "color": "white"
             }
            },
            "header": {
             "fill": {
              "color": "#C8D4E3"
             },
             "line": {
              "color": "white"
             }
            },
            "type": "table"
           }
          ]
         },
         "layout": {
          "annotationdefaults": {
           "arrowcolor": "#2a3f5f",
           "arrowhead": 0,
           "arrowwidth": 1
          },
          "autotypenumbers": "strict",
          "coloraxis": {
           "colorbar": {
            "outlinewidth": 0,
            "ticks": ""
           }
          },
          "colorscale": {
           "diverging": [
            [
             0,
             "#8e0152"
            ],
            [
             0.1,
             "#c51b7d"
            ],
            [
             0.2,
             "#de77ae"
            ],
            [
             0.3,
             "#f1b6da"
            ],
            [
             0.4,
             "#fde0ef"
            ],
            [
             0.5,
             "#f7f7f7"
            ],
            [
             0.6,
             "#e6f5d0"
            ],
            [
             0.7,
             "#b8e186"
            ],
            [
             0.8,
             "#7fbc41"
            ],
            [
             0.9,
             "#4d9221"
            ],
            [
             1,
             "#276419"
            ]
           ],
           "sequential": [
            [
             0,
             "#0d0887"
            ],
            [
             0.1111111111111111,
             "#46039f"
            ],
            [
             0.2222222222222222,
             "#7201a8"
            ],
            [
             0.3333333333333333,
             "#9c179e"
            ],
            [
             0.4444444444444444,
             "#bd3786"
            ],
            [
             0.5555555555555556,
             "#d8576b"
            ],
            [
             0.6666666666666666,
             "#ed7953"
            ],
            [
             0.7777777777777778,
             "#fb9f3a"
            ],
            [
             0.8888888888888888,
             "#fdca26"
            ],
            [
             1,
             "#f0f921"
            ]
           ],
           "sequentialminus": [
            [
             0,
             "#0d0887"
            ],
            [
             0.1111111111111111,
             "#46039f"
            ],
            [
             0.2222222222222222,
             "#7201a8"
            ],
            [
             0.3333333333333333,
             "#9c179e"
            ],
            [
             0.4444444444444444,
             "#bd3786"
            ],
            [
             0.5555555555555556,
             "#d8576b"
            ],
            [
             0.6666666666666666,
             "#ed7953"
            ],
            [
             0.7777777777777778,
             "#fb9f3a"
            ],
            [
             0.8888888888888888,
             "#fdca26"
            ],
            [
             1,
             "#f0f921"
            ]
           ]
          },
          "colorway": [
           "#636efa",
           "#EF553B",
           "#00cc96",
           "#ab63fa",
           "#FFA15A",
           "#19d3f3",
           "#FF6692",
           "#B6E880",
           "#FF97FF",
           "#FECB52"
          ],
          "font": {
           "color": "#2a3f5f"
          },
          "geo": {
           "bgcolor": "white",
           "lakecolor": "white",
           "landcolor": "#E5ECF6",
           "showlakes": true,
           "showland": true,
           "subunitcolor": "white"
          },
          "hoverlabel": {
           "align": "left"
          },
          "hovermode": "closest",
          "mapbox": {
           "style": "light"
          },
          "paper_bgcolor": "white",
          "plot_bgcolor": "#E5ECF6",
          "polar": {
           "angularaxis": {
            "gridcolor": "white",
            "linecolor": "white",
            "ticks": ""
           },
           "bgcolor": "#E5ECF6",
           "radialaxis": {
            "gridcolor": "white",
            "linecolor": "white",
            "ticks": ""
           }
          },
          "scene": {
           "xaxis": {
            "backgroundcolor": "#E5ECF6",
            "gridcolor": "white",
            "gridwidth": 2,
            "linecolor": "white",
            "showbackground": true,
            "ticks": "",
            "zerolinecolor": "white"
           },
           "yaxis": {
            "backgroundcolor": "#E5ECF6",
            "gridcolor": "white",
            "gridwidth": 2,
            "linecolor": "white",
            "showbackground": true,
            "ticks": "",
            "zerolinecolor": "white"
           },
           "zaxis": {
            "backgroundcolor": "#E5ECF6",
            "gridcolor": "white",
            "gridwidth": 2,
            "linecolor": "white",
            "showbackground": true,
            "ticks": "",
            "zerolinecolor": "white"
           }
          },
          "shapedefaults": {
           "line": {
            "color": "#2a3f5f"
           }
          },
          "ternary": {
           "aaxis": {
            "gridcolor": "white",
            "linecolor": "white",
            "ticks": ""
           },
           "baxis": {
            "gridcolor": "white",
            "linecolor": "white",
            "ticks": ""
           },
           "bgcolor": "#E5ECF6",
           "caxis": {
            "gridcolor": "white",
            "linecolor": "white",
            "ticks": ""
           }
          },
          "title": {
           "x": 0.05
          },
          "xaxis": {
           "automargin": true,
           "gridcolor": "white",
           "linecolor": "white",
           "ticks": "",
           "title": {
            "standoff": 15
           },
           "zerolinecolor": "white",
           "zerolinewidth": 2
          },
          "yaxis": {
           "automargin": true,
           "gridcolor": "white",
           "linecolor": "white",
           "ticks": "",
           "title": {
            "standoff": 15
           },
           "zerolinecolor": "white",
           "zerolinewidth": 2
          }
         }
        },
        "title": {
         "font": {
          "family": "Gravitas One",
          "size": 25
         },
         "text": "Sales by Category",
         "x": 0.5
        },
        "xaxis": {
         "anchor": "y",
         "domain": [
          0,
          1
         ],
         "tickfont": {
          "family": "Gravitas One",
          "size": 14
         },
         "title": {
          "text": "Category"
         }
        },
        "yaxis": {
         "anchor": "x",
         "domain": [
          0,
          1
         ],
         "tickfont": {
          "family": "Gravitas One",
          "size": 14
         },
         "title": {
          "text": "Sales"
         }
        }
       }
      }
     },
     "metadata": {},
     "output_type": "display_data"
    }
   ],
   "source": [
    "fig = px.bar(resumen, x=resumen.index, y='Sales')\n",
    "fig.update_layout(\n",
    "    title=dict(\n",
    "        text=\"Sales by Category\",\n",
    "        x=0.5,  # Centra horizontalmente el título\n",
    "        font=dict(\n",
    "            family=fuente,  # Cambia la fuente del título\n",
    "            size=25\n",
    "        )\n",
    "    )\n",
    ")\n",
    "\n",
    "fig.update_xaxes(tickfont=dict(family=fuente, size=14))\n",
    "fig.update_yaxes(tickfont=dict(family=fuente, size=14))\n",
    "\n",
    "fig.update_traces(marker_color='blue')\n",
    "fig.show()"
   ]
  },
  {
   "cell_type": "code",
   "execution_count": 10,
   "id": "d1778b13-e734-4a6c-9422-dd42f752e384",
   "metadata": {},
   "outputs": [
    {
     "data": {
      "text/html": [
       "<div>\n",
       "<style scoped>\n",
       "    .dataframe tbody tr th:only-of-type {\n",
       "        vertical-align: middle;\n",
       "    }\n",
       "\n",
       "    .dataframe tbody tr th {\n",
       "        vertical-align: top;\n",
       "    }\n",
       "\n",
       "    .dataframe thead th {\n",
       "        text-align: right;\n",
       "    }\n",
       "</style>\n",
       "<table border=\"1\" class=\"dataframe\">\n",
       "  <thead>\n",
       "    <tr style=\"text-align: right;\">\n",
       "      <th></th>\n",
       "      <th>Profit</th>\n",
       "      <th>Sales</th>\n",
       "      <th>Quantity</th>\n",
       "    </tr>\n",
       "    <tr>\n",
       "      <th>Order Date</th>\n",
       "      <th></th>\n",
       "      <th></th>\n",
       "      <th></th>\n",
       "    </tr>\n",
       "  </thead>\n",
       "  <tbody>\n",
       "    <tr>\n",
       "      <th>2011-01-07</th>\n",
       "      <td>9.3312</td>\n",
       "      <td>19.440</td>\n",
       "      <td>3</td>\n",
       "    </tr>\n",
       "    <tr>\n",
       "      <th>2011-01-14</th>\n",
       "      <td>249.1494</td>\n",
       "      <td>1679.749</td>\n",
       "      <td>13</td>\n",
       "    </tr>\n",
       "    <tr>\n",
       "      <th>2011-01-19</th>\n",
       "      <td>6.4864</td>\n",
       "      <td>64.864</td>\n",
       "      <td>4</td>\n",
       "    </tr>\n",
       "    <tr>\n",
       "      <th>2011-01-20</th>\n",
       "      <td>-287.9976</td>\n",
       "      <td>378.594</td>\n",
       "      <td>24</td>\n",
       "    </tr>\n",
       "    <tr>\n",
       "      <th>2011-01-21</th>\n",
       "      <td>15.0828</td>\n",
       "      <td>38.660</td>\n",
       "      <td>4</td>\n",
       "    </tr>\n",
       "  </tbody>\n",
       "</table>\n",
       "</div>"
      ],
      "text/plain": [
       "              Profit     Sales  Quantity\n",
       "Order Date                              \n",
       "2011-01-07    9.3312    19.440         3\n",
       "2011-01-14  249.1494  1679.749        13\n",
       "2011-01-19    6.4864    64.864         4\n",
       "2011-01-20 -287.9976   378.594        24\n",
       "2011-01-21   15.0828    38.660         4"
      ]
     },
     "execution_count": 10,
     "metadata": {},
     "output_type": "execute_result"
    }
   ],
   "source": [
    "time_series = amazon_dta.groupby('Order Date').agg({'Profit': 'sum', 'Sales': 'sum' , 'Quantity':'sum'})\n",
    "pd.to_datetime(time_series.index)\n",
    "time_series.head()"
   ]
  },
  {
   "cell_type": "code",
   "execution_count": 11,
   "id": "c6122363-a56b-4063-8b18-38af18c41599",
   "metadata": {},
   "outputs": [
    {
     "data": {
      "application/vnd.plotly.v1+json": {
       "config": {
        "plotlyServerURL": "https://plot.ly"
       },
       "data": [
        {
         "hovertemplate": "Order Date=%{x}<br>Sales=%{y}<extra></extra>",
         "legendgroup": "",
         "line": {
          "color": "red",
          "dash": "solid"
         },
         "marker": {
          "symbol": "circle"
         },
         "mode": "lines",
         "name": "",
         "orientation": "v",
         "showlegend": false,
         "type": "scatter",
         "x": [
          "2011-01-07T00:00:00",
          "2011-01-14T00:00:00",
          "2011-01-19T00:00:00",
          "2011-01-20T00:00:00",
          "2011-01-21T00:00:00",
          "2011-01-24T00:00:00",
          "2011-01-28T00:00:00",
          "2011-02-01T00:00:00",
          "2011-02-03T00:00:00",
          "2011-02-04T00:00:00",
          "2011-02-05T00:00:00",
          "2011-02-09T00:00:00",
          "2011-02-13T00:00:00",
          "2011-02-15T00:00:00",
          "2011-02-16T00:00:00",
          "2011-02-21T00:00:00",
          "2011-02-23T00:00:00",
          "2011-02-25T00:00:00",
          "2011-03-01T00:00:00",
          "2011-03-03T00:00:00",
          "2011-03-07T00:00:00",
          "2011-03-10T00:00:00",
          "2011-03-11T00:00:00",
          "2011-03-14T00:00:00",
          "2011-03-18T00:00:00",
          "2011-03-22T00:00:00",
          "2011-03-23T00:00:00",
          "2011-03-24T00:00:00",
          "2011-03-25T00:00:00",
          "2011-03-26T00:00:00",
          "2011-03-28T00:00:00",
          "2011-03-30T00:00:00",
          "2011-03-31T00:00:00",
          "2011-04-01T00:00:00",
          "2011-04-03T00:00:00",
          "2011-04-04T00:00:00",
          "2011-04-06T00:00:00",
          "2011-04-08T00:00:00",
          "2011-04-11T00:00:00",
          "2011-04-12T00:00:00",
          "2011-04-15T00:00:00",
          "2011-04-18T00:00:00",
          "2011-04-19T00:00:00",
          "2011-04-20T00:00:00",
          "2011-04-21T00:00:00",
          "2011-04-23T00:00:00",
          "2011-04-25T00:00:00",
          "2011-04-26T00:00:00",
          "2011-04-28T00:00:00",
          "2011-05-04T00:00:00",
          "2011-05-06T00:00:00",
          "2011-05-09T00:00:00",
          "2011-05-10T00:00:00",
          "2011-05-13T00:00:00",
          "2011-05-16T00:00:00",
          "2011-05-21T00:00:00",
          "2011-05-23T00:00:00",
          "2011-05-26T00:00:00",
          "2011-05-27T00:00:00",
          "2011-05-28T00:00:00",
          "2011-06-02T00:00:00",
          "2011-06-03T00:00:00",
          "2011-06-08T00:00:00",
          "2011-06-09T00:00:00",
          "2011-06-13T00:00:00",
          "2011-06-17T00:00:00",
          "2011-06-18T00:00:00",
          "2011-06-21T00:00:00",
          "2011-06-22T00:00:00",
          "2011-06-24T00:00:00",
          "2011-06-25T00:00:00",
          "2011-06-30T00:00:00",
          "2011-07-01T00:00:00",
          "2011-07-04T00:00:00",
          "2011-07-05T00:00:00",
          "2011-07-06T00:00:00",
          "2011-07-08T00:00:00",
          "2011-07-09T00:00:00",
          "2011-07-12T00:00:00",
          "2011-07-13T00:00:00",
          "2011-07-14T00:00:00",
          "2011-07-18T00:00:00",
          "2011-07-19T00:00:00",
          "2011-07-20T00:00:00",
          "2011-07-21T00:00:00",
          "2011-07-22T00:00:00",
          "2011-07-23T00:00:00",
          "2011-07-25T00:00:00",
          "2011-07-26T00:00:00",
          "2011-07-27T00:00:00",
          "2011-07-30T00:00:00",
          "2011-08-01T00:00:00",
          "2011-08-03T00:00:00",
          "2011-08-04T00:00:00",
          "2011-08-05T00:00:00",
          "2011-08-08T00:00:00",
          "2011-08-09T00:00:00",
          "2011-08-11T00:00:00",
          "2011-08-12T00:00:00",
          "2011-08-15T00:00:00",
          "2011-08-19T00:00:00",
          "2011-08-23T00:00:00",
          "2011-08-24T00:00:00",
          "2011-08-25T00:00:00",
          "2011-08-26T00:00:00",
          "2011-08-27T00:00:00",
          "2011-08-29T00:00:00",
          "2011-08-31T00:00:00",
          "2011-09-01T00:00:00",
          "2011-09-06T00:00:00",
          "2011-09-07T00:00:00",
          "2011-09-08T00:00:00",
          "2011-09-10T00:00:00",
          "2011-09-11T00:00:00",
          "2011-09-13T00:00:00",
          "2011-09-17T00:00:00",
          "2011-09-19T00:00:00",
          "2011-09-20T00:00:00",
          "2011-09-21T00:00:00",
          "2011-09-22T00:00:00",
          "2011-09-23T00:00:00",
          "2011-09-24T00:00:00",
          "2011-09-25T00:00:00",
          "2011-09-26T00:00:00",
          "2011-09-27T00:00:00",
          "2011-09-29T00:00:00",
          "2011-09-30T00:00:00",
          "2011-10-01T00:00:00",
          "2011-10-02T00:00:00",
          "2011-10-03T00:00:00",
          "2011-10-04T00:00:00",
          "2011-10-05T00:00:00",
          "2011-10-06T00:00:00",
          "2011-10-09T00:00:00",
          "2011-10-10T00:00:00",
          "2011-10-11T00:00:00",
          "2011-10-12T00:00:00",
          "2011-10-13T00:00:00",
          "2011-10-16T00:00:00",
          "2011-10-18T00:00:00",
          "2011-10-19T00:00:00",
          "2011-10-21T00:00:00",
          "2011-10-24T00:00:00",
          "2011-10-25T00:00:00",
          "2011-10-26T00:00:00",
          "2011-10-28T00:00:00",
          "2011-10-31T00:00:00",
          "2011-11-01T00:00:00",
          "2011-11-02T00:00:00",
          "2011-11-03T00:00:00",
          "2011-11-04T00:00:00",
          "2011-11-05T00:00:00",
          "2011-11-07T00:00:00",
          "2011-11-08T00:00:00",
          "2011-11-09T00:00:00",
          "2011-11-10T00:00:00",
          "2011-11-11T00:00:00",
          "2011-11-12T00:00:00",
          "2011-11-15T00:00:00",
          "2011-11-16T00:00:00",
          "2011-11-17T00:00:00",
          "2011-11-18T00:00:00",
          "2011-11-19T00:00:00",
          "2011-11-21T00:00:00",
          "2011-11-22T00:00:00",
          "2011-11-23T00:00:00",
          "2011-11-24T00:00:00",
          "2011-11-25T00:00:00",
          "2011-11-26T00:00:00",
          "2011-11-28T00:00:00",
          "2011-11-29T00:00:00",
          "2011-11-30T00:00:00",
          "2011-12-01T00:00:00",
          "2011-12-05T00:00:00",
          "2011-12-06T00:00:00",
          "2011-12-07T00:00:00",
          "2011-12-08T00:00:00",
          "2011-12-09T00:00:00",
          "2011-12-10T00:00:00",
          "2011-12-12T00:00:00",
          "2011-12-13T00:00:00",
          "2011-12-15T00:00:00",
          "2011-12-16T00:00:00",
          "2011-12-19T00:00:00",
          "2011-12-20T00:00:00",
          "2011-12-21T00:00:00",
          "2011-12-22T00:00:00",
          "2011-12-24T00:00:00",
          "2011-12-26T00:00:00",
          "2011-12-27T00:00:00",
          "2011-12-28T00:00:00",
          "2011-12-29T00:00:00",
          "2011-12-30T00:00:00",
          "2011-12-31T00:00:00",
          "2012-01-05T00:00:00",
          "2012-01-06T00:00:00",
          "2012-01-13T00:00:00",
          "2012-01-23T00:00:00",
          "2012-01-26T00:00:00",
          "2012-01-27T00:00:00",
          "2012-01-30T00:00:00",
          "2012-02-03T00:00:00",
          "2012-02-06T00:00:00",
          "2012-02-09T00:00:00",
          "2012-02-15T00:00:00",
          "2012-02-16T00:00:00",
          "2012-02-18T00:00:00",
          "2012-02-21T00:00:00",
          "2012-02-27T00:00:00",
          "2012-02-29T00:00:00",
          "2012-03-02T00:00:00",
          "2012-03-06T00:00:00",
          "2012-03-08T00:00:00",
          "2012-03-13T00:00:00",
          "2012-03-14T00:00:00",
          "2012-03-15T00:00:00",
          "2012-03-16T00:00:00",
          "2012-03-19T00:00:00",
          "2012-03-20T00:00:00",
          "2012-03-22T00:00:00",
          "2012-03-23T00:00:00",
          "2012-03-24T00:00:00",
          "2012-03-26T00:00:00",
          "2012-03-27T00:00:00",
          "2012-03-28T00:00:00",
          "2012-03-29T00:00:00",
          "2012-04-02T00:00:00",
          "2012-04-05T00:00:00",
          "2012-04-09T00:00:00",
          "2012-04-10T00:00:00",
          "2012-04-11T00:00:00",
          "2012-04-12T00:00:00",
          "2012-04-13T00:00:00",
          "2012-04-14T00:00:00",
          "2012-04-17T00:00:00",
          "2012-04-18T00:00:00",
          "2012-04-22T00:00:00",
          "2012-04-25T00:00:00",
          "2012-04-26T00:00:00",
          "2012-04-27T00:00:00",
          "2012-04-30T00:00:00",
          "2012-05-01T00:00:00",
          "2012-05-03T00:00:00",
          "2012-05-08T00:00:00",
          "2012-05-10T00:00:00",
          "2012-05-11T00:00:00",
          "2012-05-12T00:00:00",
          "2012-05-14T00:00:00",
          "2012-05-18T00:00:00",
          "2012-05-21T00:00:00",
          "2012-05-22T00:00:00",
          "2012-05-23T00:00:00",
          "2012-05-25T00:00:00",
          "2012-05-26T00:00:00",
          "2012-05-28T00:00:00",
          "2012-05-29T00:00:00",
          "2012-05-31T00:00:00",
          "2012-06-01T00:00:00",
          "2012-06-04T00:00:00",
          "2012-06-07T00:00:00",
          "2012-06-09T00:00:00",
          "2012-06-13T00:00:00",
          "2012-06-15T00:00:00",
          "2012-06-18T00:00:00",
          "2012-06-19T00:00:00",
          "2012-06-20T00:00:00",
          "2012-06-22T00:00:00",
          "2012-06-23T00:00:00",
          "2012-06-25T00:00:00",
          "2012-06-28T00:00:00",
          "2012-07-04T00:00:00",
          "2012-07-06T00:00:00",
          "2012-07-10T00:00:00",
          "2012-07-11T00:00:00",
          "2012-07-14T00:00:00",
          "2012-07-16T00:00:00",
          "2012-07-17T00:00:00",
          "2012-07-18T00:00:00",
          "2012-07-19T00:00:00",
          "2012-07-25T00:00:00",
          "2012-07-26T00:00:00",
          "2012-07-30T00:00:00",
          "2012-08-01T00:00:00",
          "2012-08-02T00:00:00",
          "2012-08-07T00:00:00",
          "2012-08-08T00:00:00",
          "2012-08-10T00:00:00",
          "2012-08-13T00:00:00",
          "2012-08-15T00:00:00",
          "2012-08-16T00:00:00",
          "2012-08-17T00:00:00",
          "2012-08-21T00:00:00",
          "2012-08-24T00:00:00",
          "2012-08-25T00:00:00",
          "2012-08-27T00:00:00",
          "2012-08-28T00:00:00",
          "2012-08-31T00:00:00",
          "2012-09-01T00:00:00",
          "2012-09-03T00:00:00",
          "2012-09-04T00:00:00",
          "2012-09-05T00:00:00",
          "2012-09-06T00:00:00",
          "2012-09-07T00:00:00",
          "2012-09-08T00:00:00",
          "2012-09-10T00:00:00",
          "2012-09-11T00:00:00",
          "2012-09-12T00:00:00",
          "2012-09-13T00:00:00",
          "2012-09-14T00:00:00",
          "2012-09-17T00:00:00",
          "2012-09-18T00:00:00",
          "2012-09-19T00:00:00",
          "2012-09-20T00:00:00",
          "2012-09-21T00:00:00",
          "2012-09-22T00:00:00",
          "2012-09-24T00:00:00",
          "2012-09-25T00:00:00",
          "2012-09-26T00:00:00",
          "2012-09-27T00:00:00",
          "2012-09-28T00:00:00",
          "2012-10-01T00:00:00",
          "2012-10-02T00:00:00",
          "2012-10-03T00:00:00",
          "2012-10-04T00:00:00",
          "2012-10-05T00:00:00",
          "2012-10-08T00:00:00",
          "2012-10-10T00:00:00",
          "2012-10-12T00:00:00",
          "2012-10-17T00:00:00",
          "2012-10-18T00:00:00",
          "2012-10-19T00:00:00",
          "2012-10-20T00:00:00",
          "2012-10-23T00:00:00",
          "2012-10-24T00:00:00",
          "2012-10-25T00:00:00",
          "2012-10-26T00:00:00",
          "2012-10-29T00:00:00",
          "2012-10-30T00:00:00",
          "2012-10-31T00:00:00",
          "2012-11-01T00:00:00",
          "2012-11-02T00:00:00",
          "2012-11-03T00:00:00",
          "2012-11-05T00:00:00",
          "2012-11-06T00:00:00",
          "2012-11-07T00:00:00",
          "2012-11-08T00:00:00",
          "2012-11-09T00:00:00",
          "2012-11-10T00:00:00",
          "2012-11-12T00:00:00",
          "2012-11-13T00:00:00",
          "2012-11-14T00:00:00",
          "2012-11-16T00:00:00",
          "2012-11-17T00:00:00",
          "2012-11-19T00:00:00",
          "2012-11-20T00:00:00",
          "2012-11-21T00:00:00",
          "2012-11-22T00:00:00",
          "2012-11-24T00:00:00",
          "2012-11-27T00:00:00",
          "2012-11-28T00:00:00",
          "2012-11-29T00:00:00",
          "2012-11-30T00:00:00",
          "2012-12-01T00:00:00",
          "2012-12-03T00:00:00",
          "2012-12-04T00:00:00",
          "2012-12-05T00:00:00",
          "2012-12-06T00:00:00",
          "2012-12-07T00:00:00",
          "2012-12-08T00:00:00",
          "2012-12-10T00:00:00",
          "2012-12-11T00:00:00",
          "2012-12-12T00:00:00",
          "2012-12-13T00:00:00",
          "2012-12-14T00:00:00",
          "2012-12-15T00:00:00",
          "2012-12-16T00:00:00",
          "2012-12-17T00:00:00",
          "2012-12-18T00:00:00",
          "2012-12-19T00:00:00",
          "2012-12-20T00:00:00",
          "2012-12-21T00:00:00",
          "2012-12-24T00:00:00",
          "2012-12-25T00:00:00",
          "2012-12-27T00:00:00",
          "2012-12-30T00:00:00",
          "2012-12-31T00:00:00",
          "2013-01-03T00:00:00",
          "2013-01-07T00:00:00",
          "2013-01-09T00:00:00",
          "2013-01-10T00:00:00",
          "2013-01-16T00:00:00",
          "2013-01-21T00:00:00",
          "2013-01-22T00:00:00",
          "2013-01-23T00:00:00",
          "2013-01-28T00:00:00",
          "2013-01-30T00:00:00",
          "2013-01-31T00:00:00",
          "2013-02-01T00:00:00",
          "2013-02-04T00:00:00",
          "2013-02-05T00:00:00",
          "2013-02-07T00:00:00",
          "2013-02-09T00:00:00",
          "2013-02-13T00:00:00",
          "2013-02-19T00:00:00",
          "2013-02-21T00:00:00",
          "2013-02-22T00:00:00",
          "2013-03-02T00:00:00",
          "2013-03-04T00:00:00",
          "2013-03-05T00:00:00",
          "2013-03-09T00:00:00",
          "2013-03-11T00:00:00",
          "2013-03-13T00:00:00",
          "2013-03-14T00:00:00",
          "2013-03-15T00:00:00",
          "2013-03-16T00:00:00",
          "2013-03-18T00:00:00",
          "2013-03-20T00:00:00",
          "2013-03-21T00:00:00",
          "2013-03-23T00:00:00",
          "2013-03-25T00:00:00",
          "2013-03-27T00:00:00",
          "2013-03-29T00:00:00",
          "2013-04-02T00:00:00",
          "2013-04-08T00:00:00",
          "2013-04-09T00:00:00",
          "2013-04-10T00:00:00",
          "2013-04-11T00:00:00",
          "2013-04-13T00:00:00",
          "2013-04-14T00:00:00",
          "2013-04-15T00:00:00",
          "2013-04-16T00:00:00",
          "2013-04-17T00:00:00",
          "2013-04-18T00:00:00",
          "2013-04-20T00:00:00",
          "2013-04-22T00:00:00",
          "2013-04-23T00:00:00",
          "2013-04-24T00:00:00",
          "2013-04-25T00:00:00",
          "2013-04-29T00:00:00",
          "2013-05-01T00:00:00",
          "2013-05-06T00:00:00",
          "2013-05-07T00:00:00",
          "2013-05-09T00:00:00",
          "2013-05-10T00:00:00",
          "2013-05-11T00:00:00",
          "2013-05-12T00:00:00",
          "2013-05-13T00:00:00",
          "2013-05-15T00:00:00",
          "2013-05-17T00:00:00",
          "2013-05-19T00:00:00",
          "2013-05-20T00:00:00",
          "2013-05-21T00:00:00",
          "2013-05-22T00:00:00",
          "2013-05-23T00:00:00",
          "2013-05-24T00:00:00",
          "2013-05-27T00:00:00",
          "2013-05-28T00:00:00",
          "2013-05-29T00:00:00",
          "2013-05-31T00:00:00",
          "2013-06-03T00:00:00",
          "2013-06-04T00:00:00",
          "2013-06-06T00:00:00",
          "2013-06-07T00:00:00",
          "2013-06-08T00:00:00",
          "2013-06-10T00:00:00",
          "2013-06-11T00:00:00",
          "2013-06-12T00:00:00",
          "2013-06-13T00:00:00",
          "2013-06-15T00:00:00",
          "2013-06-17T00:00:00",
          "2013-06-18T00:00:00",
          "2013-06-20T00:00:00",
          "2013-06-21T00:00:00",
          "2013-06-24T00:00:00",
          "2013-06-25T00:00:00",
          "2013-06-26T00:00:00",
          "2013-06-27T00:00:00",
          "2013-06-28T00:00:00",
          "2013-06-29T00:00:00",
          "2013-07-02T00:00:00",
          "2013-07-03T00:00:00",
          "2013-07-04T00:00:00",
          "2013-07-05T00:00:00",
          "2013-07-08T00:00:00",
          "2013-07-09T00:00:00",
          "2013-07-11T00:00:00",
          "2013-07-13T00:00:00",
          "2013-07-15T00:00:00",
          "2013-07-16T00:00:00",
          "2013-07-18T00:00:00",
          "2013-07-19T00:00:00",
          "2013-07-20T00:00:00",
          "2013-07-22T00:00:00",
          "2013-07-23T00:00:00",
          "2013-07-26T00:00:00",
          "2013-07-29T00:00:00",
          "2013-07-31T00:00:00",
          "2013-08-01T00:00:00",
          "2013-08-02T00:00:00",
          "2013-08-03T00:00:00",
          "2013-08-05T00:00:00",
          "2013-08-07T00:00:00",
          "2013-08-08T00:00:00",
          "2013-08-09T00:00:00",
          "2013-08-15T00:00:00",
          "2013-08-16T00:00:00",
          "2013-08-17T00:00:00",
          "2013-08-18T00:00:00",
          "2013-08-22T00:00:00",
          "2013-08-23T00:00:00",
          "2013-08-24T00:00:00",
          "2013-08-27T00:00:00",
          "2013-08-29T00:00:00",
          "2013-08-31T00:00:00",
          "2013-09-02T00:00:00",
          "2013-09-03T00:00:00",
          "2013-09-05T00:00:00",
          "2013-09-06T00:00:00",
          "2013-09-09T00:00:00",
          "2013-09-10T00:00:00",
          "2013-09-11T00:00:00",
          "2013-09-12T00:00:00",
          "2013-09-13T00:00:00",
          "2013-09-16T00:00:00",
          "2013-09-17T00:00:00",
          "2013-09-18T00:00:00",
          "2013-09-19T00:00:00",
          "2013-09-20T00:00:00",
          "2013-09-21T00:00:00",
          "2013-09-23T00:00:00",
          "2013-09-24T00:00:00",
          "2013-09-25T00:00:00",
          "2013-09-26T00:00:00",
          "2013-09-27T00:00:00",
          "2013-09-28T00:00:00",
          "2013-09-30T00:00:00",
          "2013-10-02T00:00:00",
          "2013-10-03T00:00:00",
          "2013-10-04T00:00:00",
          "2013-10-07T00:00:00",
          "2013-10-08T00:00:00",
          "2013-10-09T00:00:00",
          "2013-10-10T00:00:00",
          "2013-10-11T00:00:00",
          "2013-10-14T00:00:00",
          "2013-10-15T00:00:00",
          "2013-10-16T00:00:00",
          "2013-10-18T00:00:00",
          "2013-10-19T00:00:00",
          "2013-10-21T00:00:00",
          "2013-10-22T00:00:00",
          "2013-10-23T00:00:00",
          "2013-10-24T00:00:00",
          "2013-10-25T00:00:00",
          "2013-10-28T00:00:00",
          "2013-10-29T00:00:00",
          "2013-10-30T00:00:00",
          "2013-10-31T00:00:00",
          "2013-11-01T00:00:00",
          "2013-11-04T00:00:00",
          "2013-11-05T00:00:00",
          "2013-11-06T00:00:00",
          "2013-11-07T00:00:00",
          "2013-11-08T00:00:00",
          "2013-11-10T00:00:00",
          "2013-11-11T00:00:00",
          "2013-11-12T00:00:00",
          "2013-11-13T00:00:00",
          "2013-11-14T00:00:00",
          "2013-11-15T00:00:00",
          "2013-11-16T00:00:00",
          "2013-11-17T00:00:00",
          "2013-11-18T00:00:00",
          "2013-11-19T00:00:00",
          "2013-11-20T00:00:00",
          "2013-11-21T00:00:00",
          "2013-11-22T00:00:00",
          "2013-11-25T00:00:00",
          "2013-11-26T00:00:00",
          "2013-11-27T00:00:00",
          "2013-11-28T00:00:00",
          "2013-12-02T00:00:00",
          "2013-12-03T00:00:00",
          "2013-12-04T00:00:00",
          "2013-12-05T00:00:00",
          "2013-12-06T00:00:00",
          "2013-12-07T00:00:00",
          "2013-12-09T00:00:00",
          "2013-12-10T00:00:00",
          "2013-12-11T00:00:00",
          "2013-12-12T00:00:00",
          "2013-12-13T00:00:00",
          "2013-12-14T00:00:00",
          "2013-12-15T00:00:00",
          "2013-12-16T00:00:00",
          "2013-12-17T00:00:00",
          "2013-12-18T00:00:00",
          "2013-12-19T00:00:00",
          "2013-12-20T00:00:00",
          "2013-12-23T00:00:00",
          "2013-12-24T00:00:00",
          "2013-12-25T00:00:00",
          "2013-12-26T00:00:00",
          "2013-12-27T00:00:00",
          "2013-12-28T00:00:00",
          "2013-12-30T00:00:00",
          "2013-12-31T00:00:00",
          "2014-01-01T00:00:00",
          "2014-01-02T00:00:00",
          "2014-01-03T00:00:00",
          "2014-01-04T00:00:00",
          "2014-01-08T00:00:00",
          "2014-01-09T00:00:00",
          "2014-01-13T00:00:00",
          "2014-01-15T00:00:00",
          "2014-01-16T00:00:00",
          "2014-01-17T00:00:00",
          "2014-01-21T00:00:00",
          "2014-01-22T00:00:00",
          "2014-01-23T00:00:00",
          "2014-01-24T00:00:00",
          "2014-01-25T00:00:00",
          "2014-01-27T00:00:00",
          "2014-01-29T00:00:00",
          "2014-01-30T00:00:00",
          "2014-01-31T00:00:00",
          "2014-02-03T00:00:00",
          "2014-02-06T00:00:00",
          "2014-02-07T00:00:00",
          "2014-02-10T00:00:00",
          "2014-02-11T00:00:00",
          "2014-02-12T00:00:00",
          "2014-02-14T00:00:00",
          "2014-02-19T00:00:00",
          "2014-02-20T00:00:00",
          "2014-02-21T00:00:00",
          "2014-02-24T00:00:00",
          "2014-02-27T00:00:00",
          "2014-03-03T00:00:00",
          "2014-03-04T00:00:00",
          "2014-03-05T00:00:00",
          "2014-03-07T00:00:00",
          "2014-03-09T00:00:00",
          "2014-03-10T00:00:00",
          "2014-03-11T00:00:00",
          "2014-03-13T00:00:00",
          "2014-03-14T00:00:00",
          "2014-03-17T00:00:00",
          "2014-03-18T00:00:00",
          "2014-03-19T00:00:00",
          "2014-03-20T00:00:00",
          "2014-03-21T00:00:00",
          "2014-03-22T00:00:00",
          "2014-03-24T00:00:00",
          "2014-03-26T00:00:00",
          "2014-03-27T00:00:00",
          "2014-03-28T00:00:00",
          "2014-03-29T00:00:00",
          "2014-03-31T00:00:00",
          "2014-04-01T00:00:00",
          "2014-04-02T00:00:00",
          "2014-04-03T00:00:00",
          "2014-04-09T00:00:00",
          "2014-04-12T00:00:00",
          "2014-04-14T00:00:00",
          "2014-04-16T00:00:00",
          "2014-04-17T00:00:00",
          "2014-04-18T00:00:00",
          "2014-04-22T00:00:00",
          "2014-04-23T00:00:00",
          "2014-04-24T00:00:00",
          "2014-04-25T00:00:00",
          "2014-04-26T00:00:00",
          "2014-04-27T00:00:00",
          "2014-04-28T00:00:00",
          "2014-05-01T00:00:00",
          "2014-05-03T00:00:00",
          "2014-05-04T00:00:00",
          "2014-05-05T00:00:00",
          "2014-05-06T00:00:00",
          "2014-05-07T00:00:00",
          "2014-05-08T00:00:00",
          "2014-05-09T00:00:00",
          "2014-05-10T00:00:00",
          "2014-05-12T00:00:00",
          "2014-05-13T00:00:00",
          "2014-05-14T00:00:00",
          "2014-05-15T00:00:00",
          "2014-05-16T00:00:00",
          "2014-05-19T00:00:00",
          "2014-05-20T00:00:00",
          "2014-05-21T00:00:00",
          "2014-05-23T00:00:00",
          "2014-05-24T00:00:00",
          "2014-05-27T00:00:00",
          "2014-05-28T00:00:00",
          "2014-05-29T00:00:00",
          "2014-05-31T00:00:00",
          "2014-06-03T00:00:00",
          "2014-06-04T00:00:00",
          "2014-06-07T00:00:00",
          "2014-06-09T00:00:00",
          "2014-06-11T00:00:00",
          "2014-06-12T00:00:00",
          "2014-06-13T00:00:00",
          "2014-06-14T00:00:00",
          "2014-06-16T00:00:00",
          "2014-06-17T00:00:00",
          "2014-06-18T00:00:00",
          "2014-06-19T00:00:00",
          "2014-06-20T00:00:00",
          "2014-06-25T00:00:00",
          "2014-06-26T00:00:00",
          "2014-06-27T00:00:00",
          "2014-06-28T00:00:00",
          "2014-06-30T00:00:00",
          "2014-07-01T00:00:00",
          "2014-07-04T00:00:00",
          "2014-07-07T00:00:00",
          "2014-07-08T00:00:00",
          "2014-07-09T00:00:00",
          "2014-07-10T00:00:00",
          "2014-07-12T00:00:00",
          "2014-07-15T00:00:00",
          "2014-07-18T00:00:00",
          "2014-07-19T00:00:00",
          "2014-07-22T00:00:00",
          "2014-07-24T00:00:00",
          "2014-07-25T00:00:00",
          "2014-07-27T00:00:00",
          "2014-07-28T00:00:00",
          "2014-07-29T00:00:00",
          "2014-07-30T00:00:00",
          "2014-07-31T00:00:00",
          "2014-08-01T00:00:00",
          "2014-08-02T00:00:00",
          "2014-08-04T00:00:00",
          "2014-08-05T00:00:00",
          "2014-08-08T00:00:00",
          "2014-08-13T00:00:00",
          "2014-08-14T00:00:00",
          "2014-08-15T00:00:00",
          "2014-08-18T00:00:00",
          "2014-08-19T00:00:00",
          "2014-08-20T00:00:00",
          "2014-08-21T00:00:00",
          "2014-08-22T00:00:00",
          "2014-08-23T00:00:00",
          "2014-08-28T00:00:00",
          "2014-08-29T00:00:00",
          "2014-08-30T00:00:00",
          "2014-09-01T00:00:00",
          "2014-09-02T00:00:00",
          "2014-09-03T00:00:00",
          "2014-09-04T00:00:00",
          "2014-09-05T00:00:00",
          "2014-09-06T00:00:00",
          "2014-09-08T00:00:00",
          "2014-09-10T00:00:00",
          "2014-09-11T00:00:00",
          "2014-09-12T00:00:00",
          "2014-09-13T00:00:00",
          "2014-09-15T00:00:00",
          "2014-09-16T00:00:00",
          "2014-09-17T00:00:00",
          "2014-09-18T00:00:00",
          "2014-09-19T00:00:00",
          "2014-09-20T00:00:00",
          "2014-09-22T00:00:00",
          "2014-09-23T00:00:00",
          "2014-09-24T00:00:00",
          "2014-09-25T00:00:00",
          "2014-09-26T00:00:00",
          "2014-09-27T00:00:00",
          "2014-09-29T00:00:00",
          "2014-09-30T00:00:00",
          "2014-10-01T00:00:00",
          "2014-10-02T00:00:00",
          "2014-10-03T00:00:00",
          "2014-10-04T00:00:00",
          "2014-10-06T00:00:00",
          "2014-10-07T00:00:00",
          "2014-10-08T00:00:00",
          "2014-10-09T00:00:00",
          "2014-10-10T00:00:00",
          "2014-10-13T00:00:00",
          "2014-10-14T00:00:00",
          "2014-10-15T00:00:00",
          "2014-10-16T00:00:00",
          "2014-10-17T00:00:00",
          "2014-10-18T00:00:00",
          "2014-10-20T00:00:00",
          "2014-10-21T00:00:00",
          "2014-10-22T00:00:00",
          "2014-10-23T00:00:00",
          "2014-10-28T00:00:00",
          "2014-10-31T00:00:00",
          "2014-11-02T00:00:00",
          "2014-11-03T00:00:00",
          "2014-11-04T00:00:00",
          "2014-11-06T00:00:00",
          "2014-11-07T00:00:00",
          "2014-11-08T00:00:00",
          "2014-11-10T00:00:00",
          "2014-11-11T00:00:00",
          "2014-11-12T00:00:00",
          "2014-11-13T00:00:00",
          "2014-11-14T00:00:00",
          "2014-11-15T00:00:00",
          "2014-11-17T00:00:00",
          "2014-11-18T00:00:00",
          "2014-11-19T00:00:00",
          "2014-11-20T00:00:00",
          "2014-11-21T00:00:00",
          "2014-11-22T00:00:00",
          "2014-11-25T00:00:00",
          "2014-11-26T00:00:00",
          "2014-11-28T00:00:00",
          "2014-11-29T00:00:00",
          "2014-12-01T00:00:00",
          "2014-12-02T00:00:00",
          "2014-12-03T00:00:00",
          "2014-12-04T00:00:00",
          "2014-12-05T00:00:00",
          "2014-12-06T00:00:00",
          "2014-12-07T00:00:00",
          "2014-12-08T00:00:00",
          "2014-12-09T00:00:00",
          "2014-12-10T00:00:00",
          "2014-12-11T00:00:00",
          "2014-12-14T00:00:00",
          "2014-12-15T00:00:00",
          "2014-12-16T00:00:00",
          "2014-12-17T00:00:00",
          "2014-12-18T00:00:00",
          "2014-12-19T00:00:00",
          "2014-12-20T00:00:00",
          "2014-12-22T00:00:00",
          "2014-12-23T00:00:00",
          "2014-12-24T00:00:00",
          "2014-12-25T00:00:00",
          "2014-12-26T00:00:00",
          "2014-12-29T00:00:00",
          "2014-12-30T00:00:00",
          "2014-12-31T00:00:00"
         ],
         "xaxis": "x",
         "y": [
          19.44,
          1679.749,
          64.864,
          378.594,
          38.66,
          40.08,
          426.67,
          290.666,
          12.35,
          97.11200000000001,
          134.38400000000001,
          14.56,
          129.568,
          560.55,
          21.36,
          12.96,
          19.44,
          55.672,
          457.568,
          626.352,
          1561.062,
          719.576,
          7.98,
          294.216,
          4445.488,
          388.70399999999995,
          935.1519999999999,
          40.48,
          92.36,
          145.13,
          302.376,
          265.906,
          726.548,
          46.688,
          233.45,
          26.084,
          1323.9279999999999,
          570.72,
          419.688,
          1879.723,
          294.71999999999997,
          323.458,
          76.14,
          59.92,
          16.52,
          48.91,
          2061.01,
          282.568,
          1679.96,
          69.86,
          254.456,
          235.76999999999998,
          1971.5140000000001,
          492.92600000000004,
          289.28,
          31.84,
          12.96,
          849.93,
          2139.9339999999997,
          221.96800000000002,
          133.128,
          515.88,
          585.552,
          3879.364,
          14.52,
          3290.516,
          139.8,
          36.252,
          204.978,
          4.272,
          792.76,
          32.4,
          19.92,
          209.96800000000002,
          180.96,
          478.48,
          699.192,
          240.80100000000002,
          1346.1499999999999,
          351.216,
          55.92,
          259.136,
          6.096,
          891.4659999999999,
          1173.616,
          1155.772,
          2513.2039999999997,
          8341.289999999999,
          2003.246,
          514.28,
          1367.84,
          19.752,
          314.374,
          2126.034,
          550.164,
          2690.448,
          3411.7490000000003,
          76.28,
          891.7760000000001,
          505.282,
          358.696,
          473.944,
          8.288,
          1184.0839999999998,
          176.8,
          244.76,
          123.28,
          92.52,
          53.94,
          100.36,
          131.84,
          1905.7479999999998,
          1508.768,
          127.95,
          641.13,
          762.023,
          179.265,
          104.392,
          2497.638,
          210.13,
          519.9830000000001,
          211.96,
          14.576,
          1060.68,
          685.9,
          4141.078,
          43.176,
          4.71,
          598.144,
          265.784,
          139.338,
          99.98,
          9.09,
          160.59199999999998,
          440.354,
          881.5980000000001,
          36.29,
          1549.77,
          194.322,
          63.304,
          641.104,
          36.36,
          34.272,
          49.408,
          447.88,
          1252.602,
          1823.856,
          2692.84,
          504.03600000000006,
          6.72,
          1767.6960000000001,
          20.04,
          269.832,
          333.576,
          1517.574,
          807.6859999999999,
          4176.746,
          641.024,
          813.99,
          736.0725,
          1075.3700000000001,
          1071.508,
          166.44,
          114.53,
          53.82,
          1060.662,
          993.908,
          1695.24,
          1272.0600000000002,
          643.702,
          606.3199999999999,
          150.232,
          58.2,
          1621.8319999999999,
          1590.244,
          442.88,
          1034.704,
          135.384,
          455.63199999999995,
          4704.5405,
          183.414,
          6.16,
          2712.116,
          832.1379999999999,
          1770.192,
          1897.92,
          11.76,
          1910.274,
          870.662,
          1308.79,
          1049.97,
          1831.664,
          551.985,
          475.944,
          205.10399999999998,
          31.538,
          612.4580000000001,
          43.66,
          182.72,
          2803.92,
          2147.3360000000002,
          149.064,
          5.28,
          203.92,
          627.4800000000001,
          124.55,
          105.844,
          49.12,
          538.92,
          200.73600000000002,
          787.53,
          1555.244,
          3.408,
          1384.856,
          19.44,
          16.776,
          215.09,
          5189.394,
          29.304,
          1701.44,
          466.05,
          46.9,
          3393.68,
          83.7,
          199.64000000000001,
          368.96,
          159.776,
          1156.0040000000001,
          369.912,
          12.832,
          692.728,
          40.74,
          2113.92,
          35.208,
          2572.5,
          1124.57,
          152.916,
          35.284,
          485.784,
          49.400000000000006,
          54.45,
          173.308,
          1140.572,
          5.248,
          46.688,
          191.968,
          254.696,
          2570.7075,
          10.86,
          26.976,
          3862.0980000000004,
          140.986,
          860.458,
          20.24,
          6.63,
          740.73,
          1990.4899999999998,
          11.76,
          1126.5900000000001,
          7.52,
          495.736,
          36.624,
          722.472,
          152.984,
          205.73,
          509.56,
          4.96,
          568.558,
          618.792,
          627.664,
          22.848,
          170.352,
          43.286,
          128.322,
          860.9159999999999,
          2048.8559999999998,
          195.466,
          519.96,
          2.025,
          1912.808,
          958.857,
          226.13,
          1011.696,
          842.268,
          22.456,
          158.672,
          711.784,
          82.36,
          497.59000000000003,
          2200.328,
          329.44,
          1299.526,
          7.152,
          146.744,
          639.9739999999999,
          2017.532,
          2580.837,
          979.104,
          552.8779999999999,
          9.762,
          733.283,
          244.236,
          671.93,
          68.28,
          512.0799999999999,
          480.49,
          21.98,
          1336.352,
          1082.886,
          57.432,
          703.38,
          92.2,
          45.584,
          809.1759999999999,
          266.03999999999996,
          1313.302,
          1541.826,
          1645.3690000000001,
          274.49,
          456.864,
          712.2239999999999,
          972.1959999999999,
          120.666,
          26.96,
          357.462,
          145.9,
          438.54600000000005,
          99.85999999999999,
          77.88,
          277.634,
          1910.7,
          695.5260000000001,
          1450.376,
          454.272,
          975.322,
          1395.333,
          244.24,
          603.4340000000001,
          3058.149,
          7.88,
          2225.669,
          1345.418,
          161.152,
          11.481,
          190.72,
          753.22,
          2.48,
          79.9,
          15.7,
          1505.242,
          1374.056,
          1020.096,
          1873.606,
          173.04000000000002,
          1175.8439999999998,
          573.504,
          114.37,
          1218.7640000000001,
          505.71000000000004,
          53.56,
          60.604,
          106.88,
          6956.646000000001,
          359.499,
          460.172,
          96.06,
          2493.806,
          99.44999999999999,
          473.656,
          62.059999999999995,
          840.566,
          1418.266,
          966.0659999999999,
          792.0840000000001,
          1055.1419999999998,
          4.98,
          450.19399999999996,
          6.848,
          1941.81,
          39.408,
          1778.954,
          1779.722,
          1240.46,
          1127.7,
          3251.34,
          487.984,
          114.46,
          34.58,
          727.8779999999999,
          174.75,
          102.21799999999999,
          1167.056,
          187.91,
          59.99,
          39.68,
          883.008,
          166.292,
          105.52,
          107.38799999999999,
          918.9659999999999,
          623.96,
          121.83,
          146.82,
          70.88,
          511.948,
          492.84999999999997,
          159.984,
          60.63,
          16.99,
          9.702,
          7662.958,
          1652.3419999999999,
          5353.158,
          238.688,
          1356.576,
          84.784,
          72.294,
          132.709,
          226.46800000000002,
          403.168,
          34.68,
          93.9,
          61.70399999999999,
          1199.976,
          122.65999999999998,
          592.0169999999999,
          928.1220000000001,
          901.912,
          6.12,
          1360.312,
          1265.268,
          28.8,
          257.499,
          156.516,
          8.32,
          1619.883,
          441.568,
          1348.404,
          71.03999999999999,
          111.888,
          2320.34,
          41.6,
          17.94,
          126.02000000000001,
          11.96,
          5.98,
          183.57,
          185.528,
          327.9,
          122.22,
          97.424,
          1105.259,
          2517.8360000000002,
          222.384,
          37.05,
          1119.1480000000001,
          13.38,
          1157.6799999999998,
          1081.028,
          93.06,
          71.088,
          141.172,
          3650.4379999999996,
          9.514,
          299.832,
          1388.7800000000002,
          1361.286,
          213.46,
          3061.523,
          46.35,
          1343.454,
          17.12,
          453.8,
          997.9340000000001,
          4861.33,
          60.81,
          284.24,
          201.584,
          41.32,
          1502.4460000000001,
          195.184,
          16.92,
          1651.301,
          3411.458,
          852.352,
          61.624,
          95.76,
          673.66,
          380.2,
          734.28,
          2421.632,
          425.954,
          423.04999999999995,
          92.5,
          744.894,
          18.9,
          715.64,
          863.128,
          1085.688,
          482.584,
          335.12,
          211.168,
          179.97,
          1016.184,
          121.09200000000001,
          749.4259999999999,
          204.54000000000002,
          15.712,
          3372.5620000000004,
          149.88,
          1599.864,
          1783.0059999999999,
          124.056,
          387,
          34.66,
          3132.674,
          2824.23,
          228.12,
          631.06,
          55.36,
          420.024,
          3761.008,
          775.732,
          1254.2700000000002,
          304.106,
          331.956,
          2295.9900000000002,
          187,
          639.5740000000001,
          68.432,
          234.62800000000001,
          1547.496,
          2011.549,
          929.2775,
          1001.584,
          952.1460000000001,
          194.848,
          54.792,
          1027.676,
          801.5500000000001,
          968.784,
          61.96,
          170.976,
          227.65800000000002,
          1008.606,
          177,
          219.12,
          138.826,
          307.92,
          406.432,
          5477.842,
          116.96,
          17.05,
          1109.97,
          136.088,
          495.93199999999996,
          11.744,
          3.62,
          2489.34,
          2244.423,
          2643.17,
          906.106,
          404.824,
          2286.486,
          479.97,
          1778.298,
          531.576,
          920.95,
          67.74000000000001,
          17.22,
          1515.694,
          36.72,
          60.275999999999996,
          785.152,
          31.96,
          66.88,
          227.536,
          4300.3859999999995,
          194.352,
          4111.486,
          311.8,
          1255.5,
          468.95799999999997,
          3079.54,
          104.85,
          407.976,
          2207.196,
          1862.0140000000001,
          273.92,
          824.51,
          3638.9719999999998,
          440.15999999999997,
          1130.2079999999999,
          216.22400000000002,
          666.123,
          585.13,
          2074.954,
          2364.444,
          471.624,
          1017.5440000000001,
          1506.02,
          117.12,
          5820.449,
          1495.0259999999998,
          20.16,
          81.01400000000001,
          487.704,
          504.15999999999997,
          474.43,
          16.59,
          2070.272,
          332.8,
          892.98,
          9.78,
          492.58799999999997,
          21.4,
          427.59200000000004,
          544.952,
          654.242,
          4189.38,
          239.35399999999998,
          412.996,
          11.84,
          277.71,
          136.526,
          876.412,
          753.624,
          2011.9,
          29.9,
          376.02,
          203.983,
          1073.248,
          914.12,
          287.326,
          68.73,
          1130.62,
          117.79999999999998,
          2847.6459999999997,
          784.364,
          1619.464,
          24.57,
          611.47,
          174.56,
          710.804,
          111.96,
          242.94,
          2427.132,
          1253.9,
          17.456,
          170.36,
          2128.398,
          265.93,
          1170.336,
          14299.08,
          1092.232,
          19.83,
          168.58,
          1435.96,
          265.072,
          29.7,
          5410.108,
          25.11,
          440.31,
          241.81,
          1337.904,
          275.59,
          349.493,
          3176.0110000000004,
          174.14,
          18.28,
          213.732,
          553.81,
          568.145,
          59.620000000000005,
          323.19,
          292.5,
          269.18,
          881.84,
          745.634,
          143.94299999999998,
          237.356,
          499.934,
          3441.032,
          805.99,
          311.041,
          551.038,
          58.48,
          1922.8,
          353.44,
          344.704,
          957.108,
          2064.768,
          130.64,
          171.288,
          12.96,
          944.126,
          483.48,
          278.36400000000003,
          69.26400000000001,
          1296.382,
          31.349999999999998,
          1712.4859999999999,
          970.741,
          1572.562,
          91.416,
          291.136,
          172.196,
          1459.78,
          366.944,
          956.8035,
          74.88,
          520.22,
          959.088,
          515.688,
          1433.19,
          2708.9519999999998,
          716.741,
          4914.132,
          122.136,
          5.94,
          1465.5240000000001,
          1.08,
          1565.9720000000002,
          988.204,
          1775.009,
          1298.896,
          2019.618,
          73.512,
          2399.96,
          2012.3020000000001,
          297.99,
          1170.5639999999999,
          206.52999999999997,
          356.65,
          93.52000000000001,
          241.43599999999998,
          291.64,
          16.752000000000002,
          2981.584,
          1655.028,
          242.69400000000002,
          440.736,
          3397.732,
          6522.648,
          102.72,
          616.7,
          2865.014,
          210.008,
          3092.368,
          1278.158,
          148.02,
          1634.656,
          648.6500000000001,
          1476.994,
          613.156,
          4156.8,
          2.78,
          1269.121,
          606.478,
          369.536,
          4511.972,
          174.8,
          56.7,
          4479.364,
          32.7,
          1885.034,
          274.8,
          1479.93,
          223.33,
          49.14,
          1496.132,
          1603.66,
          39.9,
          1067.44,
          544.504,
          500.546,
          343.56999999999994,
          1162.054,
          2542.222,
          171.288,
          938.752,
          317.084,
          1632.24,
          419.832,
          35.2,
          1219.422,
          5325.884,
          55.82,
          1004.89,
          907.761,
          63.432,
          135.012,
          24.678,
          520.623,
          759.529,
          958.8249999999999,
          3017.888,
          2690.74,
          1370.272,
          2945.416,
          419.33,
          2820.81,
          1283.106,
          950.038,
          2292.012,
          186.85,
          1212.028,
          3426.228,
          355.808,
          3307.916,
          37.67,
          409.548,
          355.678,
          410.576,
          2105.844,
          1130.884,
          449.17900000000003,
          604.606,
          151.418,
          25.83,
          2517.051,
          4219.422,
          994.7600000000001,
          11.76,
          629.7760000000001,
          10.68,
          424.416,
          4487.381,
          2121.918,
          2256.124,
          292.96,
          134.91,
          296.696,
          814.526,
          535.578,
          344.235,
          230.30599999999998,
          1136.8899999999999,
          784.48,
          13.48,
          4846.284,
          428.028,
          1197.662,
          885.124,
          37.647999999999996
         ],
         "yaxis": "y"
        }
       ],
       "layout": {
        "legend": {
         "tracegroupgap": 0
        },
        "margin": {
         "t": 60
        },
        "template": {
         "data": {
          "bar": [
           {
            "error_x": {
             "color": "#2a3f5f"
            },
            "error_y": {
             "color": "#2a3f5f"
            },
            "marker": {
             "line": {
              "color": "#E5ECF6",
              "width": 0.5
             },
             "pattern": {
              "fillmode": "overlay",
              "size": 10,
              "solidity": 0.2
             }
            },
            "type": "bar"
           }
          ],
          "barpolar": [
           {
            "marker": {
             "line": {
              "color": "#E5ECF6",
              "width": 0.5
             },
             "pattern": {
              "fillmode": "overlay",
              "size": 10,
              "solidity": 0.2
             }
            },
            "type": "barpolar"
           }
          ],
          "carpet": [
           {
            "aaxis": {
             "endlinecolor": "#2a3f5f",
             "gridcolor": "white",
             "linecolor": "white",
             "minorgridcolor": "white",
             "startlinecolor": "#2a3f5f"
            },
            "baxis": {
             "endlinecolor": "#2a3f5f",
             "gridcolor": "white",
             "linecolor": "white",
             "minorgridcolor": "white",
             "startlinecolor": "#2a3f5f"
            },
            "type": "carpet"
           }
          ],
          "choropleth": [
           {
            "colorbar": {
             "outlinewidth": 0,
             "ticks": ""
            },
            "type": "choropleth"
           }
          ],
          "contour": [
           {
            "colorbar": {
             "outlinewidth": 0,
             "ticks": ""
            },
            "colorscale": [
             [
              0,
              "#0d0887"
             ],
             [
              0.1111111111111111,
              "#46039f"
             ],
             [
              0.2222222222222222,
              "#7201a8"
             ],
             [
              0.3333333333333333,
              "#9c179e"
             ],
             [
              0.4444444444444444,
              "#bd3786"
             ],
             [
              0.5555555555555556,
              "#d8576b"
             ],
             [
              0.6666666666666666,
              "#ed7953"
             ],
             [
              0.7777777777777778,
              "#fb9f3a"
             ],
             [
              0.8888888888888888,
              "#fdca26"
             ],
             [
              1,
              "#f0f921"
             ]
            ],
            "type": "contour"
           }
          ],
          "contourcarpet": [
           {
            "colorbar": {
             "outlinewidth": 0,
             "ticks": ""
            },
            "type": "contourcarpet"
           }
          ],
          "heatmap": [
           {
            "colorbar": {
             "outlinewidth": 0,
             "ticks": ""
            },
            "colorscale": [
             [
              0,
              "#0d0887"
             ],
             [
              0.1111111111111111,
              "#46039f"
             ],
             [
              0.2222222222222222,
              "#7201a8"
             ],
             [
              0.3333333333333333,
              "#9c179e"
             ],
             [
              0.4444444444444444,
              "#bd3786"
             ],
             [
              0.5555555555555556,
              "#d8576b"
             ],
             [
              0.6666666666666666,
              "#ed7953"
             ],
             [
              0.7777777777777778,
              "#fb9f3a"
             ],
             [
              0.8888888888888888,
              "#fdca26"
             ],
             [
              1,
              "#f0f921"
             ]
            ],
            "type": "heatmap"
           }
          ],
          "heatmapgl": [
           {
            "colorbar": {
             "outlinewidth": 0,
             "ticks": ""
            },
            "colorscale": [
             [
              0,
              "#0d0887"
             ],
             [
              0.1111111111111111,
              "#46039f"
             ],
             [
              0.2222222222222222,
              "#7201a8"
             ],
             [
              0.3333333333333333,
              "#9c179e"
             ],
             [
              0.4444444444444444,
              "#bd3786"
             ],
             [
              0.5555555555555556,
              "#d8576b"
             ],
             [
              0.6666666666666666,
              "#ed7953"
             ],
             [
              0.7777777777777778,
              "#fb9f3a"
             ],
             [
              0.8888888888888888,
              "#fdca26"
             ],
             [
              1,
              "#f0f921"
             ]
            ],
            "type": "heatmapgl"
           }
          ],
          "histogram": [
           {
            "marker": {
             "pattern": {
              "fillmode": "overlay",
              "size": 10,
              "solidity": 0.2
             }
            },
            "type": "histogram"
           }
          ],
          "histogram2d": [
           {
            "colorbar": {
             "outlinewidth": 0,
             "ticks": ""
            },
            "colorscale": [
             [
              0,
              "#0d0887"
             ],
             [
              0.1111111111111111,
              "#46039f"
             ],
             [
              0.2222222222222222,
              "#7201a8"
             ],
             [
              0.3333333333333333,
              "#9c179e"
             ],
             [
              0.4444444444444444,
              "#bd3786"
             ],
             [
              0.5555555555555556,
              "#d8576b"
             ],
             [
              0.6666666666666666,
              "#ed7953"
             ],
             [
              0.7777777777777778,
              "#fb9f3a"
             ],
             [
              0.8888888888888888,
              "#fdca26"
             ],
             [
              1,
              "#f0f921"
             ]
            ],
            "type": "histogram2d"
           }
          ],
          "histogram2dcontour": [
           {
            "colorbar": {
             "outlinewidth": 0,
             "ticks": ""
            },
            "colorscale": [
             [
              0,
              "#0d0887"
             ],
             [
              0.1111111111111111,
              "#46039f"
             ],
             [
              0.2222222222222222,
              "#7201a8"
             ],
             [
              0.3333333333333333,
              "#9c179e"
             ],
             [
              0.4444444444444444,
              "#bd3786"
             ],
             [
              0.5555555555555556,
              "#d8576b"
             ],
             [
              0.6666666666666666,
              "#ed7953"
             ],
             [
              0.7777777777777778,
              "#fb9f3a"
             ],
             [
              0.8888888888888888,
              "#fdca26"
             ],
             [
              1,
              "#f0f921"
             ]
            ],
            "type": "histogram2dcontour"
           }
          ],
          "mesh3d": [
           {
            "colorbar": {
             "outlinewidth": 0,
             "ticks": ""
            },
            "type": "mesh3d"
           }
          ],
          "parcoords": [
           {
            "line": {
             "colorbar": {
              "outlinewidth": 0,
              "ticks": ""
             }
            },
            "type": "parcoords"
           }
          ],
          "pie": [
           {
            "automargin": true,
            "type": "pie"
           }
          ],
          "scatter": [
           {
            "fillpattern": {
             "fillmode": "overlay",
             "size": 10,
             "solidity": 0.2
            },
            "type": "scatter"
           }
          ],
          "scatter3d": [
           {
            "line": {
             "colorbar": {
              "outlinewidth": 0,
              "ticks": ""
             }
            },
            "marker": {
             "colorbar": {
              "outlinewidth": 0,
              "ticks": ""
             }
            },
            "type": "scatter3d"
           }
          ],
          "scattercarpet": [
           {
            "marker": {
             "colorbar": {
              "outlinewidth": 0,
              "ticks": ""
             }
            },
            "type": "scattercarpet"
           }
          ],
          "scattergeo": [
           {
            "marker": {
             "colorbar": {
              "outlinewidth": 0,
              "ticks": ""
             }
            },
            "type": "scattergeo"
           }
          ],
          "scattergl": [
           {
            "marker": {
             "colorbar": {
              "outlinewidth": 0,
              "ticks": ""
             }
            },
            "type": "scattergl"
           }
          ],
          "scattermapbox": [
           {
            "marker": {
             "colorbar": {
              "outlinewidth": 0,
              "ticks": ""
             }
            },
            "type": "scattermapbox"
           }
          ],
          "scatterpolar": [
           {
            "marker": {
             "colorbar": {
              "outlinewidth": 0,
              "ticks": ""
             }
            },
            "type": "scatterpolar"
           }
          ],
          "scatterpolargl": [
           {
            "marker": {
             "colorbar": {
              "outlinewidth": 0,
              "ticks": ""
             }
            },
            "type": "scatterpolargl"
           }
          ],
          "scatterternary": [
           {
            "marker": {
             "colorbar": {
              "outlinewidth": 0,
              "ticks": ""
             }
            },
            "type": "scatterternary"
           }
          ],
          "surface": [
           {
            "colorbar": {
             "outlinewidth": 0,
             "ticks": ""
            },
            "colorscale": [
             [
              0,
              "#0d0887"
             ],
             [
              0.1111111111111111,
              "#46039f"
             ],
             [
              0.2222222222222222,
              "#7201a8"
             ],
             [
              0.3333333333333333,
              "#9c179e"
             ],
             [
              0.4444444444444444,
              "#bd3786"
             ],
             [
              0.5555555555555556,
              "#d8576b"
             ],
             [
              0.6666666666666666,
              "#ed7953"
             ],
             [
              0.7777777777777778,
              "#fb9f3a"
             ],
             [
              0.8888888888888888,
              "#fdca26"
             ],
             [
              1,
              "#f0f921"
             ]
            ],
            "type": "surface"
           }
          ],
          "table": [
           {
            "cells": {
             "fill": {
              "color": "#EBF0F8"
             },
             "line": {
              "color": "white"
             }
            },
            "header": {
             "fill": {
              "color": "#C8D4E3"
             },
             "line": {
              "color": "white"
             }
            },
            "type": "table"
           }
          ]
         },
         "layout": {
          "annotationdefaults": {
           "arrowcolor": "#2a3f5f",
           "arrowhead": 0,
           "arrowwidth": 1
          },
          "autotypenumbers": "strict",
          "coloraxis": {
           "colorbar": {
            "outlinewidth": 0,
            "ticks": ""
           }
          },
          "colorscale": {
           "diverging": [
            [
             0,
             "#8e0152"
            ],
            [
             0.1,
             "#c51b7d"
            ],
            [
             0.2,
             "#de77ae"
            ],
            [
             0.3,
             "#f1b6da"
            ],
            [
             0.4,
             "#fde0ef"
            ],
            [
             0.5,
             "#f7f7f7"
            ],
            [
             0.6,
             "#e6f5d0"
            ],
            [
             0.7,
             "#b8e186"
            ],
            [
             0.8,
             "#7fbc41"
            ],
            [
             0.9,
             "#4d9221"
            ],
            [
             1,
             "#276419"
            ]
           ],
           "sequential": [
            [
             0,
             "#0d0887"
            ],
            [
             0.1111111111111111,
             "#46039f"
            ],
            [
             0.2222222222222222,
             "#7201a8"
            ],
            [
             0.3333333333333333,
             "#9c179e"
            ],
            [
             0.4444444444444444,
             "#bd3786"
            ],
            [
             0.5555555555555556,
             "#d8576b"
            ],
            [
             0.6666666666666666,
             "#ed7953"
            ],
            [
             0.7777777777777778,
             "#fb9f3a"
            ],
            [
             0.8888888888888888,
             "#fdca26"
            ],
            [
             1,
             "#f0f921"
            ]
           ],
           "sequentialminus": [
            [
             0,
             "#0d0887"
            ],
            [
             0.1111111111111111,
             "#46039f"
            ],
            [
             0.2222222222222222,
             "#7201a8"
            ],
            [
             0.3333333333333333,
             "#9c179e"
            ],
            [
             0.4444444444444444,
             "#bd3786"
            ],
            [
             0.5555555555555556,
             "#d8576b"
            ],
            [
             0.6666666666666666,
             "#ed7953"
            ],
            [
             0.7777777777777778,
             "#fb9f3a"
            ],
            [
             0.8888888888888888,
             "#fdca26"
            ],
            [
             1,
             "#f0f921"
            ]
           ]
          },
          "colorway": [
           "#636efa",
           "#EF553B",
           "#00cc96",
           "#ab63fa",
           "#FFA15A",
           "#19d3f3",
           "#FF6692",
           "#B6E880",
           "#FF97FF",
           "#FECB52"
          ],
          "font": {
           "color": "#2a3f5f"
          },
          "geo": {
           "bgcolor": "white",
           "lakecolor": "white",
           "landcolor": "#E5ECF6",
           "showlakes": true,
           "showland": true,
           "subunitcolor": "white"
          },
          "hoverlabel": {
           "align": "left"
          },
          "hovermode": "closest",
          "mapbox": {
           "style": "light"
          },
          "paper_bgcolor": "white",
          "plot_bgcolor": "#E5ECF6",
          "polar": {
           "angularaxis": {
            "gridcolor": "white",
            "linecolor": "white",
            "ticks": ""
           },
           "bgcolor": "#E5ECF6",
           "radialaxis": {
            "gridcolor": "white",
            "linecolor": "white",
            "ticks": ""
           }
          },
          "scene": {
           "xaxis": {
            "backgroundcolor": "#E5ECF6",
            "gridcolor": "white",
            "gridwidth": 2,
            "linecolor": "white",
            "showbackground": true,
            "ticks": "",
            "zerolinecolor": "white"
           },
           "yaxis": {
            "backgroundcolor": "#E5ECF6",
            "gridcolor": "white",
            "gridwidth": 2,
            "linecolor": "white",
            "showbackground": true,
            "ticks": "",
            "zerolinecolor": "white"
           },
           "zaxis": {
            "backgroundcolor": "#E5ECF6",
            "gridcolor": "white",
            "gridwidth": 2,
            "linecolor": "white",
            "showbackground": true,
            "ticks": "",
            "zerolinecolor": "white"
           }
          },
          "shapedefaults": {
           "line": {
            "color": "#2a3f5f"
           }
          },
          "ternary": {
           "aaxis": {
            "gridcolor": "white",
            "linecolor": "white",
            "ticks": ""
           },
           "baxis": {
            "gridcolor": "white",
            "linecolor": "white",
            "ticks": ""
           },
           "bgcolor": "#E5ECF6",
           "caxis": {
            "gridcolor": "white",
            "linecolor": "white",
            "ticks": ""
           }
          },
          "title": {
           "x": 0.05
          },
          "xaxis": {
           "automargin": true,
           "gridcolor": "white",
           "linecolor": "white",
           "ticks": "",
           "title": {
            "standoff": 15
           },
           "zerolinecolor": "white",
           "zerolinewidth": 2
          },
          "yaxis": {
           "automargin": true,
           "gridcolor": "white",
           "linecolor": "white",
           "ticks": "",
           "title": {
            "standoff": 15
           },
           "zerolinecolor": "white",
           "zerolinewidth": 2
          }
         }
        },
        "title": {
         "font": {
          "family": "Gravitas One",
          "size": 25
         },
         "text": "sales by day",
         "x": 0.5
        },
        "xaxis": {
         "anchor": "y",
         "domain": [
          0,
          1
         ],
         "title": {
          "text": "Order Date"
         }
        },
        "yaxis": {
         "anchor": "x",
         "domain": [
          0,
          1
         ],
         "title": {
          "text": "Sales"
         }
        }
       }
      }
     },
     "metadata": {},
     "output_type": "display_data"
    }
   ],
   "source": [
    "fig2 = px.line(time_series, x=time_series.index, y='Sales')\n",
    "fig2.update_layout(\n",
    "    \n",
    "    title = dict(text='sales by day',\n",
    "                x=0.5,\n",
    "                font=dict(family=fuente,\n",
    "                         size=25)\n",
    "                ))\n",
    "fig2.update_traces(line=dict(color='red'))\n",
    "\n",
    "fig2.show()"
   ]
  },
  {
   "cell_type": "code",
   "execution_count": 12,
   "id": "4661380b-6c07-4b30-a5e2-1f1285daf58a",
   "metadata": {},
   "outputs": [
    {
     "data": {
      "text/html": [
       "<div>\n",
       "<style scoped>\n",
       "    .dataframe tbody tr th:only-of-type {\n",
       "        vertical-align: middle;\n",
       "    }\n",
       "\n",
       "    .dataframe tbody tr th {\n",
       "        vertical-align: top;\n",
       "    }\n",
       "\n",
       "    .dataframe thead th {\n",
       "        text-align: right;\n",
       "    }\n",
       "</style>\n",
       "<table border=\"1\" class=\"dataframe\">\n",
       "  <thead>\n",
       "    <tr style=\"text-align: right;\">\n",
       "      <th></th>\n",
       "      <th>Order Date</th>\n",
       "      <th>Ship Date</th>\n",
       "      <th>Sales</th>\n",
       "      <th>Quantity</th>\n",
       "      <th>Profit</th>\n",
       "    </tr>\n",
       "  </thead>\n",
       "  <tbody>\n",
       "    <tr>\n",
       "      <th>count</th>\n",
       "      <td>3203</td>\n",
       "      <td>3203</td>\n",
       "      <td>3203.000000</td>\n",
       "      <td>3203.000000</td>\n",
       "      <td>3203.000000</td>\n",
       "    </tr>\n",
       "    <tr>\n",
       "      <th>mean</th>\n",
       "      <td>2013-05-10 03:06:07.530440192</td>\n",
       "      <td>2013-05-14 01:25:25.195129600</td>\n",
       "      <td>226.493233</td>\n",
       "      <td>3.828910</td>\n",
       "      <td>33.849032</td>\n",
       "    </tr>\n",
       "    <tr>\n",
       "      <th>min</th>\n",
       "      <td>2011-01-07 00:00:00</td>\n",
       "      <td>2011-01-09 00:00:00</td>\n",
       "      <td>0.990000</td>\n",
       "      <td>1.000000</td>\n",
       "      <td>-3399.980000</td>\n",
       "    </tr>\n",
       "    <tr>\n",
       "      <th>25%</th>\n",
       "      <td>2012-05-22 00:00:00</td>\n",
       "      <td>2012-05-26 00:00:00</td>\n",
       "      <td>19.440000</td>\n",
       "      <td>2.000000</td>\n",
       "      <td>3.852000</td>\n",
       "    </tr>\n",
       "    <tr>\n",
       "      <th>50%</th>\n",
       "      <td>2013-07-22 00:00:00</td>\n",
       "      <td>2013-07-25 00:00:00</td>\n",
       "      <td>60.840000</td>\n",
       "      <td>3.000000</td>\n",
       "      <td>11.166400</td>\n",
       "    </tr>\n",
       "    <tr>\n",
       "      <th>75%</th>\n",
       "      <td>2014-05-23 00:00:00</td>\n",
       "      <td>2014-05-27 00:00:00</td>\n",
       "      <td>215.809000</td>\n",
       "      <td>5.000000</td>\n",
       "      <td>33.000400</td>\n",
       "    </tr>\n",
       "    <tr>\n",
       "      <th>max</th>\n",
       "      <td>2014-12-31 00:00:00</td>\n",
       "      <td>2015-01-06 00:00:00</td>\n",
       "      <td>13999.960000</td>\n",
       "      <td>14.000000</td>\n",
       "      <td>6719.980800</td>\n",
       "    </tr>\n",
       "    <tr>\n",
       "      <th>std</th>\n",
       "      <td>NaN</td>\n",
       "      <td>NaN</td>\n",
       "      <td>524.876877</td>\n",
       "      <td>2.260947</td>\n",
       "      <td>174.109081</td>\n",
       "    </tr>\n",
       "  </tbody>\n",
       "</table>\n",
       "</div>"
      ],
      "text/plain": [
       "                          Order Date                      Ship Date  \\\n",
       "count                           3203                           3203   \n",
       "mean   2013-05-10 03:06:07.530440192  2013-05-14 01:25:25.195129600   \n",
       "min              2011-01-07 00:00:00            2011-01-09 00:00:00   \n",
       "25%              2012-05-22 00:00:00            2012-05-26 00:00:00   \n",
       "50%              2013-07-22 00:00:00            2013-07-25 00:00:00   \n",
       "75%              2014-05-23 00:00:00            2014-05-27 00:00:00   \n",
       "max              2014-12-31 00:00:00            2015-01-06 00:00:00   \n",
       "std                              NaN                            NaN   \n",
       "\n",
       "              Sales     Quantity       Profit  \n",
       "count   3203.000000  3203.000000  3203.000000  \n",
       "mean     226.493233     3.828910    33.849032  \n",
       "min        0.990000     1.000000 -3399.980000  \n",
       "25%       19.440000     2.000000     3.852000  \n",
       "50%       60.840000     3.000000    11.166400  \n",
       "75%      215.809000     5.000000    33.000400  \n",
       "max    13999.960000    14.000000  6719.980800  \n",
       "std      524.876877     2.260947   174.109081  "
      ]
     },
     "execution_count": 12,
     "metadata": {},
     "output_type": "execute_result"
    }
   ],
   "source": [
    "amazon_dta.describe()"
   ]
  },
  {
   "cell_type": "code",
   "execution_count": 13,
   "id": "bd023ce5-eb34-4680-8d63-8c4487c0a989",
   "metadata": {},
   "outputs": [
    {
     "data": {
      "text/html": [
       "<div>\n",
       "<style scoped>\n",
       "    .dataframe tbody tr th:only-of-type {\n",
       "        vertical-align: middle;\n",
       "    }\n",
       "\n",
       "    .dataframe tbody tr th {\n",
       "        vertical-align: top;\n",
       "    }\n",
       "\n",
       "    .dataframe thead th {\n",
       "        text-align: right;\n",
       "    }\n",
       "</style>\n",
       "<table border=\"1\" class=\"dataframe\">\n",
       "  <thead>\n",
       "    <tr style=\"text-align: right;\">\n",
       "      <th></th>\n",
       "      <th></th>\n",
       "      <th>Profit</th>\n",
       "      <th>Sales</th>\n",
       "      <th>Quantity</th>\n",
       "    </tr>\n",
       "    <tr>\n",
       "      <th>Category</th>\n",
       "      <th>Product Name</th>\n",
       "      <th></th>\n",
       "      <th></th>\n",
       "      <th></th>\n",
       "    </tr>\n",
       "  </thead>\n",
       "  <tbody>\n",
       "    <tr>\n",
       "      <th rowspan=\"5\" valign=\"top\">Accessories</th>\n",
       "      <th>AmazonBasics 3-Button USB Wired Mouse</th>\n",
       "      <td>6.0114</td>\n",
       "      <td>13.980</td>\n",
       "      <td>2</td>\n",
       "    </tr>\n",
       "    <tr>\n",
       "      <th>Anker Ultra-Slim Mini Bluetooth 3.0 Wireless Keyboard</th>\n",
       "      <td>13.7931</td>\n",
       "      <td>59.970</td>\n",
       "      <td>3</td>\n",
       "    </tr>\n",
       "    <tr>\n",
       "      <th>Belkin F8E887 USB Wired Ergonomic Keyboard</th>\n",
       "      <td>6.8977</td>\n",
       "      <td>77.974</td>\n",
       "      <td>3</td>\n",
       "    </tr>\n",
       "    <tr>\n",
       "      <th>Belkin Standard 104 key USB Keyboard</th>\n",
       "      <td>10.9425</td>\n",
       "      <td>172.162</td>\n",
       "      <td>13</td>\n",
       "    </tr>\n",
       "    <tr>\n",
       "      <th>Case Logic 2.4GHz Wireless Keyboard</th>\n",
       "      <td>-27.9944</td>\n",
       "      <td>339.932</td>\n",
       "      <td>8</td>\n",
       "    </tr>\n",
       "  </tbody>\n",
       "</table>\n",
       "</div>"
      ],
      "text/plain": [
       "                                                                 Profit  \\\n",
       "Category    Product Name                                                  \n",
       "Accessories AmazonBasics 3-Button USB Wired Mouse                6.0114   \n",
       "            Anker Ultra-Slim Mini Bluetooth 3.0 Wireless Ke...  13.7931   \n",
       "            Belkin F8E887 USB Wired Ergonomic Keyboard           6.8977   \n",
       "            Belkin Standard 104 key USB Keyboard                10.9425   \n",
       "            Case Logic 2.4GHz Wireless Keyboard                -27.9944   \n",
       "\n",
       "                                                                  Sales  \\\n",
       "Category    Product Name                                                  \n",
       "Accessories AmazonBasics 3-Button USB Wired Mouse                13.980   \n",
       "            Anker Ultra-Slim Mini Bluetooth 3.0 Wireless Ke...   59.970   \n",
       "            Belkin F8E887 USB Wired Ergonomic Keyboard           77.974   \n",
       "            Belkin Standard 104 key USB Keyboard                172.162   \n",
       "            Case Logic 2.4GHz Wireless Keyboard                 339.932   \n",
       "\n",
       "                                                                Quantity  \n",
       "Category    Product Name                                                  \n",
       "Accessories AmazonBasics 3-Button USB Wired Mouse                      2  \n",
       "            Anker Ultra-Slim Mini Bluetooth 3.0 Wireless Ke...         3  \n",
       "            Belkin F8E887 USB Wired Ergonomic Keyboard                 3  \n",
       "            Belkin Standard 104 key USB Keyboard                      13  \n",
       "            Case Logic 2.4GHz Wireless Keyboard                        8  "
      ]
     },
     "execution_count": 13,
     "metadata": {},
     "output_type": "execute_result"
    }
   ],
   "source": [
    "products = amazon_dta.groupby(['Category', 'Product Name']).agg({'Profit': 'sum', 'Sales': 'sum' , 'Quantity':'sum'})\n",
    "products.head()"
   ]
  },
  {
   "cell_type": "code",
   "execution_count": 14,
   "id": "dcdebdb2-1243-44ba-a89c-8b4551bbbcff",
   "metadata": {},
   "outputs": [],
   "source": [
    "products.reset_index(inplace=True)"
   ]
  },
  {
   "cell_type": "code",
   "execution_count": 15,
   "id": "cced0552-277a-4d24-a683-51da8d79b816",
   "metadata": {},
   "outputs": [
    {
     "data": {
      "text/html": [
       "<div>\n",
       "<style scoped>\n",
       "    .dataframe tbody tr th:only-of-type {\n",
       "        vertical-align: middle;\n",
       "    }\n",
       "\n",
       "    .dataframe tbody tr th {\n",
       "        vertical-align: top;\n",
       "    }\n",
       "\n",
       "    .dataframe thead th {\n",
       "        text-align: right;\n",
       "    }\n",
       "</style>\n",
       "<table border=\"1\" class=\"dataframe\">\n",
       "  <thead>\n",
       "    <tr style=\"text-align: right;\">\n",
       "      <th></th>\n",
       "      <th>Category</th>\n",
       "      <th>Product Name</th>\n",
       "      <th>Profit</th>\n",
       "      <th>Sales</th>\n",
       "      <th>Quantity</th>\n",
       "    </tr>\n",
       "  </thead>\n",
       "  <tbody>\n",
       "    <tr>\n",
       "      <th>0</th>\n",
       "      <td>Accessories</td>\n",
       "      <td>AmazonBasics 3-Button USB Wired Mouse</td>\n",
       "      <td>6.0114</td>\n",
       "      <td>13.980</td>\n",
       "      <td>2</td>\n",
       "    </tr>\n",
       "    <tr>\n",
       "      <th>1</th>\n",
       "      <td>Accessories</td>\n",
       "      <td>Anker Ultra-Slim Mini Bluetooth 3.0 Wireless K...</td>\n",
       "      <td>13.7931</td>\n",
       "      <td>59.970</td>\n",
       "      <td>3</td>\n",
       "    </tr>\n",
       "    <tr>\n",
       "      <th>2</th>\n",
       "      <td>Accessories</td>\n",
       "      <td>Belkin F8E887 USB Wired Ergonomic Keyboard</td>\n",
       "      <td>6.8977</td>\n",
       "      <td>77.974</td>\n",
       "      <td>3</td>\n",
       "    </tr>\n",
       "    <tr>\n",
       "      <th>3</th>\n",
       "      <td>Accessories</td>\n",
       "      <td>Belkin Standard 104 key USB Keyboard</td>\n",
       "      <td>10.9425</td>\n",
       "      <td>172.162</td>\n",
       "      <td>13</td>\n",
       "    </tr>\n",
       "    <tr>\n",
       "      <th>4</th>\n",
       "      <td>Accessories</td>\n",
       "      <td>Case Logic 2.4GHz Wireless Keyboard</td>\n",
       "      <td>-27.9944</td>\n",
       "      <td>339.932</td>\n",
       "      <td>8</td>\n",
       "    </tr>\n",
       "  </tbody>\n",
       "</table>\n",
       "</div>"
      ],
      "text/plain": [
       "      Category                                       Product Name   Profit  \\\n",
       "0  Accessories              AmazonBasics 3-Button USB Wired Mouse   6.0114   \n",
       "1  Accessories  Anker Ultra-Slim Mini Bluetooth 3.0 Wireless K...  13.7931   \n",
       "2  Accessories         Belkin F8E887 USB Wired Ergonomic Keyboard   6.8977   \n",
       "3  Accessories               Belkin Standard 104 key USB Keyboard  10.9425   \n",
       "4  Accessories                Case Logic 2.4GHz Wireless Keyboard -27.9944   \n",
       "\n",
       "     Sales  Quantity  \n",
       "0   13.980         2  \n",
       "1   59.970         3  \n",
       "2   77.974         3  \n",
       "3  172.162        13  \n",
       "4  339.932         8  "
      ]
     },
     "execution_count": 15,
     "metadata": {},
     "output_type": "execute_result"
    }
   ],
   "source": [
    "products.head()"
   ]
  },
  {
   "cell_type": "code",
   "execution_count": 16,
   "id": "6125785c-fab5-4b37-b71f-c3e98b2727b4",
   "metadata": {},
   "outputs": [
    {
     "data": {
      "application/vnd.plotly.v1+json": {
       "config": {
        "plotlyServerURL": "https://plot.ly"
       },
       "data": [
        {
         "branchvalues": "total",
         "customdata": [
          [
           7.42
          ],
          [
           22.18
          ],
          [
           90.88600000000001
          ],
          [
           61.18000000000001
          ],
          [
           91.67999999999999
          ],
          [
           7.92
          ],
          [
           7.8
          ],
          [
           391.608
          ],
          [
           96.07999999999998
          ],
          [
           194.844
          ],
          [
           421.1
          ],
          [
           119.88
          ],
          [
           1473.1
          ],
          [
           209.80000000000004
          ],
          [
           1039.992
          ],
          [
           34.04
          ],
          [
           103.92
          ],
          [
           111.9
          ],
          [
           250.272
          ],
          [
           107.46
          ],
          [
           81.28
          ],
          [
           56.629999999999995
          ],
          [
           52.401999999999994
          ],
          [
           56.168
          ],
          [
           16.52
          ],
          [
           965.76
          ],
          [
           891.9200000000001
          ],
          [
           1095.92
          ],
          [
           109.592
          ],
          [
           108.576
          ],
          [
           717.6
          ],
          [
           302.376
          ],
          [
           46.384
          ],
          [
           164.792
          ],
          [
           211.168
          ],
          [
           604.752
          ],
          [
           1292.88
          ],
          [
           1034.112
          ],
          [
           14.015999999999998
          ],
          [
           73.28
          ],
          [
           189.28
          ],
          [
           1945.28
          ],
          [
           2.88
          ],
          [
           10.65
          ],
          [
           51.312
          ],
          [
           158.536
          ],
          [
           4.176
          ],
          [
           7.656
          ],
          [
           152.93800000000002
          ],
          [
           59.6
          ],
          [
           19.6
          ],
          [
           21.336
          ],
          [
           81.77600000000001
          ],
          [
           6.456
          ],
          [
           34.432
          ],
          [
           29.74
          ],
          [
           100.70400000000001
          ],
          [
           81.19999999999999
          ],
          [
           51.815999999999995
          ],
          [
           18.288
          ],
          [
           62.848
          ],
          [
           24.384
          ],
          [
           13.005
          ],
          [
           13.88
          ],
          [
           120.68
          ],
          [
           211.24799999999996
          ],
          [
           186.15
          ],
          [
           24.464
          ],
          [
           59.903999999999996
          ],
          [
           12.341999999999999
          ],
          [
           35.06
          ],
          [
           132.99
          ],
          [
           38.304
          ],
          [
           54.72
          ],
          [
           50.04
          ],
          [
           27.93
          ],
          [
           157.3
          ],
          [
           97.3
          ],
          [
           21.728
          ],
          [
           17.22
          ],
          [
           56.562
          ],
          [
           39.76
          ],
          [
           27.79
          ],
          [
           79.772
          ],
          [
           108.9
          ],
          [
           6.8
          ],
          [
           38.69
          ],
          [
           28.836
          ],
          [
           53.379999999999995
          ],
          [
           34.4
          ],
          [
           20.94
          ],
          [
           56.8
          ],
          [
           62.327999999999996
          ],
          [
           55.86
          ],
          [
           1814.6000000000001
          ],
          [
           39.072
          ],
          [
           1108.712
          ],
          [
           30.93
          ],
          [
           7.9
          ],
          [
           38.29
          ],
          [
           61
          ],
          [
           55
          ],
          [
           13.080000000000002
          ],
          [
           11.62
          ],
          [
           808.0799999999999
          ],
          [
           154.35000000000002
          ],
          [
           27.28
          ],
          [
           31.57
          ],
          [
           167.86
          ],
          [
           52.074
          ],
          [
           29.79
          ],
          [
           23.759999999999998
          ],
          [
           13.440000000000001
          ],
          [
           143.152
          ],
          [
           219.04000000000002
          ],
          [
           171.07999999999998
          ],
          [
           119.02799999999999
          ],
          [
           13.98
          ],
          [
           9.32
          ],
          [
           419.9
          ],
          [
           8.96
          ],
          [
           10.9
          ],
          [
           52.92
          ],
          [
           87.36
          ],
          [
           24.368
          ],
          [
           46.71999999999999
          ],
          [
           35.168
          ],
          [
           47.976
          ],
          [
           199.95999999999995
          ],
          [
           63.968
          ],
          [
           59.96999999999999
          ],
          [
           5198.64
          ],
          [
           911.984
          ],
          [
           46.62
          ],
          [
           9.05
          ],
          [
           84.48
          ],
          [
           287.968
          ],
          [
           72.294
          ],
          [
           1552.8310000000001
          ],
          [
           2261.889
          ],
          [
           1459.753
          ],
          [
           904.9000000000001
          ],
          [
           354.96
          ],
          [
           271.96
          ],
          [
           31.32
          ],
          [
           641.13
          ],
          [
           72.45
          ],
          [
           31.68
          ],
          [
           133.2
          ],
          [
           28.909999999999997
          ],
          [
           421.31399999999996
          ],
          [
           54.010000000000005
          ],
          [
           56.7
          ],
          [
           45
          ],
          [
           40.04
          ],
          [
           8.67
          ],
          [
           24.899999999999995
          ],
          [
           213.01000000000002
          ],
          [
           29.24
          ],
          [
           18.45
          ],
          [
           42.84
          ],
          [
           72.45
          ],
          [
           23.04
          ],
          [
           74
          ],
          [
           11.52
          ],
          [
           9.82
          ],
          [
           28.71
          ],
          [
           31.5
          ],
          [
           22.5
          ],
          [
           21.56
          ],
          [
           5.78
          ],
          [
           37.848
          ],
          [
           125.3
          ],
          [
           58.48
          ],
          [
           13.283999999999999
          ],
          [
           72.45
          ],
          [
           74
          ],
          [
           16.52
          ],
          [
           5.76
          ],
          [
           14.73
          ],
          [
           8.874
          ],
          [
           37.8
          ],
          [
           3.75
          ],
          [
           3.0799999999999996
          ],
          [
           52.02
          ],
          [
           14.940000000000001
          ],
          [
           14.4
          ],
          [
           95.03
          ],
          [
           25.83
          ],
          [
           50.4
          ],
          [
           40.936
          ],
          [
           7.38
          ],
          [
           51.75
          ],
          [
           278.88
          ],
          [
           9.336
          ],
          [
           13.848
          ],
          [
           11.52
          ],
          [
           72.64
          ],
          [
           13.272
          ],
          [
           17.424
          ],
          [
           73.14999999999999
          ],
          [
           18.308
          ],
          [
           40.32
          ],
          [
           67.864
          ],
          [
           19.136
          ],
          [
           58.032000000000004
          ],
          [
           25.52
          ],
          [
           71.632
          ],
          [
           20.279999999999998
          ],
          [
           21.024
          ],
          [
           14.304
          ],
          [
           84.105
          ],
          [
           251.76
          ],
          [
           22.919999999999998
          ],
          [
           82.616
          ],
          [
           14.352
          ],
          [
           27.696
          ],
          [
           37.232
          ],
          [
           148.512
          ],
          [
           20.64
          ],
          [
           12.672
          ],
          [
           4.544
          ],
          [
           101.46900000000001
          ],
          [
           280.998
          ],
          [
           495.858
          ],
          [
           55.776
          ],
          [
           28.832
          ],
          [
           37.26
          ],
          [
           32.4
          ],
          [
           27.76
          ],
          [
           248.124
          ],
          [
           161.138
          ],
          [
           3839.952
          ],
          [
           3.024
          ],
          [
           253.176
          ],
          [
           892.98
          ],
          [
           610.5
          ],
          [
           161.28
          ],
          [
           136.464
          ],
          [
           353.88
          ],
          [
           792.792
          ],
          [
           241.96
          ],
          [
           577.488
          ],
          [
           137.214
          ],
          [
           236.88
          ],
          [
           157.92
          ],
          [
           25.146
          ],
          [
           81.96
          ],
          [
           119.96
          ],
          [
           69.48
          ],
          [
           183.84
          ],
          [
           77.974
          ],
          [
           748.72
          ],
          [
           86.664
          ],
          [
           194.88
          ],
          [
           97.16
          ],
          [
           172.162
          ],
          [
           71.952
          ],
          [
           112.134
          ],
          [
           1179.882
          ],
          [
           2913.066
          ],
          [
           1415.394
          ],
          [
           3497.132
          ],
          [
           510.92999999999995
          ],
          [
           2337.39
          ],
          [
           143.432
          ],
          [
           351.216
          ],
          [
           1577.752
          ],
          [
           1304.92
          ],
          [
           17.168
          ],
          [
           18.368
          ],
          [
           233.35999999999999
          ],
          [
           9.26
          ],
          [
           13.48
          ],
          [
           10.75
          ],
          [
           140.67
          ],
          [
           5.872
          ],
          [
           11.648
          ],
          [
           36.44
          ],
          [
           1209.504
          ],
          [
           37.38
          ],
          [
           419.944
          ],
          [
           796
          ],
          [
           38.256
          ],
          [
           46.64
          ],
          [
           132.06
          ],
          [
           64.14
          ],
          [
           25.98
          ],
          [
           19.83
          ],
          [
           241.8
          ],
          [
           112.6
          ],
          [
           723
          ],
          [
           165.55
          ],
          [
           91.96
          ],
          [
           123.92
          ],
          [
           218.75
          ],
          [
           41.6
          ],
          [
           2855.322
          ],
          [
           2887.056
          ],
          [
           7710.665
          ],
          [
           5008.8
          ],
          [
           9.9
          ],
          [
           1679.944
          ],
          [
           29.95
          ],
          [
           95.91999999999999
          ],
          [
           4666.3099999999995
          ],
          [
           2423.6400000000003
          ],
          [
           1937.8384999999998
          ],
          [
           273.568
          ],
          [
           66.294
          ],
          [
           2771.76
          ],
          [
           2396.66
          ],
          [
           119.833
          ],
          [
           556.665
          ],
          [
           69.576
          ],
          [
           90.88199999999999
          ],
          [
           257.499
          ],
          [
           460.941
          ],
          [
           71.896
          ],
          [
           59.28
          ],
          [
           30.576
          ],
          [
           311.15
          ],
          [
           2999.95
          ],
          [
           3359.952
          ],
          [
           1119.944
          ],
          [
           6719.904
          ],
          [
           1799.9699999999998
          ],
          [
           3149.93
          ],
          [
           13999.96
          ],
          [
           142.576
          ],
          [
           130.702
          ],
          [
           25.32
          ],
          [
           25.536
          ],
          [
           68.724
          ],
          [
           29.12
          ],
          [
           26.879999999999995
          ],
          [
           135.564
          ],
          [
           13.904
          ],
          [
           728.82
          ],
          [
           1862.54
          ],
          [
           451.25199999999995
          ],
          [
           1442.74
          ],
          [
           339.932
          ],
          [
           215.296
          ],
          [
           479.72
          ],
          [
           1314.624
          ],
          [
           275.49
          ],
          [
           1322.352
          ],
          [
           1524.9499999999998
          ],
          [
           3033.2159999999994
          ],
          [
           3346.3679999999995
          ],
          [
           431.968
          ],
          [
           385.8
          ],
          [
           1212.848
          ],
          [
           213.48
          ],
          [
           287.88
          ],
          [
           623.96
          ],
          [
           211.168
          ],
          [
           239.39999999999998
          ],
          [
           246.168
          ],
          [
           3000.7119999999995
          ],
          [
           316.752
          ],
          [
           345.765
          ],
          [
           3471.9440000000004
          ],
          [
           111.984
          ],
          [
           211.168
          ],
          [
           18.24
          ],
          [
           1.81
          ],
          [
           85.2
          ],
          [
           19.450000000000003
          ],
          [
           477.24
          ],
          [
           226.56
          ],
          [
           8.064
          ],
          [
           182.11200000000002
          ],
          [
           279.32800000000003
          ],
          [
           227.84
          ],
          [
           25.83
          ],
          [
           96.96
          ],
          [
           286.86
          ],
          [
           175.84
          ],
          [
           21.72
          ],
          [
           19.292
          ],
          [
           42.64
          ],
          [
           4799.984
          ],
          [
           27.72
          ],
          [
           51.959999999999994
          ],
          [
           26.48
          ],
          [
           22.752000000000002
          ],
          [
           72.9
          ],
          [
           202.39999999999995
          ],
          [
           115.736
          ],
          [
           80.78
          ],
          [
           59.99
          ],
          [
           37.74
          ],
          [
           20.24
          ],
          [
           291.28
          ],
          [
           19.54
          ],
          [
           85.32
          ],
          [
           97.15199999999999
          ],
          [
           49.7
          ],
          [
           109.84
          ],
          [
           28.38
          ],
          [
           2053.328
          ],
          [
           3832.4970000000003
          ],
          [
           92.52000000000001
          ],
          [
           47.92000000000001
          ],
          [
           863.946
          ],
          [
           1114.384
          ],
          [
           32.04
          ],
          [
           61.11
          ],
          [
           185.04
          ],
          [
           124.74
          ],
          [
           842.72
          ],
          [
           230.31
          ],
          [
           464.85
          ],
          [
           413.2
          ],
          [
           435.26
          ],
          [
           276.69
          ],
          [
           291.8
          ],
          [
           69.30000000000001
          ],
          [
           128.352
          ],
          [
           1247.64
          ],
          [
           4.17
          ],
          [
           140.376
          ],
          [
           309.57599999999996
          ],
          [
           49.14
          ],
          [
           7.667999999999999
          ],
          [
           116.608
          ],
          [
           255.85
          ],
          [
           41.86
          ],
          [
           9.21
          ],
          [
           23.84
          ],
          [
           25.02
          ],
          [
           1415.664
          ],
          [
           1705.6599999999999
          ],
          [
           255.208
          ],
          [
           29.76
          ],
          [
           8
          ],
          [
           18.62
          ],
          [
           14.976
          ],
          [
           660.8
          ],
          [
           364.70400000000006
          ],
          [
           20.22
          ],
          [
           31.4
          ],
          [
           18.84
          ],
          [
           50.24
          ],
          [
           29.7
          ],
          [
           61.25
          ],
          [
           24.14
          ],
          [
           43.31
          ],
          [
           162.6
          ],
          [
           210.58
          ],
          [
           155.76
          ],
          [
           277.5
          ],
          [
           238.56
          ],
          [
           218.352
          ],
          [
           273.096
          ],
          [
           207.35
          ],
          [
           201.04
          ],
          [
           19.3
          ],
          [
           15.232
          ],
          [
           46.89999999999999
          ],
          [
           53.2
          ],
          [
           81.18
          ],
          [
           118.66
          ],
          [
           69.86
          ],
          [
           79.4
          ],
          [
           209.7
          ],
          [
           166.54
          ],
          [
           24.839999999999996
          ],
          [
           66.88
          ],
          [
           49.39999999999999
          ],
          [
           11.664
          ],
          [
           354.75
          ],
          [
           509.04
          ],
          [
           328.27
          ],
          [
           319.84000000000003
          ],
          [
           30.008
          ],
          [
           22.619999999999997
          ],
          [
           202.42000000000002
          ],
          [
           201.528
          ],
          [
           5.344
          ],
          [
           100.53999999999999
          ],
          [
           151.76
          ],
          [
           21.44
          ],
          [
           148.02
          ],
          [
           621.76
          ],
          [
           87.96
          ],
          [
           148.72
          ],
          [
           67.71
          ],
          [
           99.59999999999998
          ],
          [
           290.78
          ],
          [
           38.88
          ],
          [
           17.48
          ],
          [
           152.94
          ],
          [
           400.8
          ],
          [
           154.9
          ],
          [
           152.88
          ],
          [
           70.68
          ],
          [
           76.14
          ],
          [
           56.1
          ],
          [
           177.84
          ],
          [
           22.720000000000002
          ],
          [
           66.56
          ],
          [
           126.3
          ],
          [
           9.78
          ],
          [
           467.152
          ],
          [
           470.67999999999995
          ],
          [
           238.40999999999997
          ],
          [
           161.94
          ],
          [
           1195.632
          ],
          [
           147.108
          ],
          [
           466.06
          ],
          [
           186.91200000000003
          ],
          [
           215.28
          ],
          [
           55.775999999999996
          ],
          [
           596.992
          ],
          [
           352.38
          ],
          [
           279.726
          ],
          [
           1119.24
          ],
          [
           64.96
          ],
          [
           2102.022
          ],
          [
           679.96
          ],
          [
           3724.7039999999997
          ],
          [
           8134.336
          ],
          [
           96.696
          ],
          [
           371.976
          ],
          [
           176.11200000000002
          ],
          [
           777.21
          ],
          [
           1352.19
          ],
          [
           1813.17
          ],
          [
           338.04
          ],
          [
           305.25
          ],
          [
           2584.8
          ],
          [
           274.03200000000004
          ],
          [
           57.888
          ],
          [
           209.244
          ],
          [
           847.25
          ],
          [
           963.8
          ],
          [
           428.4
          ],
          [
           86.2
          ],
          [
           62.16
          ],
          [
           120.78
          ],
          [
           41.94
          ],
          [
           459.696
          ],
          [
           5.682
          ],
          [
           135.8
          ],
          [
           23.88
          ],
          [
           6.98
          ],
          [
           19.92
          ],
          [
           20.72
          ],
          [
           3031.0559999999996
          ],
          [
           1788.3319999999999
          ],
          [
           398.352
          ],
          [
           3266.376
          ],
          [
           946.904
          ],
          [
           1791.84
          ],
          [
           210.915
          ],
          [
           70.272
          ],
          [
           21.312
          ],
          [
           20.704
          ],
          [
           45.664
          ],
          [
           99.136
          ],
          [
           76.672
          ],
          [
           29.52
          ],
          [
           58.589999999999996
          ],
          [
           63.959999999999994
          ],
          [
           335.68
          ],
          [
           168.112
          ],
          [
           329.37600000000003
          ],
          [
           2022.272
          ],
          [
           435.204
          ],
          [
           334.76800000000003
          ],
          [
           231.744
          ],
          [
           35.168
          ],
          [
           81.928
          ],
          [
           318.976
          ],
          [
           590.352
          ],
          [
           286.20799999999997
          ],
          [
           12.176
          ],
          [
           111.168
          ],
          [
           145.176
          ],
          [
           367.09800000000007
          ],
          [
           473.344
          ],
          [
           104.256
          ],
          [
           99.26400000000001
          ],
          [
           126.96000000000001
          ],
          [
           1567.9200000000003
          ],
          [
           59.92
          ],
          [
           1230.452
          ],
          [
           415.896
          ],
          [
           8.73
          ],
          [
           72.744
          ],
          [
           1187.8400000000001
          ],
          [
           35.808
          ],
          [
           1292.94
          ],
          [
           2360.232
          ],
          [
           1449.408
          ],
          [
           146.352
          ],
          [
           383.936
          ],
          [
           1352.032
          ],
          [
           2392.4
          ],
          [
           2287.84
          ],
          [
           1087.92
          ],
          [
           767.84
          ],
          [
           693.328
          ],
          [
           923.7600000000001
          ],
          [
           1083.92
          ],
          [
           207.184
          ],
          [
           1158.272
          ],
          [
           698.352
          ],
          [
           888.624
          ],
          [
           842.192
          ],
          [
           1475.88
          ],
          [
           873.504
          ],
          [
           724.2719999999999
          ],
          [
           2807.92
          ],
          [
           643.136
          ],
          [
           1007.888
          ],
          [
           2407.84
          ],
          [
           888.624
          ],
          [
           603.9200000000001
          ],
          [
           48.71200000000001
          ],
          [
           215.856
          ],
          [
           124.704
          ],
          [
           1074.976
          ],
          [
           284.98400000000004
          ],
          [
           10019.6
          ],
          [
           487.11999999999995
          ],
          [
           437.328
          ],
          [
           1310.112
          ],
          [
           12.78
          ],
          [
           431.97599999999994
          ],
          [
           147.184
          ],
          [
           211.96
          ],
          [
           242.624
          ],
          [
           61.192
          ],
          [
           75.348
          ],
          [
           637.5360000000001
          ],
          [
           308.15999999999997
          ],
          [
           244.664
          ],
          [
           161.928
          ],
          [
           8030.0160000000005
          ],
          [
           3925.4880000000003
          ],
          [
           40.46
          ],
          [
           239.984
          ],
          [
           182.7
          ],
          [
           639.936
          ],
          [
           503.96
          ],
          [
           19.98
          ],
          [
           7.968
          ],
          [
           205.38
          ],
          [
           100.47999999999999
          ],
          [
           341.664
          ],
          [
           189
          ],
          [
           100.62
          ],
          [
           34.912
          ],
          [
           2759.908
          ],
          [
           2199.956
          ],
          [
           6239.896000000001
          ],
          [
           447.968
          ],
          [
           13100.24
          ],
          [
           311.976
          ],
          [
           194.94000000000003
          ],
          [
           59.7
          ],
          [
           108.9
          ],
          [
           100.94
          ],
          [
           79.31
          ],
          [
           45.28
          ],
          [
           278.08
          ],
          [
           3371.7599999999998
          ],
          [
           1507.4640000000002
          ],
          [
           310.443
          ],
          [
           272.848
          ],
          [
           242.352
          ],
          [
           716.544
          ],
          [
           2100.456
          ],
          [
           770.352
          ],
          [
           1423.92
          ],
          [
           3462.662
          ],
          [
           248.808
          ],
          [
           4798.116
          ],
          [
           638.288
          ],
          [
           195.184
          ],
          [
           1561.472
          ],
          [
           585.552
          ],
          [
           387.136
          ],
          [
           1503.8399999999997
          ],
          [
           2720.04
          ],
          [
           127.764
          ],
          [
           283.92
          ],
          [
           1212.96
          ],
          [
           2771.994
          ],
          [
           1126.48
          ],
          [
           2311.056
          ],
          [
           1501.83
          ],
          [
           997.538
          ],
          [
           161.568
          ],
          [
           1101.48
          ],
          [
           314.6
          ],
          [
           38.849999999999994
          ],
          [
           95.05999999999999
          ],
          [
           23.700000000000003
          ],
          [
           715.64
          ],
          [
           2605.77
          ],
          [
           1089.75
          ],
          [
           1427.76
          ],
          [
           646.95
          ],
          [
           345.04
          ],
          [
           467.46000000000004
          ],
          [
           196.45
          ],
          [
           488.176
          ],
          [
           532.4559999999999
          ],
          [
           137.54
          ],
          [
           258.75
          ],
          [
           1048.616
          ],
          [
           191.81999999999996
          ],
          [
           82.26
          ],
          [
           1113.024
          ],
          [
           9.328
          ],
          [
           569.7
          ],
          [
           100.8
          ],
          [
           124.384
          ],
          [
           241.644
          ],
          [
           553.568
          ],
          [
           4535.976
          ],
          [
           2683.9120000000003
          ],
          [
           4084.6890000000003
          ],
          [
           623.56
          ],
          [
           243.20000000000002
          ],
          [
           134.88
          ],
          [
           22.288
          ],
          [
           55.264
          ],
          [
           499.96799999999996
          ],
          [
           13.184
          ],
          [
           962.64
          ],
          [
           512.336
          ],
          [
           619.018
          ],
          [
           8.04
          ],
          [
           1049.44
          ],
          [
           1662.4
          ],
          [
           483.698
          ],
          [
           110.4
          ],
          [
           119.8
          ],
          [
           350.20399999999995
          ],
          [
           45
          ],
          [
           263.2
          ],
          [
           547.056
          ],
          [
           45.48
          ],
          [
           30.3
          ],
          [
           12.6
          ],
          [
           24.862000000000005
          ],
          [
           109.90000000000002
          ],
          [
           71.82
          ],
          [
           59.2
          ],
          [
           143.976
          ],
          [
           92.456
          ],
          [
           914.3279999999999
          ],
          [
           1127.8799999999999
          ],
          [
           191.68000000000004
          ],
          [
           1315.008
          ],
          [
           220.704
          ],
          [
           35.89
          ],
          [
           1281.102
          ],
          [
           1233.4859999999999
          ],
          [
           1740.2480000000003
          ],
          [
           204.80000000000004
          ],
          [
           812.1600000000001
          ],
          [
           472.03200000000004
          ],
          [
           854.9100000000001
          ],
          [
           215.67000000000002
          ],
          [
           431.928
          ],
          [
           196.752
          ],
          [
           108
          ],
          [
           92.52
          ],
          [
           159.31
          ],
          [
           118.64999999999999
          ],
          [
           101.34
          ],
          [
           6.24
          ],
          [
           1367.136
          ],
          [
           43.6
          ],
          [
           380.864
          ],
          [
           156.792
          ],
          [
           1233.04
          ],
          [
           39.92
          ],
          [
           21.34
          ],
          [
           436.704
          ],
          [
           54.384
          ],
          [
           1971.54
          ],
          [
           1427.4
          ],
          [
           2257.188
          ],
          [
           23.408
          ],
          [
           96.35999999999999
          ],
          [
           2549.985
          ],
          [
           299.97
          ],
          [
           872.32
          ],
          [
           30.56
          ],
          [
           101.94
          ],
          [
           245.358
          ],
          [
           431.85600000000005
          ],
          [
           295.91999999999996
          ],
          [
           87.87
          ],
          [
           163.6
          ],
          [
           719.91
          ],
          [
           1487.8799999999999
          ],
          [
           1299.9
          ],
          [
           447.944
          ],
          [
           909.8699999999999
          ],
          [
           719.91
          ],
          [
           399.95000000000005
          ],
          [
           899.91
          ],
          [
           170.97
          ],
          [
           1035.216
          ],
          [
           58.08
          ],
          [
           79.98
          ],
          [
           279.92
          ],
          [
           863.872
          ],
          [
           179.94
          ],
          [
           215.964
          ],
          [
           479.97
          ],
          [
           214.95
          ],
          [
           699.9300000000001
          ],
          [
           779.844
          ],
          [
           299.96999999999997
          ],
          [
           324.87
          ],
          [
           866.898
          ],
          [
           899.85
          ],
          [
           19.99
          ],
          [
           223.38400000000001
          ],
          [
           7467.21
          ],
          [
           359.98
          ],
          [
           4289.87
          ],
          [
           67.75999999999999
          ],
          [
           7.88
          ],
          [
           146.952
          ],
          [
           355.36
          ],
          [
           299.1
          ],
          [
           920.7
          ],
          [
           1049.2
          ],
          [
           312.03
          ],
          [
           124.28
          ],
          [
           17.352
          ],
          [
           83.92
          ],
          [
           15.200000000000001
          ],
          [
           107.604
          ],
          [
           1332.496
          ],
          [
           128.8
          ],
          [
           73.92
          ],
          [
           50.8
          ],
          [
           15.24
          ],
          [
           50.96
          ],
          [
           52.416
          ],
          [
           22.77
          ],
          [
           31.86
          ],
          [
           8.91
          ],
          [
           83.88
          ],
          [
           68.46
          ],
          [
           148.32
          ],
          [
           363.87
          ],
          [
           31.128
          ],
          [
           23.976
          ],
          [
           67.96
          ],
          [
           102.24
          ],
          [
           32.97
          ],
          [
           81.65
          ],
          [
           380.56200000000007
          ],
          [
           146.04
          ],
          [
           80.6
          ],
          [
           335.37
          ],
          [
           120
          ],
          [
           471.12
          ],
          [
           46.31999999999999
          ],
          [
           58.95
          ],
          [
           51.36
          ],
          [
           53.456
          ],
          [
           108.608
          ],
          [
           300
          ],
          [
           171.91400000000002
          ],
          [
           359.70000000000005
          ],
          [
           419.85999999999996
          ],
          [
           1017.96
          ],
          [
           279.65
          ],
          [
           191.952
          ],
          [
           628.176
          ],
          [
           2116.688
          ],
          [
           1319.952
          ],
          [
           379.404
          ],
          [
           205.086
          ],
          [
           959.88
          ],
          [
           126.56
          ],
          [
           312.664
          ],
          [
           2620.632
          ],
          [
           257.544
          ],
          [
           271.992
          ],
          [
           208.56
          ],
          [
           1258.2
          ],
          [
           1663.8960000000002
          ],
          [
           720
          ],
          [
           21.488
          ],
          [
           7.312
          ],
          [
           5.46
          ],
          [
           8.4
          ],
          [
           23.099999999999998
          ],
          [
           41.300000000000004
          ],
          [
           10.208
          ],
          [
           15.469999999999999
          ],
          [
           18.688
          ],
          [
           18.368
          ],
          [
           16.740000000000002
          ],
          [
           39.983999999999995
          ],
          [
           25.576
          ],
          [
           95.232
          ],
          [
           31.68
          ],
          [
           19.688
          ],
          [
           5.248
          ],
          [
           7.28
          ],
          [
           11.76
          ],
          [
           43.89
          ],
          [
           49.56
          ],
          [
           11.264
          ],
          [
           13.26
          ],
          [
           35.04
          ],
          [
           16.4
          ],
          [
           16.74
          ],
          [
           23.92
          ],
          [
           32.34
          ],
          [
           25.02
          ],
          [
           515.84
          ],
          [
           5.76
          ],
          [
           27.392000000000003
          ],
          [
           23.52
          ],
          [
           8.34
          ],
          [
           119.04
          ],
          [
           17.12
          ],
          [
           29.4
          ],
          [
           24.464
          ],
          [
           158.72
          ],
          [
           22.464
          ],
          [
           77.03999999999999
          ],
          [
           13.12
          ],
          [
           22.959999999999997
          ],
          [
           32.8
          ],
          [
           40.016
          ],
          [
           53.69
          ],
          [
           71.976
          ],
          [
           302.376
          ],
          [
           12.319999999999999
          ],
          [
           1000.728
          ],
          [
           1108.728
          ],
          [
           975.6800000000001
          ],
          [
           851.76
          ],
          [
           724.704
          ],
          [
           681.408
          ],
          [
           164.32
          ],
          [
           28.736
          ],
          [
           43.02
          ],
          [
           74.76
          ],
          [
           307.666
          ],
          [
           150.598
          ],
          [
           322.677
          ],
          [
           1808.6509999999998
          ],
          [
           163.88
          ],
          [
           84.98
          ],
          [
           890.664
          ],
          [
           1953.827
          ],
          [
           2602.691
          ],
          [
           307.666
          ],
          [
           9.4
          ],
          [
           64.44
          ],
          [
           12.4
          ],
          [
           36.296
          ],
          [
           17.9
          ],
          [
           33.4
          ],
          [
           5.7
          ],
          [
           1672.7
          ],
          [
           1127.84
          ],
          [
           443.91999999999996
          ],
          [
           104.784
          ],
          [
           579.136
          ],
          [
           388.7040000000001
          ],
          [
           314.352
          ],
          [
           1159.056
          ],
          [
           4211.76
          ],
          [
           436.704
          ],
          [
           242.136
          ],
          [
           532.704
          ],
          [
           1029.6
          ],
          [
           179.991
          ],
          [
           2792
          ],
          [
           2395.2
          ],
          [
           7834.4
          ],
          [
           1007.92
          ],
          [
           219.912
          ],
          [
           228.69599999999997
          ],
          [
           359.88
          ],
          [
           88.752
          ],
          [
           583.056
          ],
          [
           233.98800000000003
          ],
          [
           87.92
          ],
          [
           34.58
          ],
          [
           179.9
          ],
          [
           73.2
          ],
          [
           2396.4
          ],
          [
           269.97
          ],
          [
           399.96
          ],
          [
           119.96
          ],
          [
           313.536
          ],
          [
           393.552
          ],
          [
           1495.824
          ],
          [
           739.088
          ],
          [
           359.976
          ],
          [
           183.96
          ],
          [
           21.84
          ],
          [
           111.888
          ],
          [
           56.647999999999996
          ],
          [
           108.85199999999999
          ],
          [
           21.816
          ],
          [
           123.132
          ],
          [
           6.57
          ],
          [
           224.24
          ],
          [
           174.95
          ],
          [
           81.328
          ],
          [
           5.22
          ],
          [
           12.6
          ],
          [
           275.52
          ],
          [
           62.32
          ],
          [
           155.1
          ],
          [
           33.63
          ],
          [
           86.272
          ],
          [
           119.76
          ],
          [
           263.96
          ],
          [
           609.878
          ],
          [
           1539.3
          ],
          [
           979.1279999999999
          ],
          [
           659.9
          ],
          [
           940.7520000000002
          ],
          [
           139.8
          ],
          [
           215.75999999999996
          ],
          [
           1855.84
          ],
          [
           68.72
          ],
          [
           323.37
          ],
          [
           3797.5499999999997
          ],
          [
           29.925
          ],
          [
           155.976
          ],
          [
           494.376
          ],
          [
           54.54
          ],
          [
           20.724
          ],
          [
           28.485
          ],
          [
           24.48
          ],
          [
           479.968
          ],
          [
           479.92
          ],
          [
           1987.568
          ],
          [
           666.344
          ],
          [
           1295.84
          ],
          [
           1007.944
          ],
          [
           1179.8
          ],
          [
           78.144
          ],
          [
           39.96
          ],
          [
           47.04
          ],
          [
           49.483999999999995
          ],
          [
           23.52
          ],
          [
           480.74
          ],
          [
           996.396
          ],
          [
           54.792
          ],
          [
           203.506
          ],
          [
           217.168
          ],
          [
           28.012
          ],
          [
           39.28
          ],
          [
           29.904000000000003
          ],
          [
           29.904
          ],
          [
           62.976
          ],
          [
           18.2
          ],
          [
           48.64
          ],
          [
           39.68
          ],
          [
           28.06
          ],
          [
           1305.464
          ],
          [
           201.568
          ],
          [
           5.56
          ],
          [
           11.679999999999998
          ],
          [
           159.984
          ],
          [
           727.944
          ],
          [
           482.32800000000003
          ],
          [
           185.14799999999997
          ],
          [
           599.94
          ],
          [
           159.98
          ],
          [
           2399.88
          ],
          [
           434.67600000000004
          ],
          [
           134.25
          ],
          [
           53.712
          ],
          [
           71.97
          ],
          [
           85.568
          ],
          [
           52.649
          ],
          [
           171.69
          ],
          [
           54.87
          ],
          [
           103.18
          ],
          [
           19.92
          ],
          [
           14.9
          ],
          [
           22.919999999999998
          ],
          [
           9.504000000000001
          ],
          [
           5.67
          ],
          [
           369.16
          ],
          [
           86.516
          ],
          [
           286.85
          ],
          [
           1497.666
          ],
          [
           211.008
          ],
          [
           21.92
          ],
          [
           95.05999999999999
          ],
          [
           351.53999999999996
          ],
          [
           26.96
          ],
          [
           22.880000000000003
          ],
          [
           150.35999999999999
          ],
          [
           11.22
          ],
          [
           932.232
          ],
          [
           1803.839
          ],
          [
           5744.96
          ],
          [
           2340.984
          ],
          [
           276.28
          ],
          [
           42.76
          ],
          [
           106.56
          ],
          [
           1307.114
          ],
          [
           1747.25
          ],
          [
           5.680000000000001
          ],
          [
           131.688
          ],
          [
           123.136
          ],
          [
           139.53
          ],
          [
           1716.48
          ],
          [
           241.332
          ],
          [
           671.93
          ],
          [
           262.626
          ],
          [
           603.3299999999999
          ],
          [
           381.36000000000007
          ],
          [
           5375.871999999999
          ],
          [
           2575.944
          ],
          [
           703.968
          ],
          [
           559.984
          ],
          [
           1001.584
          ],
          [
           1879.96
          ],
          [
           175.6
          ],
          [
           22
          ],
          [
           316.75199999999995
          ],
          [
           95.1
          ],
          [
           908
          ],
          [
           179.262
          ],
          [
           331.5
          ],
          [
           535.866
          ],
          [
           245.82
          ],
          [
           34.56
          ],
          [
           16.4
          ],
          [
           18.9
          ],
          [
           2518.29
          ],
          [
           3281.4
          ],
          [
           555.648
          ],
          [
           145.764
          ],
          [
           822.664
          ],
          [
           488.665
          ],
          [
           586.398
          ],
          [
           726.665
          ],
          [
           1706.508
          ],
          [
           273.666
          ],
          [
           1423.8980000000001
          ],
          [
           290.666
          ],
          [
           222.666
          ],
          [
           30.56
          ],
          [
           223.272
          ],
          [
           87.72
          ],
          [
           53.550000000000004
          ],
          [
           11.264
          ],
          [
           1220.856
          ],
          [
           23.864
          ],
          [
           183.84
          ],
          [
           106.68
          ],
          [
           108.22399999999999
          ],
          [
           64.96
          ],
          [
           60.84
          ],
          [
           1319.976
          ],
          [
           2399.952
          ],
          [
           17.52
          ],
          [
           675.96
          ],
          [
           124.85
          ],
          [
           965.328
          ],
          [
           8.288
          ],
          [
           61.512
          ],
          [
           18.75
          ],
          [
           15.400000000000002
          ],
          [
           303.52
          ],
          [
           506.28
          ],
          [
           25.78
          ],
          [
           167.6
          ],
          [
           467.87
          ],
          [
           257.554
          ],
          [
           83.64
          ],
          [
           582.6759999999999
          ],
          [
           303.738
          ],
          [
           70.02
          ],
          [
           65.052
          ],
          [
           27.18
          ],
          [
           87.912
          ],
          [
           15.696000000000002
          ],
          [
           50.96
          ],
          [
           775.8
          ],
          [
           689.82
          ],
          [
           37.474000000000004
          ],
          [
           22.4
          ],
          [
           63.936
          ],
          [
           95.904
          ],
          [
           231.168
          ],
          [
           36.96
          ],
          [
           24.899999999999995
          ],
          [
           87.92
          ],
          [
           3423.6100000000006
          ],
          [
           120.15
          ],
          [
           279.12
          ],
          [
           122.16
          ],
          [
           16.543999999999997
          ],
          [
           304.02
          ],
          [
           169.956
          ],
          [
           178.276
          ],
          [
           17.34
          ],
          [
           542.5
          ],
          [
           32.04
          ],
          [
           72.4
          ],
          [
           686.32
          ],
          [
           532.72
          ],
          [
           153.008
          ],
          [
           52.8
          ],
          [
           4.71
          ],
          [
           44.16
          ],
          [
           45.779999999999994
          ],
          [
           80.784
          ],
          [
           5.5440000000000005
          ],
          [
           527.1
          ],
          [
           65.79
          ],
          [
           54.239999999999995
          ],
          [
           998.82
          ],
          [
           23.064
          ],
          [
           14.98
          ],
          [
           73.344
          ],
          [
           1879.953
          ],
          [
           21.4
          ],
          [
           22.776
          ],
          [
           248.784
          ],
          [
           32.04
          ],
          [
           129.45
          ],
          [
           19.05
          ],
          [
           979.4399999999999
          ],
          [
           1208.172
          ],
          [
           275.88
          ],
          [
           282.84
          ],
          [
           175.78
          ],
          [
           129.92
          ],
          [
           107.53
          ],
          [
           46.53
          ],
          [
           15.51
          ],
          [
           242.64000000000001
          ],
          [
           128.9
          ],
          [
           849.1
          ],
          [
           255.52800000000002
          ],
          [
           1295.78
          ],
          [
           5144.298
          ],
          [
           162.72
          ],
          [
           1575.14
          ],
          [
           224.986
          ],
          [
           41.96
          ],
          [
           1764.534
          ],
          [
           1126.02
          ],
          [
           2235.84
          ],
          [
           2435.58
          ],
          [
           13.592
          ],
          [
           327.58
          ],
          [
           11.56
          ],
          [
           105.552
          ],
          [
           17.61
          ],
          [
           19.008
          ],
          [
           146.82
          ],
          [
           244.55
          ],
          [
           16.45
          ],
          [
           2112.648
          ],
          [
           731.976
          ],
          [
           51.312
          ],
          [
           835.908
          ],
          [
           75.792
          ],
          [
           42.416
          ],
          [
           20.1
          ],
          [
           244.62
          ],
          [
           487.84000000000003
          ],
          [
           542.88
          ],
          [
           157.8
          ],
          [
           14.73
          ],
          [
           8.312999999999999
          ],
          [
           47.84
          ],
          [
           9.872
          ],
          [
           15.552
          ],
          [
           18.308
          ],
          [
           1007.92
          ],
          [
           55.36
          ],
          [
           46.36
          ],
          [
           69.9
          ],
          [
           11.54
          ],
          [
           96.43200000000002
          ],
          [
           648.44
          ],
          [
           71.976
          ],
          [
           383.96
          ],
          [
           510.6
          ],
          [
           1428
          ],
          [
           531
          ],
          [
           14.352
          ],
          [
           88.722
          ],
          [
           23.99
          ],
          [
           28.28
          ],
          [
           58.32
          ],
          [
           4.73
          ],
          [
           98.46
          ],
          [
           209.304
          ],
          [
           155.762
          ],
          [
           15.25
          ],
          [
           90.24
          ],
          [
           583.8
          ],
          [
           4868.8
          ],
          [
           19.536
          ],
          [
           9.612
          ],
          [
           20.384
          ],
          [
           99.696
          ],
          [
           131.07999999999998
          ],
          [
           21.76
          ],
          [
           2.025
          ],
          [
           18
          ],
          [
           376.64
          ],
          [
           20.928
          ],
          [
           79.52
          ],
          [
           55.424
          ],
          [
           56.980000000000004
          ],
          [
           83.03999999999999
          ],
          [
           168.489
          ],
          [
           360.624
          ],
          [
           263.88
          ],
          [
           20.240000000000002
          ],
          [
           69.408
          ],
          [
           24.689999999999998
          ],
          [
           575.92
          ],
          [
           58.050000000000004
          ],
          [
           70.59
          ],
          [
           35.2
          ],
          [
           40.14
          ],
          [
           23.85
          ],
          [
           120.42
          ],
          [
           83.43
          ],
          [
           53.269999999999996
          ],
          [
           35.948
          ],
          [
           106.47999999999998
          ],
          [
           453.57599999999996
          ],
          [
           8.94
          ],
          [
           33.87
          ],
          [
           567.04
          ],
          [
           90.872
          ],
          [
           212.724
          ],
          [
           374.59600000000006
          ],
          [
           19.98
          ],
          [
           480.4
          ],
          [
           47.9
          ],
          [
           72.086
          ],
          [
           554.8
          ],
          [
           209.7
          ],
          [
           948.8540000000002
          ],
          [
           116.28
          ],
          [
           368.91
          ],
          [
           159.40800000000002
          ],
          [
           99.26800000000001
          ],
          [
           29.97
          ],
          [
           19.92
          ],
          [
           146.95999999999998
          ],
          [
           30.055999999999997
          ],
          [
           216.86
          ],
          [
           4.98
          ],
          [
           81.32000000000001
          ],
          [
           29.900000000000002
          ],
          [
           97.2
          ],
          [
           24.56
          ],
          [
           279.9
          ],
          [
           395.7
          ],
          [
           279.72
          ],
          [
           335.29999999999995
          ],
          [
           94.85
          ],
          [
           221.92
          ],
          [
           351.744
          ],
          [
           314.54999999999995
          ],
          [
           244.7
          ],
          [
           586.92
          ],
          [
           1024.75
          ],
          [
           51.84
          ],
          [
           23.92
          ],
          [
           11.952
          ],
          [
           20.04
          ],
          [
           23.12
          ],
          [
           216.86
          ],
          [
           17.12
          ],
          [
           73.92
          ],
          [
           68.52
          ],
          [
           35.88
          ],
          [
           102.384
          ],
          [
           108.864
          ],
          [
           85.056
          ],
          [
           184.20000000000002
          ],
          [
           559.8
          ],
          [
           192.15999999999997
          ],
          [
           37.94
          ],
          [
           233.016
          ],
          [
           219.84
          ],
          [
           817.83
          ],
          [
           293.64
          ],
          [
           146.73
          ],
          [
           77.52
          ],
          [
           450.89000000000004
          ],
          [
           45.36
          ],
          [
           83.72
          ],
          [
           9.96
          ],
          [
           60.12
          ],
          [
           136.312
          ],
          [
           64.74
          ],
          [
           29.96
          ],
          [
           8.448
          ],
          [
           13.36
          ],
          [
           28.9
          ],
          [
           439.916
          ],
          [
           29.96
          ],
          [
           45.68000000000001
          ],
          [
           23.92
          ],
          [
           19.44
          ],
          [
           32.4
          ],
          [
           86.84
          ],
          [
           34.86
          ],
          [
           81.32
          ],
          [
           10.56
          ],
          [
           169.01600000000002
          ],
          [
           47.84
          ],
          [
           25.92
          ],
          [
           36.288
          ],
          [
           66.8
          ],
          [
           57.8
          ],
          [
           278.82
          ],
          [
           21.12
          ],
          [
           91.36000000000001
          ],
          [
           5.98
          ],
          [
           12.96
          ],
          [
           80.16
          ],
          [
           34.68
          ],
          [
           439.916
          ],
          [
           365.44000000000005
          ],
          [
           50.232
          ],
          [
           32.400000000000006
          ],
          [
           110.16
          ],
          [
           58.32000000000001
          ],
          [
           12.96
          ],
          [
           41.472
          ],
          [
           6.48
          ],
          [
           12.96
          ],
          [
           19.44
          ],
          [
           32.400000000000006
          ],
          [
           58.32000000000001
          ],
          [
           77.76
          ],
          [
           58.32
          ],
          [
           19.44
          ],
          [
           51.84
          ],
          [
           36.288
          ],
          [
           31.104
          ],
          [
           32.400000000000006
          ],
          [
           25.92
          ],
          [
           45.36
          ],
          [
           6.48
          ],
          [
           19.44
          ],
          [
           82.944
          ],
          [
           19.44
          ],
          [
           31.104000000000003
          ],
          [
           32.4
          ],
          [
           38.88
          ],
          [
           77.76
          ],
          [
           32.4
          ],
          [
           51.84
          ],
          [
           25.92
          ],
          [
           158.11200000000002
          ],
          [
           132.192
          ],
          [
           25.92
          ],
          [
           64.80000000000001
          ],
          [
           38.88
          ],
          [
           32.400000000000006
          ],
          [
           60.912
          ],
          [
           6.48
          ],
          [
           10.368
          ],
          [
           41.184
          ],
          [
           99.90000000000002
          ],
          [
           365.44000000000005
          ],
          [
           82.208
          ],
          [
           12.544000000000002
          ],
          [
           703.71
          ],
          [
           5521.88
          ],
          [
           18.24
          ],
          [
           27.456
          ],
          [
           254.35200000000003
          ],
          [
           503.928
          ],
          [
           100.56000000000002
          ],
          [
           31.984
          ],
          [
           79.96
          ],
          [
           158.312
          ],
          [
           839.8399999999999
          ],
          [
           2081.6617778288733
          ],
          [
           1395.8733223988515
          ],
          [
           335.73910098299336
          ],
          [
           2888.283084904244
          ],
          [
           1740.6859096013616
          ],
          [
           3288.1387673835034
          ],
          [
           6785.605126039668
          ],
          [
           327.12493676404165
          ],
          [
           81.05129260324777
          ],
          [
           525.7519039473968
          ],
          [
           557.4047237634005
          ],
          [
           3871.8528651043835
          ],
          [
           377.34314854800067
          ],
          [
           1866.89116754251
          ],
          [
           1716.247254769735
          ],
          [
           9654.307361353667
          ],
          [
           3133.1151646848457
          ],
          [
           2769.7942509617337
          ]
         ],
         "domain": {
          "x": [
           0,
           1
          ],
          "y": [
           0,
           1
          ]
         },
         "hovertemplate": "labels=%{label}<br>Sales_sum=%{value}<br>parent=%{parent}<br>id=%{id}<br>Sales=%{color}<extra></extra>",
         "ids": [
          "product/Paper/\"While you Were Out\" Message Book, One Form per Page",
          "product/Envelopes/#10 Self-Seal White Envelopes",
          "product/Envelopes/#10 White Business Envelopes,4 1/8 x 9 1/2",
          "product/Envelopes/#10- 4 1/8\" x 9 1/2\" Recycled Envelopes",
          "product/Envelopes/#10- 4 1/8\" x 9 1/2\" Security-Tint Envelopes",
          "product/Envelopes/#6 3/4 Gummed Flap White Envelopes",
          "product/Art/12 Colored Short Pencils",
          "product/Furnishings/12-1/2 Diameter Round Wall Clock",
          "product/Paper/14-7/8 x 11 Blue Bar Computer Printout Paper",
          "product/Storage/2300 Heavy-Duty Transfer File Systems by Perma",
          "product/Storage/24 Capacity Maxi Data Binder Racks, Pearl",
          "product/Furnishings/24-Hour Round Wall Clock",
          "product/Appliances/3.6 Cubic Foot Counter Height Office Refrigerator",
          "product/Furnishings/36X48 HARDFLOOR CHAIRMAT",
          "product/Machines/3D Systems Cube Printer, 2nd Generation, White",
          "product/Furnishings/3M Hangers With Command Adhesive",
          "product/Appliances/3M Office Air Cleaner",
          "product/Furnishings/3M Polarizing Light Filter Sleeves",
          "product/Appliances/3M Replacement Filter for Office Air Cleaner for 20' x 33' Room",
          "product/Art/4009 Highlighters by Sanford",
          "product/Art/50 Colored Long Pencils",
          "product/Furnishings/6\" Cubicle Wall Clock, Black",
          "product/Furnishings/9-3/4 Diameter Round Wall Clock",
          "product/Binders/ACCOHIDE 3-Ring Binder, Blue, 1\"",
          "product/Binders/ACCOHIDE Binder by Acco",
          "product/Appliances/APC 7 Outlet Network SurgeArrest Surge Protector",
          "product/Phones/AT&T 1070 Corded Phone",
          "product/Phones/AT&T 1080 Corded phone",
          "product/Phones/AT&T 1080 Phone",
          "product/Phones/AT&T 17929 Lendline Telephone",
          "product/Phones/AT&T 841000 Phone",
          "product/Phones/AT&T CL2909",
          "product/Phones/AT&T CL82213",
          "product/Phones/AT&T CL83451 4-Handset Telephone",
          "product/Phones/AT&T SB67148 SynJ",
          "product/Phones/AT&T TR1909W",
          "product/Phones/Aastra 57i VoIP phone",
          "product/Phones/Aastra 6757i CT Wireless VoIP phone",
          "product/Binders/Acco 3-Hole Punch",
          "product/Appliances/Acco 6 Outlet Guardian Premium Plus Surge Suppressor",
          "product/Appliances/Acco 6 Outlet Guardian Premium Surge Suppressor",
          "product/Appliances/Acco 7-Outlet Masterpiece Power Center, Wihtout Fax/Phone Line Protection",
          "product/Fasteners/Acco Banker's Clasps, 5 3/4\"-Long",
          "product/Fasteners/Acco Clips to Go Binder Clips, 24 Clips in Two Sizes",
          "product/Binders/Acco D-Ring Binder w/DublLock",
          "product/Binders/Acco Data Flex Cable Posts For Top & Bottom Load Binders, 6\" Capacity",
          "product/Binders/Acco Economy Flexible Poly Round Ring Binder",
          "product/Binders/Acco Expandable Hanging Binders",
          "product/Binders/Acco Flexible ACCOHIDE Square Ring Data Binder, Dark Blue, 11 1/2\" X 14\" 7/8\"",
          "product/Binders/Acco Four Pocket Poly Ring Binder with Label Holder, Smoke, 1\"",
          "product/Fasteners/Acco Glide Clips",
          "product/Binders/Acco Hanging Data Binders",
          "product/Binders/Acco PRESSTEX Data Binder with Storage Hooks, Dark Blue, 14 7/8\" X 11\"",
          "product/Binders/Acco PRESSTEX Data Binder with Storage Hooks, Dark Blue, 9 1/2\" X 11\"",
          "product/Binders/Acco PRESSTEX Data Binder with Storage Hooks, Light Blue, 9 1/2\" X 11\"",
          "product/Storage/Acco Perma 2700 Stacking Storage Drawers",
          "product/Storage/Acco Perma 3000 Stacking Storage Drawers",
          "product/Storage/Acco Perma 4000 Stacking Storage Drawers",
          "product/Binders/Acco Pressboard Covers with Storage Hooks, 14 7/8\" x 11\", Dark Blue",
          "product/Binders/Acco Pressboard Covers with Storage Hooks, 14 7/8\" x 11\", Executive Red",
          "product/Binders/Acco Pressboard Covers with Storage Hooks, 14 7/8\" x 11\", Light Blue",
          "product/Binders/Acco Pressboard Covers with Storage Hooks, 9 1/2\" x 11\", Executive Red",
          "product/Binders/Acco Recycled 2\" Capacity Laser Printer Hanging Data Binders",
          "product/Supplies/Acco Side-Punched Conventional Columnar Pads",
          "product/Appliances/Acco Six-Outlet Power Strip, 4' Cord Length",
          "product/Appliances/Acco Smartsocket Color-Coded Six-Outlet AC Adapter Model Surge Protectors",
          "product/Appliances/Acco Smartsocket Table Surge Protector, 6 Color-Coded Adapter Outlets",
          "product/Binders/Acco Suede Grain Vinyl Round Ring Binder",
          "product/Binders/Acco Translucent Poly Ring Binders",
          "product/Binders/Accohide Poly Flexible Ring Binders",
          "product/Supplies/Acme 10\" Easy Grip Assistive Scissors",
          "product/Supplies/Acme Box Cutter Scissors",
          "product/Supplies/Acme Design Line 8\" Stainless Steel Bent Scissors w/Champagne Handles, 3-1/8\" Cut",
          "product/Supplies/Acme Design Stainless Steel Bent Scissors",
          "product/Supplies/Acme Elite Stainless Steel Scissors",
          "product/Supplies/Acme Forged Steel Scissors with Black Enamel Handles",
          "product/Supplies/Acme Galleria Hot Forged Steel Scissors with Colored Handles",
          "product/Supplies/Acme Hot Forged Carbon Steel Scissors with Nickel-Plated Handles, 3 7/8\" Cut, 8\"L",
          "product/Supplies/Acme Kleen Earth Office Shears",
          "product/Supplies/Acme Kleencut Forged Steel Scissors",
          "product/Supplies/Acme Office Executive Series Stainless Steel Trimmers",
          "product/Supplies/Acme Preferred Stainless Steel Scissors",
          "product/Supplies/Acme Rosewood Handle Letter Opener",
          "product/Supplies/Acme Softgrip Scissors",
          "product/Supplies/Acme Tagit Stainless Steel Antibacterial Scissors",
          "product/Supplies/Acme Titanium Bonded Scissors",
          "product/Supplies/Acme Value Line Scissors",
          "product/Furnishings/Acrylic Self-Standing Desk Frames",
          "product/Paper/Adams \"While You Were Out\" Message Pads",
          "product/Paper/Adams Phone Message Book, 200 Message Capacity, 8 1/16Â” x 11Â”",
          "product/Paper/Adams Phone Message Book, Professional, 400 Message Capacity, 5 3/6Â” x 11Â”",
          "product/Paper/Adams Telephone Message Book W/Dividers/Space For Phone Numbers, 5 1/4\"X8 1/2\", 200/Messages",
          "product/Paper/Adams Telephone Message Book W/Dividers/Space For Phone Numbers, 5 1/4\"X8 1/2\", 300/Messages",
          "product/Paper/Adams Telephone Message Book w/Frequently-Called Numbers Space, 400 Messages per Book",
          "product/Storage/Adjustable Depth Letter/Legal Cart",
          "product/Storage/Adjustable Personal File Tote",
          "product/Phones/Adtran 1202752G1",
          "product/Furnishings/Advantus Employee of the Month Certificate Frame, 11 x 13-1/2",
          "product/Fasteners/Advantus Map Pennant Flags and Round Head Tacks",
          "product/Furnishings/Advantus Panel Wall Acrylic Frame",
          "product/Furnishings/Advantus Panel Wall Certificate Holder - 8.5x11",
          "product/Fasteners/Advantus Plastic Paper Clips",
          "product/Fasteners/Advantus Push Pins",
          "product/Fasteners/Advantus Push Pins, Aluminum Head",
          "product/Storage/Advantus Rolling Drawer Organizers",
          "product/Storage/Advantus Rolling Storage Box",
          "product/Fasteners/Advantus SlideClip Paper Clips",
          "product/Fasteners/Advantus T-Pin Paper Clips",
          "product/Envelopes/Airmail Envelopes",
          "product/Storage/Akro Stacking Bins",
          "product/Storage/Akro-Mils 12-Gallon Tote",
          "product/Fasteners/Alliance Big Bands Rubber Bands, 12/Pack",
          "product/Fasteners/Alliance Rubber Bands",
          "product/Fasteners/Alliance Super-Size Bands, Assorted Sizes",
          "product/Labels/Alphabetical Labels for Top Tab Filing",
          "product/Furnishings/Aluminum Document Frame",
          "product/Binders/Aluminum Screw Posts",
          "product/Accessories/AmazonBasics 3-Button USB Wired Mouse",
          "product/Art/American Pencil",
          "product/Envelopes/Ames Color-File Green Diamond Border X-ray Mailers",
          "product/Envelopes/Ampad #10 Peel & Seel Holiday Envelopes",
          "product/Paper/Ampad Evidence Wirebond Steno Books, 6\" x 9\"",
          "product/Paper/Ampad Gold Fibre Wirebound Steno Books, 6\" x 9\", Gregg Ruled",
          "product/Paper/Ampad Phone Message Book, Recycled, 400 Message Capacity, 5 Â¾Â” x 11Â”",
          "product/Tables/Anderson Hickey Conga Table Tops & Accessories",
          "product/Binders/Angle-D Binders with Locking Rings, Label Holders",
          "product/Phones/Anker 24W Portable Micro USB Car Charger",
          "product/Phones/Anker 36W 4-Port USB Wall Charger Travel Power Adapter for iPhone 5s 5c 5",
          "product/Phones/Anker Astro 15000mAh USB Portable Charger",
          "product/Phones/Anker Astro Mini 3000mAh Ultra-Compact Portable Charger",
          "product/Accessories/Anker Ultra-Slim Mini Bluetooth 3.0 Wireless Keyboard",
          "product/Phones/Apple iPhone 5",
          "product/Phones/Apple iPhone 5S",
          "product/Paper/Array Memo Cubes",
          "product/Fasteners/Assorted Color Push Pins",
          "product/Paper/Astroparche Fine Business Paper",
          "product/Machines/Ativa MDM8000 8-Sheet Micro-Cut Shredder",
          "product/Bookcases/Atlantic Metals Mobile 2-Shelf Bookcases, Custom Colors",
          "product/Bookcases/Atlantic Metals Mobile 3-Shelf Bookcases, Custom Colors",
          "product/Bookcases/Atlantic Metals Mobile 4-Shelf Bookcases, Custom Colors",
          "product/Bookcases/Atlantic Metals Mobile 5-Shelf Bookcases, Custom Colors",
          "product/Appliances/Avanti 4.4 Cu. Ft. Refrigerator",
          "product/Phones/Avaya 4621SW VoIP phone",
          "product/Phones/Avaya 5410 Digital phone",
          "product/Binders/Avery 3 1/2\" Diskette Storage Pages, 10/Pack",
          "product/Labels/Avery 4027 File Folder Labels for Dot Matrix Printers, 5000 Labels per Box, White",
          "product/Labels/Avery 473",
          "product/Labels/Avery 474",
          "product/Labels/Avery 475",
          "product/Labels/Avery 476",
          "product/Labels/Avery 477",
          "product/Labels/Avery 478",
          "product/Labels/Avery 48",
          "product/Labels/Avery 480",
          "product/Labels/Avery 481",
          "product/Labels/Avery 482",
          "product/Labels/Avery 483",
          "product/Labels/Avery 485",
          "product/Labels/Avery 486",
          "product/Labels/Avery 487",
          "product/Labels/Avery 488",
          "product/Labels/Avery 489",
          "product/Labels/Avery 49",
          "product/Labels/Avery 490",
          "product/Labels/Avery 492",
          "product/Labels/Avery 493",
          "product/Labels/Avery 494",
          "product/Labels/Avery 495",
          "product/Labels/Avery 496",
          "product/Labels/Avery 497",
          "product/Labels/Avery 498",
          "product/Labels/Avery 499",
          "product/Labels/Avery 50",
          "product/Labels/Avery 500",
          "product/Labels/Avery 501",
          "product/Labels/Avery 503",
          "product/Labels/Avery 505",
          "product/Labels/Avery 506",
          "product/Labels/Avery 507",
          "product/Labels/Avery 508",
          "product/Labels/Avery 509",
          "product/Labels/Avery 51",
          "product/Labels/Avery 510",
          "product/Labels/Avery 511",
          "product/Labels/Avery 512",
          "product/Labels/Avery 513",
          "product/Labels/Avery 514",
          "product/Labels/Avery 516",
          "product/Labels/Avery 517",
          "product/Labels/Avery 518",
          "product/Labels/Avery 519",
          "product/Labels/Avery 52",
          "product/Labels/Avery Address/Shipping Labels for Typewriters, 4\" x 2\"",
          "product/Binders/Avery Arch Ring Binders",
          "product/Binders/Avery Binder Labels",
          "product/Binders/Avery Binding System Hidden Tab Executive Style Index Sets",
          "product/Binders/Avery Durable Binders",
          "product/Binders/Avery Durable Plastic 1\" Binders",
          "product/Binders/Avery Durable Poly Binders",
          "product/Binders/Avery Durable Slant Ring Binders",
          "product/Binders/Avery Durable Slant Ring Binders With Label Holder",
          "product/Binders/Avery Durable Slant Ring Binders, No Labels",
          "product/Labels/Avery File Folder Labels",
          "product/Binders/Avery Framed View Binder, EZD Ring (Locking), Navy, 1 1/2\"",
          "product/Binders/Avery Hanging File Binders",
          "product/Binders/Avery Heavy-Duty EZD  Binder With Locking Rings",
          "product/Binders/Avery Heavy-Duty EZD View Binder with Locking Rings",
          "product/Art/Avery Hi-Liter EverBold Pen Style Fluorescent Highlighters, 4/Pack",
          "product/Art/Avery Hi-Liter Fluorescent Desk Style Markers",
          "product/Art/Avery Hi-Liter Smear-Safe Highlighters",
          "product/Binders/Avery Hidden Tab Dividers for Binding Systems",
          "product/Binders/Avery Hole Reinforcements",
          "product/Binders/Avery Legal 4-Ring Binder",
          "product/Binders/Avery Metallic Poly Binders",
          "product/Binders/Avery Non-Stick Binders",
          "product/Binders/Avery Non-Stick Heavy Duty View Round Locking Ring Binders",
          "product/Paper/Avery Personal Creations Heavyweight Cards",
          "product/Binders/Avery Poly Binder Pockets",
          "product/Binders/Avery Premier Heavy-Duty Binder with Round Locking Rings",
          "product/Binders/Avery Printable Repositionable Plastic Tabs",
          "product/Binders/Avery Reinforcements for Hole-Punch Pages",
          "product/Binders/Avery Round Ring Poly Binders",
          "product/Binders/Avery Self-Adhesive Photo Pockets for Polaroid Photos",
          "product/Binders/Avery Trapezoid Extra Heavy Duty 4\" Binders",
          "product/Binders/Avery Trapezoid Ring Binder, 3\" Capacity, Black, 1040 sheets",
          "product/Labels/Avery White Multi-Purpose Labels",
          "product/Art/BIC Brite Liner Grip Highlighters, Assorted, 5/Pack",
          "product/Art/BIC Brite Liner Highlighters",
          "product/Art/BIC Brite Liner Highlighters, Chisel Tip",
          "product/Art/BIC Liqua Brite Liner",
          "product/Art/BOSTON Model 1800 Electric Pencil Sharpeners, Putty/Woodgrain",
          "product/Art/BOSTON Ranger #55 Pencil Sharpener, Black",
          "product/Machines/Bady BDG101FRU Card Printer",
          "product/Fasteners/Bagged Rubber Bands",
          "product/Tables/Balt Solid Wood Rectangular Table",
          "product/Tables/Balt Solid Wood Round Tables",
          "product/Tables/Balt Split Level Computer Training Table",
          "product/Tables/Barricks 18\" x 48\" Non-Folding Utility Table with Bottom Storage Shelf",
          "product/Tables/Barricks Non-Folding Utility Table with Steel Legs, Laminate Tops",
          "product/Storage/Belkin 19\" Center-Weighted Shelf, Gray",
          "product/Storage/Belkin 19\" Vented Equipment Shelf, Black",
          "product/Appliances/Belkin 325VA UPS Surge Protector, 6'",
          "product/Appliances/Belkin 5 Outlet SurgeMaster Power Centers",
          "product/Appliances/Belkin 6 Outlet Metallic Surge Strip",
          "product/Appliances/Belkin 7 Outlet SurgeMaster II",
          "product/Appliances/Belkin 7 Outlet SurgeMaster Surge Protector with Phone Protection",
          "product/Appliances/Belkin 7-Outlet SurgeMaster Home Series",
          "product/Appliances/Belkin 8 Outlet Surge Protector",
          "product/Appliances/Belkin 8 Outlet SurgeMaster II Gold Surge Protector",
          "product/Appliances/Belkin 8-Outlet Premiere SurgeMaster II Surge Protectors",
          "product/Appliances/Belkin F5C206VTEL 6 Outlet Surge",
          "product/Accessories/Belkin F8E887 USB Wired Ergonomic Keyboard",
          "product/Appliances/Belkin F9G930V10-GRY 9 Outlet Surge",
          "product/Appliances/Belkin F9H710-06 7 Outlet SurgeMaster Surge Protector",
          "product/Appliances/Belkin F9S820V06 8 Outlet Surge",
          "product/Appliances/Belkin Premiere Surge Master II 8-outlet surge protector",
          "product/Accessories/Belkin Standard 104 key USB Keyboard",
          "product/Phones/Belkin iPhone and iPad Lightning Cable",
          "product/Art/Berol Giant Pencil Sharpener",
          "product/Bookcases/Bestar Classic Bookcase",
          "product/Tables/Bevis 36 x 72 Conference Tables",
          "product/Tables/Bevis Boat-Shaped Conference Table",
          "product/Tables/Bevis Oval Conference Table, Walnut",
          "product/Tables/Bevis Rectangular Conference Tables",
          "product/Tables/Bevis Round Bullnose 29\" High Table Top",
          "product/Tables/Bevis Round Conference Room Tables and Bases",
          "product/Tables/Bevis Round Conference Table Top & Single Column Base",
          "product/Tables/Bevis Round Conference Table Top, X-Base",
          "product/Chairs/Bevis Steel Folding Chairs",
          "product/Fasteners/Binder Clips by OIC",
          "product/Binders/Binder Posts",
          "product/Binders/Binding Machine Supplies",
          "product/Art/Binney & Smith Crayola Metallic Colored Pencils, 8-Color Set",
          "product/Art/Binney & Smith Crayola Metallic Crayons, 16-Color Pack",
          "product/Art/Binney & Smith inkTank Desk Highlighter, Chisel Tip, Yellow, 12/Box",
          "product/Appliances/Bionaire Personal Warm Mist Humidifier/Vaporizer",
          "product/Binders/Black Avery Memo-Size 3-Ring Binder, 5 1/2\" x 8 1/2\"",
          "product/Paper/Black Print Carbonless 8 1/2\" x 8 1/4\" Rapid Memo Book",
          "product/Paper/Black Print Carbonless Snap-Off Rapid Letter, 8 1/2\" x 7\"",
          "product/Phones/BlackBerry Q10",
          "product/Art/Blackstonian Pencils",
          "product/Phones/Blue Parrot B250XT Professional Grade Wireless BluetoothÂ HeadsetÂ with",
          "product/Phones/Bose SoundLink Bluetooth Speaker",
          "product/Art/Boston 16701 Slimline Battery Pencil Sharpener",
          "product/Art/Boston 16765 Mini Stand Up Battery Pencil Sharpener",
          "product/Art/Boston 16801 Nautilus Battery Pencil Sharpener",
          "product/Art/Boston 1730 StandUp Electric Pencil Sharpener",
          "product/Art/Boston 1799 Powerhouse Electric Pencil Sharpener",
          "product/Art/Boston 1827 Commercial Additional Cutter, Drive Gear & Gear Rack for 1606",
          "product/Art/Boston 19500 Mighty Mite Electric Pencil Sharpener",
          "product/Art/Boston Electric Pencil Sharpener, Model 1818, Charcoal Black",
          "product/Art/Boston Heavy-Duty Trimline Electric Pencil Sharpeners",
          "product/Art/Boston Home & Office Model 2000 Electric Pencil Sharpeners",
          "product/Art/Boston KS Multi-Size Manual Pencil Sharpener",
          "product/Art/Boston School Pro Electric Pencil Sharpener, 1670",
          "product/Tables/BoxOffice By Design Rectangular and Half-Moon Meeting Room Tables",
          "product/Appliances/Bravo II Megaboss 12-Amp Hard Body Upright, Replacement Belts, 2 Belts per Pack",
          "product/Tables/Bretford CR4500 Series Slim Rectangular Table",
          "product/Tables/Bretford CR8500 Series Meeting Room Furniture",
          "product/Tables/Bretford Rectangular Conference Table Tops",
          "product/Tables/Bretford Â“Just In TimeÂ” Height-Adjustable Multi-Task Work Tables",
          "product/Fasteners/Brites Rubber Bands, 1 1/2 oz. Box",
          "product/Copiers/Brother DCP1000 Digital 3 in 1 Multifunction Machine",
          "product/Art/Bulldog Table or Wall-Mount Pencil Sharpener",
          "product/Art/Bulldog Vacuum Base Pencil Sharpener",
          "product/Tables/Bush Advantage Collection Racetrack Conference Table",
          "product/Tables/Bush Advantage Collection Round Conference Table",
          "product/Bookcases/Bush Andora Bookcase, Maple/Graphite Gray Finish",
          "product/Tables/Bush Andora Conference Table, Maple/Graphite Gray Finish",
          "product/Bookcases/Bush Cubix Collection Bookcases, Fully Assembled",
          "product/Tables/Bush Cubix Conference Tables, Fully Assembled",
          "product/Bookcases/Bush Heritage Pine Collection 5-Shelf Bookcase, Albany Pine Finish, *Special Order",
          "product/Bookcases/Bush Saratoga Collection 5-Shelf Bookcase, Hanover Cherry, *Special Order",
          "product/Bookcases/Bush Somerset Collection Bookcase",
          "product/Bookcases/Bush Westfield Collection Bookcases, Dark Cherry Finish",
          "product/Bookcases/Bush Westfield Collection Bookcases, Dark Cherry Finish, Fully Assembled",
          "product/Bookcases/Bush Westfield Collection Bookcases, Fully Assembled",
          "product/Bookcases/Bush Westfield Collection Bookcases, Medium Cherry Finish",
          "product/Furnishings/C-Line Cubicle Keepers Polyproplyene Holder With Velcro Backings",
          "product/Furnishings/C-Line Magnetic Cubicle Keepers, Clear Polypropylene",
          "product/Binders/C-Line Peel & Stick Add-On Filing Pockets, 8-3/4 x 5-1/8, 10/Pack",
          "product/Envelopes/Cameo Buff Policy Envelopes",
          "product/Copiers/Canon Image Class D660 Copier",
          "product/Copiers/Canon Imageclass D680 Copier / Fax",
          "product/Copiers/Canon PC-428 Personal Copier",
          "product/Copiers/Canon PC1060 Personal Laser Copier",
          "product/Copiers/Canon PC1080F Personal Copier",
          "product/Copiers/Canon PC940 Copier",
          "product/Copiers/Canon imageCLASS 2200 Advanced Copier",
          "product/Binders/Canvas Sectional Post Binders",
          "product/Binders/Cardinal EasyOpen D-Ring Binders",
          "product/Binders/Cardinal HOLDit! Binder Insert Strips,Extra Strips",
          "product/Binders/Cardinal Hold-It CD Pocket",
          "product/Binders/Cardinal Holdit Business Card Pockets",
          "product/Binders/Cardinal Holdit Data Disk Pockets",
          "product/Binders/Cardinal Poly Pocket Divider Pockets for Ring Binders",
          "product/Binders/Cardinal Slant-D Ring Binder, Heavy Gauge Vinyl",
          "product/Binders/Cardinal Slant-D Ring Binders",
          "product/Storage/Carina 42\"Hx23 3/4\"W Media Storage Unit",
          "product/Storage/Carina Double Wide Media Storage Towers in Natural & Black",
          "product/Storage/Carina Media Storage Towers in Natural & Black",
          "product/Storage/Carina Mini System Audio Rack, Model AR050B",
          "product/Accessories/Case Logic 2.4GHz Wireless Keyboard",
          "product/Binders/Catalog Binders with Expanding Posts",
          "product/Accessories/Cherry 142-key Programmable Keyboard",
          "product/Tables/Chromcraft 48\" x 96\" Racetrack Double Pedestal Table",
          "product/Tables/Chromcraft Bull-Nose Wood 48\" x 96\" Rectangular Conference Tables",
          "product/Tables/Chromcraft Bull-Nose Wood Oval Conference Tables & Bases",
          "product/Tables/Chromcraft Bull-Nose Wood Round Conference Table Top, Wood Base",
          "product/Tables/Chromcraft Rectangular Conference Tables",
          "product/Tables/Chromcraft Round Conference Tables",
          "product/Phones/Cisco 8x8 Inc. 6753i IP Business Phone System",
          "product/Machines/Cisco Desktop Collaboration Experience DX650 IP Video Phone",
          "product/Phones/Cisco IP Phone 7961G-GE VoIP phone",
          "product/Phones/Cisco SPA 501G IP Phone",
          "product/Phones/Cisco SPA 502G IP Phone",
          "product/Phones/Cisco SPA301",
          "product/Phones/Cisco SPA508G",
          "product/Phones/Cisco SPA525G2 IP Phone - Wireless",
          "product/Phones/Cisco Small Business SPA 502G VoIP phone",
          "product/Phones/Cisco Unified IP Phone 7945G VoIP phone",
          "product/Phones/Clarity 53712",
          "product/Binders/Clear Mylar Reinforcing Strips",
          "product/Phones/ClearOne CHATAttach 160 -Â speaker phone",
          "product/Phones/ClearSounds CSC500 Amplified Spirit Phone Corded phone",
          "product/Phones/Clearsounds A400",
          "product/Art/Col-Erase Pencils with Erasers",
          "product/Fasteners/Colored Push Pins",
          "product/Furnishings/Coloredge Poster Frame",
          "product/Appliances/Commercial WindTunnel Clean Air Upright Vacuum, Replacement Belts, Filtration Bags",
          "product/Supplies/Compact Automatic Electric Letter Opener",
          "product/Storage/Companion Letter/Legal File, Black",
          "product/Binders/Computer Printout Index Tabs",
          "product/Paper/Computer Printout Paper with Letter-Trim Perforations",
          "product/Furnishings/Computer Room Manger, 14\"",
          "product/Appliances/Conquest 14 Commercial Heavy-Duty Upright Vacuum, Collection System, Accessory Kit",
          "product/Furnishings/Contemporary Borderless Frame",
          "product/Furnishings/Contemporary Wood/Metal Frame",
          "product/Storage/Contico 72\"H Heavy-Duty Storage System",
          "product/Furnishings/Contract Clock, 14\", Brown",
          "product/Envelopes/Convenience Packs of Business Envelopes",
          "product/Art/Crayola Anti Dust Chalk, 12/Pack",
          "product/Art/Crayola Colored Pencils",
          "product/Machines/Cubify CubeX 3D Printer Double Head Print",
          "product/Phones/Cush Cases Heavy Duty Rugged Cover Case for Samsung Galaxy S5 - Purple",
          "product/Phones/Cyber Acoustics AC-202b Speech Recognition Stereo Headset",
          "product/Furnishings/DAX Black Cherry Wood-Tone Poster Frame",
          "product/Furnishings/DAX Charcoal/Nickel-Tone Document Frame, 5 x 7",
          "product/Furnishings/DAX Clear Channel Poster Frame",
          "product/Furnishings/DAX Contemporary Wood Frame with Silver Metal Mat, Desktop, 11 x 14 Size",
          "product/Furnishings/DAX Copper Panel Document Frame, 5 x 7 Size",
          "product/Furnishings/DAX Cubicle Frames - 8x10",
          "product/Furnishings/DAX Cubicle Frames, 8-1/2 x 11",
          "product/Furnishings/DAX Executive Solid Wood Document Frame, Desktop or Hang, Mahogany, 5 x 7",
          "product/Furnishings/DAX Metal Frame, Desktop, Stepped-Edge",
          "product/Furnishings/DAX Natural Wood-Tone Poster Frame",
          "product/Furnishings/DAX Solid Wood Frames",
          "product/Furnishings/DAX Two-Tone Rosewood/Black Document Frame, Desktop, 5 x 7",
          "product/Furnishings/DAX Two-Tone Silver Metal Document Frame",
          "product/Furnishings/DAX Value U-Channel Document Frames, Easel Back",
          "product/Furnishings/DAX Wood Document Frame",
          "product/Art/DIXON Oriole Pencils",
          "product/Chairs/DMI Arturo Collection Mission-style Design Wood Chair",
          "product/Bookcases/DMI Eclipse Executive Suite Bookcases",
          "product/Binders/DXL Angle-View Binders with Locking Rings by Samsill",
          "product/Binders/DXL Angle-View Binders with Locking Rings, Black",
          "product/Machines/DYMO CardScan Personal V9 Business Card Scanner",
          "product/Furnishings/Dana Halogen Swing-Arm Architect Lamp",
          "product/Furnishings/Dana Swing-Arm Lamps",
          "product/Furnishings/Dax Clear Box Frame",
          "product/Storage/Decoflex Hanging Personal Folder File, Blue",
          "product/Furnishings/Deflect-O Glasstique Clear Desk Accessories",
          "product/Furnishings/Deflect-o DuraMat Antistatic Studded Beveled Mat for Medium Pile Carpeting",
          "product/Furnishings/Deflect-o DuraMat Lighweight, Studded, Beveled Mat for Low Pile Carpeting",
          "product/Furnishings/Deflect-o EconoMat Nonstudded, No Bevel Mat",
          "product/Furnishings/Deflect-o EconoMat Studded, No Bevel Mat for Low Pile Carpeting",
          "product/Furnishings/Deflect-o Glass Clear Studded Chair Mats",
          "product/Furnishings/Deflect-o RollaMat Studded, Beveled Mat for Medium Pile Carpeting",
          "product/Furnishings/Deflect-o SuperTray Unbreakable Stackable Tray, Letter, Black",
          "product/Art/Deluxe Chalkboard Eraser Cleaner",
          "product/Binders/Deluxe Heavy-Duty Vinyl Round Ring Binder",
          "product/Storage/Deluxe Rollaway Locking File with Drawer",
          "product/Art/Design Ebony Sketching Pencil",
          "product/Phones/Dexim XPower Skin Super-Thin Power Case for iPhone 5 - Black",
          "product/Phones/Digium D40 VoIP phone",
          "product/Art/Dixon My First Ticonderoga Pencil, #2",
          "product/Art/Dixon Prang Watercolor Pencils, 10-Color Set with Brush",
          "product/Art/Dixon Ticonderoga Core-Lock Colored Pencils",
          "product/Art/Dixon Ticonderoga Core-Lock Colored Pencils, 48-Color Set",
          "product/Art/Dixon Ticonderoga Erasable Colored Pencil Set, 12-Color",
          "product/Art/Dixon Ticonderoga Maple Cedar Pencil, #2",
          "product/Art/Dixon Ticonderoga Pencils",
          "product/Furnishings/Document Clip Frames",
          "product/Labels/Dot Matrix Printer Tape Reel Labels, White, 5000/Box",
          "product/Storage/Dual Level, Single-Width Filing Carts",
          "product/Paper/Eaton Premium Continuous-Feed Paper, 25% Cotton, Letter Size, White, 1000 Shts/Box",
          "product/Art/Eberhard Faber 3 1/2\" Golf Pencils",
          "product/Paper/EcoTones Memo Sheets",
          "product/Art/Economy #2 Pencils",
          "product/Binders/Economy Binders",
          "product/Storage/Economy Rollaway Files",
          "product/Furnishings/Eldon \"L\" Workstation Diamond Chairmat",
          "product/Furnishings/Eldon 100 Class Desk Accessories",
          "product/Furnishings/Eldon 200 Class Desk Accessories",
          "product/Furnishings/Eldon 200 Class Desk Accessories, Burgundy",
          "product/Furnishings/Eldon 200 Class Desk Accessories, Smoke",
          "product/Furnishings/Eldon 300 Class Desk Accessories, Black",
          "product/Furnishings/Eldon 400 Class Desk Accessories, Black Carbon",
          "product/Furnishings/Eldon 500 Class Desk Accessories",
          "product/Furnishings/Eldon Advantage Chair Mats for Low to Medium Pile Carpets",
          "product/Furnishings/Eldon Advantage Foldable Chair Mats for Low Pile Carpets",
          "product/Furnishings/Eldon Antistatic Chair Mats for Low to Medium Pile Carpets",
          "product/Storage/Eldon Base for stackable storage shelf, platinum",
          "product/Furnishings/Eldon Cleatmat Chair Mats for Medium Pile Carpets",
          "product/Furnishings/Eldon Cleatmat Plus Chair Mats for High Pile Carpets",
          "product/Furnishings/Eldon ClusterMat Chair Mat with Cordless Antistatic Protection",
          "product/Furnishings/Eldon Delta Triangular Chair Mat, 52\" x 58\", Clear",
          "product/Furnishings/Eldon Econocleat Chair Mats for Low Pile Carpets",
          "product/Furnishings/Eldon Executive Woodline II Desk Accessories, Mahogany",
          "product/Furnishings/Eldon Expressions Desk Accessory, Wood Pencil Holder, Oak",
          "product/Furnishings/Eldon Expressions Desk Accessory, Wood Photo Frame, Mahogany",
          "product/Furnishings/Eldon Expressions Punched Metal & Wood Desk Accessories, Black & Cherry",
          "product/Furnishings/Eldon Expressions Punched Metal & Wood Desk Accessories, Pewter & Cherry",
          "product/Furnishings/Eldon Expressions Wood Desk Accessories, Oak",
          "product/Furnishings/Eldon Expressions Wood and Plastic Desk Accessories, Cherry Wood",
          "product/Furnishings/Eldon Expressions Wood and Plastic Desk Accessories, Oak",
          "product/Storage/Eldon File Chest Portable File",
          "product/Storage/Eldon Fold 'N Roll Cart System",
          "product/Storage/Eldon Gobal File Keepers",
          "product/Furnishings/Eldon Image Series Black Desk Accessories",
          "product/Furnishings/Eldon Image Series Desk Accessories, Burgundy",
          "product/Furnishings/Eldon Image Series Desk Accessories, Ebony",
          "product/Furnishings/Eldon ImÃ ge Series Desk Accessories, Clear",
          "product/Storage/Eldon Mobile Mega Data Cart  Mega Stackable  Add-On Trays",
          "product/Storage/Eldon Portable Mobile Manager",
          "product/Storage/Eldon ProFile File 'N Store Portable File Tub Letter/Legal Size Black",
          "product/Furnishings/Eldon Radial Chair Mat for Low to Medium Pile Carpets",
          "product/Furnishings/Eldon Regeneration Recycled Desk Accessories, Black",
          "product/Furnishings/Eldon Regeneration Recycled Desk Accessories, Smoke",
          "product/Storage/Eldon Shelf Savers Cubes and Bins",
          "product/Storage/Eldon Simplefile Box Office",
          "product/Art/Eldon Spacemaker Box, Quick-Snap Lid, Clear",
          "product/Furnishings/Eldon Stackable Tray, Side-Load, Legal, Smoke",
          "product/Furnishings/Eldon Wave Desk Accessories",
          "product/Furnishings/Electrix 20W Halogen Replacement Bulb for Zoom-In Desk Lamp",
          "product/Furnishings/Electrix Fluorescent Magnifier Lamps & Weighted Base",
          "product/Furnishings/Electrix Halogen Magnifier Lamp",
          "product/Furnishings/Electrix Incandescent Magnifying Lamp, Black",
          "product/Supplies/Elite 5\" Scissors",
          "product/Paper/Embossed Ink Jet Note Cards",
          "product/Accessories/Enermax Acrylux Wireless Keyboard",
          "product/Accessories/Enermax Briskie RF Wireless Keyboard and Mouse Combo",
          "product/Paper/Eureka Recycled Copy Paper 8 1/2\" x 11\", Ream",
          "product/Appliances/Eureka Sanitaire  Multi-Pro Heavy-Duty Upright, Disposable Bags",
          "product/Appliances/Eureka The Boss Cordless Rechargeable Stick Vac",
          "product/Appliances/Eureka The Boss Lite 10-Amp Upright Vacuum, Blue",
          "product/Appliances/Euro-Pro Shark Turbo Vacuum",
          "product/Furnishings/Executive Impressions 10\" Spectator Wall Clock",
          "product/Furnishings/Executive Impressions 12\" Wall Clock",
          "product/Furnishings/Executive Impressions 13\" Chairman Wall Clock",
          "product/Furnishings/Executive Impressions 13-1/2\" Indoor/Outdoor Wall Clock",
          "product/Furnishings/Executive Impressions 14\" Contract Wall Clock",
          "product/Furnishings/Executive Impressions 14\" Two-Color Numerals Wall Clock",
          "product/Furnishings/Executive Impressions 8-1/2\" Career Panel/Partition Cubicle Clock",
          "product/Furnishings/Executive Impressions Supervisor Wall Clock",
          "product/Art/Faber Castell Col-Erase Pencils",
          "product/Appliances/Fellowes 8 Outlet Superior Workstation Surge Protector",
          "product/Appliances/Fellowes 8 Outlet Superior Workstation Surge Protector w/o Phone/Fax/Modem Protection",
          "product/Appliances/Fellowes Advanced Computer Series Surge Protectors",
          "product/Storage/Fellowes Bankers Box Recycled Super Stor/Drawer",
          "product/Storage/Fellowes Bankers Box Staxonsteel Drawer File/Stacking System",
          "product/Storage/Fellowes Bankers Box Stor/Drawer Steel Plus",
          "product/Storage/Fellowes Bases and Tops For Staxonsteel/High-Stak Systems",
          "product/Appliances/Fellowes Basic Home/Office Series Surge Protectors",
          "product/Binders/Fellowes Binding Cases",
          "product/Binders/Fellowes Black Plastic Comb Bindings",
          "product/Appliances/Fellowes Command Center 5-outlet power strip",
          "product/Storage/Fellowes High-Stak Drawer Files",
          "product/Appliances/Fellowes Mighty 8 Compact Surge Protector",
          "product/Storage/Fellowes Mobile File Cart, Black",
          "product/Storage/Fellowes Neat Ideas Storage Cubes",
          "product/Storage/Fellowes Officeware Wire Shelving",
          "product/Binders/Fellowes PB200 Plastic Comb Binding Machine",
          "product/Binders/Fellowes PB300 Plastic Comb Binding Machine",
          "product/Binders/Fellowes PB500 Electric Punch Plastic Comb Binding Machine with Manual Bind",
          "product/Storage/Fellowes Personal Hanging Folder Files, Navy",
          "product/Machines/Fellowes Powershred HS-440 4-Sheet High Security Shredder",
          "product/Appliances/Fellowes Premier Superior Surge Suppressor, 10-Outlet, With Phone and Remote",
          "product/Storage/Fellowes Recycled Storage Drawers",
          "product/Storage/Fellowes Staxonsteel Drawer Files",
          "product/Storage/Fellowes Stor/Drawer Steel Plus Storage Drawers",
          "product/Storage/Fellowes Strictly Business Drawer File, Letter/Legal Size",
          "product/Storage/Fellowes Super Stor/Drawer",
          "product/Storage/Fellowes Super Stor/Drawer Files",
          "product/Appliances/Fellowes Superior 10 Outlet Split Surge Protector",
          "product/Binders/Fellowes Twister Kit, Gray/Clear, 3/pkg",
          "product/Storage/File Shuttle I and Handi-File",
          "product/Storage/File Shuttle II and Handi-File, Black",
          "product/Accessories/First Data FD10 PIN Pad",
          "product/Accessories/First Data TMFD35 PIN Pad",
          "product/Supplies/Fiskars 8\" Scissors, 2/Pack",
          "product/Supplies/Fiskars Home & Office Scissors",
          "product/Supplies/Fiskars Softgrip Scissors",
          "product/Supplies/Fiskars Spring-Action Scissors",
          "product/Furnishings/Flat Face Poster Frame",
          "product/Binders/Flexible Leather- Look Classic Collection Ring Binder",
          "product/Furnishings/Floodlight Indoor Halogen Bulbs, 1 Bulb per Pack, 60 Watts",
          "product/Art/Fluorescent Highlighters by Dixon",
          "product/Furnishings/G.E. Halogen Desk Lamp Bulbs",
          "product/Furnishings/G.E. Longer-Life Indoor Recessed Floodlight Bulbs",
          "product/Binders/GBC Binding covers",
          "product/Binders/GBC DocuBind 200 Manual Binding Machine",
          "product/Binders/GBC DocuBind 300 Electric Binding Machine",
          "product/Binders/GBC DocuBind P100 Manual Binding Machine",
          "product/Binders/GBC DocuBind P400 Electric Binding System",
          "product/Binders/GBC DocuBind P50 Personal Binding Machine",
          "product/Binders/GBC DocuBind TL200 Manual Binding Machine",
          "product/Binders/GBC Durable Plastic Covers",
          "product/Binders/GBC Imprintable Covers",
          "product/Binders/GBC Instant Index System for Binding Systems",
          "product/Binders/GBC Instant Report Kit",
          "product/Binders/GBC Laser Imprintable Binding System Covers, Desert Sand",
          "product/Binders/GBC Linen Binding Covers",
          "product/Binders/GBC Personal VeloBind Strips",
          "product/Binders/GBC Plastic Binding Combs",
          "product/Binders/GBC Poly Designer Binding Covers",
          "product/Binders/GBC Pre-Punched Binding Paper, Plastic, White, 8-1/2\" x 11\"",
          "product/Binders/GBC Premium Transparent Covers with Diagonal Lined Pattern",
          "product/Binders/GBC Prepunched Paper, 19-Hole, for Binding Systems, 24-lb",
          "product/Binders/GBC Prestige Therm-A-Bind Covers",
          "product/Binders/GBC ProClick 150 Presentation Binding System",
          "product/Binders/GBC Recycled Grain Textured Covers",
          "product/Binders/GBC Recycled Regency Composition Covers",
          "product/Binders/GBC Recycled VeloBinder Covers",
          "product/Binders/GBC Standard Plastic Binding Systems' Combs",
          "product/Binders/GBC Standard Recycled Report Covers, Clear Plastic Sheets",
          "product/Binders/GBC Standard Therm-A-Bind Covers",
          "product/Binders/GBC Therma-A-Bind 250T Electric Binding System",
          "product/Binders/GBC Twin Loop Wire Binding Elements",
          "product/Binders/GBC Twin Loop Wire Binding Elements, 9/16\" Spine, Black",
          "product/Binders/GBC VeloBind Cover Sets",
          "product/Binders/GBC VeloBinder Electric Binding Machine",
          "product/Binders/GBC VeloBinder Manual Binding System",
          "product/Binders/GBC Velobind Prepunched Cover Sets, Regency Series",
          "product/Binders/GBC White Gloss Covers, Plain Front",
          "product/Binders/GBC Wire Binding Combs",
          "product/Binders/GBC Wire Binding Strips",
          "product/Phones/GE 30524EE4",
          "product/Furnishings/GE 4 Foot Flourescent Tube, 40 Watt",
          "product/Furnishings/GE 48\" Fluorescent Tube, Cool White Energy Saver, 34 Watts, 30/Box",
          "product/Phones/GE DSL Phone Line Filter",
          "product/Furnishings/GE General Purpose, Extra Long Life, Showcase & Floodlight Incandescent Bulbs",
          "product/Phones/Gear Head AU3700S Headset",
          "product/Phones/Geemarc AmpliPOWER60",
          "product/Paper/Geographics Note Cards, Blank, White, 8 1/2\" x 11\"",
          "product/Bookcases/Global Adaptabilites Bookcase, Cherry/Storm Gray Finish",
          "product/Tables/Global Adaptabilities Conference Tables",
          "product/Chairs/Global Airflow Leather Mesh Back Chair, Black",
          "product/Chairs/Global Armless Task Chair, Royal Blue",
          "product/Chairs/Global Chrome Stack Chair",
          "product/Chairs/Global Comet Stacking Arm Chair",
          "product/Chairs/Global Comet Stacking Armless Chair",
          "product/Chairs/Global Deluxe High-Back Manager's Chair",
          "product/Chairs/Global Deluxe High-Back Office Chair in Storm",
          "product/Chairs/Global Deluxe Office Fabric Chairs",
          "product/Chairs/Global Deluxe Stacking Chair, Gray",
          "product/Chairs/Global Deluxe Steno Chair",
          "product/Chairs/Global Enterprise Series Seating High-Back Swivel/Tilt Chairs",
          "product/Chairs/Global Enterprise Series Seating Low-Back Swivel/Tilt Chairs",
          "product/Chairs/Global Ergonomic Managers Chair",
          "product/Chairs/Global Executive Mid-Back Manager's Chair",
          "product/Chairs/Global Fabric Manager's Chair, Dark Gray",
          "product/Chairs/Global Geo Office Task Chair, Gray",
          "product/Chairs/Global High-Back Leather Tilter, Burgundy",
          "product/Chairs/Global Highback Leather Tilter in Burgundy",
          "product/Chairs/Global Leather & Oak Executive Chair, Burgundy",
          "product/Chairs/Global Leather Executive Chair",
          "product/Chairs/Global Leather Highback Executive Chair with Pneumatic Height Adjustment, Black",
          "product/Chairs/Global Leather Task Chair, Black",
          "product/Chairs/Global Leather and Oak Executive Chair, Black",
          "product/Chairs/Global Low Back Tilter Chair",
          "product/Chairs/Global Manager's Adjustable Task Chair, Storm",
          "product/Chairs/Global Push Button Manager's Chair, Indigo",
          "product/Chairs/Global Stack Chair with Arms, Black",
          "product/Chairs/Global Stack Chair without Arms, Black",
          "product/Chairs/Global Super Steno Chair",
          "product/Chairs/Global Task Chair, Black",
          "product/Chairs/Global Troy Executive Leather Low-Back Tilter",
          "product/Chairs/Global Value Mid-Back Manager's Chair, Gray",
          "product/Chairs/Global Value Steno Chair, Gray",
          "product/Chairs/Global Wood Trimmed Manager's Task Chair, Khaki",
          "product/Envelopes/Globe Weis Peel & Seel First Class Envelopes",
          "product/Phones/Google Nexus 5",
          "product/Storage/Gould Plastics 18-Pocket Panel Bin, 34w x 5-1/4d x 20-1/2h",
          "product/Storage/Gould Plastics 9-Pocket Panel Bin, 18-3/8w x 5-1/4d x 20-1/2h, Black",
          "product/Phones/Grandstream GXP1160 VoIP phone",
          "product/Phones/Grandstream GXP2100 Mainstream Business Phone",
          "product/Paper/Great White Multi-Use Recycled Paper (20Lb. and 84 Bright)",
          "product/Paper/Green Bar Computer Printout Paper",
          "product/Binders/Green Canvas Binder for 8-1/2\" x 14\" Sheets",
          "product/Phones/Griffin GC17055 Auxiliary Audio Cable",
          "product/Phones/Griffin GC36547 PowerJolt SE Lightning Charger",
          "product/Chairs/GuestStacker Chair with Chrome Finish Legs",
          "product/Chairs/HON 5400 Series Task Chairs for Big and Tall",
          "product/Paper/HP Office Recycled Paper (20Lb. and 87 Bright)",
          "product/Machines/HP Officejet Pro 8600 e-All-In-One Printer, Copier, Scanner, Fax",
          "product/Accessories/HP Standard 104 key PS/2 Keyboard",
          "product/Phones/HTC One",
          "product/Phones/HTC One Mini",
          "product/Paper/Hammermill Color Copier Paper (28Lb. and 96 Bright)",
          "product/Paper/Hammermill CopyPlus Copy Paper (20Lb. and 84 Bright)",
          "product/Furnishings/Hand-Finished Solid Wood Document Frame",
          "product/Storage/Hanging Personal Folder File",
          "product/Chairs/Harbour Creations 67200 Series Stacking Chairs",
          "product/Appliances/Harmony Air Purifier",
          "product/Appliances/Harmony HEPA Quiet Air Purifiers",
          "product/Binders/Heavy-Duty E-Z-D Binders",
          "product/Copiers/Hewlett Packard 310 Color Digital Copier",
          "product/Copiers/Hewlett Packard 610 Color Digital Copier / Printer",
          "product/Copiers/Hewlett Packard LaserJet 3310 Copier",
          "product/Machines/Hewlett-Packard Deskjet D4360 Printer",
          "product/Supplies/High Speed Automatic Electric Letter Opener",
          "product/Chairs/High-Back Leather Manager's Chair",
          "product/Appliances/Holmes 99% HEPA Air Purifier",
          "product/Appliances/Holmes Cool Mist Humidifier for the Whole House with 8-Gallon Output per Day, Extended Life Filter",
          "product/Appliances/Holmes HEPA Air Purifier",
          "product/Appliances/Holmes Odor Grabber",
          "product/Appliances/Holmes Replacement Filter for HEPA Air Cleaner, Medium Room",
          "product/Appliances/Holmes Visible Mist Ultrasonic Humidifier with 2.3-Gallon Output per Day, Replacement Filter",
          "product/Storage/Home/Office Personal File Carts",
          "product/Chairs/Hon 2090 Â“Pillow SoftÂ” Series Mid Back Swivel/Tilt Chairs",
          "product/Tables/Hon 2111 Invitation Series Corner Table",
          "product/Tables/Hon 2111 Invitation Series Straight Table",
          "product/Tables/Hon 30\" x 60\" Table with Locking Drawer",
          "product/Bookcases/Hon 4-Shelf Metal Bookcases",
          "product/Tables/Hon 4060 Series Tables",
          "product/Chairs/Hon 4070 Series Pagoda Armless Upholstered Stacking Chairs",
          "product/Chairs/Hon 4070 Series Pagoda Round Back Stacking Chairs",
          "product/Chairs/Hon 4700 Series Mobuis Mid-Back Task Chairs with Adjustable Arms",
          "product/Tables/Hon 5100 Series Wood Tables",
          "product/Tables/Hon 61000 Series Interactive Training Tables",
          "product/Tables/Hon 94000 Series Round Tables",
          "product/Chairs/Hon Comfortask Task/Swivel Chairs",
          "product/Chairs/Hon Deluxe Fabric Upholstered Stacking Chairs",
          "product/Chairs/Hon Deluxe Fabric Upholstered Stacking Chairs, Rounded Back",
          "product/Chairs/Hon Deluxe Fabric Upholstered Stacking Chairs, Squared Back",
          "product/Chairs/Hon Every-Day Chair Series Swivel Task Chairs",
          "product/Chairs/Hon Every-Day Series Multi-Task Chairs",
          "product/Chairs/Hon GuestStacker Chair",
          "product/Bookcases/Hon Metal Bookcases, Black",
          "product/Bookcases/Hon Metal Bookcases, Putty",
          "product/Chairs/Hon Multipurpose Stacking Arm Chairs",
          "product/Tables/Hon Non-Folding Utility Tables",
          "product/Chairs/Hon Olson Stacker Stools",
          "product/Chairs/Hon Pagoda Stacking Chairs",
          "product/Tables/Hon Practical Foundations 30 x 60 Training Table, Light Gray/Charcoal",
          "product/Tables/Hon Racetrack Conference Tables",
          "product/Chairs/Hon Valutask Swivel Chairs",
          "product/Appliances/Honeywell Enviracaire Portable HEPA Air Cleaner for 16' x 20' Room",
          "product/Appliances/Honeywell Quietcare HEPA Air Cleaner",
          "product/Appliances/Hoover Commercial Soft Guard Upright Vacuum And Disposable Filtration Bags",
          "product/Appliances/Hoover Commercial SteamVac",
          "product/Appliances/Hoover Replacement Belts For Soft Guard & Commercial Ltweight Upright Vacs, 2/Pk",
          "product/Appliances/Hoover Shoulder Vac Commercial Portable Vacuum",
          "product/Appliances/Hoover Upright Vacuum With Dirt Cup",
          "product/Appliances/Hoover WindTunnel Plus Canister Vacuum",
          "product/Storage/Hot File 7-Pocket, Floor Stand",
          "product/Furnishings/Howard Miller 11-1/2\" Diameter Brentwood Wall Clock",
          "product/Furnishings/Howard Miller 11-1/2\" Diameter Grantwood Wall Clock",
          "product/Furnishings/Howard Miller 11-1/2\" Diameter Ridgewood Wall Clock",
          "product/Furnishings/Howard Miller 12\" Round Wall Clock",
          "product/Furnishings/Howard Miller 13\" Diameter Goldtone Round Wall Clock",
          "product/Furnishings/Howard Miller 13\" Diameter Pewter Finish Round Wall Clock",
          "product/Furnishings/Howard Miller 13-1/2\" Diameter Rosebrook Wall Clock",
          "product/Furnishings/Howard Miller 13-3/4\" Diameter Brushed Chrome Round Wall Clock",
          "product/Furnishings/Howard Miller 14-1/2\" Diameter Chrome Round Wall Clock",
          "product/Furnishings/Howard Miller 16\" Diameter Gallery Wall Clock",
          "product/Furnishings/Howard Miller Distant Time Traveler Alarm Clock",
          "product/Art/Hunt BOSTON Model 1606 High-Volume Electric Pencil Sharpener, Beige",
          "product/Art/Hunt BOSTON Vista Battery-Operated Pencil Sharpener, Black",
          "product/Art/Hunt PowerHouse Electric Pencil Sharpener, Blue",
          "product/Accessories/Hypercom P1300 Pinpad",
          "product/Phones/I Need's 3d Hello Kitty Hybrid Silicone Case Cover for HTC One X 4g with 3d Hello Kitty Stylus Pen Green/pink",
          "product/Paper/IBM Multi-Purpose Copy Paper, 8 1/2 x 11\", Case",
          "product/Binders/Ibico EB-19 Dual Function Manual Binding System",
          "product/Binders/Ibico EPK-21 Electric Binding System",
          "product/Binders/Ibico Hi-Tech Manual Binding System",
          "product/Binders/Ibico Ibimaster 300 Manual Binding System",
          "product/Binders/Ibico Laser Imprintable Binding System Covers",
          "product/Binders/Ibico Plastic Spiral Binding Combs",
          "product/Binders/Ibico Plastic and Wire Spiral Binding Combs",
          "product/Binders/Ibico Presentation Index for Binding Systems",
          "product/Binders/Ibico Recycled Grain-Textured Covers",
          "product/Binders/Ibico Recycled Linen-Style Covers",
          "product/Binders/Ibico Standard Transparent Covers",
          "product/Storage/Iceberg Mobile Mega Data/Printer Cart ",
          "product/Chairs/Iceberg Nesting Folding Chair, 19w x 6d x 43h",
          "product/Tables/Iceberg OfficeWorks 42\" Round Tables",
          "product/Fasteners/Ideal Clamps",
          "product/Accessories/Imation Bio 2GB USBÂ Flash Drive ImationÂ Corp",
          "product/Accessories/Imation Bio 8GB USBÂ Flash Drive ImationÂ Corp",
          "product/Accessories/ImationÂ 16GB Mini TravelDrive USB 2.0Â Flash Drive",
          "product/Accessories/ImationÂ 30456 USBÂ Flash DriveÂ 8GB",
          "product/Accessories/ImationÂ 32GB Pocket Pro USB 3.0Â Flash DriveÂ - 32 GB - Black - 1 P ...",
          "product/Accessories/ImationÂ 8GB Mini TravelDrive USB 2.0Â Flash Drive",
          "product/Accessories/ImationÂ 8gb Micro Traveldrive Usb 2.0Â Flash Drive",
          "product/Accessories/ImationÂ Clip USBÂ flash driveÂ - 8 GB",
          "product/Accessories/ImationÂ SecureÂ DriveÂ + Hardware Encrypted USBÂ flash driveÂ - 16 GB",
          "product/Accessories/ImationÂ SwivelÂ Flash DriveÂ USBÂ flash driveÂ - 8 GB",
          "product/Accessories/ImationÂ USB 2.0 SwivelÂ Flash DriveÂ USBÂ flash driveÂ - 4 GB - Pink",
          "product/Paper/Important Message Pads, 50 4-1/4 x 5-1/2 Forms per Pad",
          "product/Binders/Insertable Tab Post Binder Dividers",
          "product/Envelopes/Inter-Office Recycled Envelopes, Brown Kraft, Button-String,10\" x 13\" , 100/Box",
          "product/Storage/Iris Project Case",
          "product/Paper/It's Hot Message Books with Stickers, 2 3/4\" x 5\"",
          "product/Phones/JBL Micro Wireless Portable Bluetooth Speaker",
          "product/Binders/JM Magazine Binder",
          "product/Phones/Jabra BIZ 2300 Duo QD Duo CordedÂ Headset",
          "product/Phones/Jabra SPEAK 410",
          "product/Phones/Jackery Bar Premium Fast-charging Portable Charger",
          "product/Phones/Jawbone MINI JAMBOX Wireless Bluetooth Speaker",
          "product/Phones/Jensen SMPS-640 -Â speaker phone",
          "product/Envelopes/Jet-Pak Recycled Peel 'N' Seal Padded Mailers",
          "product/Tables/KI Adjustable-Height Table",
          "product/Tables/KI Conference Tables",
          "product/Appliances/Kensington 4 Outlet MasterPiece Compact Power Control Center",
          "product/Appliances/Kensington 6 Outlet Guardian Standard Surge Protector",
          "product/Appliances/Kensington 6 Outlet MasterPiece HOMEOFFICE Power Control Center",
          "product/Appliances/Kensington 7 Outlet MasterPiece HOMEOFFICE Power Control Center",
          "product/Accessories/Kensington Expert Mouse Optical USB Trackball for PC or Mac",
          "product/Accessories/Kensington K72356US Mouse-in-a-Box USB Desktop Mouse",
          "product/Accessories/Kensington Orbit Wireless Mobile Trackball for PC and Mac",
          "product/Accessories/KeyTronicÂ 6101 Series -Â KeyboardÂ - Black",
          "product/Accessories/KeyTronicÂ E03601U1 -Â KeyboardÂ - Beige",
          "product/Accessories/KeyTronicÂ KT400U2 -Â KeyboardÂ - Black",
          "product/Accessories/Kingston Digital DataTraveler 16GB USB 2.0",
          "product/Accessories/Kingston Digital DataTraveler 32GB USB 2.0",
          "product/Accessories/Kingston Digital DataTraveler 64GB USB 2.0",
          "product/Supplies/Kleencut Forged Office Shears by Acme United Corporation",
          "product/Phones/Konftel 250 ConferenceÂ phoneÂ - Charcoal black",
          "product/Phones/LF Elite 3D Dazzle Designer Hard Case Cover, Lf Stylus Pen and Wiper For Apple Iphone 5c Mini Lite",
          "product/Phones/LG Electronics Tone+ HBS-730 Bluetooth Headset",
          "product/Phones/LG G3",
          "product/Tables/Laminate Occasional Tables",
          "product/Binders/Large Capacity Hanging Post Binders",
          "product/Envelopes/Laser & Ink Jet Business Envelopes",
          "product/Chairs/Leather Task Chair, Black",
          "product/Accessories/Lenovo 17-Key USB Numeric Keypad",
          "product/Tables/Lesro Round Back Collection Coffee Table, End Table",
          "product/Tables/Lesro Sheffield Collection Coffee Table, End Table, Center Table, Corner Table",
          "product/Storage/Letter Size Cart",
          "product/Envelopes/Letter or Legal Size Expandable Poly String Tie Envelopes",
          "product/Storage/Letter/Legal File Tote with Clear Snap-On Lid, Black Granite",
          "product/Machines/Lexmark MX611dhe Monochrome Laser Printer",
          "product/Machines/Lexmark S315 Color Inkjet Printer",
          "product/Chairs/Lifetime Advantage Folding Chairs, 4/Carton",
          "product/Furnishings/Linden 10\" Round Wall Clock, Black",
          "product/Furnishings/Linden 12\" Wall Clock With Oak Frame",
          "product/Binders/Lock-Up Easel 'Spel-Binder'",
          "product/Accessories/Logitech 910-002974 M325 Wireless Mouse for Web Scrolling",
          "product/Phones/Logitech B530 USBÂ HeadsetÂ -Â headsetÂ - Full size, Binaural",
          "product/Accessories/Logitech ClearChat Comfort/USB Headset H390",
          "product/Accessories/Logitech Desktop MK120 Mouse and keyboard Combo",
          "product/Accessories/Logitech G13 Programmable Gameboard with LCD Display",
          "product/Accessories/Logitech G19 Programmable Gaming Keyboard",
          "product/Accessories/Logitech G35 7.1-Channel Surround Sound Headset",
          "product/Accessories/Logitech G430 Surround Sound Gaming Headset with Dolby 7.1 Technology",
          "product/Accessories/Logitech G500s Laser Gaming Mouse with Adjustable Weight Tuning",
          "product/Accessories/Logitech G600 MMO Gaming Mouse",
          "product/Accessories/Logitech G602 Wireless Gaming Mouse",
          "product/Accessories/Logitech G700s Rechargeable Gaming Mouse",
          "product/Accessories/Logitech Illuminated Ultrathin Keyboard with Backlighting",
          "product/Accessories/Logitech K350 2.4Ghz Wireless Keyboard",
          "product/Accessories/Logitech Keyboard K120",
          "product/Accessories/Logitech M510 Wireless Mouse",
          "product/Accessories/Logitech Media Keyboard K200",
          "product/Phones/Logitech Mobile Speakerphone P710e -Â speaker phone",
          "product/Accessories/Logitech Trackman Marble Mouse",
          "product/Accessories/Logitech Wireless Anywhere Mouse MX for PC and Mac",
          "product/Accessories/Logitech Wireless Gaming Headset G930",
          "product/Accessories/Logitech Wireless Headset H600 Over-The-Head Design",
          "product/Accessories/Logitech Wireless Headset h800",
          "product/Accessories/Logitech Wireless Marathon Mouse M705",
          "product/Accessories/Logitech Wireless Performance Mouse MX for PC and Mac",
          "product/Accessories/Logitech Wireless Touch Keyboard K400",
          "product/Accessories/LogitechÂ Gaming G510s - Keyboard",
          "product/Accessories/LogitechÂ Illuminated - Keyboard",
          "product/Accessories/LogitechÂ LS21 Speaker System - PC Multimedia - 2.1-CH - Wired",
          "product/Accessories/LogitechÂ MX Performance Wireless Mouse",
          "product/Accessories/LogitechÂ P710e Mobile Speakerphone",
          "product/Accessories/LogitechÂ VX Revolution Cordless Laser Mouse for Notebooks (Black)",
          "product/Accessories/LogitechÂ Z-906 Speaker sys - home theater - 5.1-CH",
          "product/Furnishings/Longer-Life Soft White Bulbs",
          "product/Art/Lumber Crayons",
          "product/Phones/Lunatik TT5L-002 Taktik Strike Impact Protection System for iPhone 5",
          "product/Furnishings/Luxo Adjustable Task Clamp Lamp",
          "product/Furnishings/Luxo Economy Swing Arm Lamp",
          "product/Furnishings/Luxo Professional Combination Clamp-On Lamps",
          "product/Furnishings/Luxo Professional Fluorescent Magnifier Lamp with Clamp-Mount Base",
          "product/Furnishings/Luxo Professional Magnifying Clamp-On Fluorescent Lamps",
          "product/Phones/Macally Suction Cup Mount",
          "product/Furnishings/Magna Visual Magnetic Picture Hangers",
          "product/Furnishings/Magnifier Swing Arm Lamp",
          "product/Art/Manco Dry-Lighter Erasable Highlighter",
          "product/Envelopes/Manila Recycled Extra-Heavyweight Clasp Envelopes, 6\" x 9\"",
          "product/Supplies/Martin Yale Chadless Opener Electric Letter Opener",
          "product/Supplies/Martin-Yale Premier Letter Opener",
          "product/Furnishings/Master Big Foot Doorstop, Beige",
          "product/Furnishings/Master Caster Door Stop, Brown",
          "product/Furnishings/Master Caster Door Stop, Gray",
          "product/Furnishings/Master Caster Door Stop, Large Brown",
          "product/Furnishings/Master Caster Door Stop, Large Neon Orange",
          "product/Furnishings/Master Giant Foot Doorstop, Safety Yellow",
          "product/Accessories/Maxell 4.7GB DVD+RW 3/Pack",
          "product/Accessories/Maxell 4.7GB DVD-R 5/Pack",
          "product/Accessories/Maxell 74 Minute CD-R Spindle, 50/Pack",
          "product/Accessories/Maxell 74 Minute CDR, 10/Pack",
          "product/Accessories/Maxell DVD-RAM Discs",
          "product/Accessories/MaxellÂ LTO Ultrium - 800 GB",
          "product/Binders/Mead 1st Gear 2\" Zipper Binder, Asst. Colors",
          "product/Phones/Mediabridge Sport Armband iPhone 5s",
          "product/Accessories/Memorex 25GB 6X Branded Blu-Ray Recordable Disc, 15/Pack",
          "product/Accessories/Memorex 25GB 6X Branded Blu-Ray Recordable Disc, 30/Pack",
          "product/Accessories/Memorex Froggy Flash Drive 4 GB",
          "product/Accessories/Memorex Froggy Flash Drive 8 GB",
          "product/Accessories/Memorex Micro Travel Drive 16 GB",
          "product/Accessories/Memorex Micro Travel Drive 32 GB",
          "product/Accessories/Memorex Micro Travel Drive 8 GB",
          "product/Accessories/Memorex Mini Travel Drive 16 GB USB 2.0 Flash Drive",
          "product/Accessories/Memorex Mini Travel Drive 32 GB USB 2.0 Flash Drive",
          "product/Accessories/Memorex Mini Travel Drive 64 GB USB 2.0 Flash Drive",
          "product/Accessories/Memorex Mini Travel Drive 8 GB USB 2.0 Flash Drive",
          "product/Paper/Message Book, Phone, Wirebound Standard Line Memo, 2 3/4\" X 5\"",
          "product/Paper/Message Book, Standard Line \"While You Were Out\", 5 1/2\" X 4\", 200 Sets/Book",
          "product/Paper/Message Book, Wirebound, Four 5 1/2\" X 4\" Forms/Pg., 200 Dupl. Sets/Book",
          "product/Chairs/Metal Folding Chairs, Beige, 4/Carton",
          "product/Accessories/Micro Innovations USB RF Wireless Keyboard with Mouse",
          "product/Accessories/Micropad Numeric Keypads",
          "product/Accessories/Microsoft Arc Touch Mouse",
          "product/Accessories/Microsoft Natural Ergonomic Keyboard 4000",
          "product/Accessories/Microsoft Natural Keyboard Elite",
          "product/Accessories/Microsoft Sculpt Comfort Mouse",
          "product/Accessories/Microsoft Wireless Mobile Mouse 4000",
          "product/Storage/Mini 13-1/2 Capacity Data Binder Rack, Pearl",
          "product/Phones/Mitel 5320 IP Phone VoIP phone",
          "product/Phones/Mitel MiVoice 5330e IP Phone",
          "product/Storage/Mobile Personal File Cube",
          "product/Art/Model L Table or Wall-Mount Pencil Sharpener",
          "product/Phones/Mophie Juice Pack Helium for iPhone",
          "product/Phones/Motorla HX550 Universal Bluetooth Headset",
          "product/Phones/Motorola HK250 Universal Bluetooth Headset",
          "product/Phones/Motorola L703CM",
          "product/Phones/Motorola L804",
          "product/Phones/Motorola Moto X",
          "product/Storage/Multi-Use Personal File Cart and Caster Set, Three Stacking Bins",
          "product/Paper/Multicolor Computer Printout Paper",
          "product/Accessories/NETGEAR AC1750 Dual Band GigabitÂ Smart WiFi Router",
          "product/Accessories/NETGEAR N750 Dual Band Wi-Fi Gigabit Router",
          "product/Storage/Neat Ideas Personal Hanging Folder Files, Black",
          "product/Binders/Newell 3-Hole Punched Plastic Slotted Magazine Holders for Binders",
          "product/Art/Newell 307",
          "product/Art/Newell 308",
          "product/Art/Newell 309",
          "product/Art/Newell 31",
          "product/Art/Newell 310",
          "product/Art/Newell 311",
          "product/Art/Newell 312",
          "product/Art/Newell 313",
          "product/Art/Newell 314",
          "product/Art/Newell 317",
          "product/Art/Newell 318",
          "product/Art/Newell 319",
          "product/Art/Newell 32",
          "product/Art/Newell 320",
          "product/Art/Newell 321",
          "product/Art/Newell 322",
          "product/Art/Newell 323",
          "product/Art/Newell 324",
          "product/Art/Newell 325",
          "product/Art/Newell 326",
          "product/Art/Newell 327",
          "product/Art/Newell 328",
          "product/Art/Newell 329",
          "product/Art/Newell 33",
          "product/Art/Newell 330",
          "product/Art/Newell 332",
          "product/Art/Newell 333",
          "product/Art/Newell 334",
          "product/Art/Newell 335",
          "product/Art/Newell 336",
          "product/Art/Newell 338",
          "product/Art/Newell 339",
          "product/Art/Newell 34",
          "product/Art/Newell 341",
          "product/Art/Newell 343",
          "product/Art/Newell 344",
          "product/Art/Newell 345",
          "product/Art/Newell 346",
          "product/Art/Newell 347",
          "product/Art/Newell 348",
          "product/Art/Newell 35",
          "product/Art/Newell 350",
          "product/Art/Newell 351",
          "product/Art/Newell Chalk Holder",
          "product/Phones/Nokia Lumia 521 (T-Mobile)",
          "product/Phones/Nokia Lumia 925",
          "product/Art/Nontoxic Chalk",
          "product/Phones/Nortel Business Series Terminal T7208 Digital phone",
          "product/Phones/Nortel Meridian M3904 Professional Digital phone",
          "product/Chairs/Novimex Fabric Task Chair",
          "product/Chairs/Novimex High-Tech Fabric Mesh Task Chair",
          "product/Chairs/Novimex Swivel Fabric Task Chair",
          "product/Chairs/Novimex Turbo Task Chair",
          "product/Furnishings/Nu-Dell Executive Frame",
          "product/Furnishings/Nu-Dell Float Frame 11 x 14 1/2",
          "product/Furnishings/Nu-Dell Leatherette Frames",
          "product/Furnishings/Nu-Dell Oak Frame",
          "product/Bookcases/O'Sullivan 2-Door Barrister Bookcase in Odessa Pine",
          "product/Bookcases/O'Sullivan 2-Shelf Heavy-Duty Bookcases",
          "product/Bookcases/O'Sullivan 3-Shelf Heavy-Duty Bookcases",
          "product/Bookcases/O'Sullivan 4-Shelf Bookcase in Odessa Pine",
          "product/Bookcases/O'Sullivan 5-Shelf Heavy-Duty Bookcases",
          "product/Bookcases/O'Sullivan Cherrywood Estates Traditional Bookcase",
          "product/Bookcases/O'Sullivan Elevations Bookcase, Cherry Finish",
          "product/Bookcases/O'Sullivan Living Dimensions 2-Shelf Bookcases",
          "product/Bookcases/O'Sullivan Living Dimensions 3-Shelf Bookcases",
          "product/Bookcases/O'Sullivan Manor Hill 2-Door Library in Brianna Oak",
          "product/Art/OIC #2 Pencils, Medium Soft",
          "product/Fasteners/OIC Binder Clips",
          "product/Fasteners/OIC Binder Clips, Mini, 1/4\" Capacity, Black",
          "product/Fasteners/OIC Bulk Pack Metal Binder Clips",
          "product/Fasteners/OIC Colored Binder Clips, Assorted Sizes",
          "product/Furnishings/OIC Stacking Trays",
          "product/Fasteners/OIC Thumb-Tacks",
          "product/Storage/Office Impressions Heavy Duty Welded Shelving & Multimedia Storage Drawers",
          "product/Chairs/Office Star - Contemporary Swivel Chair with Padded Adjustable Arms and Flex Back",
          "product/Chairs/Office Star - Contemporary Task Swivel Chair",
          "product/Chairs/Office Star - Contemporary Task Swivel chair with Loop Arms, Charcoal",
          "product/Chairs/Office Star - Ergonomic Mid Back Chair with 2-Way Adjustable Arms",
          "product/Chairs/Office Star - Ergonomically Designed Knee Chair",
          "product/Chairs/Office Star - Mesh Screen back chair with Vinyl seat",
          "product/Chairs/Office Star - Mid Back Dual function Ergonomic High Back Chair with 2-Way Adjustable Arms",
          "product/Chairs/Office Star - Professional Matrix Back Chair with 2-to-1 Synchro Tilt and Mesh Fabric Seat",
          "product/Chairs/Office Star - Task Chair with Contemporary Loop Arms",
          "product/Chairs/Office Star Flex Back Scooter Chair with Aluminum Finish Frame",
          "product/Chairs/Office Star Flex Back Scooter Chair with White Frame",
          "product/Machines/Okidata B400 Printer",
          "product/Machines/Okidata B401 Printer",
          "product/Machines/Okidata C331dn Printer",
          "product/Machines/Okidata MB491 Multifunction Printer",
          "product/Machines/Okidata MB760 Printer",
          "product/Phones/Ooma Telo VoIP Home Phone System",
          "product/Phones/OtterBox Commuter Series Case - Samsung Galaxy S4",
          "product/Phones/OtterBox Commuter Series Case - iPhone 5 & 5s",
          "product/Phones/OtterBox Defender Series Case - Samsung Galaxy S4",
          "product/Phones/OtterBox Defender Series Case - iPhone 5c",
          "product/Chairs/Padded Folding Chairs, Black, 4/Carton",
          "product/Art/Panasonic KP-150 Electric Pencil Sharpener",
          "product/Art/Panasonic KP-310 Heavy-Duty Electric Pencil Sharpener",
          "product/Art/Panasonic KP-350BK Electric Pencil Sharpener with Auto Stop",
          "product/Art/Panasonic KP-380BK Classic Electric Pencil Sharpener",
          "product/Art/Panasonic KP-4ABK Battery-Operated Pencil Sharpener",
          "product/Machines/Panasonic KX MB2061 Multifunction Printer",
          "product/Machines/Panasonic KX MC6040 Color Laser Multifunction Printer",
          "product/Phones/Panasonic KX T7731-B Digital phone",
          "product/Phones/Panasonic KX T7736-B Digital phone",
          "product/Phones/Panasonic KX TS208W Corded phone",
          "product/Phones/Panasonic KX TS3282B Corded phone",
          "product/Phones/Panasonic KX TS3282W Corded phone",
          "product/Phones/Panasonic KX-TG6844B Expandable Digital Cordless Telephone",
          "product/Phones/Panasonic KX-TG9541B DECT 6.0 Digital 2-Line Expandable Cordless Phone With Digital Answering System",
          "product/Phones/Panasonic Kx-TS550",
          "product/Envelopes/Pastel Pink Envelopes",
          "product/Phones/PayAnywhere Card Reader",
          "product/Envelopes/Peel & Seel Envelopes",
          "product/Envelopes/Peel & Seel Recycled Catalog Envelopes, Brown",
          "product/Binders/Peel & Stick Add-On Corner Pockets",
          "product/Art/Peel-Off China Markers",
          "product/Art/Pencil and Crayon Sharpener",
          "product/Binders/Performers Binder/Pad Holder, Black",
          "product/Accessories/Perixx PERIBOARD-512B, Ergonomic Split Keyboard",
          "product/Storage/Perma STOR-ALL Hanging File Box, 13 1/8\"W x 12 1/4\"D x 10 1/2\"H",
          "product/Labels/Permanent Self-Adhesive File Folder Labels for Typewriters by Universal",
          "product/Labels/Permanent Self-Adhesive File Folder Labels for Typewriters, 1 1/8 x 3 1/2, White",
          "product/Paper/Personal Creations Ink Jet Cards and Labels",
          "product/Storage/Personal File Boxes with Fold-Down Carry Handle",
          "product/Storage/Personal Filing Tote with Lid, Black/Gray",
          "product/Storage/Personal Folder Holder, Ebony",
          "product/Paper/Petty Cash Envelope",
          "product/Storage/Pizazz Global Quick File",
          "product/Phones/Plantronics 81402",
          "product/Accessories/Plantronics Audio 478 Stereo USB Headset",
          "product/Accessories/Plantronics Audio 995 Wireless Stereo Headset",
          "product/Phones/Plantronics CS 50-USB -Â headsetÂ - Convertible, Monaural",
          "product/Accessories/Plantronics CS510 - Over-the-Head monaural Wireless Headset System",
          "product/Phones/Plantronics Calisto P620-M USB Wireless Speakerphone System",
          "product/Phones/Plantronics CordlessÂ Phone HeadsetÂ with In-line Volume - M214C",
          "product/Phones/Plantronics Encore H101 Dual EarpiecesÂ Headset",
          "product/Phones/Plantronics HL10 Handset Lifter",
          "product/Phones/Plantronics MX500i Earset",
          "product/Accessories/Plantronics S12 Corded Telephone Headset System",
          "product/Accessories/Plantronics Savi W720 Multi-Device Wireless Headset System",
          "product/Machines/Plantronics Single Ear Headset",
          "product/Phones/Plantronics Voyager Pro HD - Bluetooth Headset",
          "product/Phones/Plantronics Voyager Pro Legend",
          "product/Binders/Plastic Binding Combs",
          "product/Fasteners/Plymouth Boxed Rubber Bands by Plymouth",
          "product/Binders/Poly Designer Cover & Back",
          "product/Envelopes/Poly String Tie Envelopes",
          "product/Phones/Polycom CX300 Desktop Phone USB VoIP phone",
          "product/Phones/Polycom CX600 IP Phone VoIP phone",
          "product/Phones/Polycom SoundPoint IP 450 VoIP phone",
          "product/Phones/Polycom SoundPoint Pro SE-225 Corded phone",
          "product/Phones/Polycom SoundStation2 EX ConferenceÂ phone",
          "product/Phones/Polycom VVX 310 VoIP phone",
          "product/Phones/Polycom VoiceStation 500 ConferenceÂ phone",
          "product/Storage/Portable Personal File Box",
          "product/Phones/PowerGen Dual USB Car Charger",
          "product/Art/Prang Colored Pencils",
          "product/Art/Prang Drawing Pencil Set",
          "product/Art/Prang Dustless Chalk Sticks",
          "product/Supplies/Premier Automatic Letter Opener",
          "product/Supplies/Premier Electric Letter Opener",
          "product/Binders/Premier Elliptical Ring Binder, Black",
          "product/Binders/Premium Transparent Presentation Covers by GBC",
          "product/Binders/Premium Transparent Presentation Covers, No Pattern/Clear, 8 1/2\" x 11\"",
          "product/Art/Premium Writing Pencils, Soft, #2 by Central Association for the Blind",
          "product/Binders/Pressboard Covers with Storage Hooks, 9 1/2\" x 11\", Light Blue",
          "product/Binders/Pressboard Data Binder, Crimson, 12\" X 8 1/2\"",
          "product/Binders/Pressboard Data Binders by Wilson Jones",
          "product/Binders/Pressboard Hanging Data Binders for Unburst Sheets",
          "product/Binders/Presstex Flexible Ring Binders",
          "product/Binders/Prestige Round Ring Binders",
          "product/Art/Prismacolor Color Pencil Set",
          "product/Storage/Project Tote Personal File",
          "product/Phones/Pyle PMP37LED",
          "product/Phones/Pyle PRT45 Retro HomeÂ Telephone",
          "product/Phones/QVS USB Car Charger 2-Port 2.1Amp for iPod/iPhone/iPad/iPad 2/iPad 3",
          "product/Art/Quartet Omega Colored Chalk, 12/Pack",
          "product/Phones/RCA ViSYS 25423RE1 Corded phone",
          "product/Phones/RCA ViSYS 25825 Wireless digital phone",
          "product/Phones/RCA Visys Integrated PBX 8-Line Router",
          "product/Paper/REDIFORM Incoming/Outgoing Call Register, 11\" X 8 1/2\", 100 Messages",
          "product/Accessories/Razer Kraken 7.1 Surround Sound Over Ear USB Gaming Headset",
          "product/Accessories/Razer Kraken PRO Over Ear PC and Music Headset",
          "product/Accessories/Razer Tiamat Over Ear 7.1 Surround Sound PC Gaming Headset",
          "product/Storage/Recycled Data-Pak for Archival Bound Computer Printouts, 12-1/2 x 12-1/2 x 16",
          "product/Paper/Recycled Desk Saver Line \"While You Were Out\" Book, 5 1/2\" X 4\"",
          "product/Binders/Recycled Easel Ring Binders",
          "product/Envelopes/Recycled Interoffice Envelopes with String and Button Closure, 10 x 13",
          "product/Binders/Recycled Premium Regency Composition Covers",
          "product/Binders/Recycled Pressboard Report Cover with Reinforced Top Hinge",
          "product/Storage/Recycled Steel Personal File for Hanging File Folders",
          "product/Envelopes/Redi-Strip #10 Envelopes, 4 1/8 x 9 1/2",
          "product/Paper/Rediform S.O.S. 1-Up Phone Message Bk, 4-1/4x3-1/16 Bk, 1 Form/Pg, 40 Messages/Bk, 3/Pk",
          "product/Paper/Rediform S.O.S. Phone Message Books",
          "product/Paper/Rediform Voice Mail Log Books",
          "product/Paper/Rediform Wirebound \"Phone Memo\" Message Book, 11 x 5-3/4",
          "product/Furnishings/Regeneration Desk Collection",
          "product/Fasteners/Revere Boxed Rubber Bands by Revere",
          "product/Machines/Ricoh - Ink Collector Unit for GX3000 Series Printers",
          "product/Paper/Riverleaf Stik-Withit Designer Note Cubes",
          "product/Tables/Riverside Furniture Oval Coffee Table, Oval End Table, End Table with Drawer",
          "product/Bookcases/Riverside Palais Royal Lawyers Bookcase, Royale Cherry Finish",
          "product/Storage/Rogers Deluxe File Chest",
          "product/Art/Rogers Handheld Barrel Pencil Sharpener",
          "product/Storage/Rogers Jumbo File, Granite",
          "product/Storage/Rogers Profile Extra Capacity Storage Tub",
          "product/Accessories/Rosewill 107 Normal Keys USB Wired Standard Keyboard",
          "product/Binders/Round Ring Binders",
          "product/Labels/Round Specialty Laser Printer Labels",
          "product/Fasteners/Rubber Band Ball",
          "product/Furnishings/Rubbermaid ClusterMat Chairmats, Mat Size- 66\" x 60\", Lip 20\" x 11\" -90 Degree Angle",
          "product/Bookcases/Rush Hierlooms Collection 1\" Thick Stackable Bookcases",
          "product/Chairs/SAFCO Arco Folding Chair",
          "product/Storage/SAFCO Boltless Steel Shelving",
          "product/Storage/SAFCO Commercial Wire Shelving, Black",
          "product/Storage/SAFCO Mobile Desk Side File, Wire Frame",
          "product/Chairs/SAFCO Optional Arm Kit for Workspace Cribbage Stacking Chair",
          "product/Tables/SAFCO PlanMaster Boards, 60w x 37-1/2d, White Melamine",
          "product/Tables/SAFCO PlanMaster Heigh-Adjustable Drafting Table Base, 43w x 30d x 30-37h, Black",
          "product/Art/SANFORD Liquid Accent Tank-Style Highlighters",
          "product/Art/SANFORD Major Accent Highlighters",
          "product/Chairs/Safco Chair Connectors, 6/Carton",
          "product/Storage/Safco Commercial Shelving",
          "product/Chairs/Safco Contoured Stacking Chairs",
          "product/Tables/Safco Drafting Table",
          "product/Storage/Safco Industrial Wire Shelving",
          "product/Bookcases/Safco Value Mate Series Steel Bookcases, Baked Enamel Finish on Steel, Gray",
          "product/Bookcases/Safco Value Mate Steel Bookcase, Baked Enamel Finish on Steel, Black",
          "product/Storage/Safco Wire Cube Shelving System, For Use as 4 or 5 14\" Cubes, Black",
          "product/Phones/Samsung Galaxy Mega 6.3",
          "product/Phones/Samsung Galaxy Note 2",
          "product/Phones/Samsung Galaxy Note 3",
          "product/Phones/Samsung Galaxy S III - 16GB - pebble blue (T-Mobile)",
          "product/Phones/Samsung Galaxy S4",
          "product/Phones/Samsung Galaxy S4 Mini",
          "product/Phones/Samsung HM1900 Bluetooth Headset",
          "product/Phones/Samsung Replacement EH64AVFWE Premium Headset",
          "product/Phones/Samsung Rugby III",
          "product/Accessories/SanDisk Cruzer 32 GB USB Flash Drive",
          "product/Accessories/SanDisk Cruzer 64 GB USB Flash Drive",
          "product/Accessories/SanDisk Ultra 16 GB MicroSDHC Class 10 Memory Card",
          "product/Accessories/SanDisk Ultra 32 GB MicroSDHC Class 10 Memory Card",
          "product/Accessories/SanDisk Ultra 64 GB MicroSDHC Class 10 Memory Card",
          "product/Art/Sanford 52201 APSCO Electric Pencil Sharpener",
          "product/Art/Sanford Colorific Colored Pencils, 12/Box",
          "product/Art/Sanford Colorific Eraseable Coloring Pencils, 12 Count",
          "product/Art/Sanford EarthWrite Recycled Pencils, Medium Soft, #2",
          "product/Appliances/Sanyo 2.5 Cubic Foot Mid-Size Office Refrigerators",
          "product/Appliances/Sanyo Counter Height Refrigerator with Crisper, 3.6 Cubic Foot, Stainless Steel/Black",
          "product/Binders/Satellite Sectional Post Binders",
          "product/Bookcases/Sauder Barrister Bookcases",
          "product/Bookcases/Sauder Camden County Barrister Bookcase, Planked Cherry Finish",
          "product/Bookcases/Sauder Camden County Collection Libraries, Planked Cherry Finish",
          "product/Bookcases/Sauder Camden County Collection Library",
          "product/Bookcases/Sauder Facets Collection Library, Sky Alder Finish",
          "product/Storage/Sauder Facets Collection Locker/File Cabinet, Sky Alder Finish",
          "product/Bookcases/Sauder Forest Hills Library with Doors, Woodland Oak Finish",
          "product/Bookcases/Sauder Forest Hills Library, Woodland Oak Finish",
          "product/Bookcases/Sauder Inglewood Library Bookcases",
          "product/Bookcases/Sauder Mission Library with Doors, Fruitwood Finish",
          "product/Envelopes/Security-Tint Envelopes",
          "product/Phones/Seidio BD2-HK3IPH5-BK DILEX Case and Holster Combo for Apple iPhone 5/5s - Black",
          "product/Labels/Self-Adhesive Address Labels for Typewriters by Universal",
          "product/Labels/Self-Adhesive Removable Labels",
          "product/Binders/Self-Adhesive Ring Binder Labels",
          "product/Storage/Sensible Storage WireTech Storage Systems",
          "product/Supplies/Serrated Blade or Curved Handle Hand Letter Openers",
          "product/Furnishings/Seth Thomas 12\" Clock w/ Goldtone Case",
          "product/Furnishings/Seth Thomas 13 1/2\" Wall Clock",
          "product/Furnishings/Seth Thomas 14\" Day/Date Wall Clock",
          "product/Furnishings/Seth Thomas 16\" Steel Case Clock",
          "product/Furnishings/Seth Thomas 8 1/2\" Cubicle Clock",
          "product/Copiers/Sharp 1540cs Digital Laser Copier",
          "product/Copiers/Sharp AL-1530CS Digital Copier",
          "product/Phones/Shocksock Galaxy S4 Armband",
          "product/Phones/ShoreTel ShorePhone IP 230 VoIP phone",
          "product/Storage/SimpliFile Personal File, Black Granite, 15w x 6-15/16d x 11-1/4h",
          "product/Chairs/Situations Contoured Folding Chairs, 4/Set",
          "product/Binders/SlimView Poly Binder, 3/8\"",
          "product/Phones/SmartStand Mobile Device Holder, Assorted Colors",
          "product/Labels/Smead Alpha-Z Color-Coded Name Labels First Letter Starter Set",
          "product/Labels/Smead Alpha-Z Color-Coded Second Alphabetical Labels and Starter Set",
          "product/Paper/Snap-A-Way Black Print Carbonless Ruled Speed Letter, Triplicate",
          "product/Machines/Socket Bluetooth Cordless Hand Scanner (CHS)",
          "product/Accessories/Sony 16GB Class 10 Micro SDHC R40 Memory Card",
          "product/Accessories/Sony 32GB Class 10 Micro SDHC R40 Memory Card",
          "product/Accessories/Sony 64GB Class 10 Micro SDHC R40 Memory Card",
          "product/Accessories/Sony Micro Vault Click 16 GB USB 2.0 Flash Drive",
          "product/Accessories/Sony Micro Vault Click 4 GB USB 2.0 Flash Drive",
          "product/Accessories/Sony Micro Vault Click 8 GB USB 2.0 Flash Drive",
          "product/Storage/Sortfiler Multipurpose Personal File Organizer, Black",
          "product/Paper/Southworth 100% RÃ©sumÃ© Paper, 24lb.",
          "product/Paper/Southworth 25% Cotton Antique Laid Paper & Envelopes",
          "product/Paper/Southworth 25% Cotton Linen-Finish Paper & Envelopes",
          "product/Paper/Southworth 25% Cotton Premium Laser Paper and Envelopes",
          "product/Paper/Southworth Parchment Paper & Envelopes",
          "product/Paper/Southworth Structures Collection",
          "product/Storage/Space Solutions Commercial Steel Shelving",
          "product/Storage/Space Solutions HD Industrial Steel Shelving.",
          "product/Binders/SpineVue Locking Slant-D Ring Binders by Cardinal",
          "product/Paper/Spiral Phone Message Books with Labels by Adams",
          "product/Phones/Square Credit Card Reader",
          "product/Phones/Square Credit Card Reader, 4 1/2\" x 4 1/2\" x 1\", White",
          "product/Binders/Square Ring Data Binders, Rigid 75 Pt. Covers, 11\" x 14-7/8\"",
          "product/Furnishings/Stackable Trays",
          "product/Furnishings/Stacking Trays by OIC",
          "product/Paper/Standard Line Â“While You Were OutÂ” Hardbound Telephone Message Book",
          "product/Storage/Standard Rollaway File with Lock",
          "product/Art/Stanley Contemporary Battery Pencil Sharpeners",
          "product/Appliances/Staples",
          "product/Art/Staples",
          "product/Binders/Staples",
          "product/Envelopes/Staples",
          "product/Fasteners/Staples",
          "product/Furnishings/Staples",
          "product/Labels/Staples",
          "product/Paper/Staples",
          "product/Storage/Staples",
          "product/Supplies/Staples",
          "product/Machines/Star Micronics TSP800 TSP847IIU Receipt Printer",
          "product/Machines/StarTech.com 10/100 VDSL2 Ethernet Extender Kit",
          "product/Storage/Sterilite Officeware Hinged File Box",
          "product/Storage/Sterilite Show Offs Storage Containers",
          "product/Fasteners/Sterling Rubber Bands by Alliance",
          "product/Supplies/Stiletto Hand Letter Openers",
          "product/Fasteners/Stockwell Push Pins",
          "product/Binders/Storex Dura Pro Binders",
          "product/Binders/Storex Flexible Poly Binders with Double Pockets",
          "product/Envelopes/Strathmore #10 Envelopes, Ultimate White",
          "product/Paper/Strathmore Photo Frame Cards",
          "product/Paper/Strathmore Photo Mount Cards",
          "product/Storage/Stur-D-Stor Shelving, Vertical 5-Shelf: 72\"H x 36\"W x 18 1/2\"D",
          "product/Fasteners/Super Bands, 12/Pack",
          "product/Storage/Super Decoflex Portable Personal File",
          "product/Binders/Surelock Post Binders",
          "product/Machines/Swingline SM12-08 MicroCut Jam Free Shredder",
          "product/Paper/TOPS \"Important Message\" Pads, Canary, 4-1/4 x 5-1/2, 50 Sheets per Pad",
          "product/Paper/TOPS 4 x 6 Fluorescent Color Memo Sheets, 500 Sheets per Pack",
          "product/Paper/TOPS Carbonless Receipt Book, Four 2-3/4 x 7-1/4 Money Receipts per Page",
          "product/Paper/TOPS Money Receipt Book, Consecutively Numbered in Red,",
          "product/Accessories/TRENDnet 56K USB 2.0 Phone, Internet and Fax Modem",
          "product/Paper/Telephone Message Books with Fax/Mobile Section, 5 1/2\" x 3 3/16\"",
          "product/Furnishings/Tenex \"The Solids\" Textured Chair Mats",
          "product/Furnishings/Tenex 46\" x 60\" Computer Anti-Static Chairmat, Rectangular Shaped",
          "product/Furnishings/Tenex B1-RE Series Chair Mats for Low Pile Carpets",
          "product/Furnishings/Tenex Carpeted, Granite-Look or Clear Contemporary Contour Shape Chair Mats",
          "product/Furnishings/Tenex Chairmats For Use With Carpeted Floors",
          "product/Furnishings/Tenex Chairmats For Use with Hard Floors",
          "product/Furnishings/Tenex Contemporary Contur Chairmats for Low and Medium Pile Carpet, Computer, 39\" x 49\"",
          "product/Storage/Tenex File Box, Personal Filing Tote with Lid, Black",
          "product/Storage/Tenex Personal Filing Tote With Secure Closure Lid, Black/Frost",
          "product/Storage/Tenex Personal Project File with Scoop Front Design, Black",
          "product/Furnishings/Tenex Traditional Chairmats for Hard Floors, Average Lip, 36\" x 48\"",
          "product/Furnishings/Tenex Traditional Chairmats for Medium Pile Carpet, Standard Lip, 36\" x 48\"",
          "product/Furnishings/Tenex V2T-RE Standard Weight Series Chair Mat, 45\" x 53\", Lip 25\" x 12\"",
          "product/Storage/Tennsco 16-Compartment Lockers with Coat Rack",
          "product/Storage/Tennsco 6- and 18-Compartment Lockers",
          "product/Storage/Tennsco Commercial Shelving",
          "product/Storage/Tennsco Double-Tier Lockers",
          "product/Storage/Tennsco Industrial Shelving",
          "product/Storage/Tennsco Lockers, Gray",
          "product/Storage/Tennsco Regal Shelving Units",
          "product/Storage/Tennsco Single-Tier Lockers",
          "product/Storage/Tennsco Snap-Together Open Shelving Units, Starter Sets and Add-On Units",
          "product/Storage/Tennsco Stur-D-Stor Boltless Shelving, 5 Shelves, 24\" Deep, Sand",
          "product/Furnishings/Tensor Brushed Steel Torchiere Floor Lamp",
          "product/Furnishings/Tensor Computer Mounted Lamp",
          "product/Machines/Texas Instrument TI-15 Fraction Calculator",
          "product/Machines/Texas Instruments TI-34 Scientific Calculator",
          "product/Paper/Things To Do Today Pad",
          "product/Paper/Things To Do Today Spiral Book",
          "product/Paper/Tops Green Bar Computer Printout Paper",
          "product/Paper/Tops White Computer Printout Paper",
          "product/Paper/Tops Wirebound Message Log Books",
          "product/Phones/Toshiba IPT2010-SD IPÂ Telephone",
          "product/Storage/Trav-L-File Heavy-Duty Shuttle II, Black",
          "product/Binders/Trimflex Flexible Post Binders",
          "product/Appliances/Tripp Lite TLP810NET Broadband Surge for Modem/Fax",
          "product/Binders/Tuf-Vin Binders",
          "product/Binders/Tuff Stuff Recycled Round Ring Binders",
          "product/Art/Turquoise Lead Holder with Pocket Clip",
          "product/Envelopes/Tyvek  Top-Opening Peel & Seel Envelopes, Plain White",
          "product/Envelopes/Tyvek Interoffice Envelopes, 9 1/2\" x 12 1/2\", 100/Box",
          "product/Envelopes/Tyvek Side-Opening Peel & Seel Expanding Envelopes",
          "product/Furnishings/Ultra Door Pull Handle",
          "product/Furnishings/Ultra Door Push Plate",
          "product/Binders/UniKeep View Case Binders",
          "product/Paper/Universal Premium White Copier/Laser Paper (20Lb. and 87 Bright)",
          "product/Binders/Universal Recycled Hanging Pressboard Report Binders, Letter Size",
          "product/Paper/Universal Ultra Bright White Copier/Laser Paper, 8 1/2\" x 11\", Ream",
          "product/Paper/Unpadded Memo Slips",
          "product/Phones/VTech DS6151",
          "product/Binders/VariCap6 Expandable Binder",
          "product/Accessories/Verbatim 25 GB 6x Blu-ray Single Layer Recordable Disc, 10/Pack",
          "product/Accessories/Verbatim 25 GB 6x Blu-ray Single Layer Recordable Disc, 3/Pack",
          "product/Accessories/Verbatim Slim CD and DVD Storage Cases, 50/Pack",
          "product/Fasteners/Vinyl Coated Wire Paper Clips in Organizer Box, 800/Box",
          "product/Binders/Vinyl Sectional Post Binders",
          "product/Machines/Vtech AT&T CL2940 Corded Speakerphone, Black",
          "product/Phones/Vtech CS6719",
          "product/Accessories/WD My Passport Ultra 1TB Portable External Hard Drive",
          "product/Accessories/WD My Passport Ultra 2TB Portable External Hard Drive",
          "product/Accessories/WD My Passport Ultra 500GB Portable External Hard Drive",
          "product/Envelopes/Wausau Papers Astrobrights Colored Envelopes",
          "product/Furnishings/Westinghouse Clip-On Gooseneck Lamps",
          "product/Furnishings/Westinghouse Floor Lamp with Metal Mesh Shade, Black",
          "product/Furnishings/Westinghouse Mesh Shade Clip-On Gooseneck Lamp, Black",
          "product/Paper/Weyerhaeuser First Choice Laser/Copy Paper (20Lb. and 88 Bright)",
          "product/Paper/While You Were Out Pads, 50 per Pad, 4 x 5 1/4, Green Cycle",
          "product/Envelopes/White Business Envelopes with Contemporary Seam, Recycled White Business Envelopes",
          "product/Paper/White Computer Printout Paper by Universal",
          "product/Paper/White Dual Perf Computer Printout Paper, 2700 Sheets, 1 Part, Heavyweight, 20 lbs., 14 7/8 x 11",
          "product/Envelopes/White Envelopes, White Envelopes with Clear Poly Window",
          "product/Paper/White GlueTop Scratch Pads",
          "product/Phones/Wi-Ex zBoost YX540 Cellular Phone Signal Booster",
          "product/Phones/Wilson Electronics DB Pro Signal Booster",
          "product/Binders/Wilson Jones 1\" Hanging DublLock Ring Binders",
          "product/Binders/Wilson Jones 14 Line Acrylic Coated Pressboard Data Binders",
          "product/Binders/Wilson Jones Active Use Binders",
          "product/Binders/Wilson Jones Century Plastic Molded Ring Binders",
          "product/Binders/Wilson Jones Clip & Carry Folder Binder Tool for Ring Binders, Clear",
          "product/Binders/Wilson Jones Custom Binder Spines & Labels",
          "product/Binders/Wilson Jones DublLock D-Ring Binders",
          "product/Binders/Wilson Jones Easy Flow II Sheet Lifters",
          "product/Binders/Wilson Jones Elliptical Ring 3 1/2\" Capacity Binders, 800 sheets",
          "product/Binders/Wilson Jones Four-Pocket Poly Binders",
          "product/Binders/Wilson Jones Hanging View Binder, White, 1\"",
          "product/Binders/Wilson Jones Heavy-Duty Casebound Ring Binders with Metal Hinges",
          "product/Binders/Wilson Jones Impact Binders",
          "product/Binders/Wilson Jones International Size A4 Ring Binders",
          "product/Binders/Wilson Jones Leather-Like Binders with DublLock Round Rings",
          "product/Binders/Wilson Jones Ledger-Size, Piano-Hinge Binder, 2\", Blue",
          "product/Binders/Wilson Jones Legal Size Ring Binders",
          "product/Binders/Wilson Jones Standard D-Ring Binders",
          "product/Binders/Wilson Jones Turn Tabs Binder Tool for Ring Binders",
          "product/Binders/Wilson Jones data.warehouse D-Ring Binders with DublLock",
          "product/Phones/Wilson SignalBoost 841262 DB PRO Amplifier Kit",
          "product/Paper/Wirebound Four 2-3/4 x 5 Forms per Page, 400 Sets per Book",
          "product/Paper/Wirebound Message Book, 4 per Page",
          "product/Paper/Wirebound Message Books, 2 7/8\" x 5\", 3 Forms per Page",
          "product/Paper/Wirebound Message Books, 5-1/2 x 4 Forms, 2 or 4 Forms per Page",
          "product/Paper/Wirebound Message Books, Four 2 3/4 x 5 Forms per Page, 200 Sets per Book",
          "product/Paper/Wirebound Message Books, Four 2 3/4 x 5 White Forms per Page",
          "product/Paper/Wirebound Message Books, Four 2 3/4\" x 5\" Forms per Page, 600 Sets per Book",
          "product/Paper/Wirebound Message Books, Two 4 1/4\" x 5\" Forms per Page",
          "product/Paper/Wirebound Message Forms, Four 2 3/4 x 5 Forms per Page, Pink Paper",
          "product/Paper/Wirebound Service Call Books, 5 1/2\" x 4\"",
          "product/Phones/Wireless Extenders zBoost YX545 SOHO Signal Booster",
          "product/Storage/Woodgrain Magazine Files by Perma",
          "product/Storage/X-Rack File for Hanging Folders",
          "product/Paper/Xerox 1880",
          "product/Paper/Xerox 1881",
          "product/Paper/Xerox 1882",
          "product/Paper/Xerox 1883",
          "product/Paper/Xerox 1884",
          "product/Paper/Xerox 1885",
          "product/Paper/Xerox 1886",
          "product/Paper/Xerox 1887",
          "product/Paper/Xerox 1888",
          "product/Paper/Xerox 189",
          "product/Paper/Xerox 1891",
          "product/Paper/Xerox 1892",
          "product/Paper/Xerox 1893",
          "product/Paper/Xerox 1894",
          "product/Paper/Xerox 1895",
          "product/Paper/Xerox 1896",
          "product/Paper/Xerox 1897",
          "product/Paper/Xerox 1898",
          "product/Paper/Xerox 1899",
          "product/Paper/Xerox 19",
          "product/Paper/Xerox 190",
          "product/Paper/Xerox 1900",
          "product/Paper/Xerox 1903",
          "product/Paper/Xerox 1905",
          "product/Paper/Xerox 1907",
          "product/Paper/Xerox 1908",
          "product/Paper/Xerox 1909",
          "product/Paper/Xerox 191",
          "product/Paper/Xerox 1911",
          "product/Paper/Xerox 1912",
          "product/Paper/Xerox 1913",
          "product/Paper/Xerox 1914",
          "product/Paper/Xerox 1915",
          "product/Paper/Xerox 1916",
          "product/Paper/Xerox 1917",
          "product/Paper/Xerox 1919",
          "product/Paper/Xerox 192",
          "product/Paper/Xerox 1920",
          "product/Paper/Xerox 1922",
          "product/Paper/Xerox 1923",
          "product/Paper/Xerox 1924",
          "product/Paper/Xerox 1925",
          "product/Paper/Xerox 1927",
          "product/Paper/Xerox 1928",
          "product/Paper/Xerox 1929",
          "product/Paper/Xerox 193",
          "product/Paper/Xerox 1930",
          "product/Paper/Xerox 1931",
          "product/Paper/Xerox 1932",
          "product/Paper/Xerox 1933",
          "product/Paper/Xerox 1934",
          "product/Paper/Xerox 1937",
          "product/Paper/Xerox 1939",
          "product/Paper/Xerox 194",
          "product/Paper/Xerox 1940",
          "product/Paper/Xerox 1941",
          "product/Paper/Xerox 1942",
          "product/Paper/Xerox 1943",
          "product/Paper/Xerox 1944",
          "product/Paper/Xerox 1945",
          "product/Paper/Xerox 1946",
          "product/Paper/Xerox 1947",
          "product/Paper/Xerox 1949",
          "product/Paper/Xerox 195",
          "product/Paper/Xerox 1951",
          "product/Paper/Xerox 1952",
          "product/Paper/Xerox 1953",
          "product/Paper/Xerox 1954",
          "product/Paper/Xerox 1959",
          "product/Paper/Xerox 196",
          "product/Paper/Xerox 1960",
          "product/Paper/Xerox 1962",
          "product/Paper/Xerox 1964",
          "product/Paper/Xerox 1965",
          "product/Paper/Xerox 1966",
          "product/Paper/Xerox 1967",
          "product/Paper/Xerox 1968",
          "product/Paper/Xerox 1970",
          "product/Paper/Xerox 1971",
          "product/Paper/Xerox 1972",
          "product/Paper/Xerox 1973",
          "product/Paper/Xerox 1974",
          "product/Paper/Xerox 1975",
          "product/Paper/Xerox 1976",
          "product/Paper/Xerox 1977",
          "product/Paper/Xerox 1978",
          "product/Paper/Xerox 1979",
          "product/Paper/Xerox 1981",
          "product/Paper/Xerox 1982",
          "product/Paper/Xerox 1983",
          "product/Paper/Xerox 1984",
          "product/Paper/Xerox 1986",
          "product/Paper/Xerox 1987",
          "product/Paper/Xerox 1988",
          "product/Paper/Xerox 1991",
          "product/Paper/Xerox 1992",
          "product/Paper/Xerox 1995",
          "product/Paper/Xerox 1996",
          "product/Paper/Xerox 1997",
          "product/Paper/Xerox 1999",
          "product/Paper/Xerox 2",
          "product/Paper/Xerox 20",
          "product/Paper/Xerox 200",
          "product/Paper/Xerox 2000",
          "product/Paper/Xerox 201",
          "product/Paper/Xerox 202",
          "product/Paper/Xerox 203",
          "product/Paper/Xerox 204",
          "product/Paper/Xerox 206",
          "product/Paper/Xerox 209",
          "product/Paper/Xerox 21",
          "product/Paper/Xerox 210",
          "product/Paper/Xerox 211",
          "product/Paper/Xerox 212",
          "product/Paper/Xerox 213",
          "product/Paper/Xerox 214",
          "product/Paper/Xerox 215",
          "product/Paper/Xerox 216",
          "product/Paper/Xerox 217",
          "product/Paper/Xerox 218",
          "product/Paper/Xerox 219",
          "product/Paper/Xerox 22",
          "product/Paper/Xerox 220",
          "product/Paper/Xerox 221",
          "product/Paper/Xerox 222",
          "product/Paper/Xerox 223",
          "product/Paper/Xerox 225",
          "product/Paper/Xerox 226",
          "product/Paper/Xerox 227",
          "product/Paper/Xerox 228",
          "product/Paper/Xerox 229",
          "product/Paper/Xerox 23",
          "product/Paper/Xerox 230",
          "product/Paper/Xerox 231",
          "product/Paper/Xerox 232",
          "product/Paper/Xerox 4200 Series MultiUse Premium Copy Paper (20Lb. and 84 Bright)",
          "product/Paper/Xerox Blank Computer Paper",
          "product/Paper/Xerox Color Copier Paper, 11\" x 17\", Ream",
          "product/Binders/XtraLife ClearVue Slant-D Ring Binder, White, 3\"",
          "product/Binders/XtraLife ClearVue Slant-D Ring Binders by Cardinal",
          "product/Machines/Zebra GK420t Direct Thermal/Thermal Transfer Printer",
          "product/Machines/Zebra GX420t Direct Thermal/Thermal Transfer Printer",
          "product/Art/Zebra Zazzle Fluorescent Highlighters",
          "product/Binders/Zipper Ring Binder Pockets",
          "product/Phones/i.Sound Portable Power - 8000 mAh",
          "product/Phones/iHome FM Clock Radio with Lightning Dock",
          "product/Phones/iKross Bluetooth Portable Keyboard + Cell Phone Stand Holder + Brush for Apple iPhone 5S 5C 5, 4S 4",
          "product/Phones/iOttie HLCRIO102 Car Mount",
          "product/Phones/iOttie XL Car Mount",
          "product/Phones/invisibleSHIELD by ZAGG Smudge-Free Screen Protector",
          "product/Phones/netTALK DUO VoIP Telephone Service",
          "product/Accessories",
          "product/Appliances",
          "product/Art",
          "product/Binders",
          "product/Bookcases",
          "product/Chairs",
          "product/Copiers",
          "product/Envelopes",
          "product/Fasteners",
          "product/Furnishings",
          "product/Labels",
          "product/Machines",
          "product/Paper",
          "product/Phones",
          "product/Storage",
          "product/Supplies",
          "product/Tables",
          "product"
         ],
         "labels": [
          "\"While you Were Out\" Message Book, One Form per Page",
          "#10 Self-Seal White Envelopes",
          "#10 White Business Envelopes,4 1/8 x 9 1/2",
          "#10- 4 1/8\" x 9 1/2\" Recycled Envelopes",
          "#10- 4 1/8\" x 9 1/2\" Security-Tint Envelopes",
          "#6 3/4 Gummed Flap White Envelopes",
          "12 Colored Short Pencils",
          "12-1/2 Diameter Round Wall Clock",
          "14-7/8 x 11 Blue Bar Computer Printout Paper",
          "2300 Heavy-Duty Transfer File Systems by Perma",
          "24 Capacity Maxi Data Binder Racks, Pearl",
          "24-Hour Round Wall Clock",
          "3.6 Cubic Foot Counter Height Office Refrigerator",
          "36X48 HARDFLOOR CHAIRMAT",
          "3D Systems Cube Printer, 2nd Generation, White",
          "3M Hangers With Command Adhesive",
          "3M Office Air Cleaner",
          "3M Polarizing Light Filter Sleeves",
          "3M Replacement Filter for Office Air Cleaner for 20' x 33' Room",
          "4009 Highlighters by Sanford",
          "50 Colored Long Pencils",
          "6\" Cubicle Wall Clock, Black",
          "9-3/4 Diameter Round Wall Clock",
          "ACCOHIDE 3-Ring Binder, Blue, 1\"",
          "ACCOHIDE Binder by Acco",
          "APC 7 Outlet Network SurgeArrest Surge Protector",
          "AT&T 1070 Corded Phone",
          "AT&T 1080 Corded phone",
          "AT&T 1080 Phone",
          "AT&T 17929 Lendline Telephone",
          "AT&T 841000 Phone",
          "AT&T CL2909",
          "AT&T CL82213",
          "AT&T CL83451 4-Handset Telephone",
          "AT&T SB67148 SynJ",
          "AT&T TR1909W",
          "Aastra 57i VoIP phone",
          "Aastra 6757i CT Wireless VoIP phone",
          "Acco 3-Hole Punch",
          "Acco 6 Outlet Guardian Premium Plus Surge Suppressor",
          "Acco 6 Outlet Guardian Premium Surge Suppressor",
          "Acco 7-Outlet Masterpiece Power Center, Wihtout Fax/Phone Line Protection",
          "Acco Banker's Clasps, 5 3/4\"-Long",
          "Acco Clips to Go Binder Clips, 24 Clips in Two Sizes",
          "Acco D-Ring Binder w/DublLock",
          "Acco Data Flex Cable Posts For Top & Bottom Load Binders, 6\" Capacity",
          "Acco Economy Flexible Poly Round Ring Binder",
          "Acco Expandable Hanging Binders",
          "Acco Flexible ACCOHIDE Square Ring Data Binder, Dark Blue, 11 1/2\" X 14\" 7/8\"",
          "Acco Four Pocket Poly Ring Binder with Label Holder, Smoke, 1\"",
          "Acco Glide Clips",
          "Acco Hanging Data Binders",
          "Acco PRESSTEX Data Binder with Storage Hooks, Dark Blue, 14 7/8\" X 11\"",
          "Acco PRESSTEX Data Binder with Storage Hooks, Dark Blue, 9 1/2\" X 11\"",
          "Acco PRESSTEX Data Binder with Storage Hooks, Light Blue, 9 1/2\" X 11\"",
          "Acco Perma 2700 Stacking Storage Drawers",
          "Acco Perma 3000 Stacking Storage Drawers",
          "Acco Perma 4000 Stacking Storage Drawers",
          "Acco Pressboard Covers with Storage Hooks, 14 7/8\" x 11\", Dark Blue",
          "Acco Pressboard Covers with Storage Hooks, 14 7/8\" x 11\", Executive Red",
          "Acco Pressboard Covers with Storage Hooks, 14 7/8\" x 11\", Light Blue",
          "Acco Pressboard Covers with Storage Hooks, 9 1/2\" x 11\", Executive Red",
          "Acco Recycled 2\" Capacity Laser Printer Hanging Data Binders",
          "Acco Side-Punched Conventional Columnar Pads",
          "Acco Six-Outlet Power Strip, 4' Cord Length",
          "Acco Smartsocket Color-Coded Six-Outlet AC Adapter Model Surge Protectors",
          "Acco Smartsocket Table Surge Protector, 6 Color-Coded Adapter Outlets",
          "Acco Suede Grain Vinyl Round Ring Binder",
          "Acco Translucent Poly Ring Binders",
          "Accohide Poly Flexible Ring Binders",
          "Acme 10\" Easy Grip Assistive Scissors",
          "Acme Box Cutter Scissors",
          "Acme Design Line 8\" Stainless Steel Bent Scissors w/Champagne Handles, 3-1/8\" Cut",
          "Acme Design Stainless Steel Bent Scissors",
          "Acme Elite Stainless Steel Scissors",
          "Acme Forged Steel Scissors with Black Enamel Handles",
          "Acme Galleria Hot Forged Steel Scissors with Colored Handles",
          "Acme Hot Forged Carbon Steel Scissors with Nickel-Plated Handles, 3 7/8\" Cut, 8\"L",
          "Acme Kleen Earth Office Shears",
          "Acme Kleencut Forged Steel Scissors",
          "Acme Office Executive Series Stainless Steel Trimmers",
          "Acme Preferred Stainless Steel Scissors",
          "Acme Rosewood Handle Letter Opener",
          "Acme Softgrip Scissors",
          "Acme Tagit Stainless Steel Antibacterial Scissors",
          "Acme Titanium Bonded Scissors",
          "Acme Value Line Scissors",
          "Acrylic Self-Standing Desk Frames",
          "Adams \"While You Were Out\" Message Pads",
          "Adams Phone Message Book, 200 Message Capacity, 8 1/16Â” x 11Â”",
          "Adams Phone Message Book, Professional, 400 Message Capacity, 5 3/6Â” x 11Â”",
          "Adams Telephone Message Book W/Dividers/Space For Phone Numbers, 5 1/4\"X8 1/2\", 200/Messages",
          "Adams Telephone Message Book W/Dividers/Space For Phone Numbers, 5 1/4\"X8 1/2\", 300/Messages",
          "Adams Telephone Message Book w/Frequently-Called Numbers Space, 400 Messages per Book",
          "Adjustable Depth Letter/Legal Cart",
          "Adjustable Personal File Tote",
          "Adtran 1202752G1",
          "Advantus Employee of the Month Certificate Frame, 11 x 13-1/2",
          "Advantus Map Pennant Flags and Round Head Tacks",
          "Advantus Panel Wall Acrylic Frame",
          "Advantus Panel Wall Certificate Holder - 8.5x11",
          "Advantus Plastic Paper Clips",
          "Advantus Push Pins",
          "Advantus Push Pins, Aluminum Head",
          "Advantus Rolling Drawer Organizers",
          "Advantus Rolling Storage Box",
          "Advantus SlideClip Paper Clips",
          "Advantus T-Pin Paper Clips",
          "Airmail Envelopes",
          "Akro Stacking Bins",
          "Akro-Mils 12-Gallon Tote",
          "Alliance Big Bands Rubber Bands, 12/Pack",
          "Alliance Rubber Bands",
          "Alliance Super-Size Bands, Assorted Sizes",
          "Alphabetical Labels for Top Tab Filing",
          "Aluminum Document Frame",
          "Aluminum Screw Posts",
          "AmazonBasics 3-Button USB Wired Mouse",
          "American Pencil",
          "Ames Color-File Green Diamond Border X-ray Mailers",
          "Ampad #10 Peel & Seel Holiday Envelopes",
          "Ampad Evidence Wirebond Steno Books, 6\" x 9\"",
          "Ampad Gold Fibre Wirebound Steno Books, 6\" x 9\", Gregg Ruled",
          "Ampad Phone Message Book, Recycled, 400 Message Capacity, 5 Â¾Â” x 11Â”",
          "Anderson Hickey Conga Table Tops & Accessories",
          "Angle-D Binders with Locking Rings, Label Holders",
          "Anker 24W Portable Micro USB Car Charger",
          "Anker 36W 4-Port USB Wall Charger Travel Power Adapter for iPhone 5s 5c 5",
          "Anker Astro 15000mAh USB Portable Charger",
          "Anker Astro Mini 3000mAh Ultra-Compact Portable Charger",
          "Anker Ultra-Slim Mini Bluetooth 3.0 Wireless Keyboard",
          "Apple iPhone 5",
          "Apple iPhone 5S",
          "Array Memo Cubes",
          "Assorted Color Push Pins",
          "Astroparche Fine Business Paper",
          "Ativa MDM8000 8-Sheet Micro-Cut Shredder",
          "Atlantic Metals Mobile 2-Shelf Bookcases, Custom Colors",
          "Atlantic Metals Mobile 3-Shelf Bookcases, Custom Colors",
          "Atlantic Metals Mobile 4-Shelf Bookcases, Custom Colors",
          "Atlantic Metals Mobile 5-Shelf Bookcases, Custom Colors",
          "Avanti 4.4 Cu. Ft. Refrigerator",
          "Avaya 4621SW VoIP phone",
          "Avaya 5410 Digital phone",
          "Avery 3 1/2\" Diskette Storage Pages, 10/Pack",
          "Avery 4027 File Folder Labels for Dot Matrix Printers, 5000 Labels per Box, White",
          "Avery 473",
          "Avery 474",
          "Avery 475",
          "Avery 476",
          "Avery 477",
          "Avery 478",
          "Avery 48",
          "Avery 480",
          "Avery 481",
          "Avery 482",
          "Avery 483",
          "Avery 485",
          "Avery 486",
          "Avery 487",
          "Avery 488",
          "Avery 489",
          "Avery 49",
          "Avery 490",
          "Avery 492",
          "Avery 493",
          "Avery 494",
          "Avery 495",
          "Avery 496",
          "Avery 497",
          "Avery 498",
          "Avery 499",
          "Avery 50",
          "Avery 500",
          "Avery 501",
          "Avery 503",
          "Avery 505",
          "Avery 506",
          "Avery 507",
          "Avery 508",
          "Avery 509",
          "Avery 51",
          "Avery 510",
          "Avery 511",
          "Avery 512",
          "Avery 513",
          "Avery 514",
          "Avery 516",
          "Avery 517",
          "Avery 518",
          "Avery 519",
          "Avery 52",
          "Avery Address/Shipping Labels for Typewriters, 4\" x 2\"",
          "Avery Arch Ring Binders",
          "Avery Binder Labels",
          "Avery Binding System Hidden Tab Executive Style Index Sets",
          "Avery Durable Binders",
          "Avery Durable Plastic 1\" Binders",
          "Avery Durable Poly Binders",
          "Avery Durable Slant Ring Binders",
          "Avery Durable Slant Ring Binders With Label Holder",
          "Avery Durable Slant Ring Binders, No Labels",
          "Avery File Folder Labels",
          "Avery Framed View Binder, EZD Ring (Locking), Navy, 1 1/2\"",
          "Avery Hanging File Binders",
          "Avery Heavy-Duty EZD  Binder With Locking Rings",
          "Avery Heavy-Duty EZD View Binder with Locking Rings",
          "Avery Hi-Liter EverBold Pen Style Fluorescent Highlighters, 4/Pack",
          "Avery Hi-Liter Fluorescent Desk Style Markers",
          "Avery Hi-Liter Smear-Safe Highlighters",
          "Avery Hidden Tab Dividers for Binding Systems",
          "Avery Hole Reinforcements",
          "Avery Legal 4-Ring Binder",
          "Avery Metallic Poly Binders",
          "Avery Non-Stick Binders",
          "Avery Non-Stick Heavy Duty View Round Locking Ring Binders",
          "Avery Personal Creations Heavyweight Cards",
          "Avery Poly Binder Pockets",
          "Avery Premier Heavy-Duty Binder with Round Locking Rings",
          "Avery Printable Repositionable Plastic Tabs",
          "Avery Reinforcements for Hole-Punch Pages",
          "Avery Round Ring Poly Binders",
          "Avery Self-Adhesive Photo Pockets for Polaroid Photos",
          "Avery Trapezoid Extra Heavy Duty 4\" Binders",
          "Avery Trapezoid Ring Binder, 3\" Capacity, Black, 1040 sheets",
          "Avery White Multi-Purpose Labels",
          "BIC Brite Liner Grip Highlighters, Assorted, 5/Pack",
          "BIC Brite Liner Highlighters",
          "BIC Brite Liner Highlighters, Chisel Tip",
          "BIC Liqua Brite Liner",
          "BOSTON Model 1800 Electric Pencil Sharpeners, Putty/Woodgrain",
          "BOSTON Ranger #55 Pencil Sharpener, Black",
          "Bady BDG101FRU Card Printer",
          "Bagged Rubber Bands",
          "Balt Solid Wood Rectangular Table",
          "Balt Solid Wood Round Tables",
          "Balt Split Level Computer Training Table",
          "Barricks 18\" x 48\" Non-Folding Utility Table with Bottom Storage Shelf",
          "Barricks Non-Folding Utility Table with Steel Legs, Laminate Tops",
          "Belkin 19\" Center-Weighted Shelf, Gray",
          "Belkin 19\" Vented Equipment Shelf, Black",
          "Belkin 325VA UPS Surge Protector, 6'",
          "Belkin 5 Outlet SurgeMaster Power Centers",
          "Belkin 6 Outlet Metallic Surge Strip",
          "Belkin 7 Outlet SurgeMaster II",
          "Belkin 7 Outlet SurgeMaster Surge Protector with Phone Protection",
          "Belkin 7-Outlet SurgeMaster Home Series",
          "Belkin 8 Outlet Surge Protector",
          "Belkin 8 Outlet SurgeMaster II Gold Surge Protector",
          "Belkin 8-Outlet Premiere SurgeMaster II Surge Protectors",
          "Belkin F5C206VTEL 6 Outlet Surge",
          "Belkin F8E887 USB Wired Ergonomic Keyboard",
          "Belkin F9G930V10-GRY 9 Outlet Surge",
          "Belkin F9H710-06 7 Outlet SurgeMaster Surge Protector",
          "Belkin F9S820V06 8 Outlet Surge",
          "Belkin Premiere Surge Master II 8-outlet surge protector",
          "Belkin Standard 104 key USB Keyboard",
          "Belkin iPhone and iPad Lightning Cable",
          "Berol Giant Pencil Sharpener",
          "Bestar Classic Bookcase",
          "Bevis 36 x 72 Conference Tables",
          "Bevis Boat-Shaped Conference Table",
          "Bevis Oval Conference Table, Walnut",
          "Bevis Rectangular Conference Tables",
          "Bevis Round Bullnose 29\" High Table Top",
          "Bevis Round Conference Room Tables and Bases",
          "Bevis Round Conference Table Top & Single Column Base",
          "Bevis Round Conference Table Top, X-Base",
          "Bevis Steel Folding Chairs",
          "Binder Clips by OIC",
          "Binder Posts",
          "Binding Machine Supplies",
          "Binney & Smith Crayola Metallic Colored Pencils, 8-Color Set",
          "Binney & Smith Crayola Metallic Crayons, 16-Color Pack",
          "Binney & Smith inkTank Desk Highlighter, Chisel Tip, Yellow, 12/Box",
          "Bionaire Personal Warm Mist Humidifier/Vaporizer",
          "Black Avery Memo-Size 3-Ring Binder, 5 1/2\" x 8 1/2\"",
          "Black Print Carbonless 8 1/2\" x 8 1/4\" Rapid Memo Book",
          "Black Print Carbonless Snap-Off Rapid Letter, 8 1/2\" x 7\"",
          "BlackBerry Q10",
          "Blackstonian Pencils",
          "Blue Parrot B250XT Professional Grade Wireless BluetoothÂ HeadsetÂ with",
          "Bose SoundLink Bluetooth Speaker",
          "Boston 16701 Slimline Battery Pencil Sharpener",
          "Boston 16765 Mini Stand Up Battery Pencil Sharpener",
          "Boston 16801 Nautilus Battery Pencil Sharpener",
          "Boston 1730 StandUp Electric Pencil Sharpener",
          "Boston 1799 Powerhouse Electric Pencil Sharpener",
          "Boston 1827 Commercial Additional Cutter, Drive Gear & Gear Rack for 1606",
          "Boston 19500 Mighty Mite Electric Pencil Sharpener",
          "Boston Electric Pencil Sharpener, Model 1818, Charcoal Black",
          "Boston Heavy-Duty Trimline Electric Pencil Sharpeners",
          "Boston Home & Office Model 2000 Electric Pencil Sharpeners",
          "Boston KS Multi-Size Manual Pencil Sharpener",
          "Boston School Pro Electric Pencil Sharpener, 1670",
          "BoxOffice By Design Rectangular and Half-Moon Meeting Room Tables",
          "Bravo II Megaboss 12-Amp Hard Body Upright, Replacement Belts, 2 Belts per Pack",
          "Bretford CR4500 Series Slim Rectangular Table",
          "Bretford CR8500 Series Meeting Room Furniture",
          "Bretford Rectangular Conference Table Tops",
          "Bretford Â“Just In TimeÂ” Height-Adjustable Multi-Task Work Tables",
          "Brites Rubber Bands, 1 1/2 oz. Box",
          "Brother DCP1000 Digital 3 in 1 Multifunction Machine",
          "Bulldog Table or Wall-Mount Pencil Sharpener",
          "Bulldog Vacuum Base Pencil Sharpener",
          "Bush Advantage Collection Racetrack Conference Table",
          "Bush Advantage Collection Round Conference Table",
          "Bush Andora Bookcase, Maple/Graphite Gray Finish",
          "Bush Andora Conference Table, Maple/Graphite Gray Finish",
          "Bush Cubix Collection Bookcases, Fully Assembled",
          "Bush Cubix Conference Tables, Fully Assembled",
          "Bush Heritage Pine Collection 5-Shelf Bookcase, Albany Pine Finish, *Special Order",
          "Bush Saratoga Collection 5-Shelf Bookcase, Hanover Cherry, *Special Order",
          "Bush Somerset Collection Bookcase",
          "Bush Westfield Collection Bookcases, Dark Cherry Finish",
          "Bush Westfield Collection Bookcases, Dark Cherry Finish, Fully Assembled",
          "Bush Westfield Collection Bookcases, Fully Assembled",
          "Bush Westfield Collection Bookcases, Medium Cherry Finish",
          "C-Line Cubicle Keepers Polyproplyene Holder With Velcro Backings",
          "C-Line Magnetic Cubicle Keepers, Clear Polypropylene",
          "C-Line Peel & Stick Add-On Filing Pockets, 8-3/4 x 5-1/8, 10/Pack",
          "Cameo Buff Policy Envelopes",
          "Canon Image Class D660 Copier",
          "Canon Imageclass D680 Copier / Fax",
          "Canon PC-428 Personal Copier",
          "Canon PC1060 Personal Laser Copier",
          "Canon PC1080F Personal Copier",
          "Canon PC940 Copier",
          "Canon imageCLASS 2200 Advanced Copier",
          "Canvas Sectional Post Binders",
          "Cardinal EasyOpen D-Ring Binders",
          "Cardinal HOLDit! Binder Insert Strips,Extra Strips",
          "Cardinal Hold-It CD Pocket",
          "Cardinal Holdit Business Card Pockets",
          "Cardinal Holdit Data Disk Pockets",
          "Cardinal Poly Pocket Divider Pockets for Ring Binders",
          "Cardinal Slant-D Ring Binder, Heavy Gauge Vinyl",
          "Cardinal Slant-D Ring Binders",
          "Carina 42\"Hx23 3/4\"W Media Storage Unit",
          "Carina Double Wide Media Storage Towers in Natural & Black",
          "Carina Media Storage Towers in Natural & Black",
          "Carina Mini System Audio Rack, Model AR050B",
          "Case Logic 2.4GHz Wireless Keyboard",
          "Catalog Binders with Expanding Posts",
          "Cherry 142-key Programmable Keyboard",
          "Chromcraft 48\" x 96\" Racetrack Double Pedestal Table",
          "Chromcraft Bull-Nose Wood 48\" x 96\" Rectangular Conference Tables",
          "Chromcraft Bull-Nose Wood Oval Conference Tables & Bases",
          "Chromcraft Bull-Nose Wood Round Conference Table Top, Wood Base",
          "Chromcraft Rectangular Conference Tables",
          "Chromcraft Round Conference Tables",
          "Cisco 8x8 Inc. 6753i IP Business Phone System",
          "Cisco Desktop Collaboration Experience DX650 IP Video Phone",
          "Cisco IP Phone 7961G-GE VoIP phone",
          "Cisco SPA 501G IP Phone",
          "Cisco SPA 502G IP Phone",
          "Cisco SPA301",
          "Cisco SPA508G",
          "Cisco SPA525G2 IP Phone - Wireless",
          "Cisco Small Business SPA 502G VoIP phone",
          "Cisco Unified IP Phone 7945G VoIP phone",
          "Clarity 53712",
          "Clear Mylar Reinforcing Strips",
          "ClearOne CHATAttach 160 -Â speaker phone",
          "ClearSounds CSC500 Amplified Spirit Phone Corded phone",
          "Clearsounds A400",
          "Col-Erase Pencils with Erasers",
          "Colored Push Pins",
          "Coloredge Poster Frame",
          "Commercial WindTunnel Clean Air Upright Vacuum, Replacement Belts, Filtration Bags",
          "Compact Automatic Electric Letter Opener",
          "Companion Letter/Legal File, Black",
          "Computer Printout Index Tabs",
          "Computer Printout Paper with Letter-Trim Perforations",
          "Computer Room Manger, 14\"",
          "Conquest 14 Commercial Heavy-Duty Upright Vacuum, Collection System, Accessory Kit",
          "Contemporary Borderless Frame",
          "Contemporary Wood/Metal Frame",
          "Contico 72\"H Heavy-Duty Storage System",
          "Contract Clock, 14\", Brown",
          "Convenience Packs of Business Envelopes",
          "Crayola Anti Dust Chalk, 12/Pack",
          "Crayola Colored Pencils",
          "Cubify CubeX 3D Printer Double Head Print",
          "Cush Cases Heavy Duty Rugged Cover Case for Samsung Galaxy S5 - Purple",
          "Cyber Acoustics AC-202b Speech Recognition Stereo Headset",
          "DAX Black Cherry Wood-Tone Poster Frame",
          "DAX Charcoal/Nickel-Tone Document Frame, 5 x 7",
          "DAX Clear Channel Poster Frame",
          "DAX Contemporary Wood Frame with Silver Metal Mat, Desktop, 11 x 14 Size",
          "DAX Copper Panel Document Frame, 5 x 7 Size",
          "DAX Cubicle Frames - 8x10",
          "DAX Cubicle Frames, 8-1/2 x 11",
          "DAX Executive Solid Wood Document Frame, Desktop or Hang, Mahogany, 5 x 7",
          "DAX Metal Frame, Desktop, Stepped-Edge",
          "DAX Natural Wood-Tone Poster Frame",
          "DAX Solid Wood Frames",
          "DAX Two-Tone Rosewood/Black Document Frame, Desktop, 5 x 7",
          "DAX Two-Tone Silver Metal Document Frame",
          "DAX Value U-Channel Document Frames, Easel Back",
          "DAX Wood Document Frame",
          "DIXON Oriole Pencils",
          "DMI Arturo Collection Mission-style Design Wood Chair",
          "DMI Eclipse Executive Suite Bookcases",
          "DXL Angle-View Binders with Locking Rings by Samsill",
          "DXL Angle-View Binders with Locking Rings, Black",
          "DYMO CardScan Personal V9 Business Card Scanner",
          "Dana Halogen Swing-Arm Architect Lamp",
          "Dana Swing-Arm Lamps",
          "Dax Clear Box Frame",
          "Decoflex Hanging Personal Folder File, Blue",
          "Deflect-O Glasstique Clear Desk Accessories",
          "Deflect-o DuraMat Antistatic Studded Beveled Mat for Medium Pile Carpeting",
          "Deflect-o DuraMat Lighweight, Studded, Beveled Mat for Low Pile Carpeting",
          "Deflect-o EconoMat Nonstudded, No Bevel Mat",
          "Deflect-o EconoMat Studded, No Bevel Mat for Low Pile Carpeting",
          "Deflect-o Glass Clear Studded Chair Mats",
          "Deflect-o RollaMat Studded, Beveled Mat for Medium Pile Carpeting",
          "Deflect-o SuperTray Unbreakable Stackable Tray, Letter, Black",
          "Deluxe Chalkboard Eraser Cleaner",
          "Deluxe Heavy-Duty Vinyl Round Ring Binder",
          "Deluxe Rollaway Locking File with Drawer",
          "Design Ebony Sketching Pencil",
          "Dexim XPower Skin Super-Thin Power Case for iPhone 5 - Black",
          "Digium D40 VoIP phone",
          "Dixon My First Ticonderoga Pencil, #2",
          "Dixon Prang Watercolor Pencils, 10-Color Set with Brush",
          "Dixon Ticonderoga Core-Lock Colored Pencils",
          "Dixon Ticonderoga Core-Lock Colored Pencils, 48-Color Set",
          "Dixon Ticonderoga Erasable Colored Pencil Set, 12-Color",
          "Dixon Ticonderoga Maple Cedar Pencil, #2",
          "Dixon Ticonderoga Pencils",
          "Document Clip Frames",
          "Dot Matrix Printer Tape Reel Labels, White, 5000/Box",
          "Dual Level, Single-Width Filing Carts",
          "Eaton Premium Continuous-Feed Paper, 25% Cotton, Letter Size, White, 1000 Shts/Box",
          "Eberhard Faber 3 1/2\" Golf Pencils",
          "EcoTones Memo Sheets",
          "Economy #2 Pencils",
          "Economy Binders",
          "Economy Rollaway Files",
          "Eldon \"L\" Workstation Diamond Chairmat",
          "Eldon 100 Class Desk Accessories",
          "Eldon 200 Class Desk Accessories",
          "Eldon 200 Class Desk Accessories, Burgundy",
          "Eldon 200 Class Desk Accessories, Smoke",
          "Eldon 300 Class Desk Accessories, Black",
          "Eldon 400 Class Desk Accessories, Black Carbon",
          "Eldon 500 Class Desk Accessories",
          "Eldon Advantage Chair Mats for Low to Medium Pile Carpets",
          "Eldon Advantage Foldable Chair Mats for Low Pile Carpets",
          "Eldon Antistatic Chair Mats for Low to Medium Pile Carpets",
          "Eldon Base for stackable storage shelf, platinum",
          "Eldon Cleatmat Chair Mats for Medium Pile Carpets",
          "Eldon Cleatmat Plus Chair Mats for High Pile Carpets",
          "Eldon ClusterMat Chair Mat with Cordless Antistatic Protection",
          "Eldon Delta Triangular Chair Mat, 52\" x 58\", Clear",
          "Eldon Econocleat Chair Mats for Low Pile Carpets",
          "Eldon Executive Woodline II Desk Accessories, Mahogany",
          "Eldon Expressions Desk Accessory, Wood Pencil Holder, Oak",
          "Eldon Expressions Desk Accessory, Wood Photo Frame, Mahogany",
          "Eldon Expressions Punched Metal & Wood Desk Accessories, Black & Cherry",
          "Eldon Expressions Punched Metal & Wood Desk Accessories, Pewter & Cherry",
          "Eldon Expressions Wood Desk Accessories, Oak",
          "Eldon Expressions Wood and Plastic Desk Accessories, Cherry Wood",
          "Eldon Expressions Wood and Plastic Desk Accessories, Oak",
          "Eldon File Chest Portable File",
          "Eldon Fold 'N Roll Cart System",
          "Eldon Gobal File Keepers",
          "Eldon Image Series Black Desk Accessories",
          "Eldon Image Series Desk Accessories, Burgundy",
          "Eldon Image Series Desk Accessories, Ebony",
          "Eldon ImÃ ge Series Desk Accessories, Clear",
          "Eldon Mobile Mega Data Cart  Mega Stackable  Add-On Trays",
          "Eldon Portable Mobile Manager",
          "Eldon ProFile File 'N Store Portable File Tub Letter/Legal Size Black",
          "Eldon Radial Chair Mat for Low to Medium Pile Carpets",
          "Eldon Regeneration Recycled Desk Accessories, Black",
          "Eldon Regeneration Recycled Desk Accessories, Smoke",
          "Eldon Shelf Savers Cubes and Bins",
          "Eldon Simplefile Box Office",
          "Eldon Spacemaker Box, Quick-Snap Lid, Clear",
          "Eldon Stackable Tray, Side-Load, Legal, Smoke",
          "Eldon Wave Desk Accessories",
          "Electrix 20W Halogen Replacement Bulb for Zoom-In Desk Lamp",
          "Electrix Fluorescent Magnifier Lamps & Weighted Base",
          "Electrix Halogen Magnifier Lamp",
          "Electrix Incandescent Magnifying Lamp, Black",
          "Elite 5\" Scissors",
          "Embossed Ink Jet Note Cards",
          "Enermax Acrylux Wireless Keyboard",
          "Enermax Briskie RF Wireless Keyboard and Mouse Combo",
          "Eureka Recycled Copy Paper 8 1/2\" x 11\", Ream",
          "Eureka Sanitaire  Multi-Pro Heavy-Duty Upright, Disposable Bags",
          "Eureka The Boss Cordless Rechargeable Stick Vac",
          "Eureka The Boss Lite 10-Amp Upright Vacuum, Blue",
          "Euro-Pro Shark Turbo Vacuum",
          "Executive Impressions 10\" Spectator Wall Clock",
          "Executive Impressions 12\" Wall Clock",
          "Executive Impressions 13\" Chairman Wall Clock",
          "Executive Impressions 13-1/2\" Indoor/Outdoor Wall Clock",
          "Executive Impressions 14\" Contract Wall Clock",
          "Executive Impressions 14\" Two-Color Numerals Wall Clock",
          "Executive Impressions 8-1/2\" Career Panel/Partition Cubicle Clock",
          "Executive Impressions Supervisor Wall Clock",
          "Faber Castell Col-Erase Pencils",
          "Fellowes 8 Outlet Superior Workstation Surge Protector",
          "Fellowes 8 Outlet Superior Workstation Surge Protector w/o Phone/Fax/Modem Protection",
          "Fellowes Advanced Computer Series Surge Protectors",
          "Fellowes Bankers Box Recycled Super Stor/Drawer",
          "Fellowes Bankers Box Staxonsteel Drawer File/Stacking System",
          "Fellowes Bankers Box Stor/Drawer Steel Plus",
          "Fellowes Bases and Tops For Staxonsteel/High-Stak Systems",
          "Fellowes Basic Home/Office Series Surge Protectors",
          "Fellowes Binding Cases",
          "Fellowes Black Plastic Comb Bindings",
          "Fellowes Command Center 5-outlet power strip",
          "Fellowes High-Stak Drawer Files",
          "Fellowes Mighty 8 Compact Surge Protector",
          "Fellowes Mobile File Cart, Black",
          "Fellowes Neat Ideas Storage Cubes",
          "Fellowes Officeware Wire Shelving",
          "Fellowes PB200 Plastic Comb Binding Machine",
          "Fellowes PB300 Plastic Comb Binding Machine",
          "Fellowes PB500 Electric Punch Plastic Comb Binding Machine with Manual Bind",
          "Fellowes Personal Hanging Folder Files, Navy",
          "Fellowes Powershred HS-440 4-Sheet High Security Shredder",
          "Fellowes Premier Superior Surge Suppressor, 10-Outlet, With Phone and Remote",
          "Fellowes Recycled Storage Drawers",
          "Fellowes Staxonsteel Drawer Files",
          "Fellowes Stor/Drawer Steel Plus Storage Drawers",
          "Fellowes Strictly Business Drawer File, Letter/Legal Size",
          "Fellowes Super Stor/Drawer",
          "Fellowes Super Stor/Drawer Files",
          "Fellowes Superior 10 Outlet Split Surge Protector",
          "Fellowes Twister Kit, Gray/Clear, 3/pkg",
          "File Shuttle I and Handi-File",
          "File Shuttle II and Handi-File, Black",
          "First Data FD10 PIN Pad",
          "First Data TMFD35 PIN Pad",
          "Fiskars 8\" Scissors, 2/Pack",
          "Fiskars Home & Office Scissors",
          "Fiskars Softgrip Scissors",
          "Fiskars Spring-Action Scissors",
          "Flat Face Poster Frame",
          "Flexible Leather- Look Classic Collection Ring Binder",
          "Floodlight Indoor Halogen Bulbs, 1 Bulb per Pack, 60 Watts",
          "Fluorescent Highlighters by Dixon",
          "G.E. Halogen Desk Lamp Bulbs",
          "G.E. Longer-Life Indoor Recessed Floodlight Bulbs",
          "GBC Binding covers",
          "GBC DocuBind 200 Manual Binding Machine",
          "GBC DocuBind 300 Electric Binding Machine",
          "GBC DocuBind P100 Manual Binding Machine",
          "GBC DocuBind P400 Electric Binding System",
          "GBC DocuBind P50 Personal Binding Machine",
          "GBC DocuBind TL200 Manual Binding Machine",
          "GBC Durable Plastic Covers",
          "GBC Imprintable Covers",
          "GBC Instant Index System for Binding Systems",
          "GBC Instant Report Kit",
          "GBC Laser Imprintable Binding System Covers, Desert Sand",
          "GBC Linen Binding Covers",
          "GBC Personal VeloBind Strips",
          "GBC Plastic Binding Combs",
          "GBC Poly Designer Binding Covers",
          "GBC Pre-Punched Binding Paper, Plastic, White, 8-1/2\" x 11\"",
          "GBC Premium Transparent Covers with Diagonal Lined Pattern",
          "GBC Prepunched Paper, 19-Hole, for Binding Systems, 24-lb",
          "GBC Prestige Therm-A-Bind Covers",
          "GBC ProClick 150 Presentation Binding System",
          "GBC Recycled Grain Textured Covers",
          "GBC Recycled Regency Composition Covers",
          "GBC Recycled VeloBinder Covers",
          "GBC Standard Plastic Binding Systems' Combs",
          "GBC Standard Recycled Report Covers, Clear Plastic Sheets",
          "GBC Standard Therm-A-Bind Covers",
          "GBC Therma-A-Bind 250T Electric Binding System",
          "GBC Twin Loop Wire Binding Elements",
          "GBC Twin Loop Wire Binding Elements, 9/16\" Spine, Black",
          "GBC VeloBind Cover Sets",
          "GBC VeloBinder Electric Binding Machine",
          "GBC VeloBinder Manual Binding System",
          "GBC Velobind Prepunched Cover Sets, Regency Series",
          "GBC White Gloss Covers, Plain Front",
          "GBC Wire Binding Combs",
          "GBC Wire Binding Strips",
          "GE 30524EE4",
          "GE 4 Foot Flourescent Tube, 40 Watt",
          "GE 48\" Fluorescent Tube, Cool White Energy Saver, 34 Watts, 30/Box",
          "GE DSL Phone Line Filter",
          "GE General Purpose, Extra Long Life, Showcase & Floodlight Incandescent Bulbs",
          "Gear Head AU3700S Headset",
          "Geemarc AmpliPOWER60",
          "Geographics Note Cards, Blank, White, 8 1/2\" x 11\"",
          "Global Adaptabilites Bookcase, Cherry/Storm Gray Finish",
          "Global Adaptabilities Conference Tables",
          "Global Airflow Leather Mesh Back Chair, Black",
          "Global Armless Task Chair, Royal Blue",
          "Global Chrome Stack Chair",
          "Global Comet Stacking Arm Chair",
          "Global Comet Stacking Armless Chair",
          "Global Deluxe High-Back Manager's Chair",
          "Global Deluxe High-Back Office Chair in Storm",
          "Global Deluxe Office Fabric Chairs",
          "Global Deluxe Stacking Chair, Gray",
          "Global Deluxe Steno Chair",
          "Global Enterprise Series Seating High-Back Swivel/Tilt Chairs",
          "Global Enterprise Series Seating Low-Back Swivel/Tilt Chairs",
          "Global Ergonomic Managers Chair",
          "Global Executive Mid-Back Manager's Chair",
          "Global Fabric Manager's Chair, Dark Gray",
          "Global Geo Office Task Chair, Gray",
          "Global High-Back Leather Tilter, Burgundy",
          "Global Highback Leather Tilter in Burgundy",
          "Global Leather & Oak Executive Chair, Burgundy",
          "Global Leather Executive Chair",
          "Global Leather Highback Executive Chair with Pneumatic Height Adjustment, Black",
          "Global Leather Task Chair, Black",
          "Global Leather and Oak Executive Chair, Black",
          "Global Low Back Tilter Chair",
          "Global Manager's Adjustable Task Chair, Storm",
          "Global Push Button Manager's Chair, Indigo",
          "Global Stack Chair with Arms, Black",
          "Global Stack Chair without Arms, Black",
          "Global Super Steno Chair",
          "Global Task Chair, Black",
          "Global Troy Executive Leather Low-Back Tilter",
          "Global Value Mid-Back Manager's Chair, Gray",
          "Global Value Steno Chair, Gray",
          "Global Wood Trimmed Manager's Task Chair, Khaki",
          "Globe Weis Peel & Seel First Class Envelopes",
          "Google Nexus 5",
          "Gould Plastics 18-Pocket Panel Bin, 34w x 5-1/4d x 20-1/2h",
          "Gould Plastics 9-Pocket Panel Bin, 18-3/8w x 5-1/4d x 20-1/2h, Black",
          "Grandstream GXP1160 VoIP phone",
          "Grandstream GXP2100 Mainstream Business Phone",
          "Great White Multi-Use Recycled Paper (20Lb. and 84 Bright)",
          "Green Bar Computer Printout Paper",
          "Green Canvas Binder for 8-1/2\" x 14\" Sheets",
          "Griffin GC17055 Auxiliary Audio Cable",
          "Griffin GC36547 PowerJolt SE Lightning Charger",
          "GuestStacker Chair with Chrome Finish Legs",
          "HON 5400 Series Task Chairs for Big and Tall",
          "HP Office Recycled Paper (20Lb. and 87 Bright)",
          "HP Officejet Pro 8600 e-All-In-One Printer, Copier, Scanner, Fax",
          "HP Standard 104 key PS/2 Keyboard",
          "HTC One",
          "HTC One Mini",
          "Hammermill Color Copier Paper (28Lb. and 96 Bright)",
          "Hammermill CopyPlus Copy Paper (20Lb. and 84 Bright)",
          "Hand-Finished Solid Wood Document Frame",
          "Hanging Personal Folder File",
          "Harbour Creations 67200 Series Stacking Chairs",
          "Harmony Air Purifier",
          "Harmony HEPA Quiet Air Purifiers",
          "Heavy-Duty E-Z-D Binders",
          "Hewlett Packard 310 Color Digital Copier",
          "Hewlett Packard 610 Color Digital Copier / Printer",
          "Hewlett Packard LaserJet 3310 Copier",
          "Hewlett-Packard Deskjet D4360 Printer",
          "High Speed Automatic Electric Letter Opener",
          "High-Back Leather Manager's Chair",
          "Holmes 99% HEPA Air Purifier",
          "Holmes Cool Mist Humidifier for the Whole House with 8-Gallon Output per Day, Extended Life Filter",
          "Holmes HEPA Air Purifier",
          "Holmes Odor Grabber",
          "Holmes Replacement Filter for HEPA Air Cleaner, Medium Room",
          "Holmes Visible Mist Ultrasonic Humidifier with 2.3-Gallon Output per Day, Replacement Filter",
          "Home/Office Personal File Carts",
          "Hon 2090 Â“Pillow SoftÂ” Series Mid Back Swivel/Tilt Chairs",
          "Hon 2111 Invitation Series Corner Table",
          "Hon 2111 Invitation Series Straight Table",
          "Hon 30\" x 60\" Table with Locking Drawer",
          "Hon 4-Shelf Metal Bookcases",
          "Hon 4060 Series Tables",
          "Hon 4070 Series Pagoda Armless Upholstered Stacking Chairs",
          "Hon 4070 Series Pagoda Round Back Stacking Chairs",
          "Hon 4700 Series Mobuis Mid-Back Task Chairs with Adjustable Arms",
          "Hon 5100 Series Wood Tables",
          "Hon 61000 Series Interactive Training Tables",
          "Hon 94000 Series Round Tables",
          "Hon Comfortask Task/Swivel Chairs",
          "Hon Deluxe Fabric Upholstered Stacking Chairs",
          "Hon Deluxe Fabric Upholstered Stacking Chairs, Rounded Back",
          "Hon Deluxe Fabric Upholstered Stacking Chairs, Squared Back",
          "Hon Every-Day Chair Series Swivel Task Chairs",
          "Hon Every-Day Series Multi-Task Chairs",
          "Hon GuestStacker Chair",
          "Hon Metal Bookcases, Black",
          "Hon Metal Bookcases, Putty",
          "Hon Multipurpose Stacking Arm Chairs",
          "Hon Non-Folding Utility Tables",
          "Hon Olson Stacker Stools",
          "Hon Pagoda Stacking Chairs",
          "Hon Practical Foundations 30 x 60 Training Table, Light Gray/Charcoal",
          "Hon Racetrack Conference Tables",
          "Hon Valutask Swivel Chairs",
          "Honeywell Enviracaire Portable HEPA Air Cleaner for 16' x 20' Room",
          "Honeywell Quietcare HEPA Air Cleaner",
          "Hoover Commercial Soft Guard Upright Vacuum And Disposable Filtration Bags",
          "Hoover Commercial SteamVac",
          "Hoover Replacement Belts For Soft Guard & Commercial Ltweight Upright Vacs, 2/Pk",
          "Hoover Shoulder Vac Commercial Portable Vacuum",
          "Hoover Upright Vacuum With Dirt Cup",
          "Hoover WindTunnel Plus Canister Vacuum",
          "Hot File 7-Pocket, Floor Stand",
          "Howard Miller 11-1/2\" Diameter Brentwood Wall Clock",
          "Howard Miller 11-1/2\" Diameter Grantwood Wall Clock",
          "Howard Miller 11-1/2\" Diameter Ridgewood Wall Clock",
          "Howard Miller 12\" Round Wall Clock",
          "Howard Miller 13\" Diameter Goldtone Round Wall Clock",
          "Howard Miller 13\" Diameter Pewter Finish Round Wall Clock",
          "Howard Miller 13-1/2\" Diameter Rosebrook Wall Clock",
          "Howard Miller 13-3/4\" Diameter Brushed Chrome Round Wall Clock",
          "Howard Miller 14-1/2\" Diameter Chrome Round Wall Clock",
          "Howard Miller 16\" Diameter Gallery Wall Clock",
          "Howard Miller Distant Time Traveler Alarm Clock",
          "Hunt BOSTON Model 1606 High-Volume Electric Pencil Sharpener, Beige",
          "Hunt BOSTON Vista Battery-Operated Pencil Sharpener, Black",
          "Hunt PowerHouse Electric Pencil Sharpener, Blue",
          "Hypercom P1300 Pinpad",
          "I Need's 3d Hello Kitty Hybrid Silicone Case Cover for HTC One X 4g with 3d Hello Kitty Stylus Pen Green/pink",
          "IBM Multi-Purpose Copy Paper, 8 1/2 x 11\", Case",
          "Ibico EB-19 Dual Function Manual Binding System",
          "Ibico EPK-21 Electric Binding System",
          "Ibico Hi-Tech Manual Binding System",
          "Ibico Ibimaster 300 Manual Binding System",
          "Ibico Laser Imprintable Binding System Covers",
          "Ibico Plastic Spiral Binding Combs",
          "Ibico Plastic and Wire Spiral Binding Combs",
          "Ibico Presentation Index for Binding Systems",
          "Ibico Recycled Grain-Textured Covers",
          "Ibico Recycled Linen-Style Covers",
          "Ibico Standard Transparent Covers",
          "Iceberg Mobile Mega Data/Printer Cart ",
          "Iceberg Nesting Folding Chair, 19w x 6d x 43h",
          "Iceberg OfficeWorks 42\" Round Tables",
          "Ideal Clamps",
          "Imation Bio 2GB USBÂ Flash Drive ImationÂ Corp",
          "Imation Bio 8GB USBÂ Flash Drive ImationÂ Corp",
          "ImationÂ 16GB Mini TravelDrive USB 2.0Â Flash Drive",
          "ImationÂ 30456 USBÂ Flash DriveÂ 8GB",
          "ImationÂ 32GB Pocket Pro USB 3.0Â Flash DriveÂ - 32 GB - Black - 1 P ...",
          "ImationÂ 8GB Mini TravelDrive USB 2.0Â Flash Drive",
          "ImationÂ 8gb Micro Traveldrive Usb 2.0Â Flash Drive",
          "ImationÂ Clip USBÂ flash driveÂ - 8 GB",
          "ImationÂ SecureÂ DriveÂ + Hardware Encrypted USBÂ flash driveÂ - 16 GB",
          "ImationÂ SwivelÂ Flash DriveÂ USBÂ flash driveÂ - 8 GB",
          "ImationÂ USB 2.0 SwivelÂ Flash DriveÂ USBÂ flash driveÂ - 4 GB - Pink",
          "Important Message Pads, 50 4-1/4 x 5-1/2 Forms per Pad",
          "Insertable Tab Post Binder Dividers",
          "Inter-Office Recycled Envelopes, Brown Kraft, Button-String,10\" x 13\" , 100/Box",
          "Iris Project Case",
          "It's Hot Message Books with Stickers, 2 3/4\" x 5\"",
          "JBL Micro Wireless Portable Bluetooth Speaker",
          "JM Magazine Binder",
          "Jabra BIZ 2300 Duo QD Duo CordedÂ Headset",
          "Jabra SPEAK 410",
          "Jackery Bar Premium Fast-charging Portable Charger",
          "Jawbone MINI JAMBOX Wireless Bluetooth Speaker",
          "Jensen SMPS-640 -Â speaker phone",
          "Jet-Pak Recycled Peel 'N' Seal Padded Mailers",
          "KI Adjustable-Height Table",
          "KI Conference Tables",
          "Kensington 4 Outlet MasterPiece Compact Power Control Center",
          "Kensington 6 Outlet Guardian Standard Surge Protector",
          "Kensington 6 Outlet MasterPiece HOMEOFFICE Power Control Center",
          "Kensington 7 Outlet MasterPiece HOMEOFFICE Power Control Center",
          "Kensington Expert Mouse Optical USB Trackball for PC or Mac",
          "Kensington K72356US Mouse-in-a-Box USB Desktop Mouse",
          "Kensington Orbit Wireless Mobile Trackball for PC and Mac",
          "KeyTronicÂ 6101 Series -Â KeyboardÂ - Black",
          "KeyTronicÂ E03601U1 -Â KeyboardÂ - Beige",
          "KeyTronicÂ KT400U2 -Â KeyboardÂ - Black",
          "Kingston Digital DataTraveler 16GB USB 2.0",
          "Kingston Digital DataTraveler 32GB USB 2.0",
          "Kingston Digital DataTraveler 64GB USB 2.0",
          "Kleencut Forged Office Shears by Acme United Corporation",
          "Konftel 250 ConferenceÂ phoneÂ - Charcoal black",
          "LF Elite 3D Dazzle Designer Hard Case Cover, Lf Stylus Pen and Wiper For Apple Iphone 5c Mini Lite",
          "LG Electronics Tone+ HBS-730 Bluetooth Headset",
          "LG G3",
          "Laminate Occasional Tables",
          "Large Capacity Hanging Post Binders",
          "Laser & Ink Jet Business Envelopes",
          "Leather Task Chair, Black",
          "Lenovo 17-Key USB Numeric Keypad",
          "Lesro Round Back Collection Coffee Table, End Table",
          "Lesro Sheffield Collection Coffee Table, End Table, Center Table, Corner Table",
          "Letter Size Cart",
          "Letter or Legal Size Expandable Poly String Tie Envelopes",
          "Letter/Legal File Tote with Clear Snap-On Lid, Black Granite",
          "Lexmark MX611dhe Monochrome Laser Printer",
          "Lexmark S315 Color Inkjet Printer",
          "Lifetime Advantage Folding Chairs, 4/Carton",
          "Linden 10\" Round Wall Clock, Black",
          "Linden 12\" Wall Clock With Oak Frame",
          "Lock-Up Easel 'Spel-Binder'",
          "Logitech 910-002974 M325 Wireless Mouse for Web Scrolling",
          "Logitech B530 USBÂ HeadsetÂ -Â headsetÂ - Full size, Binaural",
          "Logitech ClearChat Comfort/USB Headset H390",
          "Logitech Desktop MK120 Mouse and keyboard Combo",
          "Logitech G13 Programmable Gameboard with LCD Display",
          "Logitech G19 Programmable Gaming Keyboard",
          "Logitech G35 7.1-Channel Surround Sound Headset",
          "Logitech G430 Surround Sound Gaming Headset with Dolby 7.1 Technology",
          "Logitech G500s Laser Gaming Mouse with Adjustable Weight Tuning",
          "Logitech G600 MMO Gaming Mouse",
          "Logitech G602 Wireless Gaming Mouse",
          "Logitech G700s Rechargeable Gaming Mouse",
          "Logitech Illuminated Ultrathin Keyboard with Backlighting",
          "Logitech K350 2.4Ghz Wireless Keyboard",
          "Logitech Keyboard K120",
          "Logitech M510 Wireless Mouse",
          "Logitech Media Keyboard K200",
          "Logitech Mobile Speakerphone P710e -Â speaker phone",
          "Logitech Trackman Marble Mouse",
          "Logitech Wireless Anywhere Mouse MX for PC and Mac",
          "Logitech Wireless Gaming Headset G930",
          "Logitech Wireless Headset H600 Over-The-Head Design",
          "Logitech Wireless Headset h800",
          "Logitech Wireless Marathon Mouse M705",
          "Logitech Wireless Performance Mouse MX for PC and Mac",
          "Logitech Wireless Touch Keyboard K400",
          "LogitechÂ Gaming G510s - Keyboard",
          "LogitechÂ Illuminated - Keyboard",
          "LogitechÂ LS21 Speaker System - PC Multimedia - 2.1-CH - Wired",
          "LogitechÂ MX Performance Wireless Mouse",
          "LogitechÂ P710e Mobile Speakerphone",
          "LogitechÂ VX Revolution Cordless Laser Mouse for Notebooks (Black)",
          "LogitechÂ Z-906 Speaker sys - home theater - 5.1-CH",
          "Longer-Life Soft White Bulbs",
          "Lumber Crayons",
          "Lunatik TT5L-002 Taktik Strike Impact Protection System for iPhone 5",
          "Luxo Adjustable Task Clamp Lamp",
          "Luxo Economy Swing Arm Lamp",
          "Luxo Professional Combination Clamp-On Lamps",
          "Luxo Professional Fluorescent Magnifier Lamp with Clamp-Mount Base",
          "Luxo Professional Magnifying Clamp-On Fluorescent Lamps",
          "Macally Suction Cup Mount",
          "Magna Visual Magnetic Picture Hangers",
          "Magnifier Swing Arm Lamp",
          "Manco Dry-Lighter Erasable Highlighter",
          "Manila Recycled Extra-Heavyweight Clasp Envelopes, 6\" x 9\"",
          "Martin Yale Chadless Opener Electric Letter Opener",
          "Martin-Yale Premier Letter Opener",
          "Master Big Foot Doorstop, Beige",
          "Master Caster Door Stop, Brown",
          "Master Caster Door Stop, Gray",
          "Master Caster Door Stop, Large Brown",
          "Master Caster Door Stop, Large Neon Orange",
          "Master Giant Foot Doorstop, Safety Yellow",
          "Maxell 4.7GB DVD+RW 3/Pack",
          "Maxell 4.7GB DVD-R 5/Pack",
          "Maxell 74 Minute CD-R Spindle, 50/Pack",
          "Maxell 74 Minute CDR, 10/Pack",
          "Maxell DVD-RAM Discs",
          "MaxellÂ LTO Ultrium - 800 GB",
          "Mead 1st Gear 2\" Zipper Binder, Asst. Colors",
          "Mediabridge Sport Armband iPhone 5s",
          "Memorex 25GB 6X Branded Blu-Ray Recordable Disc, 15/Pack",
          "Memorex 25GB 6X Branded Blu-Ray Recordable Disc, 30/Pack",
          "Memorex Froggy Flash Drive 4 GB",
          "Memorex Froggy Flash Drive 8 GB",
          "Memorex Micro Travel Drive 16 GB",
          "Memorex Micro Travel Drive 32 GB",
          "Memorex Micro Travel Drive 8 GB",
          "Memorex Mini Travel Drive 16 GB USB 2.0 Flash Drive",
          "Memorex Mini Travel Drive 32 GB USB 2.0 Flash Drive",
          "Memorex Mini Travel Drive 64 GB USB 2.0 Flash Drive",
          "Memorex Mini Travel Drive 8 GB USB 2.0 Flash Drive",
          "Message Book, Phone, Wirebound Standard Line Memo, 2 3/4\" X 5\"",
          "Message Book, Standard Line \"While You Were Out\", 5 1/2\" X 4\", 200 Sets/Book",
          "Message Book, Wirebound, Four 5 1/2\" X 4\" Forms/Pg., 200 Dupl. Sets/Book",
          "Metal Folding Chairs, Beige, 4/Carton",
          "Micro Innovations USB RF Wireless Keyboard with Mouse",
          "Micropad Numeric Keypads",
          "Microsoft Arc Touch Mouse",
          "Microsoft Natural Ergonomic Keyboard 4000",
          "Microsoft Natural Keyboard Elite",
          "Microsoft Sculpt Comfort Mouse",
          "Microsoft Wireless Mobile Mouse 4000",
          "Mini 13-1/2 Capacity Data Binder Rack, Pearl",
          "Mitel 5320 IP Phone VoIP phone",
          "Mitel MiVoice 5330e IP Phone",
          "Mobile Personal File Cube",
          "Model L Table or Wall-Mount Pencil Sharpener",
          "Mophie Juice Pack Helium for iPhone",
          "Motorla HX550 Universal Bluetooth Headset",
          "Motorola HK250 Universal Bluetooth Headset",
          "Motorola L703CM",
          "Motorola L804",
          "Motorola Moto X",
          "Multi-Use Personal File Cart and Caster Set, Three Stacking Bins",
          "Multicolor Computer Printout Paper",
          "NETGEAR AC1750 Dual Band GigabitÂ Smart WiFi Router",
          "NETGEAR N750 Dual Band Wi-Fi Gigabit Router",
          "Neat Ideas Personal Hanging Folder Files, Black",
          "Newell 3-Hole Punched Plastic Slotted Magazine Holders for Binders",
          "Newell 307",
          "Newell 308",
          "Newell 309",
          "Newell 31",
          "Newell 310",
          "Newell 311",
          "Newell 312",
          "Newell 313",
          "Newell 314",
          "Newell 317",
          "Newell 318",
          "Newell 319",
          "Newell 32",
          "Newell 320",
          "Newell 321",
          "Newell 322",
          "Newell 323",
          "Newell 324",
          "Newell 325",
          "Newell 326",
          "Newell 327",
          "Newell 328",
          "Newell 329",
          "Newell 33",
          "Newell 330",
          "Newell 332",
          "Newell 333",
          "Newell 334",
          "Newell 335",
          "Newell 336",
          "Newell 338",
          "Newell 339",
          "Newell 34",
          "Newell 341",
          "Newell 343",
          "Newell 344",
          "Newell 345",
          "Newell 346",
          "Newell 347",
          "Newell 348",
          "Newell 35",
          "Newell 350",
          "Newell 351",
          "Newell Chalk Holder",
          "Nokia Lumia 521 (T-Mobile)",
          "Nokia Lumia 925",
          "Nontoxic Chalk",
          "Nortel Business Series Terminal T7208 Digital phone",
          "Nortel Meridian M3904 Professional Digital phone",
          "Novimex Fabric Task Chair",
          "Novimex High-Tech Fabric Mesh Task Chair",
          "Novimex Swivel Fabric Task Chair",
          "Novimex Turbo Task Chair",
          "Nu-Dell Executive Frame",
          "Nu-Dell Float Frame 11 x 14 1/2",
          "Nu-Dell Leatherette Frames",
          "Nu-Dell Oak Frame",
          "O'Sullivan 2-Door Barrister Bookcase in Odessa Pine",
          "O'Sullivan 2-Shelf Heavy-Duty Bookcases",
          "O'Sullivan 3-Shelf Heavy-Duty Bookcases",
          "O'Sullivan 4-Shelf Bookcase in Odessa Pine",
          "O'Sullivan 5-Shelf Heavy-Duty Bookcases",
          "O'Sullivan Cherrywood Estates Traditional Bookcase",
          "O'Sullivan Elevations Bookcase, Cherry Finish",
          "O'Sullivan Living Dimensions 2-Shelf Bookcases",
          "O'Sullivan Living Dimensions 3-Shelf Bookcases",
          "O'Sullivan Manor Hill 2-Door Library in Brianna Oak",
          "OIC #2 Pencils, Medium Soft",
          "OIC Binder Clips",
          "OIC Binder Clips, Mini, 1/4\" Capacity, Black",
          "OIC Bulk Pack Metal Binder Clips",
          "OIC Colored Binder Clips, Assorted Sizes",
          "OIC Stacking Trays",
          "OIC Thumb-Tacks",
          "Office Impressions Heavy Duty Welded Shelving & Multimedia Storage Drawers",
          "Office Star - Contemporary Swivel Chair with Padded Adjustable Arms and Flex Back",
          "Office Star - Contemporary Task Swivel Chair",
          "Office Star - Contemporary Task Swivel chair with Loop Arms, Charcoal",
          "Office Star - Ergonomic Mid Back Chair with 2-Way Adjustable Arms",
          "Office Star - Ergonomically Designed Knee Chair",
          "Office Star - Mesh Screen back chair with Vinyl seat",
          "Office Star - Mid Back Dual function Ergonomic High Back Chair with 2-Way Adjustable Arms",
          "Office Star - Professional Matrix Back Chair with 2-to-1 Synchro Tilt and Mesh Fabric Seat",
          "Office Star - Task Chair with Contemporary Loop Arms",
          "Office Star Flex Back Scooter Chair with Aluminum Finish Frame",
          "Office Star Flex Back Scooter Chair with White Frame",
          "Okidata B400 Printer",
          "Okidata B401 Printer",
          "Okidata C331dn Printer",
          "Okidata MB491 Multifunction Printer",
          "Okidata MB760 Printer",
          "Ooma Telo VoIP Home Phone System",
          "OtterBox Commuter Series Case - Samsung Galaxy S4",
          "OtterBox Commuter Series Case - iPhone 5 & 5s",
          "OtterBox Defender Series Case - Samsung Galaxy S4",
          "OtterBox Defender Series Case - iPhone 5c",
          "Padded Folding Chairs, Black, 4/Carton",
          "Panasonic KP-150 Electric Pencil Sharpener",
          "Panasonic KP-310 Heavy-Duty Electric Pencil Sharpener",
          "Panasonic KP-350BK Electric Pencil Sharpener with Auto Stop",
          "Panasonic KP-380BK Classic Electric Pencil Sharpener",
          "Panasonic KP-4ABK Battery-Operated Pencil Sharpener",
          "Panasonic KX MB2061 Multifunction Printer",
          "Panasonic KX MC6040 Color Laser Multifunction Printer",
          "Panasonic KX T7731-B Digital phone",
          "Panasonic KX T7736-B Digital phone",
          "Panasonic KX TS208W Corded phone",
          "Panasonic KX TS3282B Corded phone",
          "Panasonic KX TS3282W Corded phone",
          "Panasonic KX-TG6844B Expandable Digital Cordless Telephone",
          "Panasonic KX-TG9541B DECT 6.0 Digital 2-Line Expandable Cordless Phone With Digital Answering System",
          "Panasonic Kx-TS550",
          "Pastel Pink Envelopes",
          "PayAnywhere Card Reader",
          "Peel & Seel Envelopes",
          "Peel & Seel Recycled Catalog Envelopes, Brown",
          "Peel & Stick Add-On Corner Pockets",
          "Peel-Off China Markers",
          "Pencil and Crayon Sharpener",
          "Performers Binder/Pad Holder, Black",
          "Perixx PERIBOARD-512B, Ergonomic Split Keyboard",
          "Perma STOR-ALL Hanging File Box, 13 1/8\"W x 12 1/4\"D x 10 1/2\"H",
          "Permanent Self-Adhesive File Folder Labels for Typewriters by Universal",
          "Permanent Self-Adhesive File Folder Labels for Typewriters, 1 1/8 x 3 1/2, White",
          "Personal Creations Ink Jet Cards and Labels",
          "Personal File Boxes with Fold-Down Carry Handle",
          "Personal Filing Tote with Lid, Black/Gray",
          "Personal Folder Holder, Ebony",
          "Petty Cash Envelope",
          "Pizazz Global Quick File",
          "Plantronics 81402",
          "Plantronics Audio 478 Stereo USB Headset",
          "Plantronics Audio 995 Wireless Stereo Headset",
          "Plantronics CS 50-USB -Â headsetÂ - Convertible, Monaural",
          "Plantronics CS510 - Over-the-Head monaural Wireless Headset System",
          "Plantronics Calisto P620-M USB Wireless Speakerphone System",
          "Plantronics CordlessÂ Phone HeadsetÂ with In-line Volume - M214C",
          "Plantronics Encore H101 Dual EarpiecesÂ Headset",
          "Plantronics HL10 Handset Lifter",
          "Plantronics MX500i Earset",
          "Plantronics S12 Corded Telephone Headset System",
          "Plantronics Savi W720 Multi-Device Wireless Headset System",
          "Plantronics Single Ear Headset",
          "Plantronics Voyager Pro HD - Bluetooth Headset",
          "Plantronics Voyager Pro Legend",
          "Plastic Binding Combs",
          "Plymouth Boxed Rubber Bands by Plymouth",
          "Poly Designer Cover & Back",
          "Poly String Tie Envelopes",
          "Polycom CX300 Desktop Phone USB VoIP phone",
          "Polycom CX600 IP Phone VoIP phone",
          "Polycom SoundPoint IP 450 VoIP phone",
          "Polycom SoundPoint Pro SE-225 Corded phone",
          "Polycom SoundStation2 EX ConferenceÂ phone",
          "Polycom VVX 310 VoIP phone",
          "Polycom VoiceStation 500 ConferenceÂ phone",
          "Portable Personal File Box",
          "PowerGen Dual USB Car Charger",
          "Prang Colored Pencils",
          "Prang Drawing Pencil Set",
          "Prang Dustless Chalk Sticks",
          "Premier Automatic Letter Opener",
          "Premier Electric Letter Opener",
          "Premier Elliptical Ring Binder, Black",
          "Premium Transparent Presentation Covers by GBC",
          "Premium Transparent Presentation Covers, No Pattern/Clear, 8 1/2\" x 11\"",
          "Premium Writing Pencils, Soft, #2 by Central Association for the Blind",
          "Pressboard Covers with Storage Hooks, 9 1/2\" x 11\", Light Blue",
          "Pressboard Data Binder, Crimson, 12\" X 8 1/2\"",
          "Pressboard Data Binders by Wilson Jones",
          "Pressboard Hanging Data Binders for Unburst Sheets",
          "Presstex Flexible Ring Binders",
          "Prestige Round Ring Binders",
          "Prismacolor Color Pencil Set",
          "Project Tote Personal File",
          "Pyle PMP37LED",
          "Pyle PRT45 Retro HomeÂ Telephone",
          "QVS USB Car Charger 2-Port 2.1Amp for iPod/iPhone/iPad/iPad 2/iPad 3",
          "Quartet Omega Colored Chalk, 12/Pack",
          "RCA ViSYS 25423RE1 Corded phone",
          "RCA ViSYS 25825 Wireless digital phone",
          "RCA Visys Integrated PBX 8-Line Router",
          "REDIFORM Incoming/Outgoing Call Register, 11\" X 8 1/2\", 100 Messages",
          "Razer Kraken 7.1 Surround Sound Over Ear USB Gaming Headset",
          "Razer Kraken PRO Over Ear PC and Music Headset",
          "Razer Tiamat Over Ear 7.1 Surround Sound PC Gaming Headset",
          "Recycled Data-Pak for Archival Bound Computer Printouts, 12-1/2 x 12-1/2 x 16",
          "Recycled Desk Saver Line \"While You Were Out\" Book, 5 1/2\" X 4\"",
          "Recycled Easel Ring Binders",
          "Recycled Interoffice Envelopes with String and Button Closure, 10 x 13",
          "Recycled Premium Regency Composition Covers",
          "Recycled Pressboard Report Cover with Reinforced Top Hinge",
          "Recycled Steel Personal File for Hanging File Folders",
          "Redi-Strip #10 Envelopes, 4 1/8 x 9 1/2",
          "Rediform S.O.S. 1-Up Phone Message Bk, 4-1/4x3-1/16 Bk, 1 Form/Pg, 40 Messages/Bk, 3/Pk",
          "Rediform S.O.S. Phone Message Books",
          "Rediform Voice Mail Log Books",
          "Rediform Wirebound \"Phone Memo\" Message Book, 11 x 5-3/4",
          "Regeneration Desk Collection",
          "Revere Boxed Rubber Bands by Revere",
          "Ricoh - Ink Collector Unit for GX3000 Series Printers",
          "Riverleaf Stik-Withit Designer Note Cubes",
          "Riverside Furniture Oval Coffee Table, Oval End Table, End Table with Drawer",
          "Riverside Palais Royal Lawyers Bookcase, Royale Cherry Finish",
          "Rogers Deluxe File Chest",
          "Rogers Handheld Barrel Pencil Sharpener",
          "Rogers Jumbo File, Granite",
          "Rogers Profile Extra Capacity Storage Tub",
          "Rosewill 107 Normal Keys USB Wired Standard Keyboard",
          "Round Ring Binders",
          "Round Specialty Laser Printer Labels",
          "Rubber Band Ball",
          "Rubbermaid ClusterMat Chairmats, Mat Size- 66\" x 60\", Lip 20\" x 11\" -90 Degree Angle",
          "Rush Hierlooms Collection 1\" Thick Stackable Bookcases",
          "SAFCO Arco Folding Chair",
          "SAFCO Boltless Steel Shelving",
          "SAFCO Commercial Wire Shelving, Black",
          "SAFCO Mobile Desk Side File, Wire Frame",
          "SAFCO Optional Arm Kit for Workspace Cribbage Stacking Chair",
          "SAFCO PlanMaster Boards, 60w x 37-1/2d, White Melamine",
          "SAFCO PlanMaster Heigh-Adjustable Drafting Table Base, 43w x 30d x 30-37h, Black",
          "SANFORD Liquid Accent Tank-Style Highlighters",
          "SANFORD Major Accent Highlighters",
          "Safco Chair Connectors, 6/Carton",
          "Safco Commercial Shelving",
          "Safco Contoured Stacking Chairs",
          "Safco Drafting Table",
          "Safco Industrial Wire Shelving",
          "Safco Value Mate Series Steel Bookcases, Baked Enamel Finish on Steel, Gray",
          "Safco Value Mate Steel Bookcase, Baked Enamel Finish on Steel, Black",
          "Safco Wire Cube Shelving System, For Use as 4 or 5 14\" Cubes, Black",
          "Samsung Galaxy Mega 6.3",
          "Samsung Galaxy Note 2",
          "Samsung Galaxy Note 3",
          "Samsung Galaxy S III - 16GB - pebble blue (T-Mobile)",
          "Samsung Galaxy S4",
          "Samsung Galaxy S4 Mini",
          "Samsung HM1900 Bluetooth Headset",
          "Samsung Replacement EH64AVFWE Premium Headset",
          "Samsung Rugby III",
          "SanDisk Cruzer 32 GB USB Flash Drive",
          "SanDisk Cruzer 64 GB USB Flash Drive",
          "SanDisk Ultra 16 GB MicroSDHC Class 10 Memory Card",
          "SanDisk Ultra 32 GB MicroSDHC Class 10 Memory Card",
          "SanDisk Ultra 64 GB MicroSDHC Class 10 Memory Card",
          "Sanford 52201 APSCO Electric Pencil Sharpener",
          "Sanford Colorific Colored Pencils, 12/Box",
          "Sanford Colorific Eraseable Coloring Pencils, 12 Count",
          "Sanford EarthWrite Recycled Pencils, Medium Soft, #2",
          "Sanyo 2.5 Cubic Foot Mid-Size Office Refrigerators",
          "Sanyo Counter Height Refrigerator with Crisper, 3.6 Cubic Foot, Stainless Steel/Black",
          "Satellite Sectional Post Binders",
          "Sauder Barrister Bookcases",
          "Sauder Camden County Barrister Bookcase, Planked Cherry Finish",
          "Sauder Camden County Collection Libraries, Planked Cherry Finish",
          "Sauder Camden County Collection Library",
          "Sauder Facets Collection Library, Sky Alder Finish",
          "Sauder Facets Collection Locker/File Cabinet, Sky Alder Finish",
          "Sauder Forest Hills Library with Doors, Woodland Oak Finish",
          "Sauder Forest Hills Library, Woodland Oak Finish",
          "Sauder Inglewood Library Bookcases",
          "Sauder Mission Library with Doors, Fruitwood Finish",
          "Security-Tint Envelopes",
          "Seidio BD2-HK3IPH5-BK DILEX Case and Holster Combo for Apple iPhone 5/5s - Black",
          "Self-Adhesive Address Labels for Typewriters by Universal",
          "Self-Adhesive Removable Labels",
          "Self-Adhesive Ring Binder Labels",
          "Sensible Storage WireTech Storage Systems",
          "Serrated Blade or Curved Handle Hand Letter Openers",
          "Seth Thomas 12\" Clock w/ Goldtone Case",
          "Seth Thomas 13 1/2\" Wall Clock",
          "Seth Thomas 14\" Day/Date Wall Clock",
          "Seth Thomas 16\" Steel Case Clock",
          "Seth Thomas 8 1/2\" Cubicle Clock",
          "Sharp 1540cs Digital Laser Copier",
          "Sharp AL-1530CS Digital Copier",
          "Shocksock Galaxy S4 Armband",
          "ShoreTel ShorePhone IP 230 VoIP phone",
          "SimpliFile Personal File, Black Granite, 15w x 6-15/16d x 11-1/4h",
          "Situations Contoured Folding Chairs, 4/Set",
          "SlimView Poly Binder, 3/8\"",
          "SmartStand Mobile Device Holder, Assorted Colors",
          "Smead Alpha-Z Color-Coded Name Labels First Letter Starter Set",
          "Smead Alpha-Z Color-Coded Second Alphabetical Labels and Starter Set",
          "Snap-A-Way Black Print Carbonless Ruled Speed Letter, Triplicate",
          "Socket Bluetooth Cordless Hand Scanner (CHS)",
          "Sony 16GB Class 10 Micro SDHC R40 Memory Card",
          "Sony 32GB Class 10 Micro SDHC R40 Memory Card",
          "Sony 64GB Class 10 Micro SDHC R40 Memory Card",
          "Sony Micro Vault Click 16 GB USB 2.0 Flash Drive",
          "Sony Micro Vault Click 4 GB USB 2.0 Flash Drive",
          "Sony Micro Vault Click 8 GB USB 2.0 Flash Drive",
          "Sortfiler Multipurpose Personal File Organizer, Black",
          "Southworth 100% RÃ©sumÃ© Paper, 24lb.",
          "Southworth 25% Cotton Antique Laid Paper & Envelopes",
          "Southworth 25% Cotton Linen-Finish Paper & Envelopes",
          "Southworth 25% Cotton Premium Laser Paper and Envelopes",
          "Southworth Parchment Paper & Envelopes",
          "Southworth Structures Collection",
          "Space Solutions Commercial Steel Shelving",
          "Space Solutions HD Industrial Steel Shelving.",
          "SpineVue Locking Slant-D Ring Binders by Cardinal",
          "Spiral Phone Message Books with Labels by Adams",
          "Square Credit Card Reader",
          "Square Credit Card Reader, 4 1/2\" x 4 1/2\" x 1\", White",
          "Square Ring Data Binders, Rigid 75 Pt. Covers, 11\" x 14-7/8\"",
          "Stackable Trays",
          "Stacking Trays by OIC",
          "Standard Line Â“While You Were OutÂ” Hardbound Telephone Message Book",
          "Standard Rollaway File with Lock",
          "Stanley Contemporary Battery Pencil Sharpeners",
          "Staples",
          "Staples",
          "Staples",
          "Staples",
          "Staples",
          "Staples",
          "Staples",
          "Staples",
          "Staples",
          "Staples",
          "Star Micronics TSP800 TSP847IIU Receipt Printer",
          "StarTech.com 10/100 VDSL2 Ethernet Extender Kit",
          "Sterilite Officeware Hinged File Box",
          "Sterilite Show Offs Storage Containers",
          "Sterling Rubber Bands by Alliance",
          "Stiletto Hand Letter Openers",
          "Stockwell Push Pins",
          "Storex Dura Pro Binders",
          "Storex Flexible Poly Binders with Double Pockets",
          "Strathmore #10 Envelopes, Ultimate White",
          "Strathmore Photo Frame Cards",
          "Strathmore Photo Mount Cards",
          "Stur-D-Stor Shelving, Vertical 5-Shelf: 72\"H x 36\"W x 18 1/2\"D",
          "Super Bands, 12/Pack",
          "Super Decoflex Portable Personal File",
          "Surelock Post Binders",
          "Swingline SM12-08 MicroCut Jam Free Shredder",
          "TOPS \"Important Message\" Pads, Canary, 4-1/4 x 5-1/2, 50 Sheets per Pad",
          "TOPS 4 x 6 Fluorescent Color Memo Sheets, 500 Sheets per Pack",
          "TOPS Carbonless Receipt Book, Four 2-3/4 x 7-1/4 Money Receipts per Page",
          "TOPS Money Receipt Book, Consecutively Numbered in Red,",
          "TRENDnet 56K USB 2.0 Phone, Internet and Fax Modem",
          "Telephone Message Books with Fax/Mobile Section, 5 1/2\" x 3 3/16\"",
          "Tenex \"The Solids\" Textured Chair Mats",
          "Tenex 46\" x 60\" Computer Anti-Static Chairmat, Rectangular Shaped",
          "Tenex B1-RE Series Chair Mats for Low Pile Carpets",
          "Tenex Carpeted, Granite-Look or Clear Contemporary Contour Shape Chair Mats",
          "Tenex Chairmats For Use With Carpeted Floors",
          "Tenex Chairmats For Use with Hard Floors",
          "Tenex Contemporary Contur Chairmats for Low and Medium Pile Carpet, Computer, 39\" x 49\"",
          "Tenex File Box, Personal Filing Tote with Lid, Black",
          "Tenex Personal Filing Tote With Secure Closure Lid, Black/Frost",
          "Tenex Personal Project File with Scoop Front Design, Black",
          "Tenex Traditional Chairmats for Hard Floors, Average Lip, 36\" x 48\"",
          "Tenex Traditional Chairmats for Medium Pile Carpet, Standard Lip, 36\" x 48\"",
          "Tenex V2T-RE Standard Weight Series Chair Mat, 45\" x 53\", Lip 25\" x 12\"",
          "Tennsco 16-Compartment Lockers with Coat Rack",
          "Tennsco 6- and 18-Compartment Lockers",
          "Tennsco Commercial Shelving",
          "Tennsco Double-Tier Lockers",
          "Tennsco Industrial Shelving",
          "Tennsco Lockers, Gray",
          "Tennsco Regal Shelving Units",
          "Tennsco Single-Tier Lockers",
          "Tennsco Snap-Together Open Shelving Units, Starter Sets and Add-On Units",
          "Tennsco Stur-D-Stor Boltless Shelving, 5 Shelves, 24\" Deep, Sand",
          "Tensor Brushed Steel Torchiere Floor Lamp",
          "Tensor Computer Mounted Lamp",
          "Texas Instrument TI-15 Fraction Calculator",
          "Texas Instruments TI-34 Scientific Calculator",
          "Things To Do Today Pad",
          "Things To Do Today Spiral Book",
          "Tops Green Bar Computer Printout Paper",
          "Tops White Computer Printout Paper",
          "Tops Wirebound Message Log Books",
          "Toshiba IPT2010-SD IPÂ Telephone",
          "Trav-L-File Heavy-Duty Shuttle II, Black",
          "Trimflex Flexible Post Binders",
          "Tripp Lite TLP810NET Broadband Surge for Modem/Fax",
          "Tuf-Vin Binders",
          "Tuff Stuff Recycled Round Ring Binders",
          "Turquoise Lead Holder with Pocket Clip",
          "Tyvek  Top-Opening Peel & Seel Envelopes, Plain White",
          "Tyvek Interoffice Envelopes, 9 1/2\" x 12 1/2\", 100/Box",
          "Tyvek Side-Opening Peel & Seel Expanding Envelopes",
          "Ultra Door Pull Handle",
          "Ultra Door Push Plate",
          "UniKeep View Case Binders",
          "Universal Premium White Copier/Laser Paper (20Lb. and 87 Bright)",
          "Universal Recycled Hanging Pressboard Report Binders, Letter Size",
          "Universal Ultra Bright White Copier/Laser Paper, 8 1/2\" x 11\", Ream",
          "Unpadded Memo Slips",
          "VTech DS6151",
          "VariCap6 Expandable Binder",
          "Verbatim 25 GB 6x Blu-ray Single Layer Recordable Disc, 10/Pack",
          "Verbatim 25 GB 6x Blu-ray Single Layer Recordable Disc, 3/Pack",
          "Verbatim Slim CD and DVD Storage Cases, 50/Pack",
          "Vinyl Coated Wire Paper Clips in Organizer Box, 800/Box",
          "Vinyl Sectional Post Binders",
          "Vtech AT&T CL2940 Corded Speakerphone, Black",
          "Vtech CS6719",
          "WD My Passport Ultra 1TB Portable External Hard Drive",
          "WD My Passport Ultra 2TB Portable External Hard Drive",
          "WD My Passport Ultra 500GB Portable External Hard Drive",
          "Wausau Papers Astrobrights Colored Envelopes",
          "Westinghouse Clip-On Gooseneck Lamps",
          "Westinghouse Floor Lamp with Metal Mesh Shade, Black",
          "Westinghouse Mesh Shade Clip-On Gooseneck Lamp, Black",
          "Weyerhaeuser First Choice Laser/Copy Paper (20Lb. and 88 Bright)",
          "While You Were Out Pads, 50 per Pad, 4 x 5 1/4, Green Cycle",
          "White Business Envelopes with Contemporary Seam, Recycled White Business Envelopes",
          "White Computer Printout Paper by Universal",
          "White Dual Perf Computer Printout Paper, 2700 Sheets, 1 Part, Heavyweight, 20 lbs., 14 7/8 x 11",
          "White Envelopes, White Envelopes with Clear Poly Window",
          "White GlueTop Scratch Pads",
          "Wi-Ex zBoost YX540 Cellular Phone Signal Booster",
          "Wilson Electronics DB Pro Signal Booster",
          "Wilson Jones 1\" Hanging DublLock Ring Binders",
          "Wilson Jones 14 Line Acrylic Coated Pressboard Data Binders",
          "Wilson Jones Active Use Binders",
          "Wilson Jones Century Plastic Molded Ring Binders",
          "Wilson Jones Clip & Carry Folder Binder Tool for Ring Binders, Clear",
          "Wilson Jones Custom Binder Spines & Labels",
          "Wilson Jones DublLock D-Ring Binders",
          "Wilson Jones Easy Flow II Sheet Lifters",
          "Wilson Jones Elliptical Ring 3 1/2\" Capacity Binders, 800 sheets",
          "Wilson Jones Four-Pocket Poly Binders",
          "Wilson Jones Hanging View Binder, White, 1\"",
          "Wilson Jones Heavy-Duty Casebound Ring Binders with Metal Hinges",
          "Wilson Jones Impact Binders",
          "Wilson Jones International Size A4 Ring Binders",
          "Wilson Jones Leather-Like Binders with DublLock Round Rings",
          "Wilson Jones Ledger-Size, Piano-Hinge Binder, 2\", Blue",
          "Wilson Jones Legal Size Ring Binders",
          "Wilson Jones Standard D-Ring Binders",
          "Wilson Jones Turn Tabs Binder Tool for Ring Binders",
          "Wilson Jones data.warehouse D-Ring Binders with DublLock",
          "Wilson SignalBoost 841262 DB PRO Amplifier Kit",
          "Wirebound Four 2-3/4 x 5 Forms per Page, 400 Sets per Book",
          "Wirebound Message Book, 4 per Page",
          "Wirebound Message Books, 2 7/8\" x 5\", 3 Forms per Page",
          "Wirebound Message Books, 5-1/2 x 4 Forms, 2 or 4 Forms per Page",
          "Wirebound Message Books, Four 2 3/4 x 5 Forms per Page, 200 Sets per Book",
          "Wirebound Message Books, Four 2 3/4 x 5 White Forms per Page",
          "Wirebound Message Books, Four 2 3/4\" x 5\" Forms per Page, 600 Sets per Book",
          "Wirebound Message Books, Two 4 1/4\" x 5\" Forms per Page",
          "Wirebound Message Forms, Four 2 3/4 x 5 Forms per Page, Pink Paper",
          "Wirebound Service Call Books, 5 1/2\" x 4\"",
          "Wireless Extenders zBoost YX545 SOHO Signal Booster",
          "Woodgrain Magazine Files by Perma",
          "X-Rack File for Hanging Folders",
          "Xerox 1880",
          "Xerox 1881",
          "Xerox 1882",
          "Xerox 1883",
          "Xerox 1884",
          "Xerox 1885",
          "Xerox 1886",
          "Xerox 1887",
          "Xerox 1888",
          "Xerox 189",
          "Xerox 1891",
          "Xerox 1892",
          "Xerox 1893",
          "Xerox 1894",
          "Xerox 1895",
          "Xerox 1896",
          "Xerox 1897",
          "Xerox 1898",
          "Xerox 1899",
          "Xerox 19",
          "Xerox 190",
          "Xerox 1900",
          "Xerox 1903",
          "Xerox 1905",
          "Xerox 1907",
          "Xerox 1908",
          "Xerox 1909",
          "Xerox 191",
          "Xerox 1911",
          "Xerox 1912",
          "Xerox 1913",
          "Xerox 1914",
          "Xerox 1915",
          "Xerox 1916",
          "Xerox 1917",
          "Xerox 1919",
          "Xerox 192",
          "Xerox 1920",
          "Xerox 1922",
          "Xerox 1923",
          "Xerox 1924",
          "Xerox 1925",
          "Xerox 1927",
          "Xerox 1928",
          "Xerox 1929",
          "Xerox 193",
          "Xerox 1930",
          "Xerox 1931",
          "Xerox 1932",
          "Xerox 1933",
          "Xerox 1934",
          "Xerox 1937",
          "Xerox 1939",
          "Xerox 194",
          "Xerox 1940",
          "Xerox 1941",
          "Xerox 1942",
          "Xerox 1943",
          "Xerox 1944",
          "Xerox 1945",
          "Xerox 1946",
          "Xerox 1947",
          "Xerox 1949",
          "Xerox 195",
          "Xerox 1951",
          "Xerox 1952",
          "Xerox 1953",
          "Xerox 1954",
          "Xerox 1959",
          "Xerox 196",
          "Xerox 1960",
          "Xerox 1962",
          "Xerox 1964",
          "Xerox 1965",
          "Xerox 1966",
          "Xerox 1967",
          "Xerox 1968",
          "Xerox 1970",
          "Xerox 1971",
          "Xerox 1972",
          "Xerox 1973",
          "Xerox 1974",
          "Xerox 1975",
          "Xerox 1976",
          "Xerox 1977",
          "Xerox 1978",
          "Xerox 1979",
          "Xerox 1981",
          "Xerox 1982",
          "Xerox 1983",
          "Xerox 1984",
          "Xerox 1986",
          "Xerox 1987",
          "Xerox 1988",
          "Xerox 1991",
          "Xerox 1992",
          "Xerox 1995",
          "Xerox 1996",
          "Xerox 1997",
          "Xerox 1999",
          "Xerox 2",
          "Xerox 20",
          "Xerox 200",
          "Xerox 2000",
          "Xerox 201",
          "Xerox 202",
          "Xerox 203",
          "Xerox 204",
          "Xerox 206",
          "Xerox 209",
          "Xerox 21",
          "Xerox 210",
          "Xerox 211",
          "Xerox 212",
          "Xerox 213",
          "Xerox 214",
          "Xerox 215",
          "Xerox 216",
          "Xerox 217",
          "Xerox 218",
          "Xerox 219",
          "Xerox 22",
          "Xerox 220",
          "Xerox 221",
          "Xerox 222",
          "Xerox 223",
          "Xerox 225",
          "Xerox 226",
          "Xerox 227",
          "Xerox 228",
          "Xerox 229",
          "Xerox 23",
          "Xerox 230",
          "Xerox 231",
          "Xerox 232",
          "Xerox 4200 Series MultiUse Premium Copy Paper (20Lb. and 84 Bright)",
          "Xerox Blank Computer Paper",
          "Xerox Color Copier Paper, 11\" x 17\", Ream",
          "XtraLife ClearVue Slant-D Ring Binder, White, 3\"",
          "XtraLife ClearVue Slant-D Ring Binders by Cardinal",
          "Zebra GK420t Direct Thermal/Thermal Transfer Printer",
          "Zebra GX420t Direct Thermal/Thermal Transfer Printer",
          "Zebra Zazzle Fluorescent Highlighters",
          "Zipper Ring Binder Pockets",
          "i.Sound Portable Power - 8000 mAh",
          "iHome FM Clock Radio with Lightning Dock",
          "iKross Bluetooth Portable Keyboard + Cell Phone Stand Holder + Brush for Apple iPhone 5S 5C 5, 4S 4",
          "iOttie HLCRIO102 Car Mount",
          "iOttie XL Car Mount",
          "invisibleSHIELD by ZAGG Smudge-Free Screen Protector",
          "netTALK DUO VoIP Telephone Service",
          "Accessories",
          "Appliances",
          "Art",
          "Binders",
          "Bookcases",
          "Chairs",
          "Copiers",
          "Envelopes",
          "Fasteners",
          "Furnishings",
          "Labels",
          "Machines",
          "Paper",
          "Phones",
          "Storage",
          "Supplies",
          "Tables",
          "product"
         ],
         "marker": {
          "coloraxis": "coloraxis",
          "colors": [
           7.42,
           22.18,
           90.88600000000001,
           61.18000000000001,
           91.67999999999999,
           7.92,
           7.8,
           391.608,
           96.07999999999998,
           194.844,
           421.1,
           119.88,
           1473.1,
           209.80000000000004,
           1039.992,
           34.04,
           103.92,
           111.9,
           250.272,
           107.46,
           81.28,
           56.629999999999995,
           52.401999999999994,
           56.168,
           16.52,
           965.76,
           891.9200000000001,
           1095.92,
           109.592,
           108.576,
           717.6,
           302.376,
           46.384,
           164.792,
           211.168,
           604.752,
           1292.88,
           1034.112,
           14.015999999999998,
           73.28,
           189.28,
           1945.28,
           2.88,
           10.65,
           51.312,
           158.536,
           4.176,
           7.656,
           152.93800000000002,
           59.6,
           19.6,
           21.336,
           81.77600000000001,
           6.456,
           34.432,
           29.74,
           100.70400000000001,
           81.19999999999999,
           51.815999999999995,
           18.288,
           62.848,
           24.384,
           13.005,
           13.88,
           120.68,
           211.24799999999996,
           186.15,
           24.464,
           59.903999999999996,
           12.341999999999999,
           35.06,
           132.99,
           38.304,
           54.72,
           50.04,
           27.93,
           157.3,
           97.3,
           21.728,
           17.22,
           56.562,
           39.76,
           27.79,
           79.772,
           108.9,
           6.8,
           38.69,
           28.836,
           53.379999999999995,
           34.4,
           20.94,
           56.8,
           62.327999999999996,
           55.86,
           1814.6000000000001,
           39.072,
           1108.712,
           30.93,
           7.9,
           38.29,
           61,
           55,
           13.080000000000002,
           11.62,
           808.0799999999999,
           154.35000000000002,
           27.28,
           31.57,
           167.86,
           52.074,
           29.79,
           23.759999999999998,
           13.440000000000001,
           143.152,
           219.04000000000002,
           171.07999999999998,
           119.02799999999999,
           13.98,
           9.32,
           419.9,
           8.96,
           10.9,
           52.92,
           87.36,
           24.368,
           46.71999999999999,
           35.168,
           47.976,
           199.95999999999995,
           63.968,
           59.96999999999999,
           5198.64,
           911.984,
           46.62,
           9.05,
           84.48,
           287.968,
           72.294,
           1552.8310000000001,
           2261.889,
           1459.753,
           904.9000000000001,
           354.96,
           271.96,
           31.32,
           641.13,
           72.45,
           31.68,
           133.2,
           28.909999999999997,
           421.31399999999996,
           54.010000000000005,
           56.7,
           45,
           40.04,
           8.67,
           24.899999999999995,
           213.01000000000002,
           29.24,
           18.45,
           42.84,
           72.45,
           23.04,
           74,
           11.52,
           9.82,
           28.71,
           31.5,
           22.5,
           21.56,
           5.78,
           37.848,
           125.3,
           58.48,
           13.283999999999999,
           72.45,
           74,
           16.52,
           5.76,
           14.73,
           8.874,
           37.8,
           3.75,
           3.0799999999999996,
           52.02,
           14.940000000000001,
           14.4,
           95.03,
           25.83,
           50.4,
           40.936,
           7.38,
           51.75,
           278.88,
           9.336,
           13.848,
           11.52,
           72.64,
           13.272,
           17.424,
           73.14999999999999,
           18.308,
           40.32,
           67.864,
           19.136,
           58.032000000000004,
           25.52,
           71.632,
           20.279999999999998,
           21.024,
           14.304,
           84.105,
           251.76,
           22.919999999999998,
           82.616,
           14.352,
           27.696,
           37.232,
           148.512,
           20.64,
           12.672,
           4.544,
           101.46900000000001,
           280.998,
           495.858,
           55.776,
           28.832,
           37.26,
           32.4,
           27.76,
           248.124,
           161.138,
           3839.952,
           3.024,
           253.176,
           892.98,
           610.5,
           161.28,
           136.464,
           353.88,
           792.792,
           241.96,
           577.488,
           137.214,
           236.88,
           157.92,
           25.146,
           81.96,
           119.96,
           69.48,
           183.84,
           77.974,
           748.72,
           86.664,
           194.88,
           97.16,
           172.162,
           71.952,
           112.134,
           1179.882,
           2913.066,
           1415.394,
           3497.132,
           510.92999999999995,
           2337.39,
           143.432,
           351.216,
           1577.752,
           1304.92,
           17.168,
           18.368,
           233.35999999999999,
           9.26,
           13.48,
           10.75,
           140.67,
           5.872,
           11.648,
           36.44,
           1209.504,
           37.38,
           419.944,
           796,
           38.256,
           46.64,
           132.06,
           64.14,
           25.98,
           19.83,
           241.8,
           112.6,
           723,
           165.55,
           91.96,
           123.92,
           218.75,
           41.6,
           2855.322,
           2887.056,
           7710.665,
           5008.8,
           9.9,
           1679.944,
           29.95,
           95.91999999999999,
           4666.3099999999995,
           2423.6400000000003,
           1937.8384999999998,
           273.568,
           66.294,
           2771.76,
           2396.66,
           119.833,
           556.665,
           69.576,
           90.88199999999999,
           257.499,
           460.941,
           71.896,
           59.28,
           30.576,
           311.15,
           2999.95,
           3359.952,
           1119.944,
           6719.904,
           1799.9699999999998,
           3149.93,
           13999.96,
           142.576,
           130.702,
           25.32,
           25.536,
           68.724,
           29.12,
           26.879999999999995,
           135.564,
           13.904,
           728.82,
           1862.54,
           451.25199999999995,
           1442.74,
           339.932,
           215.296,
           479.72,
           1314.624,
           275.49,
           1322.352,
           1524.9499999999998,
           3033.2159999999994,
           3346.3679999999995,
           431.968,
           385.8,
           1212.848,
           213.48,
           287.88,
           623.96,
           211.168,
           239.39999999999998,
           246.168,
           3000.7119999999995,
           316.752,
           345.765,
           3471.9440000000004,
           111.984,
           211.168,
           18.24,
           1.81,
           85.2,
           19.450000000000003,
           477.24,
           226.56,
           8.064,
           182.11200000000002,
           279.32800000000003,
           227.84,
           25.83,
           96.96,
           286.86,
           175.84,
           21.72,
           19.292,
           42.64,
           4799.984,
           27.72,
           51.959999999999994,
           26.48,
           22.752000000000002,
           72.9,
           202.39999999999995,
           115.736,
           80.78,
           59.99,
           37.74,
           20.24,
           291.28,
           19.54,
           85.32,
           97.15199999999999,
           49.7,
           109.84,
           28.38,
           2053.328,
           3832.4970000000003,
           92.52000000000001,
           47.92000000000001,
           863.946,
           1114.384,
           32.04,
           61.11,
           185.04,
           124.74,
           842.72,
           230.31,
           464.85,
           413.2,
           435.26,
           276.69,
           291.8,
           69.30000000000001,
           128.352,
           1247.64,
           4.17,
           140.376,
           309.57599999999996,
           49.14,
           7.667999999999999,
           116.608,
           255.85,
           41.86,
           9.21,
           23.84,
           25.02,
           1415.664,
           1705.6599999999999,
           255.208,
           29.76,
           8,
           18.62,
           14.976,
           660.8,
           364.70400000000006,
           20.22,
           31.4,
           18.84,
           50.24,
           29.7,
           61.25,
           24.14,
           43.31,
           162.6,
           210.58,
           155.76,
           277.5,
           238.56,
           218.352,
           273.096,
           207.35,
           201.04,
           19.3,
           15.232,
           46.89999999999999,
           53.2,
           81.18,
           118.66,
           69.86,
           79.4,
           209.7,
           166.54,
           24.839999999999996,
           66.88,
           49.39999999999999,
           11.664,
           354.75,
           509.04,
           328.27,
           319.84000000000003,
           30.008,
           22.619999999999997,
           202.42000000000002,
           201.528,
           5.344,
           100.53999999999999,
           151.76,
           21.44,
           148.02,
           621.76,
           87.96,
           148.72,
           67.71,
           99.59999999999998,
           290.78,
           38.88,
           17.48,
           152.94,
           400.8,
           154.9,
           152.88,
           70.68,
           76.14,
           56.1,
           177.84,
           22.720000000000002,
           66.56,
           126.3,
           9.78,
           467.152,
           470.67999999999995,
           238.40999999999997,
           161.94,
           1195.632,
           147.108,
           466.06,
           186.91200000000003,
           215.28,
           55.775999999999996,
           596.992,
           352.38,
           279.726,
           1119.24,
           64.96,
           2102.022,
           679.96,
           3724.7039999999997,
           8134.336,
           96.696,
           371.976,
           176.11200000000002,
           777.21,
           1352.19,
           1813.17,
           338.04,
           305.25,
           2584.8,
           274.03200000000004,
           57.888,
           209.244,
           847.25,
           963.8,
           428.4,
           86.2,
           62.16,
           120.78,
           41.94,
           459.696,
           5.682,
           135.8,
           23.88,
           6.98,
           19.92,
           20.72,
           3031.0559999999996,
           1788.3319999999999,
           398.352,
           3266.376,
           946.904,
           1791.84,
           210.915,
           70.272,
           21.312,
           20.704,
           45.664,
           99.136,
           76.672,
           29.52,
           58.589999999999996,
           63.959999999999994,
           335.68,
           168.112,
           329.37600000000003,
           2022.272,
           435.204,
           334.76800000000003,
           231.744,
           35.168,
           81.928,
           318.976,
           590.352,
           286.20799999999997,
           12.176,
           111.168,
           145.176,
           367.09800000000007,
           473.344,
           104.256,
           99.26400000000001,
           126.96000000000001,
           1567.9200000000003,
           59.92,
           1230.452,
           415.896,
           8.73,
           72.744,
           1187.8400000000001,
           35.808,
           1292.94,
           2360.232,
           1449.408,
           146.352,
           383.936,
           1352.032,
           2392.4,
           2287.84,
           1087.92,
           767.84,
           693.328,
           923.7600000000001,
           1083.92,
           207.184,
           1158.272,
           698.352,
           888.624,
           842.192,
           1475.88,
           873.504,
           724.2719999999999,
           2807.92,
           643.136,
           1007.888,
           2407.84,
           888.624,
           603.9200000000001,
           48.71200000000001,
           215.856,
           124.704,
           1074.976,
           284.98400000000004,
           10019.6,
           487.11999999999995,
           437.328,
           1310.112,
           12.78,
           431.97599999999994,
           147.184,
           211.96,
           242.624,
           61.192,
           75.348,
           637.5360000000001,
           308.15999999999997,
           244.664,
           161.928,
           8030.0160000000005,
           3925.4880000000003,
           40.46,
           239.984,
           182.7,
           639.936,
           503.96,
           19.98,
           7.968,
           205.38,
           100.47999999999999,
           341.664,
           189,
           100.62,
           34.912,
           2759.908,
           2199.956,
           6239.896000000001,
           447.968,
           13100.24,
           311.976,
           194.94000000000003,
           59.7,
           108.9,
           100.94,
           79.31,
           45.28,
           278.08,
           3371.7599999999998,
           1507.4640000000002,
           310.443,
           272.848,
           242.352,
           716.544,
           2100.456,
           770.352,
           1423.92,
           3462.662,
           248.808,
           4798.116,
           638.288,
           195.184,
           1561.472,
           585.552,
           387.136,
           1503.8399999999997,
           2720.04,
           127.764,
           283.92,
           1212.96,
           2771.994,
           1126.48,
           2311.056,
           1501.83,
           997.538,
           161.568,
           1101.48,
           314.6,
           38.849999999999994,
           95.05999999999999,
           23.700000000000003,
           715.64,
           2605.77,
           1089.75,
           1427.76,
           646.95,
           345.04,
           467.46000000000004,
           196.45,
           488.176,
           532.4559999999999,
           137.54,
           258.75,
           1048.616,
           191.81999999999996,
           82.26,
           1113.024,
           9.328,
           569.7,
           100.8,
           124.384,
           241.644,
           553.568,
           4535.976,
           2683.9120000000003,
           4084.6890000000003,
           623.56,
           243.20000000000002,
           134.88,
           22.288,
           55.264,
           499.96799999999996,
           13.184,
           962.64,
           512.336,
           619.018,
           8.04,
           1049.44,
           1662.4,
           483.698,
           110.4,
           119.8,
           350.20399999999995,
           45,
           263.2,
           547.056,
           45.48,
           30.3,
           12.6,
           24.862000000000005,
           109.90000000000002,
           71.82,
           59.2,
           143.976,
           92.456,
           914.3279999999999,
           1127.8799999999999,
           191.68000000000004,
           1315.008,
           220.704,
           35.89,
           1281.102,
           1233.4859999999999,
           1740.2480000000003,
           204.80000000000004,
           812.1600000000001,
           472.03200000000004,
           854.9100000000001,
           215.67000000000002,
           431.928,
           196.752,
           108,
           92.52,
           159.31,
           118.64999999999999,
           101.34,
           6.24,
           1367.136,
           43.6,
           380.864,
           156.792,
           1233.04,
           39.92,
           21.34,
           436.704,
           54.384,
           1971.54,
           1427.4,
           2257.188,
           23.408,
           96.35999999999999,
           2549.985,
           299.97,
           872.32,
           30.56,
           101.94,
           245.358,
           431.85600000000005,
           295.91999999999996,
           87.87,
           163.6,
           719.91,
           1487.8799999999999,
           1299.9,
           447.944,
           909.8699999999999,
           719.91,
           399.95000000000005,
           899.91,
           170.97,
           1035.216,
           58.08,
           79.98,
           279.92,
           863.872,
           179.94,
           215.964,
           479.97,
           214.95,
           699.9300000000001,
           779.844,
           299.96999999999997,
           324.87,
           866.898,
           899.85,
           19.99,
           223.38400000000001,
           7467.21,
           359.98,
           4289.87,
           67.75999999999999,
           7.88,
           146.952,
           355.36,
           299.1,
           920.7,
           1049.2,
           312.03,
           124.28,
           17.352,
           83.92,
           15.200000000000001,
           107.604,
           1332.496,
           128.8,
           73.92,
           50.8,
           15.24,
           50.96,
           52.416,
           22.77,
           31.86,
           8.91,
           83.88,
           68.46,
           148.32,
           363.87,
           31.128,
           23.976,
           67.96,
           102.24,
           32.97,
           81.65,
           380.56200000000007,
           146.04,
           80.6,
           335.37,
           120,
           471.12,
           46.31999999999999,
           58.95,
           51.36,
           53.456,
           108.608,
           300,
           171.91400000000002,
           359.70000000000005,
           419.85999999999996,
           1017.96,
           279.65,
           191.952,
           628.176,
           2116.688,
           1319.952,
           379.404,
           205.086,
           959.88,
           126.56,
           312.664,
           2620.632,
           257.544,
           271.992,
           208.56,
           1258.2,
           1663.8960000000002,
           720,
           21.488,
           7.312,
           5.46,
           8.4,
           23.099999999999998,
           41.300000000000004,
           10.208,
           15.469999999999999,
           18.688,
           18.368,
           16.740000000000002,
           39.983999999999995,
           25.576,
           95.232,
           31.68,
           19.688,
           5.248,
           7.28,
           11.76,
           43.89,
           49.56,
           11.264,
           13.26,
           35.04,
           16.4,
           16.74,
           23.92,
           32.34,
           25.02,
           515.84,
           5.76,
           27.392000000000003,
           23.52,
           8.34,
           119.04,
           17.12,
           29.4,
           24.464,
           158.72,
           22.464,
           77.03999999999999,
           13.12,
           22.959999999999997,
           32.8,
           40.016,
           53.69,
           71.976,
           302.376,
           12.319999999999999,
           1000.728,
           1108.728,
           975.6800000000001,
           851.76,
           724.704,
           681.408,
           164.32,
           28.736,
           43.02,
           74.76,
           307.666,
           150.598,
           322.677,
           1808.6509999999998,
           163.88,
           84.98,
           890.664,
           1953.827,
           2602.691,
           307.666,
           9.4,
           64.44,
           12.4,
           36.296,
           17.9,
           33.4,
           5.7,
           1672.7,
           1127.84,
           443.91999999999996,
           104.784,
           579.136,
           388.7040000000001,
           314.352,
           1159.056,
           4211.76,
           436.704,
           242.136,
           532.704,
           1029.6,
           179.991,
           2792,
           2395.2,
           7834.4,
           1007.92,
           219.912,
           228.69599999999997,
           359.88,
           88.752,
           583.056,
           233.98800000000003,
           87.92,
           34.58,
           179.9,
           73.2,
           2396.4,
           269.97,
           399.96,
           119.96,
           313.536,
           393.552,
           1495.824,
           739.088,
           359.976,
           183.96,
           21.84,
           111.888,
           56.647999999999996,
           108.85199999999999,
           21.816,
           123.132,
           6.57,
           224.24,
           174.95,
           81.328,
           5.22,
           12.6,
           275.52,
           62.32,
           155.1,
           33.63,
           86.272,
           119.76,
           263.96,
           609.878,
           1539.3,
           979.1279999999999,
           659.9,
           940.7520000000002,
           139.8,
           215.75999999999996,
           1855.84,
           68.72,
           323.37,
           3797.5499999999997,
           29.925,
           155.976,
           494.376,
           54.54,
           20.724,
           28.485,
           24.48,
           479.968,
           479.92,
           1987.568,
           666.344,
           1295.84,
           1007.944,
           1179.8,
           78.144,
           39.96,
           47.04,
           49.483999999999995,
           23.52,
           480.74,
           996.396,
           54.792,
           203.506,
           217.168,
           28.012,
           39.28,
           29.904000000000003,
           29.904,
           62.976,
           18.2,
           48.64,
           39.68,
           28.06,
           1305.464,
           201.568,
           5.56,
           11.679999999999998,
           159.984,
           727.944,
           482.32800000000003,
           185.14799999999997,
           599.94,
           159.98,
           2399.88,
           434.67600000000004,
           134.25,
           53.712,
           71.97,
           85.568,
           52.649,
           171.69,
           54.87,
           103.18,
           19.92,
           14.9,
           22.919999999999998,
           9.504000000000001,
           5.67,
           369.16,
           86.516,
           286.85,
           1497.666,
           211.008,
           21.92,
           95.05999999999999,
           351.53999999999996,
           26.96,
           22.880000000000003,
           150.35999999999999,
           11.22,
           932.232,
           1803.839,
           5744.96,
           2340.984,
           276.28,
           42.76,
           106.56,
           1307.114,
           1747.25,
           5.680000000000001,
           131.688,
           123.136,
           139.53,
           1716.48,
           241.332,
           671.93,
           262.626,
           603.3299999999999,
           381.36000000000007,
           5375.871999999999,
           2575.944,
           703.968,
           559.984,
           1001.584,
           1879.96,
           175.6,
           22,
           316.75199999999995,
           95.1,
           908,
           179.262,
           331.5,
           535.866,
           245.82,
           34.56,
           16.4,
           18.9,
           2518.29,
           3281.4,
           555.648,
           145.764,
           822.664,
           488.665,
           586.398,
           726.665,
           1706.508,
           273.666,
           1423.8980000000001,
           290.666,
           222.666,
           30.56,
           223.272,
           87.72,
           53.550000000000004,
           11.264,
           1220.856,
           23.864,
           183.84,
           106.68,
           108.22399999999999,
           64.96,
           60.84,
           1319.976,
           2399.952,
           17.52,
           675.96,
           124.85,
           965.328,
           8.288,
           61.512,
           18.75,
           15.400000000000002,
           303.52,
           506.28,
           25.78,
           167.6,
           467.87,
           257.554,
           83.64,
           582.6759999999999,
           303.738,
           70.02,
           65.052,
           27.18,
           87.912,
           15.696000000000002,
           50.96,
           775.8,
           689.82,
           37.474000000000004,
           22.4,
           63.936,
           95.904,
           231.168,
           36.96,
           24.899999999999995,
           87.92,
           3423.6100000000006,
           120.15,
           279.12,
           122.16,
           16.543999999999997,
           304.02,
           169.956,
           178.276,
           17.34,
           542.5,
           32.04,
           72.4,
           686.32,
           532.72,
           153.008,
           52.8,
           4.71,
           44.16,
           45.779999999999994,
           80.784,
           5.5440000000000005,
           527.1,
           65.79,
           54.239999999999995,
           998.82,
           23.064,
           14.98,
           73.344,
           1879.953,
           21.4,
           22.776,
           248.784,
           32.04,
           129.45,
           19.05,
           979.4399999999999,
           1208.172,
           275.88,
           282.84,
           175.78,
           129.92,
           107.53,
           46.53,
           15.51,
           242.64000000000001,
           128.9,
           849.1,
           255.52800000000002,
           1295.78,
           5144.298,
           162.72,
           1575.14,
           224.986,
           41.96,
           1764.534,
           1126.02,
           2235.84,
           2435.58,
           13.592,
           327.58,
           11.56,
           105.552,
           17.61,
           19.008,
           146.82,
           244.55,
           16.45,
           2112.648,
           731.976,
           51.312,
           835.908,
           75.792,
           42.416,
           20.1,
           244.62,
           487.84000000000003,
           542.88,
           157.8,
           14.73,
           8.312999999999999,
           47.84,
           9.872,
           15.552,
           18.308,
           1007.92,
           55.36,
           46.36,
           69.9,
           11.54,
           96.43200000000002,
           648.44,
           71.976,
           383.96,
           510.6,
           1428,
           531,
           14.352,
           88.722,
           23.99,
           28.28,
           58.32,
           4.73,
           98.46,
           209.304,
           155.762,
           15.25,
           90.24,
           583.8,
           4868.8,
           19.536,
           9.612,
           20.384,
           99.696,
           131.07999999999998,
           21.76,
           2.025,
           18,
           376.64,
           20.928,
           79.52,
           55.424,
           56.980000000000004,
           83.03999999999999,
           168.489,
           360.624,
           263.88,
           20.240000000000002,
           69.408,
           24.689999999999998,
           575.92,
           58.050000000000004,
           70.59,
           35.2,
           40.14,
           23.85,
           120.42,
           83.43,
           53.269999999999996,
           35.948,
           106.47999999999998,
           453.57599999999996,
           8.94,
           33.87,
           567.04,
           90.872,
           212.724,
           374.59600000000006,
           19.98,
           480.4,
           47.9,
           72.086,
           554.8,
           209.7,
           948.8540000000002,
           116.28,
           368.91,
           159.40800000000002,
           99.26800000000001,
           29.97,
           19.92,
           146.95999999999998,
           30.055999999999997,
           216.86,
           4.98,
           81.32000000000001,
           29.900000000000002,
           97.2,
           24.56,
           279.9,
           395.7,
           279.72,
           335.29999999999995,
           94.85,
           221.92,
           351.744,
           314.54999999999995,
           244.7,
           586.92,
           1024.75,
           51.84,
           23.92,
           11.952,
           20.04,
           23.12,
           216.86,
           17.12,
           73.92,
           68.52,
           35.88,
           102.384,
           108.864,
           85.056,
           184.20000000000002,
           559.8,
           192.15999999999997,
           37.94,
           233.016,
           219.84,
           817.83,
           293.64,
           146.73,
           77.52,
           450.89000000000004,
           45.36,
           83.72,
           9.96,
           60.12,
           136.312,
           64.74,
           29.96,
           8.448,
           13.36,
           28.9,
           439.916,
           29.96,
           45.68000000000001,
           23.92,
           19.44,
           32.4,
           86.84,
           34.86,
           81.32,
           10.56,
           169.01600000000002,
           47.84,
           25.92,
           36.288,
           66.8,
           57.8,
           278.82,
           21.12,
           91.36000000000001,
           5.98,
           12.96,
           80.16,
           34.68,
           439.916,
           365.44000000000005,
           50.232,
           32.400000000000006,
           110.16,
           58.32000000000001,
           12.96,
           41.472,
           6.48,
           12.96,
           19.44,
           32.400000000000006,
           58.32000000000001,
           77.76,
           58.32,
           19.44,
           51.84,
           36.288,
           31.104,
           32.400000000000006,
           25.92,
           45.36,
           6.48,
           19.44,
           82.944,
           19.44,
           31.104000000000003,
           32.4,
           38.88,
           77.76,
           32.4,
           51.84,
           25.92,
           158.11200000000002,
           132.192,
           25.92,
           64.80000000000001,
           38.88,
           32.400000000000006,
           60.912,
           6.48,
           10.368,
           41.184,
           99.90000000000002,
           365.44000000000005,
           82.208,
           12.544000000000002,
           703.71,
           5521.88,
           18.24,
           27.456,
           254.35200000000003,
           503.928,
           100.56000000000002,
           31.984,
           79.96,
           158.312,
           839.8399999999999,
           2081.6617778288733,
           1395.8733223988515,
           335.73910098299336,
           2888.283084904244,
           1740.6859096013616,
           3288.1387673835034,
           6785.605126039668,
           327.12493676404165,
           81.05129260324777,
           525.7519039473968,
           557.4047237634005,
           3871.8528651043835,
           377.34314854800067,
           1866.89116754251,
           1716.247254769735,
           9654.307361353667,
           3133.1151646848457,
           2769.7942509617337
          ]
         },
         "name": "",
         "parents": [
          "product/Paper",
          "product/Envelopes",
          "product/Envelopes",
          "product/Envelopes",
          "product/Envelopes",
          "product/Envelopes",
          "product/Art",
          "product/Furnishings",
          "product/Paper",
          "product/Storage",
          "product/Storage",
          "product/Furnishings",
          "product/Appliances",
          "product/Furnishings",
          "product/Machines",
          "product/Furnishings",
          "product/Appliances",
          "product/Furnishings",
          "product/Appliances",
          "product/Art",
          "product/Art",
          "product/Furnishings",
          "product/Furnishings",
          "product/Binders",
          "product/Binders",
          "product/Appliances",
          "product/Phones",
          "product/Phones",
          "product/Phones",
          "product/Phones",
          "product/Phones",
          "product/Phones",
          "product/Phones",
          "product/Phones",
          "product/Phones",
          "product/Phones",
          "product/Phones",
          "product/Phones",
          "product/Binders",
          "product/Appliances",
          "product/Appliances",
          "product/Appliances",
          "product/Fasteners",
          "product/Fasteners",
          "product/Binders",
          "product/Binders",
          "product/Binders",
          "product/Binders",
          "product/Binders",
          "product/Binders",
          "product/Fasteners",
          "product/Binders",
          "product/Binders",
          "product/Binders",
          "product/Binders",
          "product/Storage",
          "product/Storage",
          "product/Storage",
          "product/Binders",
          "product/Binders",
          "product/Binders",
          "product/Binders",
          "product/Binders",
          "product/Supplies",
          "product/Appliances",
          "product/Appliances",
          "product/Appliances",
          "product/Binders",
          "product/Binders",
          "product/Binders",
          "product/Supplies",
          "product/Supplies",
          "product/Supplies",
          "product/Supplies",
          "product/Supplies",
          "product/Supplies",
          "product/Supplies",
          "product/Supplies",
          "product/Supplies",
          "product/Supplies",
          "product/Supplies",
          "product/Supplies",
          "product/Supplies",
          "product/Supplies",
          "product/Supplies",
          "product/Supplies",
          "product/Supplies",
          "product/Furnishings",
          "product/Paper",
          "product/Paper",
          "product/Paper",
          "product/Paper",
          "product/Paper",
          "product/Paper",
          "product/Storage",
          "product/Storage",
          "product/Phones",
          "product/Furnishings",
          "product/Fasteners",
          "product/Furnishings",
          "product/Furnishings",
          "product/Fasteners",
          "product/Fasteners",
          "product/Fasteners",
          "product/Storage",
          "product/Storage",
          "product/Fasteners",
          "product/Fasteners",
          "product/Envelopes",
          "product/Storage",
          "product/Storage",
          "product/Fasteners",
          "product/Fasteners",
          "product/Fasteners",
          "product/Labels",
          "product/Furnishings",
          "product/Binders",
          "product/Accessories",
          "product/Art",
          "product/Envelopes",
          "product/Envelopes",
          "product/Paper",
          "product/Paper",
          "product/Paper",
          "product/Tables",
          "product/Binders",
          "product/Phones",
          "product/Phones",
          "product/Phones",
          "product/Phones",
          "product/Accessories",
          "product/Phones",
          "product/Phones",
          "product/Paper",
          "product/Fasteners",
          "product/Paper",
          "product/Machines",
          "product/Bookcases",
          "product/Bookcases",
          "product/Bookcases",
          "product/Bookcases",
          "product/Appliances",
          "product/Phones",
          "product/Phones",
          "product/Binders",
          "product/Labels",
          "product/Labels",
          "product/Labels",
          "product/Labels",
          "product/Labels",
          "product/Labels",
          "product/Labels",
          "product/Labels",
          "product/Labels",
          "product/Labels",
          "product/Labels",
          "product/Labels",
          "product/Labels",
          "product/Labels",
          "product/Labels",
          "product/Labels",
          "product/Labels",
          "product/Labels",
          "product/Labels",
          "product/Labels",
          "product/Labels",
          "product/Labels",
          "product/Labels",
          "product/Labels",
          "product/Labels",
          "product/Labels",
          "product/Labels",
          "product/Labels",
          "product/Labels",
          "product/Labels",
          "product/Labels",
          "product/Labels",
          "product/Labels",
          "product/Labels",
          "product/Labels",
          "product/Labels",
          "product/Labels",
          "product/Labels",
          "product/Labels",
          "product/Labels",
          "product/Labels",
          "product/Labels",
          "product/Labels",
          "product/Labels",
          "product/Labels",
          "product/Labels",
          "product/Labels",
          "product/Labels",
          "product/Binders",
          "product/Binders",
          "product/Binders",
          "product/Binders",
          "product/Binders",
          "product/Binders",
          "product/Binders",
          "product/Binders",
          "product/Binders",
          "product/Labels",
          "product/Binders",
          "product/Binders",
          "product/Binders",
          "product/Binders",
          "product/Art",
          "product/Art",
          "product/Art",
          "product/Binders",
          "product/Binders",
          "product/Binders",
          "product/Binders",
          "product/Binders",
          "product/Binders",
          "product/Paper",
          "product/Binders",
          "product/Binders",
          "product/Binders",
          "product/Binders",
          "product/Binders",
          "product/Binders",
          "product/Binders",
          "product/Binders",
          "product/Labels",
          "product/Art",
          "product/Art",
          "product/Art",
          "product/Art",
          "product/Art",
          "product/Art",
          "product/Machines",
          "product/Fasteners",
          "product/Tables",
          "product/Tables",
          "product/Tables",
          "product/Tables",
          "product/Tables",
          "product/Storage",
          "product/Storage",
          "product/Appliances",
          "product/Appliances",
          "product/Appliances",
          "product/Appliances",
          "product/Appliances",
          "product/Appliances",
          "product/Appliances",
          "product/Appliances",
          "product/Appliances",
          "product/Appliances",
          "product/Accessories",
          "product/Appliances",
          "product/Appliances",
          "product/Appliances",
          "product/Appliances",
          "product/Accessories",
          "product/Phones",
          "product/Art",
          "product/Bookcases",
          "product/Tables",
          "product/Tables",
          "product/Tables",
          "product/Tables",
          "product/Tables",
          "product/Tables",
          "product/Tables",
          "product/Tables",
          "product/Chairs",
          "product/Fasteners",
          "product/Binders",
          "product/Binders",
          "product/Art",
          "product/Art",
          "product/Art",
          "product/Appliances",
          "product/Binders",
          "product/Paper",
          "product/Paper",
          "product/Phones",
          "product/Art",
          "product/Phones",
          "product/Phones",
          "product/Art",
          "product/Art",
          "product/Art",
          "product/Art",
          "product/Art",
          "product/Art",
          "product/Art",
          "product/Art",
          "product/Art",
          "product/Art",
          "product/Art",
          "product/Art",
          "product/Tables",
          "product/Appliances",
          "product/Tables",
          "product/Tables",
          "product/Tables",
          "product/Tables",
          "product/Fasteners",
          "product/Copiers",
          "product/Art",
          "product/Art",
          "product/Tables",
          "product/Tables",
          "product/Bookcases",
          "product/Tables",
          "product/Bookcases",
          "product/Tables",
          "product/Bookcases",
          "product/Bookcases",
          "product/Bookcases",
          "product/Bookcases",
          "product/Bookcases",
          "product/Bookcases",
          "product/Bookcases",
          "product/Furnishings",
          "product/Furnishings",
          "product/Binders",
          "product/Envelopes",
          "product/Copiers",
          "product/Copiers",
          "product/Copiers",
          "product/Copiers",
          "product/Copiers",
          "product/Copiers",
          "product/Copiers",
          "product/Binders",
          "product/Binders",
          "product/Binders",
          "product/Binders",
          "product/Binders",
          "product/Binders",
          "product/Binders",
          "product/Binders",
          "product/Binders",
          "product/Storage",
          "product/Storage",
          "product/Storage",
          "product/Storage",
          "product/Accessories",
          "product/Binders",
          "product/Accessories",
          "product/Tables",
          "product/Tables",
          "product/Tables",
          "product/Tables",
          "product/Tables",
          "product/Tables",
          "product/Phones",
          "product/Machines",
          "product/Phones",
          "product/Phones",
          "product/Phones",
          "product/Phones",
          "product/Phones",
          "product/Phones",
          "product/Phones",
          "product/Phones",
          "product/Phones",
          "product/Binders",
          "product/Phones",
          "product/Phones",
          "product/Phones",
          "product/Art",
          "product/Fasteners",
          "product/Furnishings",
          "product/Appliances",
          "product/Supplies",
          "product/Storage",
          "product/Binders",
          "product/Paper",
          "product/Furnishings",
          "product/Appliances",
          "product/Furnishings",
          "product/Furnishings",
          "product/Storage",
          "product/Furnishings",
          "product/Envelopes",
          "product/Art",
          "product/Art",
          "product/Machines",
          "product/Phones",
          "product/Phones",
          "product/Furnishings",
          "product/Furnishings",
          "product/Furnishings",
          "product/Furnishings",
          "product/Furnishings",
          "product/Furnishings",
          "product/Furnishings",
          "product/Furnishings",
          "product/Furnishings",
          "product/Furnishings",
          "product/Furnishings",
          "product/Furnishings",
          "product/Furnishings",
          "product/Furnishings",
          "product/Furnishings",
          "product/Art",
          "product/Chairs",
          "product/Bookcases",
          "product/Binders",
          "product/Binders",
          "product/Machines",
          "product/Furnishings",
          "product/Furnishings",
          "product/Furnishings",
          "product/Storage",
          "product/Furnishings",
          "product/Furnishings",
          "product/Furnishings",
          "product/Furnishings",
          "product/Furnishings",
          "product/Furnishings",
          "product/Furnishings",
          "product/Furnishings",
          "product/Art",
          "product/Binders",
          "product/Storage",
          "product/Art",
          "product/Phones",
          "product/Phones",
          "product/Art",
          "product/Art",
          "product/Art",
          "product/Art",
          "product/Art",
          "product/Art",
          "product/Art",
          "product/Furnishings",
          "product/Labels",
          "product/Storage",
          "product/Paper",
          "product/Art",
          "product/Paper",
          "product/Art",
          "product/Binders",
          "product/Storage",
          "product/Furnishings",
          "product/Furnishings",
          "product/Furnishings",
          "product/Furnishings",
          "product/Furnishings",
          "product/Furnishings",
          "product/Furnishings",
          "product/Furnishings",
          "product/Furnishings",
          "product/Furnishings",
          "product/Furnishings",
          "product/Storage",
          "product/Furnishings",
          "product/Furnishings",
          "product/Furnishings",
          "product/Furnishings",
          "product/Furnishings",
          "product/Furnishings",
          "product/Furnishings",
          "product/Furnishings",
          "product/Furnishings",
          "product/Furnishings",
          "product/Furnishings",
          "product/Furnishings",
          "product/Furnishings",
          "product/Storage",
          "product/Storage",
          "product/Storage",
          "product/Furnishings",
          "product/Furnishings",
          "product/Furnishings",
          "product/Furnishings",
          "product/Storage",
          "product/Storage",
          "product/Storage",
          "product/Furnishings",
          "product/Furnishings",
          "product/Furnishings",
          "product/Storage",
          "product/Storage",
          "product/Art",
          "product/Furnishings",
          "product/Furnishings",
          "product/Furnishings",
          "product/Furnishings",
          "product/Furnishings",
          "product/Furnishings",
          "product/Supplies",
          "product/Paper",
          "product/Accessories",
          "product/Accessories",
          "product/Paper",
          "product/Appliances",
          "product/Appliances",
          "product/Appliances",
          "product/Appliances",
          "product/Furnishings",
          "product/Furnishings",
          "product/Furnishings",
          "product/Furnishings",
          "product/Furnishings",
          "product/Furnishings",
          "product/Furnishings",
          "product/Furnishings",
          "product/Art",
          "product/Appliances",
          "product/Appliances",
          "product/Appliances",
          "product/Storage",
          "product/Storage",
          "product/Storage",
          "product/Storage",
          "product/Appliances",
          "product/Binders",
          "product/Binders",
          "product/Appliances",
          "product/Storage",
          "product/Appliances",
          "product/Storage",
          "product/Storage",
          "product/Storage",
          "product/Binders",
          "product/Binders",
          "product/Binders",
          "product/Storage",
          "product/Machines",
          "product/Appliances",
          "product/Storage",
          "product/Storage",
          "product/Storage",
          "product/Storage",
          "product/Storage",
          "product/Storage",
          "product/Appliances",
          "product/Binders",
          "product/Storage",
          "product/Storage",
          "product/Accessories",
          "product/Accessories",
          "product/Supplies",
          "product/Supplies",
          "product/Supplies",
          "product/Supplies",
          "product/Furnishings",
          "product/Binders",
          "product/Furnishings",
          "product/Art",
          "product/Furnishings",
          "product/Furnishings",
          "product/Binders",
          "product/Binders",
          "product/Binders",
          "product/Binders",
          "product/Binders",
          "product/Binders",
          "product/Binders",
          "product/Binders",
          "product/Binders",
          "product/Binders",
          "product/Binders",
          "product/Binders",
          "product/Binders",
          "product/Binders",
          "product/Binders",
          "product/Binders",
          "product/Binders",
          "product/Binders",
          "product/Binders",
          "product/Binders",
          "product/Binders",
          "product/Binders",
          "product/Binders",
          "product/Binders",
          "product/Binders",
          "product/Binders",
          "product/Binders",
          "product/Binders",
          "product/Binders",
          "product/Binders",
          "product/Binders",
          "product/Binders",
          "product/Binders",
          "product/Binders",
          "product/Binders",
          "product/Binders",
          "product/Binders",
          "product/Phones",
          "product/Furnishings",
          "product/Furnishings",
          "product/Phones",
          "product/Furnishings",
          "product/Phones",
          "product/Phones",
          "product/Paper",
          "product/Bookcases",
          "product/Tables",
          "product/Chairs",
          "product/Chairs",
          "product/Chairs",
          "product/Chairs",
          "product/Chairs",
          "product/Chairs",
          "product/Chairs",
          "product/Chairs",
          "product/Chairs",
          "product/Chairs",
          "product/Chairs",
          "product/Chairs",
          "product/Chairs",
          "product/Chairs",
          "product/Chairs",
          "product/Chairs",
          "product/Chairs",
          "product/Chairs",
          "product/Chairs",
          "product/Chairs",
          "product/Chairs",
          "product/Chairs",
          "product/Chairs",
          "product/Chairs",
          "product/Chairs",
          "product/Chairs",
          "product/Chairs",
          "product/Chairs",
          "product/Chairs",
          "product/Chairs",
          "product/Chairs",
          "product/Chairs",
          "product/Chairs",
          "product/Chairs",
          "product/Envelopes",
          "product/Phones",
          "product/Storage",
          "product/Storage",
          "product/Phones",
          "product/Phones",
          "product/Paper",
          "product/Paper",
          "product/Binders",
          "product/Phones",
          "product/Phones",
          "product/Chairs",
          "product/Chairs",
          "product/Paper",
          "product/Machines",
          "product/Accessories",
          "product/Phones",
          "product/Phones",
          "product/Paper",
          "product/Paper",
          "product/Furnishings",
          "product/Storage",
          "product/Chairs",
          "product/Appliances",
          "product/Appliances",
          "product/Binders",
          "product/Copiers",
          "product/Copiers",
          "product/Copiers",
          "product/Machines",
          "product/Supplies",
          "product/Chairs",
          "product/Appliances",
          "product/Appliances",
          "product/Appliances",
          "product/Appliances",
          "product/Appliances",
          "product/Appliances",
          "product/Storage",
          "product/Chairs",
          "product/Tables",
          "product/Tables",
          "product/Tables",
          "product/Bookcases",
          "product/Tables",
          "product/Chairs",
          "product/Chairs",
          "product/Chairs",
          "product/Tables",
          "product/Tables",
          "product/Tables",
          "product/Chairs",
          "product/Chairs",
          "product/Chairs",
          "product/Chairs",
          "product/Chairs",
          "product/Chairs",
          "product/Chairs",
          "product/Bookcases",
          "product/Bookcases",
          "product/Chairs",
          "product/Tables",
          "product/Chairs",
          "product/Chairs",
          "product/Tables",
          "product/Tables",
          "product/Chairs",
          "product/Appliances",
          "product/Appliances",
          "product/Appliances",
          "product/Appliances",
          "product/Appliances",
          "product/Appliances",
          "product/Appliances",
          "product/Appliances",
          "product/Storage",
          "product/Furnishings",
          "product/Furnishings",
          "product/Furnishings",
          "product/Furnishings",
          "product/Furnishings",
          "product/Furnishings",
          "product/Furnishings",
          "product/Furnishings",
          "product/Furnishings",
          "product/Furnishings",
          "product/Furnishings",
          "product/Art",
          "product/Art",
          "product/Art",
          "product/Accessories",
          "product/Phones",
          "product/Paper",
          "product/Binders",
          "product/Binders",
          "product/Binders",
          "product/Binders",
          "product/Binders",
          "product/Binders",
          "product/Binders",
          "product/Binders",
          "product/Binders",
          "product/Binders",
          "product/Binders",
          "product/Storage",
          "product/Chairs",
          "product/Tables",
          "product/Fasteners",
          "product/Accessories",
          "product/Accessories",
          "product/Accessories",
          "product/Accessories",
          "product/Accessories",
          "product/Accessories",
          "product/Accessories",
          "product/Accessories",
          "product/Accessories",
          "product/Accessories",
          "product/Accessories",
          "product/Paper",
          "product/Binders",
          "product/Envelopes",
          "product/Storage",
          "product/Paper",
          "product/Phones",
          "product/Binders",
          "product/Phones",
          "product/Phones",
          "product/Phones",
          "product/Phones",
          "product/Phones",
          "product/Envelopes",
          "product/Tables",
          "product/Tables",
          "product/Appliances",
          "product/Appliances",
          "product/Appliances",
          "product/Appliances",
          "product/Accessories",
          "product/Accessories",
          "product/Accessories",
          "product/Accessories",
          "product/Accessories",
          "product/Accessories",
          "product/Accessories",
          "product/Accessories",
          "product/Accessories",
          "product/Supplies",
          "product/Phones",
          "product/Phones",
          "product/Phones",
          "product/Phones",
          "product/Tables",
          "product/Binders",
          "product/Envelopes",
          "product/Chairs",
          "product/Accessories",
          "product/Tables",
          "product/Tables",
          "product/Storage",
          "product/Envelopes",
          "product/Storage",
          "product/Machines",
          "product/Machines",
          "product/Chairs",
          "product/Furnishings",
          "product/Furnishings",
          "product/Binders",
          "product/Accessories",
          "product/Phones",
          "product/Accessories",
          "product/Accessories",
          "product/Accessories",
          "product/Accessories",
          "product/Accessories",
          "product/Accessories",
          "product/Accessories",
          "product/Accessories",
          "product/Accessories",
          "product/Accessories",
          "product/Accessories",
          "product/Accessories",
          "product/Accessories",
          "product/Accessories",
          "product/Accessories",
          "product/Phones",
          "product/Accessories",
          "product/Accessories",
          "product/Accessories",
          "product/Accessories",
          "product/Accessories",
          "product/Accessories",
          "product/Accessories",
          "product/Accessories",
          "product/Accessories",
          "product/Accessories",
          "product/Accessories",
          "product/Accessories",
          "product/Accessories",
          "product/Accessories",
          "product/Accessories",
          "product/Furnishings",
          "product/Art",
          "product/Phones",
          "product/Furnishings",
          "product/Furnishings",
          "product/Furnishings",
          "product/Furnishings",
          "product/Furnishings",
          "product/Phones",
          "product/Furnishings",
          "product/Furnishings",
          "product/Art",
          "product/Envelopes",
          "product/Supplies",
          "product/Supplies",
          "product/Furnishings",
          "product/Furnishings",
          "product/Furnishings",
          "product/Furnishings",
          "product/Furnishings",
          "product/Furnishings",
          "product/Accessories",
          "product/Accessories",
          "product/Accessories",
          "product/Accessories",
          "product/Accessories",
          "product/Accessories",
          "product/Binders",
          "product/Phones",
          "product/Accessories",
          "product/Accessories",
          "product/Accessories",
          "product/Accessories",
          "product/Accessories",
          "product/Accessories",
          "product/Accessories",
          "product/Accessories",
          "product/Accessories",
          "product/Accessories",
          "product/Accessories",
          "product/Paper",
          "product/Paper",
          "product/Paper",
          "product/Chairs",
          "product/Accessories",
          "product/Accessories",
          "product/Accessories",
          "product/Accessories",
          "product/Accessories",
          "product/Accessories",
          "product/Accessories",
          "product/Storage",
          "product/Phones",
          "product/Phones",
          "product/Storage",
          "product/Art",
          "product/Phones",
          "product/Phones",
          "product/Phones",
          "product/Phones",
          "product/Phones",
          "product/Phones",
          "product/Storage",
          "product/Paper",
          "product/Accessories",
          "product/Accessories",
          "product/Storage",
          "product/Binders",
          "product/Art",
          "product/Art",
          "product/Art",
          "product/Art",
          "product/Art",
          "product/Art",
          "product/Art",
          "product/Art",
          "product/Art",
          "product/Art",
          "product/Art",
          "product/Art",
          "product/Art",
          "product/Art",
          "product/Art",
          "product/Art",
          "product/Art",
          "product/Art",
          "product/Art",
          "product/Art",
          "product/Art",
          "product/Art",
          "product/Art",
          "product/Art",
          "product/Art",
          "product/Art",
          "product/Art",
          "product/Art",
          "product/Art",
          "product/Art",
          "product/Art",
          "product/Art",
          "product/Art",
          "product/Art",
          "product/Art",
          "product/Art",
          "product/Art",
          "product/Art",
          "product/Art",
          "product/Art",
          "product/Art",
          "product/Art",
          "product/Art",
          "product/Art",
          "product/Phones",
          "product/Phones",
          "product/Art",
          "product/Phones",
          "product/Phones",
          "product/Chairs",
          "product/Chairs",
          "product/Chairs",
          "product/Chairs",
          "product/Furnishings",
          "product/Furnishings",
          "product/Furnishings",
          "product/Furnishings",
          "product/Bookcases",
          "product/Bookcases",
          "product/Bookcases",
          "product/Bookcases",
          "product/Bookcases",
          "product/Bookcases",
          "product/Bookcases",
          "product/Bookcases",
          "product/Bookcases",
          "product/Bookcases",
          "product/Art",
          "product/Fasteners",
          "product/Fasteners",
          "product/Fasteners",
          "product/Fasteners",
          "product/Furnishings",
          "product/Fasteners",
          "product/Storage",
          "product/Chairs",
          "product/Chairs",
          "product/Chairs",
          "product/Chairs",
          "product/Chairs",
          "product/Chairs",
          "product/Chairs",
          "product/Chairs",
          "product/Chairs",
          "product/Chairs",
          "product/Chairs",
          "product/Machines",
          "product/Machines",
          "product/Machines",
          "product/Machines",
          "product/Machines",
          "product/Phones",
          "product/Phones",
          "product/Phones",
          "product/Phones",
          "product/Phones",
          "product/Chairs",
          "product/Art",
          "product/Art",
          "product/Art",
          "product/Art",
          "product/Art",
          "product/Machines",
          "product/Machines",
          "product/Phones",
          "product/Phones",
          "product/Phones",
          "product/Phones",
          "product/Phones",
          "product/Phones",
          "product/Phones",
          "product/Phones",
          "product/Envelopes",
          "product/Phones",
          "product/Envelopes",
          "product/Envelopes",
          "product/Binders",
          "product/Art",
          "product/Art",
          "product/Binders",
          "product/Accessories",
          "product/Storage",
          "product/Labels",
          "product/Labels",
          "product/Paper",
          "product/Storage",
          "product/Storage",
          "product/Storage",
          "product/Paper",
          "product/Storage",
          "product/Phones",
          "product/Accessories",
          "product/Accessories",
          "product/Phones",
          "product/Accessories",
          "product/Phones",
          "product/Phones",
          "product/Phones",
          "product/Phones",
          "product/Phones",
          "product/Accessories",
          "product/Accessories",
          "product/Machines",
          "product/Phones",
          "product/Phones",
          "product/Binders",
          "product/Fasteners",
          "product/Binders",
          "product/Envelopes",
          "product/Phones",
          "product/Phones",
          "product/Phones",
          "product/Phones",
          "product/Phones",
          "product/Phones",
          "product/Phones",
          "product/Storage",
          "product/Phones",
          "product/Art",
          "product/Art",
          "product/Art",
          "product/Supplies",
          "product/Supplies",
          "product/Binders",
          "product/Binders",
          "product/Binders",
          "product/Art",
          "product/Binders",
          "product/Binders",
          "product/Binders",
          "product/Binders",
          "product/Binders",
          "product/Binders",
          "product/Art",
          "product/Storage",
          "product/Phones",
          "product/Phones",
          "product/Phones",
          "product/Art",
          "product/Phones",
          "product/Phones",
          "product/Phones",
          "product/Paper",
          "product/Accessories",
          "product/Accessories",
          "product/Accessories",
          "product/Storage",
          "product/Paper",
          "product/Binders",
          "product/Envelopes",
          "product/Binders",
          "product/Binders",
          "product/Storage",
          "product/Envelopes",
          "product/Paper",
          "product/Paper",
          "product/Paper",
          "product/Paper",
          "product/Furnishings",
          "product/Fasteners",
          "product/Machines",
          "product/Paper",
          "product/Tables",
          "product/Bookcases",
          "product/Storage",
          "product/Art",
          "product/Storage",
          "product/Storage",
          "product/Accessories",
          "product/Binders",
          "product/Labels",
          "product/Fasteners",
          "product/Furnishings",
          "product/Bookcases",
          "product/Chairs",
          "product/Storage",
          "product/Storage",
          "product/Storage",
          "product/Chairs",
          "product/Tables",
          "product/Tables",
          "product/Art",
          "product/Art",
          "product/Chairs",
          "product/Storage",
          "product/Chairs",
          "product/Tables",
          "product/Storage",
          "product/Bookcases",
          "product/Bookcases",
          "product/Storage",
          "product/Phones",
          "product/Phones",
          "product/Phones",
          "product/Phones",
          "product/Phones",
          "product/Phones",
          "product/Phones",
          "product/Phones",
          "product/Phones",
          "product/Accessories",
          "product/Accessories",
          "product/Accessories",
          "product/Accessories",
          "product/Accessories",
          "product/Art",
          "product/Art",
          "product/Art",
          "product/Art",
          "product/Appliances",
          "product/Appliances",
          "product/Binders",
          "product/Bookcases",
          "product/Bookcases",
          "product/Bookcases",
          "product/Bookcases",
          "product/Bookcases",
          "product/Storage",
          "product/Bookcases",
          "product/Bookcases",
          "product/Bookcases",
          "product/Bookcases",
          "product/Envelopes",
          "product/Phones",
          "product/Labels",
          "product/Labels",
          "product/Binders",
          "product/Storage",
          "product/Supplies",
          "product/Furnishings",
          "product/Furnishings",
          "product/Furnishings",
          "product/Furnishings",
          "product/Furnishings",
          "product/Copiers",
          "product/Copiers",
          "product/Phones",
          "product/Phones",
          "product/Storage",
          "product/Chairs",
          "product/Binders",
          "product/Phones",
          "product/Labels",
          "product/Labels",
          "product/Paper",
          "product/Machines",
          "product/Accessories",
          "product/Accessories",
          "product/Accessories",
          "product/Accessories",
          "product/Accessories",
          "product/Accessories",
          "product/Storage",
          "product/Paper",
          "product/Paper",
          "product/Paper",
          "product/Paper",
          "product/Paper",
          "product/Paper",
          "product/Storage",
          "product/Storage",
          "product/Binders",
          "product/Paper",
          "product/Phones",
          "product/Phones",
          "product/Binders",
          "product/Furnishings",
          "product/Furnishings",
          "product/Paper",
          "product/Storage",
          "product/Art",
          "product/Appliances",
          "product/Art",
          "product/Binders",
          "product/Envelopes",
          "product/Fasteners",
          "product/Furnishings",
          "product/Labels",
          "product/Paper",
          "product/Storage",
          "product/Supplies",
          "product/Machines",
          "product/Machines",
          "product/Storage",
          "product/Storage",
          "product/Fasteners",
          "product/Supplies",
          "product/Fasteners",
          "product/Binders",
          "product/Binders",
          "product/Envelopes",
          "product/Paper",
          "product/Paper",
          "product/Storage",
          "product/Fasteners",
          "product/Storage",
          "product/Binders",
          "product/Machines",
          "product/Paper",
          "product/Paper",
          "product/Paper",
          "product/Paper",
          "product/Accessories",
          "product/Paper",
          "product/Furnishings",
          "product/Furnishings",
          "product/Furnishings",
          "product/Furnishings",
          "product/Furnishings",
          "product/Furnishings",
          "product/Furnishings",
          "product/Storage",
          "product/Storage",
          "product/Storage",
          "product/Furnishings",
          "product/Furnishings",
          "product/Furnishings",
          "product/Storage",
          "product/Storage",
          "product/Storage",
          "product/Storage",
          "product/Storage",
          "product/Storage",
          "product/Storage",
          "product/Storage",
          "product/Storage",
          "product/Storage",
          "product/Furnishings",
          "product/Furnishings",
          "product/Machines",
          "product/Machines",
          "product/Paper",
          "product/Paper",
          "product/Paper",
          "product/Paper",
          "product/Paper",
          "product/Phones",
          "product/Storage",
          "product/Binders",
          "product/Appliances",
          "product/Binders",
          "product/Binders",
          "product/Art",
          "product/Envelopes",
          "product/Envelopes",
          "product/Envelopes",
          "product/Furnishings",
          "product/Furnishings",
          "product/Binders",
          "product/Paper",
          "product/Binders",
          "product/Paper",
          "product/Paper",
          "product/Phones",
          "product/Binders",
          "product/Accessories",
          "product/Accessories",
          "product/Accessories",
          "product/Fasteners",
          "product/Binders",
          "product/Machines",
          "product/Phones",
          "product/Accessories",
          "product/Accessories",
          "product/Accessories",
          "product/Envelopes",
          "product/Furnishings",
          "product/Furnishings",
          "product/Furnishings",
          "product/Paper",
          "product/Paper",
          "product/Envelopes",
          "product/Paper",
          "product/Paper",
          "product/Envelopes",
          "product/Paper",
          "product/Phones",
          "product/Phones",
          "product/Binders",
          "product/Binders",
          "product/Binders",
          "product/Binders",
          "product/Binders",
          "product/Binders",
          "product/Binders",
          "product/Binders",
          "product/Binders",
          "product/Binders",
          "product/Binders",
          "product/Binders",
          "product/Binders",
          "product/Binders",
          "product/Binders",
          "product/Binders",
          "product/Binders",
          "product/Binders",
          "product/Binders",
          "product/Binders",
          "product/Phones",
          "product/Paper",
          "product/Paper",
          "product/Paper",
          "product/Paper",
          "product/Paper",
          "product/Paper",
          "product/Paper",
          "product/Paper",
          "product/Paper",
          "product/Paper",
          "product/Phones",
          "product/Storage",
          "product/Storage",
          "product/Paper",
          "product/Paper",
          "product/Paper",
          "product/Paper",
          "product/Paper",
          "product/Paper",
          "product/Paper",
          "product/Paper",
          "product/Paper",
          "product/Paper",
          "product/Paper",
          "product/Paper",
          "product/Paper",
          "product/Paper",
          "product/Paper",
          "product/Paper",
          "product/Paper",
          "product/Paper",
          "product/Paper",
          "product/Paper",
          "product/Paper",
          "product/Paper",
          "product/Paper",
          "product/Paper",
          "product/Paper",
          "product/Paper",
          "product/Paper",
          "product/Paper",
          "product/Paper",
          "product/Paper",
          "product/Paper",
          "product/Paper",
          "product/Paper",
          "product/Paper",
          "product/Paper",
          "product/Paper",
          "product/Paper",
          "product/Paper",
          "product/Paper",
          "product/Paper",
          "product/Paper",
          "product/Paper",
          "product/Paper",
          "product/Paper",
          "product/Paper",
          "product/Paper",
          "product/Paper",
          "product/Paper",
          "product/Paper",
          "product/Paper",
          "product/Paper",
          "product/Paper",
          "product/Paper",
          "product/Paper",
          "product/Paper",
          "product/Paper",
          "product/Paper",
          "product/Paper",
          "product/Paper",
          "product/Paper",
          "product/Paper",
          "product/Paper",
          "product/Paper",
          "product/Paper",
          "product/Paper",
          "product/Paper",
          "product/Paper",
          "product/Paper",
          "product/Paper",
          "product/Paper",
          "product/Paper",
          "product/Paper",
          "product/Paper",
          "product/Paper",
          "product/Paper",
          "product/Paper",
          "product/Paper",
          "product/Paper",
          "product/Paper",
          "product/Paper",
          "product/Paper",
          "product/Paper",
          "product/Paper",
          "product/Paper",
          "product/Paper",
          "product/Paper",
          "product/Paper",
          "product/Paper",
          "product/Paper",
          "product/Paper",
          "product/Paper",
          "product/Paper",
          "product/Paper",
          "product/Paper",
          "product/Paper",
          "product/Paper",
          "product/Paper",
          "product/Paper",
          "product/Paper",
          "product/Paper",
          "product/Paper",
          "product/Paper",
          "product/Paper",
          "product/Paper",
          "product/Paper",
          "product/Paper",
          "product/Paper",
          "product/Paper",
          "product/Paper",
          "product/Paper",
          "product/Paper",
          "product/Paper",
          "product/Paper",
          "product/Paper",
          "product/Paper",
          "product/Paper",
          "product/Paper",
          "product/Paper",
          "product/Paper",
          "product/Paper",
          "product/Paper",
          "product/Paper",
          "product/Paper",
          "product/Paper",
          "product/Paper",
          "product/Paper",
          "product/Paper",
          "product/Paper",
          "product/Paper",
          "product/Paper",
          "product/Paper",
          "product/Paper",
          "product/Paper",
          "product/Paper",
          "product/Paper",
          "product/Paper",
          "product/Paper",
          "product/Paper",
          "product/Binders",
          "product/Binders",
          "product/Machines",
          "product/Machines",
          "product/Art",
          "product/Binders",
          "product/Phones",
          "product/Phones",
          "product/Phones",
          "product/Phones",
          "product/Phones",
          "product/Phones",
          "product/Phones",
          "product",
          "product",
          "product",
          "product",
          "product",
          "product",
          "product",
          "product",
          "product",
          "product",
          "product",
          "product",
          "product",
          "product",
          "product",
          "product",
          "product",
          ""
         ],
         "type": "treemap",
         "values": [
          7.42,
          22.18,
          90.886,
          61.18000000000001,
          91.68,
          7.92,
          7.8,
          391.608,
          96.08,
          194.844,
          421.1,
          119.88,
          1473.1,
          209.8,
          1039.992,
          34.04,
          103.92,
          111.9,
          250.272,
          107.46,
          81.28,
          56.629999999999995,
          52.402,
          56.168,
          16.52,
          965.76,
          891.92,
          1095.92,
          109.592,
          108.576,
          717.6,
          302.376,
          46.384,
          164.792,
          211.168,
          604.752,
          1292.88,
          1034.112,
          14.016,
          73.28,
          189.28,
          1945.28,
          2.88,
          10.65,
          51.312,
          158.536,
          4.176,
          7.656,
          152.93800000000002,
          59.6,
          19.6,
          21.336,
          81.77600000000001,
          6.456,
          34.432,
          29.74,
          100.704,
          81.19999999999999,
          51.816,
          18.288,
          62.848,
          24.384,
          13.005,
          13.88,
          120.68,
          211.248,
          186.15,
          24.464,
          59.903999999999996,
          12.341999999999999,
          35.06,
          132.99,
          38.304,
          54.72,
          50.04,
          27.93,
          157.3,
          97.3,
          21.728,
          17.22,
          56.562,
          39.76,
          27.79,
          79.772,
          108.9,
          6.8,
          38.69,
          28.836,
          53.379999999999995,
          34.4,
          20.94,
          56.8,
          62.327999999999996,
          55.86,
          1814.6000000000001,
          39.072,
          1108.712,
          30.93,
          7.9,
          38.29,
          61,
          55,
          13.080000000000002,
          11.62,
          808.0799999999999,
          154.35000000000002,
          27.28,
          31.57,
          167.86,
          52.074,
          29.79,
          23.759999999999998,
          13.440000000000001,
          143.152,
          219.04,
          171.07999999999998,
          119.028,
          13.98,
          9.32,
          419.9,
          8.96,
          10.9,
          52.92,
          87.36,
          24.368,
          46.72,
          35.168,
          47.976,
          199.95999999999998,
          63.968,
          59.97,
          5198.64,
          911.984,
          46.62,
          9.05,
          84.48,
          287.968,
          72.294,
          1552.831,
          2261.889,
          1459.753,
          904.9000000000001,
          354.96,
          271.96,
          31.32,
          641.13,
          72.45,
          31.68,
          133.2,
          28.909999999999997,
          421.31399999999996,
          54.010000000000005,
          56.7,
          45,
          40.04,
          8.67,
          24.9,
          213.01,
          29.24,
          18.45,
          42.84,
          72.45,
          23.04,
          74,
          11.52,
          9.82,
          28.71,
          31.5,
          22.5,
          21.56,
          5.78,
          37.848,
          125.3,
          58.48,
          13.283999999999999,
          72.45,
          74,
          16.52,
          5.76,
          14.73,
          8.874,
          37.8,
          3.75,
          3.08,
          52.02,
          14.940000000000001,
          14.4,
          95.03,
          25.83,
          50.4,
          40.936,
          7.38,
          51.75,
          278.88,
          9.336,
          13.848,
          11.52,
          72.64,
          13.272,
          17.424,
          73.14999999999999,
          18.308,
          40.32,
          67.864,
          19.136,
          58.032000000000004,
          25.52,
          71.632,
          20.279999999999998,
          21.024,
          14.304,
          84.105,
          251.76,
          22.92,
          82.616,
          14.352,
          27.696,
          37.232,
          148.512,
          20.64,
          12.672,
          4.544,
          101.46900000000001,
          280.998,
          495.858,
          55.776,
          28.832,
          37.26,
          32.4,
          27.76,
          248.124,
          161.138,
          3839.952,
          3.024,
          253.176,
          892.98,
          610.5,
          161.28,
          136.464,
          353.88,
          792.792,
          241.96,
          577.488,
          137.214,
          236.88,
          157.92,
          25.146,
          81.96,
          119.96,
          69.48,
          183.84,
          77.974,
          748.72,
          86.664,
          194.88,
          97.16,
          172.162,
          71.952,
          112.134,
          1179.882,
          2913.066,
          1415.394,
          3497.132,
          510.92999999999995,
          2337.39,
          143.432,
          351.216,
          1577.752,
          1304.92,
          17.168,
          18.368,
          233.35999999999999,
          9.26,
          13.48,
          10.75,
          140.67,
          5.872,
          11.648,
          36.44,
          1209.504,
          37.38,
          419.944,
          796,
          38.256,
          46.64,
          132.06,
          64.14,
          25.98,
          19.83,
          241.8,
          112.6,
          723,
          165.55,
          91.96,
          123.92,
          218.75,
          41.6,
          2855.322,
          2887.056,
          7710.665,
          5008.8,
          9.9,
          1679.944,
          29.95,
          95.92,
          4666.3099999999995,
          2423.6400000000003,
          1937.8384999999998,
          273.568,
          66.294,
          2771.76,
          2396.66,
          119.833,
          556.665,
          69.576,
          90.882,
          257.499,
          460.941,
          71.896,
          59.28,
          30.576,
          311.15,
          2999.95,
          3359.952,
          1119.944,
          6719.904,
          1799.97,
          3149.93,
          13999.96,
          142.576,
          130.702,
          25.32,
          25.536,
          68.724,
          29.12,
          26.88,
          135.564,
          13.904,
          728.8199999999999,
          1862.54,
          451.25199999999995,
          1442.74,
          339.932,
          215.296,
          479.72,
          1314.624,
          275.49,
          1322.352,
          1524.9499999999998,
          3033.216,
          3346.368,
          431.968,
          385.8,
          1212.848,
          213.48,
          287.88,
          623.96,
          211.168,
          239.39999999999998,
          246.168,
          3000.7119999999995,
          316.752,
          345.765,
          3471.9440000000004,
          111.984,
          211.168,
          18.24,
          1.81,
          85.2,
          19.450000000000003,
          477.24,
          226.56,
          8.064,
          182.112,
          279.32800000000003,
          227.84,
          25.83,
          96.96,
          286.86,
          175.84,
          21.72,
          19.292,
          42.64,
          4799.984,
          27.72,
          51.959999999999994,
          26.48,
          22.752,
          72.9,
          202.39999999999998,
          115.736,
          80.78,
          59.99,
          37.74,
          20.24,
          291.28,
          19.54,
          85.32,
          97.15199999999999,
          49.7,
          109.84,
          28.38,
          2053.328,
          3832.4970000000003,
          92.52000000000001,
          47.92,
          863.946,
          1114.384,
          32.04,
          61.11,
          185.04,
          124.74,
          842.72,
          230.31,
          464.85,
          413.2,
          435.26,
          276.69,
          291.8,
          69.30000000000001,
          128.352,
          1247.64,
          4.17,
          140.376,
          309.57599999999996,
          49.14,
          7.667999999999999,
          116.608,
          255.85,
          41.86,
          9.21,
          23.84,
          25.02,
          1415.664,
          1705.6599999999999,
          255.208,
          29.76,
          8,
          18.62,
          14.976,
          660.8,
          364.704,
          20.22,
          31.4,
          18.84,
          50.24,
          29.7,
          61.25,
          24.14,
          43.31,
          162.6,
          210.58,
          155.76,
          277.5,
          238.56,
          218.352,
          273.096,
          207.35,
          201.04,
          19.3,
          15.232,
          46.9,
          53.2,
          81.18,
          118.66,
          69.86,
          79.4,
          209.7,
          166.54,
          24.84,
          66.88,
          49.4,
          11.664,
          354.75,
          509.04,
          328.27,
          319.84000000000003,
          30.008,
          22.619999999999997,
          202.42000000000002,
          201.528,
          5.344,
          100.53999999999999,
          151.76,
          21.44,
          148.02,
          621.76,
          87.96,
          148.72,
          67.71,
          99.6,
          290.78,
          38.88,
          17.48,
          152.94,
          400.8,
          154.9,
          152.88,
          70.68,
          76.14,
          56.099999999999994,
          177.84,
          22.72,
          66.56,
          126.3,
          9.78,
          467.152,
          470.67999999999995,
          238.40999999999997,
          161.94,
          1195.632,
          147.108,
          466.06,
          186.912,
          215.28,
          55.775999999999996,
          596.992,
          352.38,
          279.726,
          1119.24,
          64.96,
          2102.022,
          679.96,
          3724.7039999999997,
          8134.336,
          96.696,
          371.976,
          176.11200000000002,
          777.21,
          1352.19,
          1813.17,
          338.04,
          305.25,
          2584.8,
          274.03200000000004,
          57.888,
          209.244,
          847.25,
          963.8,
          428.4,
          86.2,
          62.16,
          120.78,
          41.94,
          459.696,
          5.682,
          135.8,
          23.88,
          6.98,
          19.92,
          20.72,
          3031.0559999999996,
          1788.3319999999999,
          398.352,
          3266.376,
          946.904,
          1791.84,
          210.915,
          70.272,
          21.312,
          20.704,
          45.664,
          99.136,
          76.672,
          29.52,
          58.589999999999996,
          63.959999999999994,
          335.68,
          168.112,
          329.37600000000003,
          2022.272,
          435.204,
          334.76800000000003,
          231.744,
          35.168,
          81.928,
          318.976,
          590.352,
          286.20799999999997,
          12.176,
          111.168,
          145.176,
          367.098,
          473.34399999999994,
          104.256,
          99.26400000000001,
          126.96000000000001,
          1567.92,
          59.92,
          1230.452,
          415.896,
          8.73,
          72.744,
          1187.8400000000001,
          35.808,
          1292.94,
          2360.232,
          1449.408,
          146.352,
          383.936,
          1352.032,
          2392.4,
          2287.84,
          1087.92,
          767.84,
          693.328,
          923.76,
          1083.92,
          207.184,
          1158.272,
          698.352,
          888.624,
          842.192,
          1475.88,
          873.504,
          724.2719999999999,
          2807.92,
          643.136,
          1007.888,
          2407.84,
          888.624,
          603.9200000000001,
          48.712,
          215.856,
          124.704,
          1074.976,
          284.98400000000004,
          10019.6,
          487.12,
          437.328,
          1310.112,
          12.78,
          431.976,
          147.184,
          211.96,
          242.624,
          61.192,
          75.348,
          637.5360000000001,
          308.15999999999997,
          244.664,
          161.928,
          8030.0160000000005,
          3925.4880000000003,
          40.46,
          239.984,
          182.7,
          639.936,
          503.96,
          19.98,
          7.968,
          205.38,
          100.47999999999999,
          341.664,
          189,
          100.62,
          34.912,
          2759.908,
          2199.956,
          6239.896000000001,
          447.968,
          13100.24,
          311.976,
          194.94,
          59.7,
          108.9,
          100.94,
          79.31,
          45.28,
          278.08,
          3371.7599999999998,
          1507.464,
          310.443,
          272.848,
          242.352,
          716.544,
          2100.456,
          770.352,
          1423.92,
          3462.662,
          248.808,
          4798.116,
          638.288,
          195.184,
          1561.472,
          585.552,
          387.136,
          1503.84,
          2720.04,
          127.764,
          283.92,
          1212.96,
          2771.994,
          1126.48,
          2311.056,
          1501.83,
          997.538,
          161.568,
          1101.48,
          314.6,
          38.849999999999994,
          95.06,
          23.700000000000003,
          715.64,
          2605.77,
          1089.75,
          1427.76,
          646.95,
          345.04,
          467.46,
          196.45,
          488.176,
          532.4559999999999,
          137.54,
          258.75,
          1048.616,
          191.82,
          82.26,
          1113.024,
          9.328,
          569.7,
          100.8,
          124.384,
          241.644,
          553.568,
          4535.976,
          2683.9120000000003,
          4084.6890000000003,
          623.56,
          243.2,
          134.88,
          22.288,
          55.264,
          499.96799999999996,
          13.184,
          962.64,
          512.336,
          619.018,
          8.04,
          1049.44,
          1662.4,
          483.698,
          110.4,
          119.8,
          350.20399999999995,
          45,
          263.2,
          547.056,
          45.48,
          30.3,
          12.6,
          24.862000000000002,
          109.9,
          71.82,
          59.2,
          143.976,
          92.456,
          914.328,
          1127.8799999999999,
          191.68,
          1315.008,
          220.704,
          35.89,
          1281.102,
          1233.4859999999999,
          1740.248,
          204.8,
          812.1600000000001,
          472.03200000000004,
          854.9100000000001,
          215.67000000000002,
          431.928,
          196.752,
          108,
          92.52,
          159.31,
          118.64999999999999,
          101.34,
          6.24,
          1367.136,
          43.6,
          380.864,
          156.792,
          1233.04,
          39.92,
          21.34,
          436.704,
          54.384,
          1971.54,
          1427.4,
          2257.188,
          23.408,
          96.36,
          2549.985,
          299.97,
          872.32,
          30.56,
          101.94,
          245.358,
          431.856,
          295.91999999999996,
          87.87,
          163.6,
          719.91,
          1487.88,
          1299.9,
          447.944,
          909.8699999999999,
          719.91,
          399.95,
          899.91,
          170.97,
          1035.216,
          58.08,
          79.98,
          279.92,
          863.872,
          179.94,
          215.964,
          479.97,
          214.95,
          699.9300000000001,
          779.844,
          299.96999999999997,
          324.87,
          866.898,
          899.85,
          19.99,
          223.38400000000001,
          7467.21,
          359.98,
          4289.87,
          67.75999999999999,
          7.88,
          146.952,
          355.36,
          299.1,
          920.7,
          1049.2,
          312.03,
          124.28,
          17.352,
          83.92,
          15.2,
          107.604,
          1332.496,
          128.8,
          73.92,
          50.8,
          15.24,
          50.96,
          52.416,
          22.77,
          31.86,
          8.91,
          83.88,
          68.46,
          148.32,
          363.87,
          31.128,
          23.976,
          67.96,
          102.24,
          32.97,
          81.65,
          380.562,
          146.04,
          80.6,
          335.37,
          120,
          471.12,
          46.32,
          58.95,
          51.36,
          53.456,
          108.608,
          300,
          171.91400000000002,
          359.70000000000005,
          419.85999999999996,
          1017.96,
          279.65,
          191.952,
          628.176,
          2116.688,
          1319.952,
          379.404,
          205.086,
          959.88,
          126.56,
          312.664,
          2620.632,
          257.544,
          271.992,
          208.56,
          1258.2,
          1663.8960000000002,
          720,
          21.488,
          7.312,
          5.46,
          8.4,
          23.1,
          41.300000000000004,
          10.208,
          15.469999999999999,
          18.688,
          18.368,
          16.740000000000002,
          39.983999999999995,
          25.576,
          95.232,
          31.68,
          19.688,
          5.248,
          7.28,
          11.76,
          43.89,
          49.56,
          11.264,
          13.26,
          35.04,
          16.4,
          16.74,
          23.92,
          32.34,
          25.02,
          515.84,
          5.76,
          27.392000000000003,
          23.52,
          8.34,
          119.04,
          17.12,
          29.4,
          24.464,
          158.72,
          22.464,
          77.03999999999999,
          13.12,
          22.959999999999997,
          32.8,
          40.016,
          53.69,
          71.976,
          302.376,
          12.32,
          1000.728,
          1108.728,
          975.68,
          851.76,
          724.704,
          681.408,
          164.32,
          28.736,
          43.02,
          74.76,
          307.666,
          150.598,
          322.677,
          1808.6509999999998,
          163.88,
          84.98,
          890.664,
          1953.827,
          2602.691,
          307.666,
          9.4,
          64.44,
          12.4,
          36.296,
          17.9,
          33.4,
          5.7,
          1672.7,
          1127.84,
          443.91999999999996,
          104.784,
          579.136,
          388.70400000000006,
          314.352,
          1159.056,
          4211.76,
          436.704,
          242.136,
          532.704,
          1029.6,
          179.991,
          2792,
          2395.2,
          7834.4,
          1007.92,
          219.91199999999998,
          228.69599999999997,
          359.88,
          88.752,
          583.056,
          233.988,
          87.92,
          34.58,
          179.9,
          73.2,
          2396.4,
          269.97,
          399.96,
          119.96,
          313.536,
          393.552,
          1495.824,
          739.088,
          359.976,
          183.96,
          21.84,
          111.888,
          56.647999999999996,
          108.852,
          21.816,
          123.132,
          6.57,
          224.24,
          174.95,
          81.328,
          5.22,
          12.6,
          275.52,
          62.32,
          155.1,
          33.63,
          86.272,
          119.76,
          263.96,
          609.878,
          1539.3,
          979.1279999999999,
          659.9,
          940.7520000000001,
          139.8,
          215.76,
          1855.84,
          68.72,
          323.37,
          3797.5499999999997,
          29.925,
          155.976,
          494.376,
          54.54,
          20.724,
          28.485,
          24.48,
          479.968,
          479.92,
          1987.568,
          666.344,
          1295.84,
          1007.944,
          1179.8,
          78.144,
          39.96,
          47.04,
          49.484,
          23.52,
          480.74,
          996.396,
          54.792,
          203.506,
          217.168,
          28.012,
          39.28,
          29.904000000000003,
          29.904,
          62.976,
          18.2,
          48.64,
          39.68,
          28.06,
          1305.464,
          201.568,
          5.56,
          11.68,
          159.984,
          727.944,
          482.32800000000003,
          185.148,
          599.94,
          159.98,
          2399.88,
          434.67600000000004,
          134.25,
          53.712,
          71.97,
          85.568,
          52.649,
          171.69,
          54.87,
          103.18,
          19.92,
          14.9,
          22.92,
          9.504000000000001,
          5.67,
          369.16,
          86.516,
          286.85,
          1497.666,
          211.008,
          21.92,
          95.06,
          351.53999999999996,
          26.96,
          22.880000000000003,
          150.35999999999999,
          11.22,
          932.232,
          1803.839,
          5744.96,
          2340.984,
          276.28,
          42.76,
          106.56,
          1307.114,
          1747.25,
          5.68,
          131.688,
          123.136,
          139.53,
          1716.48,
          241.332,
          671.93,
          262.626,
          603.3299999999999,
          381.36,
          5375.871999999999,
          2575.944,
          703.968,
          559.984,
          1001.584,
          1879.96,
          175.6,
          22,
          316.75199999999995,
          95.1,
          908,
          179.262,
          331.5,
          535.866,
          245.82,
          34.56,
          16.4,
          18.9,
          2518.29,
          3281.4,
          555.648,
          145.764,
          822.664,
          488.665,
          586.398,
          726.665,
          1706.508,
          273.666,
          1423.8980000000001,
          290.666,
          222.666,
          30.56,
          223.272,
          87.72,
          53.550000000000004,
          11.264,
          1220.856,
          23.864,
          183.84,
          106.68,
          108.22399999999999,
          64.96,
          60.84,
          1319.976,
          2399.952,
          17.52,
          675.96,
          124.85,
          965.328,
          8.288,
          61.512,
          18.75,
          15.4,
          303.52,
          506.28,
          25.78,
          167.6,
          467.87,
          257.554,
          83.64,
          582.6759999999999,
          303.738,
          70.02,
          65.052,
          27.18,
          87.912,
          15.696,
          50.96,
          775.8,
          689.82,
          37.474000000000004,
          22.4,
          63.936,
          95.904,
          231.168,
          36.96,
          24.9,
          87.92,
          3423.61,
          120.15,
          279.12,
          122.16,
          16.543999999999997,
          304.02,
          169.956,
          178.276,
          17.34,
          542.5,
          32.04,
          72.4,
          686.32,
          532.72,
          153.008,
          52.8,
          4.71,
          44.16,
          45.78,
          80.784,
          5.5440000000000005,
          527.1,
          65.79,
          54.239999999999995,
          998.82,
          23.064,
          14.98,
          73.344,
          1879.953,
          21.4,
          22.776,
          248.784,
          32.04,
          129.45,
          19.05,
          979.4399999999999,
          1208.172,
          275.88,
          282.84,
          175.78,
          129.92,
          107.53,
          46.53,
          15.51,
          242.64000000000001,
          128.9,
          849.1,
          255.52800000000002,
          1295.78,
          5144.298,
          162.72,
          1575.14,
          224.986,
          41.96,
          1764.534,
          1126.02,
          2235.84,
          2435.58,
          13.592,
          327.58,
          11.56,
          105.552,
          17.61,
          19.008,
          146.82,
          244.55,
          16.45,
          2112.648,
          731.976,
          51.312,
          835.908,
          75.792,
          42.416,
          20.1,
          244.62,
          487.84,
          542.88,
          157.8,
          14.73,
          8.312999999999999,
          47.84,
          9.872,
          15.552,
          18.308,
          1007.92,
          55.36,
          46.36,
          69.9,
          11.54,
          96.432,
          648.44,
          71.976,
          383.96,
          510.6,
          1428,
          531,
          14.352,
          88.722,
          23.99,
          28.28,
          58.32,
          4.73,
          98.46,
          209.304,
          155.762,
          15.25,
          90.24,
          583.8,
          4868.8,
          19.536,
          9.612,
          20.384,
          99.696,
          131.07999999999998,
          21.76,
          2.025,
          18,
          376.64,
          20.928,
          79.52,
          55.424,
          56.980000000000004,
          83.03999999999999,
          168.489,
          360.624,
          263.88,
          20.240000000000002,
          69.408,
          24.689999999999998,
          575.92,
          58.050000000000004,
          70.59,
          35.2,
          40.14,
          23.85,
          120.42,
          83.43,
          53.269999999999996,
          35.948,
          106.47999999999999,
          453.576,
          8.94,
          33.87,
          567.04,
          90.872,
          212.724,
          374.596,
          19.98,
          480.4,
          47.9,
          72.086,
          554.8,
          209.7,
          948.854,
          116.28,
          368.91,
          159.40800000000002,
          99.268,
          29.97,
          19.92,
          146.95999999999998,
          30.055999999999997,
          216.86,
          4.98,
          81.32000000000001,
          29.900000000000002,
          97.2,
          24.56,
          279.9,
          395.7,
          279.72,
          335.29999999999995,
          94.85,
          221.92,
          351.744,
          314.54999999999995,
          244.7,
          586.92,
          1024.75,
          51.84,
          23.92,
          11.952,
          20.04,
          23.12,
          216.86,
          17.12,
          73.92,
          68.52,
          35.88,
          102.384,
          108.864,
          85.056,
          184.20000000000002,
          559.8,
          192.16,
          37.94,
          233.016,
          219.84,
          817.83,
          293.64,
          146.73,
          77.52,
          450.89000000000004,
          45.36,
          83.72,
          9.96,
          60.12,
          136.312,
          64.74,
          29.96,
          8.448,
          13.36,
          28.9,
          439.916,
          29.96,
          45.68,
          23.92,
          19.44,
          32.4,
          86.84,
          34.86,
          81.32,
          10.56,
          169.01600000000002,
          47.84,
          25.92,
          36.288,
          66.8,
          57.8,
          278.82,
          21.12,
          91.36,
          5.98,
          12.96,
          80.16,
          34.68,
          439.916,
          365.44,
          50.232,
          32.400000000000006,
          110.16,
          58.32000000000001,
          12.96,
          41.472,
          6.48,
          12.96,
          19.44,
          32.400000000000006,
          58.32000000000001,
          77.76,
          58.32,
          19.44,
          51.84,
          36.288,
          31.104,
          32.400000000000006,
          25.92,
          45.36,
          6.48,
          19.44,
          82.944,
          19.44,
          31.104000000000003,
          32.4,
          38.88,
          77.76,
          32.4,
          51.84,
          25.92,
          158.11200000000002,
          132.192,
          25.92,
          64.80000000000001,
          38.88,
          32.400000000000006,
          60.912,
          6.48,
          10.368,
          41.184,
          99.9,
          365.44,
          82.208,
          12.544,
          703.71,
          5521.88,
          18.24,
          27.456,
          254.35200000000003,
          503.928,
          100.56,
          31.984,
          79.96,
          158.312,
          839.84,
          61114.116,
          30236.336,
          9212.066,
          55961.113,
          36004.1235,
          101781.32800000001,
          49749.242,
          4118.1,
          923.216,
          30072.73,
          5078.726,
          42444.122,
          26663.718,
          98684.352,
          70532.852,
          18127.122,
          84754.562,
          725457.8245
         ]
        }
       ],
       "layout": {
        "coloraxis": {
         "colorbar": {
          "title": {
           "text": "Sales"
          }
         },
         "colorscale": [
          [
           0,
           "#000000"
          ],
          [
           0.0625,
           "#001f4d"
          ],
          [
           0.125,
           "#003786"
          ],
          [
           0.1875,
           "#0e58a8"
          ],
          [
           0.25,
           "#217eb8"
          ],
          [
           0.3125,
           "#30a4ca"
          ],
          [
           0.375,
           "#54c8df"
          ],
          [
           0.4375,
           "#9be4ef"
          ],
          [
           0.5,
           "#e1e9d1"
          ],
          [
           0.5625,
           "#f3d573"
          ],
          [
           0.625,
           "#e7b000"
          ],
          [
           0.6875,
           "#da8200"
          ],
          [
           0.75,
           "#c65400"
          ],
          [
           0.8125,
           "#ac2301"
          ],
          [
           0.875,
           "#820000"
          ],
          [
           0.9375,
           "#4c0000"
          ],
          [
           1,
           "#000000"
          ]
         ]
        },
        "legend": {
         "tracegroupgap": 0
        },
        "margin": {
         "t": 60
        },
        "template": {
         "data": {
          "bar": [
           {
            "error_x": {
             "color": "#2a3f5f"
            },
            "error_y": {
             "color": "#2a3f5f"
            },
            "marker": {
             "line": {
              "color": "#E5ECF6",
              "width": 0.5
             },
             "pattern": {
              "fillmode": "overlay",
              "size": 10,
              "solidity": 0.2
             }
            },
            "type": "bar"
           }
          ],
          "barpolar": [
           {
            "marker": {
             "line": {
              "color": "#E5ECF6",
              "width": 0.5
             },
             "pattern": {
              "fillmode": "overlay",
              "size": 10,
              "solidity": 0.2
             }
            },
            "type": "barpolar"
           }
          ],
          "carpet": [
           {
            "aaxis": {
             "endlinecolor": "#2a3f5f",
             "gridcolor": "white",
             "linecolor": "white",
             "minorgridcolor": "white",
             "startlinecolor": "#2a3f5f"
            },
            "baxis": {
             "endlinecolor": "#2a3f5f",
             "gridcolor": "white",
             "linecolor": "white",
             "minorgridcolor": "white",
             "startlinecolor": "#2a3f5f"
            },
            "type": "carpet"
           }
          ],
          "choropleth": [
           {
            "colorbar": {
             "outlinewidth": 0,
             "ticks": ""
            },
            "type": "choropleth"
           }
          ],
          "contour": [
           {
            "colorbar": {
             "outlinewidth": 0,
             "ticks": ""
            },
            "colorscale": [
             [
              0,
              "#0d0887"
             ],
             [
              0.1111111111111111,
              "#46039f"
             ],
             [
              0.2222222222222222,
              "#7201a8"
             ],
             [
              0.3333333333333333,
              "#9c179e"
             ],
             [
              0.4444444444444444,
              "#bd3786"
             ],
             [
              0.5555555555555556,
              "#d8576b"
             ],
             [
              0.6666666666666666,
              "#ed7953"
             ],
             [
              0.7777777777777778,
              "#fb9f3a"
             ],
             [
              0.8888888888888888,
              "#fdca26"
             ],
             [
              1,
              "#f0f921"
             ]
            ],
            "type": "contour"
           }
          ],
          "contourcarpet": [
           {
            "colorbar": {
             "outlinewidth": 0,
             "ticks": ""
            },
            "type": "contourcarpet"
           }
          ],
          "heatmap": [
           {
            "colorbar": {
             "outlinewidth": 0,
             "ticks": ""
            },
            "colorscale": [
             [
              0,
              "#0d0887"
             ],
             [
              0.1111111111111111,
              "#46039f"
             ],
             [
              0.2222222222222222,
              "#7201a8"
             ],
             [
              0.3333333333333333,
              "#9c179e"
             ],
             [
              0.4444444444444444,
              "#bd3786"
             ],
             [
              0.5555555555555556,
              "#d8576b"
             ],
             [
              0.6666666666666666,
              "#ed7953"
             ],
             [
              0.7777777777777778,
              "#fb9f3a"
             ],
             [
              0.8888888888888888,
              "#fdca26"
             ],
             [
              1,
              "#f0f921"
             ]
            ],
            "type": "heatmap"
           }
          ],
          "heatmapgl": [
           {
            "colorbar": {
             "outlinewidth": 0,
             "ticks": ""
            },
            "colorscale": [
             [
              0,
              "#0d0887"
             ],
             [
              0.1111111111111111,
              "#46039f"
             ],
             [
              0.2222222222222222,
              "#7201a8"
             ],
             [
              0.3333333333333333,
              "#9c179e"
             ],
             [
              0.4444444444444444,
              "#bd3786"
             ],
             [
              0.5555555555555556,
              "#d8576b"
             ],
             [
              0.6666666666666666,
              "#ed7953"
             ],
             [
              0.7777777777777778,
              "#fb9f3a"
             ],
             [
              0.8888888888888888,
              "#fdca26"
             ],
             [
              1,
              "#f0f921"
             ]
            ],
            "type": "heatmapgl"
           }
          ],
          "histogram": [
           {
            "marker": {
             "pattern": {
              "fillmode": "overlay",
              "size": 10,
              "solidity": 0.2
             }
            },
            "type": "histogram"
           }
          ],
          "histogram2d": [
           {
            "colorbar": {
             "outlinewidth": 0,
             "ticks": ""
            },
            "colorscale": [
             [
              0,
              "#0d0887"
             ],
             [
              0.1111111111111111,
              "#46039f"
             ],
             [
              0.2222222222222222,
              "#7201a8"
             ],
             [
              0.3333333333333333,
              "#9c179e"
             ],
             [
              0.4444444444444444,
              "#bd3786"
             ],
             [
              0.5555555555555556,
              "#d8576b"
             ],
             [
              0.6666666666666666,
              "#ed7953"
             ],
             [
              0.7777777777777778,
              "#fb9f3a"
             ],
             [
              0.8888888888888888,
              "#fdca26"
             ],
             [
              1,
              "#f0f921"
             ]
            ],
            "type": "histogram2d"
           }
          ],
          "histogram2dcontour": [
           {
            "colorbar": {
             "outlinewidth": 0,
             "ticks": ""
            },
            "colorscale": [
             [
              0,
              "#0d0887"
             ],
             [
              0.1111111111111111,
              "#46039f"
             ],
             [
              0.2222222222222222,
              "#7201a8"
             ],
             [
              0.3333333333333333,
              "#9c179e"
             ],
             [
              0.4444444444444444,
              "#bd3786"
             ],
             [
              0.5555555555555556,
              "#d8576b"
             ],
             [
              0.6666666666666666,
              "#ed7953"
             ],
             [
              0.7777777777777778,
              "#fb9f3a"
             ],
             [
              0.8888888888888888,
              "#fdca26"
             ],
             [
              1,
              "#f0f921"
             ]
            ],
            "type": "histogram2dcontour"
           }
          ],
          "mesh3d": [
           {
            "colorbar": {
             "outlinewidth": 0,
             "ticks": ""
            },
            "type": "mesh3d"
           }
          ],
          "parcoords": [
           {
            "line": {
             "colorbar": {
              "outlinewidth": 0,
              "ticks": ""
             }
            },
            "type": "parcoords"
           }
          ],
          "pie": [
           {
            "automargin": true,
            "type": "pie"
           }
          ],
          "scatter": [
           {
            "fillpattern": {
             "fillmode": "overlay",
             "size": 10,
             "solidity": 0.2
            },
            "type": "scatter"
           }
          ],
          "scatter3d": [
           {
            "line": {
             "colorbar": {
              "outlinewidth": 0,
              "ticks": ""
             }
            },
            "marker": {
             "colorbar": {
              "outlinewidth": 0,
              "ticks": ""
             }
            },
            "type": "scatter3d"
           }
          ],
          "scattercarpet": [
           {
            "marker": {
             "colorbar": {
              "outlinewidth": 0,
              "ticks": ""
             }
            },
            "type": "scattercarpet"
           }
          ],
          "scattergeo": [
           {
            "marker": {
             "colorbar": {
              "outlinewidth": 0,
              "ticks": ""
             }
            },
            "type": "scattergeo"
           }
          ],
          "scattergl": [
           {
            "marker": {
             "colorbar": {
              "outlinewidth": 0,
              "ticks": ""
             }
            },
            "type": "scattergl"
           }
          ],
          "scattermapbox": [
           {
            "marker": {
             "colorbar": {
              "outlinewidth": 0,
              "ticks": ""
             }
            },
            "type": "scattermapbox"
           }
          ],
          "scatterpolar": [
           {
            "marker": {
             "colorbar": {
              "outlinewidth": 0,
              "ticks": ""
             }
            },
            "type": "scatterpolar"
           }
          ],
          "scatterpolargl": [
           {
            "marker": {
             "colorbar": {
              "outlinewidth": 0,
              "ticks": ""
             }
            },
            "type": "scatterpolargl"
           }
          ],
          "scatterternary": [
           {
            "marker": {
             "colorbar": {
              "outlinewidth": 0,
              "ticks": ""
             }
            },
            "type": "scatterternary"
           }
          ],
          "surface": [
           {
            "colorbar": {
             "outlinewidth": 0,
             "ticks": ""
            },
            "colorscale": [
             [
              0,
              "#0d0887"
             ],
             [
              0.1111111111111111,
              "#46039f"
             ],
             [
              0.2222222222222222,
              "#7201a8"
             ],
             [
              0.3333333333333333,
              "#9c179e"
             ],
             [
              0.4444444444444444,
              "#bd3786"
             ],
             [
              0.5555555555555556,
              "#d8576b"
             ],
             [
              0.6666666666666666,
              "#ed7953"
             ],
             [
              0.7777777777777778,
              "#fb9f3a"
             ],
             [
              0.8888888888888888,
              "#fdca26"
             ],
             [
              1,
              "#f0f921"
             ]
            ],
            "type": "surface"
           }
          ],
          "table": [
           {
            "cells": {
             "fill": {
              "color": "#EBF0F8"
             },
             "line": {
              "color": "white"
             }
            },
            "header": {
             "fill": {
              "color": "#C8D4E3"
             },
             "line": {
              "color": "white"
             }
            },
            "type": "table"
           }
          ]
         },
         "layout": {
          "annotationdefaults": {
           "arrowcolor": "#2a3f5f",
           "arrowhead": 0,
           "arrowwidth": 1
          },
          "autotypenumbers": "strict",
          "coloraxis": {
           "colorbar": {
            "outlinewidth": 0,
            "ticks": ""
           }
          },
          "colorscale": {
           "diverging": [
            [
             0,
             "#8e0152"
            ],
            [
             0.1,
             "#c51b7d"
            ],
            [
             0.2,
             "#de77ae"
            ],
            [
             0.3,
             "#f1b6da"
            ],
            [
             0.4,
             "#fde0ef"
            ],
            [
             0.5,
             "#f7f7f7"
            ],
            [
             0.6,
             "#e6f5d0"
            ],
            [
             0.7,
             "#b8e186"
            ],
            [
             0.8,
             "#7fbc41"
            ],
            [
             0.9,
             "#4d9221"
            ],
            [
             1,
             "#276419"
            ]
           ],
           "sequential": [
            [
             0,
             "#0d0887"
            ],
            [
             0.1111111111111111,
             "#46039f"
            ],
            [
             0.2222222222222222,
             "#7201a8"
            ],
            [
             0.3333333333333333,
             "#9c179e"
            ],
            [
             0.4444444444444444,
             "#bd3786"
            ],
            [
             0.5555555555555556,
             "#d8576b"
            ],
            [
             0.6666666666666666,
             "#ed7953"
            ],
            [
             0.7777777777777778,
             "#fb9f3a"
            ],
            [
             0.8888888888888888,
             "#fdca26"
            ],
            [
             1,
             "#f0f921"
            ]
           ],
           "sequentialminus": [
            [
             0,
             "#0d0887"
            ],
            [
             0.1111111111111111,
             "#46039f"
            ],
            [
             0.2222222222222222,
             "#7201a8"
            ],
            [
             0.3333333333333333,
             "#9c179e"
            ],
            [
             0.4444444444444444,
             "#bd3786"
            ],
            [
             0.5555555555555556,
             "#d8576b"
            ],
            [
             0.6666666666666666,
             "#ed7953"
            ],
            [
             0.7777777777777778,
             "#fb9f3a"
            ],
            [
             0.8888888888888888,
             "#fdca26"
            ],
            [
             1,
             "#f0f921"
            ]
           ]
          },
          "colorway": [
           "#636efa",
           "#EF553B",
           "#00cc96",
           "#ab63fa",
           "#FFA15A",
           "#19d3f3",
           "#FF6692",
           "#B6E880",
           "#FF97FF",
           "#FECB52"
          ],
          "font": {
           "color": "#2a3f5f"
          },
          "geo": {
           "bgcolor": "white",
           "lakecolor": "white",
           "landcolor": "#E5ECF6",
           "showlakes": true,
           "showland": true,
           "subunitcolor": "white"
          },
          "hoverlabel": {
           "align": "left"
          },
          "hovermode": "closest",
          "mapbox": {
           "style": "light"
          },
          "paper_bgcolor": "white",
          "plot_bgcolor": "#E5ECF6",
          "polar": {
           "angularaxis": {
            "gridcolor": "white",
            "linecolor": "white",
            "ticks": ""
           },
           "bgcolor": "#E5ECF6",
           "radialaxis": {
            "gridcolor": "white",
            "linecolor": "white",
            "ticks": ""
           }
          },
          "scene": {
           "xaxis": {
            "backgroundcolor": "#E5ECF6",
            "gridcolor": "white",
            "gridwidth": 2,
            "linecolor": "white",
            "showbackground": true,
            "ticks": "",
            "zerolinecolor": "white"
           },
           "yaxis": {
            "backgroundcolor": "#E5ECF6",
            "gridcolor": "white",
            "gridwidth": 2,
            "linecolor": "white",
            "showbackground": true,
            "ticks": "",
            "zerolinecolor": "white"
           },
           "zaxis": {
            "backgroundcolor": "#E5ECF6",
            "gridcolor": "white",
            "gridwidth": 2,
            "linecolor": "white",
            "showbackground": true,
            "ticks": "",
            "zerolinecolor": "white"
           }
          },
          "shapedefaults": {
           "line": {
            "color": "#2a3f5f"
           }
          },
          "ternary": {
           "aaxis": {
            "gridcolor": "white",
            "linecolor": "white",
            "ticks": ""
           },
           "baxis": {
            "gridcolor": "white",
            "linecolor": "white",
            "ticks": ""
           },
           "bgcolor": "#E5ECF6",
           "caxis": {
            "gridcolor": "white",
            "linecolor": "white",
            "ticks": ""
           }
          },
          "title": {
           "x": 0.05
          },
          "xaxis": {
           "automargin": true,
           "gridcolor": "white",
           "linecolor": "white",
           "ticks": "",
           "title": {
            "standoff": 15
           },
           "zerolinecolor": "white",
           "zerolinewidth": 2
          },
          "yaxis": {
           "automargin": true,
           "gridcolor": "white",
           "linecolor": "white",
           "ticks": "",
           "title": {
            "standoff": 15
           },
           "zerolinecolor": "white",
           "zerolinewidth": 2
          }
         }
        }
       }
      }
     },
     "metadata": {},
     "output_type": "display_data"
    }
   ],
   "source": [
    "fig3 = px.treemap(products, path=[px.Constant(\"product\"), 'Category', 'Product Name'], values='Sales', color='Sales',\n",
    "                 color_continuous_scale='icefire')\n",
    "\n",
    "fig3.show()\n"
   ]
  },
  {
   "cell_type": "raw",
   "id": "d2546ad7-bdaf-45b9-84a3-c8d2463bed54",
   "metadata": {},
   "source": [
    " ['aggrnyl', 'agsunset', 'algae', 'amp', 'armyrose', 'balance',\n",
    "             'blackbody', 'bluered', 'blues', 'blugrn', 'bluyl', 'brbg',\n",
    "             'brwnyl', 'bugn', 'bupu', 'burg', 'burgyl', 'cividis', 'curl',\n",
    "             'darkmint', 'deep', 'delta', 'dense', 'earth', 'edge', 'electric',\n",
    "             'emrld', 'fall', 'geyser', 'gnbu', 'gray', 'greens', 'greys',\n",
    "             'haline', 'hot', 'hsv', 'ice', 'icefire', 'inferno', 'jet',\n",
    "             'magenta', 'magma', 'matter', 'mint', 'mrybm', 'mygbm', 'oranges',\n",
    "             'orrd', 'oryel', 'oxy', 'peach', 'phase', 'picnic', 'pinkyl',\n",
    "             'piyg', 'plasma', 'plotly3', 'portland', 'prgn', 'pubu', 'pubugn',\n",
    "             'puor', 'purd', 'purp', 'purples', 'purpor', 'rainbow', 'rdbu',\n",
    "             'rdgy', 'rdpu', 'rdylbu', 'rdylgn', 'redor', 'reds', 'solar',\n",
    "             'spectral', 'speed', 'sunset', 'sunsetdark', 'teal', 'tealgrn',\n",
    "             'tealrose', 'tempo', 'temps', 'thermal', 'tropic', 'turbid',\n",
    "             'turbo', 'twilight', 'viridis', 'ylgn', 'ylgnbu', 'ylorbr',\n",
    "             'ylorrd']"
   ]
  },
  {
   "cell_type": "markdown",
   "id": "df8eb784-e343-4dc5-933c-f2be8f772c72",
   "metadata": {},
   "source": [
    "## RFM analysis \n",
    "\n",
    "- recently\n",
    "- frequency\n",
    "- Monetary Vlaue "
   ]
  },
  {
   "cell_type": "code",
   "execution_count": 17,
   "id": "8f5c9251-9cdf-44c4-a030-92e4c71d9f4b",
   "metadata": {},
   "outputs": [
    {
     "data": {
      "text/plain": [
       "Timestamp('2015-01-01 00:00:00')"
      ]
     },
     "execution_count": 17,
     "metadata": {},
     "output_type": "execute_result"
    }
   ],
   "source": [
    "## reference date \n",
    "ref_dta = amazon_dta['Order Date'].max() + dt.timedelta(days=1) \n",
    "ref_dta"
   ]
  },
  {
   "cell_type": "code",
   "execution_count": 18,
   "id": "8455432c-d411-4a25-9f2d-aa5df8b5279b",
   "metadata": {},
   "outputs": [],
   "source": [
    "# Calculate RFM metrics\n",
    "rfm = amazon_dta.groupby(['EmailID']).agg({'Order Date': lambda x: (ref_dta - x.max()).days,\n",
    "                                   'Order ID': 'count', 'Sales':'sum'})\n",
    "\n",
    "# #Rename columns\n",
    "rfm = rfm.rename(columns={'Order Date':'Recency','Order ID': 'Frequency','Sales':'MonetaryValue'})"
   ]
  },
  {
   "cell_type": "code",
   "execution_count": 19,
   "id": "3ff8e2cc-5e70-489c-97fa-ee0842dd5b5b",
   "metadata": {},
   "outputs": [
    {
     "data": {
      "text/html": [
       "<div>\n",
       "<style scoped>\n",
       "    .dataframe tbody tr th:only-of-type {\n",
       "        vertical-align: middle;\n",
       "    }\n",
       "\n",
       "    .dataframe tbody tr th {\n",
       "        vertical-align: top;\n",
       "    }\n",
       "\n",
       "    .dataframe thead th {\n",
       "        text-align: right;\n",
       "    }\n",
       "</style>\n",
       "<table border=\"1\" class=\"dataframe\">\n",
       "  <thead>\n",
       "    <tr style=\"text-align: right;\">\n",
       "      <th></th>\n",
       "      <th>Recency</th>\n",
       "      <th>Frequency</th>\n",
       "      <th>MonetaryValue</th>\n",
       "    </tr>\n",
       "    <tr>\n",
       "      <th>EmailID</th>\n",
       "      <th></th>\n",
       "      <th></th>\n",
       "      <th></th>\n",
       "    </tr>\n",
       "  </thead>\n",
       "  <tbody>\n",
       "    <tr>\n",
       "      <th>AaronBergman@gmail.com</th>\n",
       "      <td>1396</td>\n",
       "      <td>3</td>\n",
       "      <td>309.592</td>\n",
       "    </tr>\n",
       "    <tr>\n",
       "      <th>AaronHawkins@gmail.com</th>\n",
       "      <td>735</td>\n",
       "      <td>5</td>\n",
       "      <td>1328.124</td>\n",
       "    </tr>\n",
       "    <tr>\n",
       "      <th>AaronSmayling@gmail.com</th>\n",
       "      <td>89</td>\n",
       "      <td>3</td>\n",
       "      <td>737.028</td>\n",
       "    </tr>\n",
       "    <tr>\n",
       "      <th>AdamBellavance@gmail.com</th>\n",
       "      <td>55</td>\n",
       "      <td>5</td>\n",
       "      <td>2693.918</td>\n",
       "    </tr>\n",
       "    <tr>\n",
       "      <th>AdamHart@gmail.com</th>\n",
       "      <td>260</td>\n",
       "      <td>5</td>\n",
       "      <td>463.770</td>\n",
       "    </tr>\n",
       "  </tbody>\n",
       "</table>\n",
       "</div>"
      ],
      "text/plain": [
       "                          Recency  Frequency  MonetaryValue\n",
       "EmailID                                                    \n",
       "AaronBergman@gmail.com       1396          3        309.592\n",
       "AaronHawkins@gmail.com        735          5       1328.124\n",
       "AaronSmayling@gmail.com        89          3        737.028\n",
       "AdamBellavance@gmail.com       55          5       2693.918\n",
       "AdamHart@gmail.com            260          5        463.770"
      ]
     },
     "execution_count": 19,
     "metadata": {},
     "output_type": "execute_result"
    }
   ],
   "source": [
    "rfm.head()"
   ]
  },
  {
   "cell_type": "code",
   "execution_count": 20,
   "id": "a93130f8-3fdf-4903-9df5-3bd92b1e18f1",
   "metadata": {},
   "outputs": [],
   "source": [
    "#Building RFM segments\n",
    "r_labels =range(4,0,-1)\n",
    "f_labels=range(1,5)\n",
    "m_labels=range(1,5)\n",
    "r_quartiles = pd.qcut(rfm['Recency'], q=4, labels = r_labels)\n",
    "f_quartiles = pd.qcut(rfm['Frequency'],q=4, labels = f_labels)\n",
    "m_quartiles = pd.qcut(rfm['MonetaryValue'],q=4,labels = m_labels)\n",
    "rfm = rfm.assign(R=r_quartiles,F=f_quartiles,M=m_quartiles)"
   ]
  },
  {
   "cell_type": "code",
   "execution_count": 21,
   "id": "f8da8fe8-643f-4bbf-ba1f-6aa9fbedf48a",
   "metadata": {},
   "outputs": [
    {
     "data": {
      "text/html": [
       "<div>\n",
       "<style scoped>\n",
       "    .dataframe tbody tr th:only-of-type {\n",
       "        vertical-align: middle;\n",
       "    }\n",
       "\n",
       "    .dataframe tbody tr th {\n",
       "        vertical-align: top;\n",
       "    }\n",
       "\n",
       "    .dataframe thead th {\n",
       "        text-align: right;\n",
       "    }\n",
       "</style>\n",
       "<table border=\"1\" class=\"dataframe\">\n",
       "  <thead>\n",
       "    <tr style=\"text-align: right;\">\n",
       "      <th></th>\n",
       "      <th>Recency</th>\n",
       "      <th>Frequency</th>\n",
       "      <th>MonetaryValue</th>\n",
       "      <th>R</th>\n",
       "      <th>F</th>\n",
       "      <th>M</th>\n",
       "      <th>RFM_Segment</th>\n",
       "      <th>RFM_Score</th>\n",
       "    </tr>\n",
       "    <tr>\n",
       "      <th>EmailID</th>\n",
       "      <th></th>\n",
       "      <th></th>\n",
       "      <th></th>\n",
       "      <th></th>\n",
       "      <th></th>\n",
       "      <th></th>\n",
       "      <th></th>\n",
       "      <th></th>\n",
       "    </tr>\n",
       "  </thead>\n",
       "  <tbody>\n",
       "    <tr>\n",
       "      <th>AaronBergman@gmail.com</th>\n",
       "      <td>1396</td>\n",
       "      <td>3</td>\n",
       "      <td>309.592</td>\n",
       "      <td>1</td>\n",
       "      <td>2</td>\n",
       "      <td>2</td>\n",
       "      <td>122</td>\n",
       "      <td>5</td>\n",
       "    </tr>\n",
       "    <tr>\n",
       "      <th>AaronHawkins@gmail.com</th>\n",
       "      <td>735</td>\n",
       "      <td>5</td>\n",
       "      <td>1328.124</td>\n",
       "      <td>1</td>\n",
       "      <td>3</td>\n",
       "      <td>3</td>\n",
       "      <td>133</td>\n",
       "      <td>7</td>\n",
       "    </tr>\n",
       "    <tr>\n",
       "      <th>AaronSmayling@gmail.com</th>\n",
       "      <td>89</td>\n",
       "      <td>3</td>\n",
       "      <td>737.028</td>\n",
       "      <td>4</td>\n",
       "      <td>2</td>\n",
       "      <td>3</td>\n",
       "      <td>423</td>\n",
       "      <td>9</td>\n",
       "    </tr>\n",
       "    <tr>\n",
       "      <th>AdamBellavance@gmail.com</th>\n",
       "      <td>55</td>\n",
       "      <td>5</td>\n",
       "      <td>2693.918</td>\n",
       "      <td>4</td>\n",
       "      <td>3</td>\n",
       "      <td>4</td>\n",
       "      <td>434</td>\n",
       "      <td>11</td>\n",
       "    </tr>\n",
       "    <tr>\n",
       "      <th>AdamHart@gmail.com</th>\n",
       "      <td>260</td>\n",
       "      <td>5</td>\n",
       "      <td>463.770</td>\n",
       "      <td>2</td>\n",
       "      <td>3</td>\n",
       "      <td>2</td>\n",
       "      <td>232</td>\n",
       "      <td>7</td>\n",
       "    </tr>\n",
       "  </tbody>\n",
       "</table>\n",
       "</div>"
      ],
      "text/plain": [
       "                          Recency  Frequency  MonetaryValue  R  F  M  \\\n",
       "EmailID                                                                \n",
       "AaronBergman@gmail.com       1396          3        309.592  1  2  2   \n",
       "AaronHawkins@gmail.com        735          5       1328.124  1  3  3   \n",
       "AaronSmayling@gmail.com        89          3        737.028  4  2  3   \n",
       "AdamBellavance@gmail.com       55          5       2693.918  4  3  4   \n",
       "AdamHart@gmail.com            260          5        463.770  2  3  2   \n",
       "\n",
       "                         RFM_Segment  RFM_Score  \n",
       "EmailID                                          \n",
       "AaronBergman@gmail.com           122          5  \n",
       "AaronHawkins@gmail.com           133          7  \n",
       "AaronSmayling@gmail.com          423          9  \n",
       "AdamBellavance@gmail.com         434         11  \n",
       "AdamHart@gmail.com               232          7  "
      ]
     },
     "execution_count": 21,
     "metadata": {},
     "output_type": "execute_result"
    }
   ],
   "source": [
    "# Build RFM Segment and RFM Score\n",
    "rfm['RFM_Segment'] = rfm.apply(lambda x : str(int(x['R'])) + str(int(x['F'])) +  str(int(x['M'])), axis=1)\n",
    "rfm['RFM_Score'] = rfm[['R','F','M']].sum(axis=1)\n",
    "\n",
    "rfm.head()\n"
   ]
  },
  {
   "cell_type": "code",
   "execution_count": 22,
   "id": "0efe7b50-c0e3-4cfb-9c8c-271ce11dad23",
   "metadata": {},
   "outputs": [
    {
     "data": {
      "text/plain": [
       "RFM_Segment\n",
       "111    64\n",
       "112    32\n",
       "444    31\n",
       "344    29\n",
       "244    28\n",
       "dtype: int64"
      ]
     },
     "execution_count": 22,
     "metadata": {},
     "output_type": "execute_result"
    }
   ],
   "source": [
    "rfm.groupby(['RFM_Segment']).size().sort_values(ascending=False)[:5]"
   ]
  },
  {
   "cell_type": "code",
   "execution_count": 23,
   "id": "a3b0e6d0-d25e-4537-aa91-9806ba21f404",
   "metadata": {},
   "outputs": [
    {
     "data": {
      "text/html": [
       "<div>\n",
       "<style scoped>\n",
       "    .dataframe tbody tr th:only-of-type {\n",
       "        vertical-align: middle;\n",
       "    }\n",
       "\n",
       "    .dataframe tbody tr th {\n",
       "        vertical-align: top;\n",
       "    }\n",
       "\n",
       "    .dataframe thead tr th {\n",
       "        text-align: left;\n",
       "    }\n",
       "\n",
       "    .dataframe thead tr:last-of-type th {\n",
       "        text-align: right;\n",
       "    }\n",
       "</style>\n",
       "<table border=\"1\" class=\"dataframe\">\n",
       "  <thead>\n",
       "    <tr>\n",
       "      <th></th>\n",
       "      <th>Recency</th>\n",
       "      <th>Frequency</th>\n",
       "      <th colspan=\"2\" halign=\"left\">MonetaryValue</th>\n",
       "    </tr>\n",
       "    <tr>\n",
       "      <th></th>\n",
       "      <th>mean</th>\n",
       "      <th>mean</th>\n",
       "      <th>mean</th>\n",
       "      <th>count</th>\n",
       "    </tr>\n",
       "    <tr>\n",
       "      <th>RFM_Score</th>\n",
       "      <th></th>\n",
       "      <th></th>\n",
       "      <th></th>\n",
       "      <th></th>\n",
       "    </tr>\n",
       "  </thead>\n",
       "  <tbody>\n",
       "    <tr>\n",
       "      <th>3</th>\n",
       "      <td>957.1</td>\n",
       "      <td>1.3</td>\n",
       "      <td>69.0</td>\n",
       "      <td>64</td>\n",
       "    </tr>\n",
       "    <tr>\n",
       "      <th>4</th>\n",
       "      <td>712.5</td>\n",
       "      <td>1.7</td>\n",
       "      <td>217.8</td>\n",
       "      <td>63</td>\n",
       "    </tr>\n",
       "    <tr>\n",
       "      <th>5</th>\n",
       "      <td>542.5</td>\n",
       "      <td>2.2</td>\n",
       "      <td>362.8</td>\n",
       "      <td>71</td>\n",
       "    </tr>\n",
       "    <tr>\n",
       "      <th>6</th>\n",
       "      <td>371.0</td>\n",
       "      <td>2.7</td>\n",
       "      <td>473.5</td>\n",
       "      <td>69</td>\n",
       "    </tr>\n",
       "    <tr>\n",
       "      <th>7</th>\n",
       "      <td>278.5</td>\n",
       "      <td>3.5</td>\n",
       "      <td>642.7</td>\n",
       "      <td>79</td>\n",
       "    </tr>\n",
       "    <tr>\n",
       "      <th>8</th>\n",
       "      <td>271.6</td>\n",
       "      <td>4.6</td>\n",
       "      <td>942.1</td>\n",
       "      <td>73</td>\n",
       "    </tr>\n",
       "    <tr>\n",
       "      <th>9</th>\n",
       "      <td>265.2</td>\n",
       "      <td>6.1</td>\n",
       "      <td>1408.3</td>\n",
       "      <td>96</td>\n",
       "    </tr>\n",
       "    <tr>\n",
       "      <th>10</th>\n",
       "      <td>212.5</td>\n",
       "      <td>7.8</td>\n",
       "      <td>2106.2</td>\n",
       "      <td>77</td>\n",
       "    </tr>\n",
       "    <tr>\n",
       "      <th>11</th>\n",
       "      <td>85.8</td>\n",
       "      <td>9.1</td>\n",
       "      <td>2158.9</td>\n",
       "      <td>63</td>\n",
       "    </tr>\n",
       "    <tr>\n",
       "      <th>12</th>\n",
       "      <td>39.3</td>\n",
       "      <td>9.7</td>\n",
       "      <td>3095.6</td>\n",
       "      <td>31</td>\n",
       "    </tr>\n",
       "  </tbody>\n",
       "</table>\n",
       "</div>"
      ],
      "text/plain": [
       "          Recency Frequency MonetaryValue      \n",
       "             mean      mean          mean count\n",
       "RFM_Score                                      \n",
       "3           957.1       1.3          69.0    64\n",
       "4           712.5       1.7         217.8    63\n",
       "5           542.5       2.2         362.8    71\n",
       "6           371.0       2.7         473.5    69\n",
       "7           278.5       3.5         642.7    79\n",
       "8           271.6       4.6         942.1    73\n",
       "9           265.2       6.1        1408.3    96\n",
       "10          212.5       7.8        2106.2    77\n",
       "11           85.8       9.1        2158.9    63\n",
       "12           39.3       9.7        3095.6    31"
      ]
     },
     "execution_count": 23,
     "metadata": {},
     "output_type": "execute_result"
    }
   ],
   "source": [
    "rfm.groupby('RFM_Score').agg({'Recency': 'mean','Frequency': 'mean',\n",
    "                             'MonetaryValue': ['mean', 'count'] }).round(1)"
   ]
  },
  {
   "cell_type": "code",
   "execution_count": 24,
   "id": "d3914a2a-9f81-4aa7-8118-259d472faf10",
   "metadata": {},
   "outputs": [
    {
     "data": {
      "text/html": [
       "<div>\n",
       "<style scoped>\n",
       "    .dataframe tbody tr th:only-of-type {\n",
       "        vertical-align: middle;\n",
       "    }\n",
       "\n",
       "    .dataframe tbody tr th {\n",
       "        vertical-align: top;\n",
       "    }\n",
       "\n",
       "    .dataframe thead tr th {\n",
       "        text-align: left;\n",
       "    }\n",
       "\n",
       "    .dataframe thead tr:last-of-type th {\n",
       "        text-align: right;\n",
       "    }\n",
       "</style>\n",
       "<table border=\"1\" class=\"dataframe\">\n",
       "  <thead>\n",
       "    <tr>\n",
       "      <th></th>\n",
       "      <th>Recency</th>\n",
       "      <th>Frequency</th>\n",
       "      <th colspan=\"2\" halign=\"left\">MonetaryValue</th>\n",
       "    </tr>\n",
       "    <tr>\n",
       "      <th></th>\n",
       "      <th>mean</th>\n",
       "      <th>mean</th>\n",
       "      <th>mean</th>\n",
       "      <th>count</th>\n",
       "    </tr>\n",
       "    <tr>\n",
       "      <th>General_Segment</th>\n",
       "      <th></th>\n",
       "      <th></th>\n",
       "      <th></th>\n",
       "      <th></th>\n",
       "    </tr>\n",
       "  </thead>\n",
       "  <tbody>\n",
       "    <tr>\n",
       "      <th>Bronze</th>\n",
       "      <td>730.6</td>\n",
       "      <td>1.8</td>\n",
       "      <td>221.7</td>\n",
       "      <td>198</td>\n",
       "    </tr>\n",
       "    <tr>\n",
       "      <th>Gold</th>\n",
       "      <td>134.4</td>\n",
       "      <td>8.6</td>\n",
       "      <td>2305.0</td>\n",
       "      <td>171</td>\n",
       "    </tr>\n",
       "    <tr>\n",
       "      <th>Sliver</th>\n",
       "      <td>293.0</td>\n",
       "      <td>4.4</td>\n",
       "      <td>906.7</td>\n",
       "      <td>317</td>\n",
       "    </tr>\n",
       "  </tbody>\n",
       "</table>\n",
       "</div>"
      ],
      "text/plain": [
       "                Recency Frequency MonetaryValue      \n",
       "                   mean      mean          mean count\n",
       "General_Segment                                      \n",
       "Bronze            730.6       1.8         221.7   198\n",
       "Gold              134.4       8.6        2305.0   171\n",
       "Sliver            293.0       4.4         906.7   317"
      ]
     },
     "execution_count": 24,
     "metadata": {},
     "output_type": "execute_result"
    }
   ],
   "source": [
    "# create func for segmentation\n",
    "def segments(df):\n",
    "    if df['RFM_Score'] > 9 :\n",
    "        return 'Gold'\n",
    "    elif (df['RFM_Score'] > 5) and (df['RFM_Score'] <= 9 ):\n",
    "        return 'Sliver'\n",
    "    else:  \n",
    "        return 'Bronze'\n",
    "\n",
    "rfm['General_Segment'] = rfm.apply(segments,axis=1)\n",
    "\n",
    "rfm.groupby('General_Segment').agg({'Recency':'mean','Frequency':'mean',\n",
    "                                    'MonetaryValue':['mean','count']}).round(1)"
   ]
  },
  {
   "cell_type": "code",
   "execution_count": 25,
   "id": "6d8de42c-4778-41e7-9aae-60e7f1bfe50d",
   "metadata": {},
   "outputs": [
    {
     "data": {
      "text/plain": [
       "<Axes: xlabel='General_Segment'>"
      ]
     },
     "execution_count": 25,
     "metadata": {},
     "output_type": "execute_result"
    },
    {
     "data": {
      "image/png": "[encoded data removed]",
      "text/plain": [
       "<Figure size 640x480 with 1 Axes>"
      ]
     },
     "metadata": {},
     "output_type": "display_data"
    }
   ],
   "source": [
    "# type of customer \n",
    "rfm['General_Segment'].value_counts().plot(kind='bar', color='blue')"
   ]
  },
  {
   "cell_type": "markdown",
   "id": "d1f6cda6-2e36-44ae-9405-6b3eb023f49f",
   "metadata": {},
   "source": [
    "mean of sales for customer \n"
   ]
  },
  {
   "cell_type": "code",
   "execution_count": 26,
   "id": "9295c29c-5dbd-4263-9a7b-63d8866ea7a0",
   "metadata": {},
   "outputs": [
    {
     "data": {
      "text/html": [
       "<div>\n",
       "<style scoped>\n",
       "    .dataframe tbody tr th:only-of-type {\n",
       "        vertical-align: middle;\n",
       "    }\n",
       "\n",
       "    .dataframe tbody tr th {\n",
       "        vertical-align: top;\n",
       "    }\n",
       "\n",
       "    .dataframe thead th {\n",
       "        text-align: right;\n",
       "    }\n",
       "</style>\n",
       "<table border=\"1\" class=\"dataframe\">\n",
       "  <thead>\n",
       "    <tr style=\"text-align: right;\">\n",
       "      <th></th>\n",
       "      <th>Order Date</th>\n",
       "      <th>EmailID</th>\n",
       "      <th>Order ID</th>\n",
       "    </tr>\n",
       "  </thead>\n",
       "  <tbody>\n",
       "    <tr>\n",
       "      <th>0</th>\n",
       "      <td>2011-01-07</td>\n",
       "      <td>LycorisSaunders@gmail.com</td>\n",
       "      <td>1</td>\n",
       "    </tr>\n",
       "    <tr>\n",
       "      <th>1</th>\n",
       "      <td>2011-01-14</td>\n",
       "      <td>BrianDahlen@gmail.com</td>\n",
       "      <td>3</td>\n",
       "    </tr>\n",
       "    <tr>\n",
       "      <th>2</th>\n",
       "      <td>2011-01-19</td>\n",
       "      <td>DavidWiener@gmail.com</td>\n",
       "      <td>1</td>\n",
       "    </tr>\n",
       "    <tr>\n",
       "      <th>3</th>\n",
       "      <td>2011-01-20</td>\n",
       "      <td>TobySwindell@gmail.com</td>\n",
       "      <td>4</td>\n",
       "    </tr>\n",
       "    <tr>\n",
       "      <th>4</th>\n",
       "      <td>2011-01-21</td>\n",
       "      <td>MarkVanHuff@gmail.com</td>\n",
       "      <td>2</td>\n",
       "    </tr>\n",
       "  </tbody>\n",
       "</table>\n",
       "</div>"
      ],
      "text/plain": [
       "  Order Date                    EmailID  Order ID\n",
       "0 2011-01-07  LycorisSaunders@gmail.com         1\n",
       "1 2011-01-14      BrianDahlen@gmail.com         3\n",
       "2 2011-01-19      DavidWiener@gmail.com         1\n",
       "3 2011-01-20     TobySwindell@gmail.com         4\n",
       "4 2011-01-21      MarkVanHuff@gmail.com         2"
      ]
     },
     "execution_count": 26,
     "metadata": {},
     "output_type": "execute_result"
    }
   ],
   "source": [
    "customers  = amazon_dta.groupby(['Order Date', 'EmailID']).agg({'Order ID': 'count'})\n",
    "customers.reset_index(inplace=True)\n",
    "customers.head()"
   ]
  },
  {
   "cell_type": "code",
   "execution_count": 27,
   "id": "061a7e49-48a4-4c1b-a5f3-51716d5283ca",
   "metadata": {},
   "outputs": [
    {
     "data": {
      "text/plain": [
       "(1610, 3)"
      ]
     },
     "execution_count": 27,
     "metadata": {},
     "output_type": "execute_result"
    }
   ],
   "source": [
    "customers.shape"
   ]
  },
  {
   "cell_type": "code",
   "execution_count": 28,
   "id": "932c1546-949b-47c2-a0e8-74a5e96c3344",
   "metadata": {},
   "outputs": [
    {
     "data": {
      "text/plain": [
       "array(['United States,Los Angeles,California',\n",
       "       'United States,Seattle,Washington',\n",
       "       'United States,West Jordan,Utah',\n",
       "       'United States,San Francisco,California',\n",
       "       'United States,Orem,Utah', 'United States,Gilbert,Arizona',\n",
       "       'United States,Portland,Oregon', 'United States,Aurora,Colorado',\n",
       "       'United States,Phoenix,Arizona',\n",
       "       'United States,Roseville,California',\n",
       "       'United States,Pasadena,California',\n",
       "       'United States,Scottsdale,Arizona',\n",
       "       'United States,San Jose,California',\n",
       "       'United States,Carlsbad,New Mexico',\n",
       "       'United States,Redlands,California',\n",
       "       'United States,Denver,Colorado',\n",
       "       'United States,Whittier,California',\n",
       "       'United States,Santa Clara,California',\n",
       "       'United States,San Diego,California',\n",
       "       'United States,Brentwood,California',\n",
       "       'United States,Inglewood,California',\n",
       "       'United States,Colorado Springs,Colorado',\n",
       "       'United States,Arvada,Colorado',\n",
       "       'United States,Long Beach,California',\n",
       "       'United States,Hesperia,California', 'United States,Layton,Utah',\n",
       "       'United States,Tucson,Arizona',\n",
       "       'United States,Des Moines,Washington',\n",
       "       'United States,Las Vegas,Nevada',\n",
       "       'United States,Huntington Beach,California',\n",
       "       'United States,Louisville,Colorado',\n",
       "       'United States,Concord,California',\n",
       "       'United States,Costa Mesa,California',\n",
       "       'United States,Parker,Colorado',\n",
       "       'United States,Great Falls,Montana', 'United States,Mesa,Arizona',\n",
       "       'United States,Anaheim,California',\n",
       "       'United States,Marysville,Washington',\n",
       "       'United States,Salem,Oregon', 'United States,Vallejo,California',\n",
       "       'United States,Mission Viejo,California',\n",
       "       'United States,Sierra Vista,Arizona',\n",
       "       'United States,Vancouver,Washington',\n",
       "       'United States,Lancaster,California',\n",
       "       'United States,Lake Elsinore,California',\n",
       "       'United States,Edmonds,Washington',\n",
       "       'United States,Santa Ana,California',\n",
       "       'United States,Salinas,California',\n",
       "       'United States,Farmington,New Mexico',\n",
       "       'United States,Riverside,California',\n",
       "       'United States,Torrance,California',\n",
       "       'United States,Oceanside,California',\n",
       "       'United States,Murrieta,California',\n",
       "       'United States,Olympia,Washington',\n",
       "       'United States,Oakland,California',\n",
       "       'United States,Encinitas,California',\n",
       "       'United States,Antioch,California', 'United States,Reno,Nevada',\n",
       "       'United States,Escondido,California',\n",
       "       'United States,Fresno,California', 'United States,Pueblo,Colorado',\n",
       "       'United States,Fairfield,California',\n",
       "       'United States,Pico Rivera,California', 'United States,Provo,Utah',\n",
       "       'United States,Pleasant Grove,Utah',\n",
       "       'United States,Glendale,Arizona',\n",
       "       'United States,Westminster,California',\n",
       "       'United States,Pomona,California',\n",
       "       'United States,North Las Vegas,Nevada',\n",
       "       'United States,Tempe,Arizona',\n",
       "       'United States,Laguna Niguel,California',\n",
       "       'United States,Bellevue,Washington',\n",
       "       'United States,Kent,Washington', 'United States,Tigard,Oregon',\n",
       "       'United States,Auburn,Washington', 'United States,Redmond,Oregon',\n",
       "       'United States,Henderson,Nevada',\n",
       "       'United States,Spokane,Washington', 'United States,Medford,Oregon',\n",
       "       'United States,Missoula,Montana',\n",
       "       'United States,Springfield,Oregon',\n",
       "       'United States,Broomfield,Colorado',\n",
       "       'United States,San Bernardino,California',\n",
       "       'United States,Bozeman,Montana', 'United States,Peoria,Arizona',\n",
       "       'United States,Ontario,California',\n",
       "       'United States,Rancho Cucamonga,California',\n",
       "       'United States,Stockton,California',\n",
       "       'United States,Sunnyvale,California',\n",
       "       'United States,Manteca,California',\n",
       "       'United States,Salt Lake City,Utah',\n",
       "       'United States,Littleton,Colorado',\n",
       "       'United States,Fort Collins,Colorado',\n",
       "       'United States,Sacramento,California',\n",
       "       'United States,Thousand Oaks,California',\n",
       "       'United States,Albuquerque,New Mexico',\n",
       "       'United States,Sparks,Nevada',\n",
       "       'United States,Coachella,California',\n",
       "       'United States,La Quinta,California',\n",
       "       'United States,Bellingham,Washington',\n",
       "       'United States,Englewood,Colorado',\n",
       "       'United States,Las Cruces,New Mexico',\n",
       "       'United States,Vacaville,California', 'United States,Murray,Utah',\n",
       "       'United States,Bakersfield,California',\n",
       "       'United States,Redondo Beach,California',\n",
       "       'United States,Billings,Montana', 'United States,Gresham,Oregon',\n",
       "       'United States,Meridian,Idaho',\n",
       "       'United States,Apple Valley,California',\n",
       "       'United States,Woodland,California',\n",
       "       'United States,San Mateo,California',\n",
       "       'United States,Visalia,California',\n",
       "       'United States,Temecula,California',\n",
       "       'United States,Yucaipa,California',\n",
       "       'United States,Santa Fe,New Mexico',\n",
       "       'United States,Chula Vista,California',\n",
       "       'United States,Thornton,Colorado',\n",
       "       'United States,Lakewood,California',\n",
       "       'United States,Covington,Washington', 'United States,Boise,Idaho',\n",
       "       'United States,Citrus Heights,California',\n",
       "       'United States,Redmond,Washington',\n",
       "       'United States,Bullhead City,Arizona',\n",
       "       'United States,San Gabriel,California',\n",
       "       'United States,Lewiston,Idaho',\n",
       "       'United States,Danville,California', 'United States,Logan,Utah',\n",
       "       'United States,Avondale,Arizona', 'United States,Yuma,Arizona',\n",
       "       'United States,Pasco,Washington', 'United States,Lehi,Utah',\n",
       "       'United States,Moreno Valley,California',\n",
       "       'United States,Loveland,Colorado',\n",
       "       'United States,Chandler,Arizona', 'United States,Helena,Montana',\n",
       "       'United States,Clovis,New Mexico',\n",
       "       'United States,Santa Barbara,California',\n",
       "       'United States,Draper,Utah', 'United States,La Mesa,California',\n",
       "       'United States,Pocatello,Idaho',\n",
       "       'United States,Lake Forest,California',\n",
       "       'United States,Redding,California',\n",
       "       'United States,Chico,California', 'United States,Cheyenne,Wyoming',\n",
       "       'United States,Caldwell,Idaho',\n",
       "       'United States,Redwood City,California',\n",
       "       'United States,Santa Maria,California',\n",
       "       'United States,Longview,Washington', 'United States,Eugene,Oregon',\n",
       "       'United States,Oxnard,California',\n",
       "       'United States,Renton,Washington',\n",
       "       'United States,Commerce City,Colorado',\n",
       "       'United States,Rio Rancho,New Mexico',\n",
       "       'United States,Everett,Washington',\n",
       "       'United States,Montebello,California',\n",
       "       'United States,El Cajon,California',\n",
       "       'United States,Camarillo,California',\n",
       "       'United States,Hillsboro,Oregon',\n",
       "       'United States,Burbank,California',\n",
       "       'United States,Modesto,California',\n",
       "       'United States,Longmont,Colorado',\n",
       "       'United States,Davis,California',\n",
       "       'United States,Morgan Hill,California',\n",
       "       'United States,Greeley,Colorado', 'United States,Twin Falls,Idaho',\n",
       "       'United States,San Clemente,California',\n",
       "       'United States,Dublin,California',\n",
       "       'United States,San Luis Obispo,California',\n",
       "       'United States,Lodi,California'], dtype=object)"
      ]
     },
     "execution_count": 28,
     "metadata": {},
     "output_type": "execute_result"
    }
   ],
   "source": [
    "amazon_dta.Geography.unique()"
   ]
  },
  {
   "cell_type": "code",
   "execution_count": 29,
   "id": "fb09edda-825c-4956-a197-b68dee41cffd",
   "metadata": {},
   "outputs": [
    {
     "data": {
      "text/html": [
       "<div>\n",
       "<style scoped>\n",
       "    .dataframe tbody tr th:only-of-type {\n",
       "        vertical-align: middle;\n",
       "    }\n",
       "\n",
       "    .dataframe tbody tr th {\n",
       "        vertical-align: top;\n",
       "    }\n",
       "\n",
       "    .dataframe thead th {\n",
       "        text-align: right;\n",
       "    }\n",
       "</style>\n",
       "<table border=\"1\" class=\"dataframe\">\n",
       "  <thead>\n",
       "    <tr style=\"text-align: right;\">\n",
       "      <th></th>\n",
       "      <th>Order ID</th>\n",
       "      <th>Order Date</th>\n",
       "      <th>Ship Date</th>\n",
       "      <th>EmailID</th>\n",
       "      <th>Geography</th>\n",
       "      <th>Category</th>\n",
       "      <th>Product Name</th>\n",
       "      <th>Sales</th>\n",
       "      <th>Quantity</th>\n",
       "      <th>Profit</th>\n",
       "    </tr>\n",
       "  </thead>\n",
       "  <tbody>\n",
       "    <tr>\n",
       "      <th>0</th>\n",
       "      <td>CA-2013-138688</td>\n",
       "      <td>2013-06-13</td>\n",
       "      <td>2013-06-17</td>\n",
       "      <td>DarrinVanHuff@gmail.com</td>\n",
       "      <td>California</td>\n",
       "      <td>Labels</td>\n",
       "      <td>Self-Adhesive Address Labels for Typewriters b...</td>\n",
       "      <td>14.620</td>\n",
       "      <td>2</td>\n",
       "      <td>6.8714</td>\n",
       "    </tr>\n",
       "    <tr>\n",
       "      <th>1</th>\n",
       "      <td>CA-2011-115812</td>\n",
       "      <td>2011-06-09</td>\n",
       "      <td>2011-06-14</td>\n",
       "      <td>BrosinaHoffman@gmail.com</td>\n",
       "      <td>California</td>\n",
       "      <td>Furnishings</td>\n",
       "      <td>Eldon Expressions Wood and Plastic Desk Access...</td>\n",
       "      <td>48.860</td>\n",
       "      <td>7</td>\n",
       "      <td>14.1694</td>\n",
       "    </tr>\n",
       "    <tr>\n",
       "      <th>2</th>\n",
       "      <td>CA-2011-115812</td>\n",
       "      <td>2011-06-09</td>\n",
       "      <td>2011-06-14</td>\n",
       "      <td>BrosinaHoffman@gmail.com</td>\n",
       "      <td>California</td>\n",
       "      <td>Art</td>\n",
       "      <td>Newell 322</td>\n",
       "      <td>7.280</td>\n",
       "      <td>4</td>\n",
       "      <td>1.9656</td>\n",
       "    </tr>\n",
       "    <tr>\n",
       "      <th>3</th>\n",
       "      <td>CA-2011-115812</td>\n",
       "      <td>2011-06-09</td>\n",
       "      <td>2011-06-14</td>\n",
       "      <td>BrosinaHoffman@gmail.com</td>\n",
       "      <td>California</td>\n",
       "      <td>Phones</td>\n",
       "      <td>Mitel 5320 IP Phone VoIP phone</td>\n",
       "      <td>907.152</td>\n",
       "      <td>4</td>\n",
       "      <td>90.7152</td>\n",
       "    </tr>\n",
       "    <tr>\n",
       "      <th>4</th>\n",
       "      <td>CA-2011-115812</td>\n",
       "      <td>2011-06-09</td>\n",
       "      <td>2011-06-14</td>\n",
       "      <td>BrosinaHoffman@gmail.com</td>\n",
       "      <td>California</td>\n",
       "      <td>Binders</td>\n",
       "      <td>DXL Angle-View Binders with Locking Rings by S...</td>\n",
       "      <td>18.504</td>\n",
       "      <td>3</td>\n",
       "      <td>5.7825</td>\n",
       "    </tr>\n",
       "  </tbody>\n",
       "</table>\n",
       "</div>"
      ],
      "text/plain": [
       "         Order ID Order Date  Ship Date                   EmailID   Geography  \\\n",
       "0  CA-2013-138688 2013-06-13 2013-06-17   DarrinVanHuff@gmail.com  California   \n",
       "1  CA-2011-115812 2011-06-09 2011-06-14  BrosinaHoffman@gmail.com  California   \n",
       "2  CA-2011-115812 2011-06-09 2011-06-14  BrosinaHoffman@gmail.com  California   \n",
       "3  CA-2011-115812 2011-06-09 2011-06-14  BrosinaHoffman@gmail.com  California   \n",
       "4  CA-2011-115812 2011-06-09 2011-06-14  BrosinaHoffman@gmail.com  California   \n",
       "\n",
       "      Category                                       Product Name    Sales  \\\n",
       "0       Labels  Self-Adhesive Address Labels for Typewriters b...   14.620   \n",
       "1  Furnishings  Eldon Expressions Wood and Plastic Desk Access...   48.860   \n",
       "2          Art                                         Newell 322    7.280   \n",
       "3       Phones                     Mitel 5320 IP Phone VoIP phone  907.152   \n",
       "4      Binders  DXL Angle-View Binders with Locking Rings by S...   18.504   \n",
       "\n",
       "   Quantity   Profit  \n",
       "0         2   6.8714  \n",
       "1         7  14.1694  \n",
       "2         4   1.9656  \n",
       "3         4  90.7152  \n",
       "4         3   5.7825  "
      ]
     },
     "execution_count": 29,
     "metadata": {},
     "output_type": "execute_result"
    }
   ],
   "source": [
    "amazon_dta[\"Geography\"] = amazon_dta[\"Geography\"].str.split(\",\").str[-1]\n",
    "amazon_dta.head()"
   ]
  },
  {
   "cell_type": "code",
   "execution_count": 30,
   "id": "1e7b0287-eada-4fca-b707-4b7f85b86843",
   "metadata": {},
   "outputs": [
    {
     "data": {
      "text/html": [
       "<div>\n",
       "<style scoped>\n",
       "    .dataframe tbody tr th:only-of-type {\n",
       "        vertical-align: middle;\n",
       "    }\n",
       "\n",
       "    .dataframe tbody tr th {\n",
       "        vertical-align: top;\n",
       "    }\n",
       "\n",
       "    .dataframe thead th {\n",
       "        text-align: right;\n",
       "    }\n",
       "</style>\n",
       "<table border=\"1\" class=\"dataframe\">\n",
       "  <thead>\n",
       "    <tr style=\"text-align: right;\">\n",
       "      <th></th>\n",
       "      <th>Sales</th>\n",
       "    </tr>\n",
       "    <tr>\n",
       "      <th>Geography</th>\n",
       "      <th></th>\n",
       "    </tr>\n",
       "  </thead>\n",
       "  <tbody>\n",
       "    <tr>\n",
       "      <th>Arizona</th>\n",
       "      <td>35282.0010</td>\n",
       "    </tr>\n",
       "    <tr>\n",
       "      <th>California</th>\n",
       "      <td>457687.6315</td>\n",
       "    </tr>\n",
       "    <tr>\n",
       "      <th>Colorado</th>\n",
       "      <td>32108.1180</td>\n",
       "    </tr>\n",
       "    <tr>\n",
       "      <th>Idaho</th>\n",
       "      <td>4382.4860</td>\n",
       "    </tr>\n",
       "    <tr>\n",
       "      <th>Montana</th>\n",
       "      <td>5589.3520</td>\n",
       "    </tr>\n",
       "  </tbody>\n",
       "</table>\n",
       "</div>"
      ],
      "text/plain": [
       "                  Sales\n",
       "Geography              \n",
       "Arizona      35282.0010\n",
       "California  457687.6315\n",
       "Colorado     32108.1180\n",
       "Idaho         4382.4860\n",
       "Montana       5589.3520"
      ]
     },
     "execution_count": 30,
     "metadata": {},
     "output_type": "execute_result"
    }
   ],
   "source": [
    "countrys = amazon_dta.groupby('Geography').agg({'Sales': 'sum'})\n",
    "countrys.head()"
   ]
  },
  {
   "cell_type": "code",
   "execution_count": 31,
   "id": "95891aae-ece0-4957-9dbb-934a9b46f9a6",
   "metadata": {},
   "outputs": [
    {
     "data": {
      "application/vnd.plotly.v1+json": {
       "config": {
        "plotlyServerURL": "https://plot.ly"
       },
       "data": [
        {
         "customdata": [
          [
           "Arizona"
          ],
          [
           "California"
          ],
          [
           "Colorado"
          ],
          [
           "Idaho"
          ],
          [
           "Montana"
          ],
          [
           "Nevada"
          ],
          [
           "New Mexico"
          ],
          [
           "Oregon"
          ],
          [
           "Utah"
          ],
          [
           "Washington"
          ],
          [
           "Wyoming"
          ]
         ],
         "domain": {
          "x": [
           0,
           1
          ],
          "y": [
           0,
           1
          ]
         },
         "hovertemplate": "Geography=%{customdata[0]}<br>Sales=%{value}<extra></extra>",
         "labels": [
          "Arizona",
          "California",
          "Colorado",
          "Idaho",
          "Montana",
          "Nevada",
          "New Mexico",
          "Oregon",
          "Utah",
          "Washington",
          "Wyoming"
         ],
         "legendgroup": "",
         "marker": {
          "colors": [
           "royalblue",
           "skyblue",
           "darkblue",
           "Dodger blue",
           "#636efa",
           "mediumturquoise",
           "aqua",
           "medium blue",
           "deepskyblue",
           "cyan",
           "green"
          ]
         },
         "name": "",
         "showlegend": true,
         "type": "pie",
         "values": [
          35282.001,
          457687.6315,
          32108.118,
          4382.486,
          5589.352,
          16729.102,
          4783.522,
          17431.15,
          11220.056,
          138641.27,
          1603.136
         ]
        }
       ],
       "layout": {
        "legend": {
         "tracegroupgap": 0
        },
        "template": {
         "data": {
          "bar": [
           {
            "error_x": {
             "color": "#2a3f5f"
            },
            "error_y": {
             "color": "#2a3f5f"
            },
            "marker": {
             "line": {
              "color": "#E5ECF6",
              "width": 0.5
             },
             "pattern": {
              "fillmode": "overlay",
              "size": 10,
              "solidity": 0.2
             }
            },
            "type": "bar"
           }
          ],
          "barpolar": [
           {
            "marker": {
             "line": {
              "color": "#E5ECF6",
              "width": 0.5
             },
             "pattern": {
              "fillmode": "overlay",
              "size": 10,
              "solidity": 0.2
             }
            },
            "type": "barpolar"
           }
          ],
          "carpet": [
           {
            "aaxis": {
             "endlinecolor": "#2a3f5f",
             "gridcolor": "white",
             "linecolor": "white",
             "minorgridcolor": "white",
             "startlinecolor": "#2a3f5f"
            },
            "baxis": {
             "endlinecolor": "#2a3f5f",
             "gridcolor": "white",
             "linecolor": "white",
             "minorgridcolor": "white",
             "startlinecolor": "#2a3f5f"
            },
            "type": "carpet"
           }
          ],
          "choropleth": [
           {
            "colorbar": {
             "outlinewidth": 0,
             "ticks": ""
            },
            "type": "choropleth"
           }
          ],
          "contour": [
           {
            "colorbar": {
             "outlinewidth": 0,
             "ticks": ""
            },
            "colorscale": [
             [
              0,
              "#0d0887"
             ],
             [
              0.1111111111111111,
              "#46039f"
             ],
             [
              0.2222222222222222,
              "#7201a8"
             ],
             [
              0.3333333333333333,
              "#9c179e"
             ],
             [
              0.4444444444444444,
              "#bd3786"
             ],
             [
              0.5555555555555556,
              "#d8576b"
             ],
             [
              0.6666666666666666,
              "#ed7953"
             ],
             [
              0.7777777777777778,
              "#fb9f3a"
             ],
             [
              0.8888888888888888,
              "#fdca26"
             ],
             [
              1,
              "#f0f921"
             ]
            ],
            "type": "contour"
           }
          ],
          "contourcarpet": [
           {
            "colorbar": {
             "outlinewidth": 0,
             "ticks": ""
            },
            "type": "contourcarpet"
           }
          ],
          "heatmap": [
           {
            "colorbar": {
             "outlinewidth": 0,
             "ticks": ""
            },
            "colorscale": [
             [
              0,
              "#0d0887"
             ],
             [
              0.1111111111111111,
              "#46039f"
             ],
             [
              0.2222222222222222,
              "#7201a8"
             ],
             [
              0.3333333333333333,
              "#9c179e"
             ],
             [
              0.4444444444444444,
              "#bd3786"
             ],
             [
              0.5555555555555556,
              "#d8576b"
             ],
             [
              0.6666666666666666,
              "#ed7953"
             ],
             [
              0.7777777777777778,
              "#fb9f3a"
             ],
             [
              0.8888888888888888,
              "#fdca26"
             ],
             [
              1,
              "#f0f921"
             ]
            ],
            "type": "heatmap"
           }
          ],
          "heatmapgl": [
           {
            "colorbar": {
             "outlinewidth": 0,
             "ticks": ""
            },
            "colorscale": [
             [
              0,
              "#0d0887"
             ],
             [
              0.1111111111111111,
              "#46039f"
             ],
             [
              0.2222222222222222,
              "#7201a8"
             ],
             [
              0.3333333333333333,
              "#9c179e"
             ],
             [
              0.4444444444444444,
              "#bd3786"
             ],
             [
              0.5555555555555556,
              "#d8576b"
             ],
             [
              0.6666666666666666,
              "#ed7953"
             ],
             [
              0.7777777777777778,
              "#fb9f3a"
             ],
             [
              0.8888888888888888,
              "#fdca26"
             ],
             [
              1,
              "#f0f921"
             ]
            ],
            "type": "heatmapgl"
           }
          ],
          "histogram": [
           {
            "marker": {
             "pattern": {
              "fillmode": "overlay",
              "size": 10,
              "solidity": 0.2
             }
            },
            "type": "histogram"
           }
          ],
          "histogram2d": [
           {
            "colorbar": {
             "outlinewidth": 0,
             "ticks": ""
            },
            "colorscale": [
             [
              0,
              "#0d0887"
             ],
             [
              0.1111111111111111,
              "#46039f"
             ],
             [
              0.2222222222222222,
              "#7201a8"
             ],
             [
              0.3333333333333333,
              "#9c179e"
             ],
             [
              0.4444444444444444,
              "#bd3786"
             ],
             [
              0.5555555555555556,
              "#d8576b"
             ],
             [
              0.6666666666666666,
              "#ed7953"
             ],
             [
              0.7777777777777778,
              "#fb9f3a"
             ],
             [
              0.8888888888888888,
              "#fdca26"
             ],
             [
              1,
              "#f0f921"
             ]
            ],
            "type": "histogram2d"
           }
          ],
          "histogram2dcontour": [
           {
            "colorbar": {
             "outlinewidth": 0,
             "ticks": ""
            },
            "colorscale": [
             [
              0,
              "#0d0887"
             ],
             [
              0.1111111111111111,
              "#46039f"
             ],
             [
              0.2222222222222222,
              "#7201a8"
             ],
             [
              0.3333333333333333,
              "#9c179e"
             ],
             [
              0.4444444444444444,
              "#bd3786"
             ],
             [
              0.5555555555555556,
              "#d8576b"
             ],
             [
              0.6666666666666666,
              "#ed7953"
             ],
             [
              0.7777777777777778,
              "#fb9f3a"
             ],
             [
              0.8888888888888888,
              "#fdca26"
             ],
             [
              1,
              "#f0f921"
             ]
            ],
            "type": "histogram2dcontour"
           }
          ],
          "mesh3d": [
           {
            "colorbar": {
             "outlinewidth": 0,
             "ticks": ""
            },
            "type": "mesh3d"
           }
          ],
          "parcoords": [
           {
            "line": {
             "colorbar": {
              "outlinewidth": 0,
              "ticks": ""
             }
            },
            "type": "parcoords"
           }
          ],
          "pie": [
           {
            "automargin": true,
            "type": "pie"
           }
          ],
          "scatter": [
           {
            "fillpattern": {
             "fillmode": "overlay",
             "size": 10,
             "solidity": 0.2
            },
            "type": "scatter"
           }
          ],
          "scatter3d": [
           {
            "line": {
             "colorbar": {
              "outlinewidth": 0,
              "ticks": ""
             }
            },
            "marker": {
             "colorbar": {
              "outlinewidth": 0,
              "ticks": ""
             }
            },
            "type": "scatter3d"
           }
          ],
          "scattercarpet": [
           {
            "marker": {
             "colorbar": {
              "outlinewidth": 0,
              "ticks": ""
             }
            },
            "type": "scattercarpet"
           }
          ],
          "scattergeo": [
           {
            "marker": {
             "colorbar": {
              "outlinewidth": 0,
              "ticks": ""
             }
            },
            "type": "scattergeo"
           }
          ],
          "scattergl": [
           {
            "marker": {
             "colorbar": {
              "outlinewidth": 0,
              "ticks": ""
             }
            },
            "type": "scattergl"
           }
          ],
          "scattermapbox": [
           {
            "marker": {
             "colorbar": {
              "outlinewidth": 0,
              "ticks": ""
             }
            },
            "type": "scattermapbox"
           }
          ],
          "scatterpolar": [
           {
            "marker": {
             "colorbar": {
              "outlinewidth": 0,
              "ticks": ""
             }
            },
            "type": "scatterpolar"
           }
          ],
          "scatterpolargl": [
           {
            "marker": {
             "colorbar": {
              "outlinewidth": 0,
              "ticks": ""
             }
            },
            "type": "scatterpolargl"
           }
          ],
          "scatterternary": [
           {
            "marker": {
             "colorbar": {
              "outlinewidth": 0,
              "ticks": ""
             }
            },
            "type": "scatterternary"
           }
          ],
          "surface": [
           {
            "colorbar": {
             "outlinewidth": 0,
             "ticks": ""
            },
            "colorscale": [
             [
              0,
              "#0d0887"
             ],
             [
              0.1111111111111111,
              "#46039f"
             ],
             [
              0.2222222222222222,
              "#7201a8"
             ],
             [
              0.3333333333333333,
              "#9c179e"
             ],
             [
              0.4444444444444444,
              "#bd3786"
             ],
             [
              0.5555555555555556,
              "#d8576b"
             ],
             [
              0.6666666666666666,
              "#ed7953"
             ],
             [
              0.7777777777777778,
              "#fb9f3a"
             ],
             [
              0.8888888888888888,
              "#fdca26"
             ],
             [
              1,
              "#f0f921"
             ]
            ],
            "type": "surface"
           }
          ],
          "table": [
           {
            "cells": {
             "fill": {
              "color": "#EBF0F8"
             },
             "line": {
              "color": "white"
             }
            },
            "header": {
             "fill": {
              "color": "#C8D4E3"
             },
             "line": {
              "color": "white"
             }
            },
            "type": "table"
           }
          ]
         },
         "layout": {
          "annotationdefaults": {
           "arrowcolor": "#2a3f5f",
           "arrowhead": 0,
           "arrowwidth": 1
          },
          "autotypenumbers": "strict",
          "coloraxis": {
           "colorbar": {
            "outlinewidth": 0,
            "ticks": ""
           }
          },
          "colorscale": {
           "diverging": [
            [
             0,
             "#8e0152"
            ],
            [
             0.1,
             "#c51b7d"
            ],
            [
             0.2,
             "#de77ae"
            ],
            [
             0.3,
             "#f1b6da"
            ],
            [
             0.4,
             "#fde0ef"
            ],
            [
             0.5,
             "#f7f7f7"
            ],
            [
             0.6,
             "#e6f5d0"
            ],
            [
             0.7,
             "#b8e186"
            ],
            [
             0.8,
             "#7fbc41"
            ],
            [
             0.9,
             "#4d9221"
            ],
            [
             1,
             "#276419"
            ]
           ],
           "sequential": [
            [
             0,
             "#0d0887"
            ],
            [
             0.1111111111111111,
             "#46039f"
            ],
            [
             0.2222222222222222,
             "#7201a8"
            ],
            [
             0.3333333333333333,
             "#9c179e"
            ],
            [
             0.4444444444444444,
             "#bd3786"
            ],
            [
             0.5555555555555556,
             "#d8576b"
            ],
            [
             0.6666666666666666,
             "#ed7953"
            ],
            [
             0.7777777777777778,
             "#fb9f3a"
            ],
            [
             0.8888888888888888,
             "#fdca26"
            ],
            [
             1,
             "#f0f921"
            ]
           ],
           "sequentialminus": [
            [
             0,
             "#0d0887"
            ],
            [
             0.1111111111111111,
             "#46039f"
            ],
            [
             0.2222222222222222,
             "#7201a8"
            ],
            [
             0.3333333333333333,
             "#9c179e"
            ],
            [
             0.4444444444444444,
             "#bd3786"
            ],
            [
             0.5555555555555556,
             "#d8576b"
            ],
            [
             0.6666666666666666,
             "#ed7953"
            ],
            [
             0.7777777777777778,
             "#fb9f3a"
            ],
            [
             0.8888888888888888,
             "#fdca26"
            ],
            [
             1,
             "#f0f921"
            ]
           ]
          },
          "colorway": [
           "#636efa",
           "#EF553B",
           "#00cc96",
           "#ab63fa",
           "#FFA15A",
           "#19d3f3",
           "#FF6692",
           "#B6E880",
           "#FF97FF",
           "#FECB52"
          ],
          "font": {
           "color": "#2a3f5f"
          },
          "geo": {
           "bgcolor": "white",
           "lakecolor": "white",
           "landcolor": "#E5ECF6",
           "showlakes": true,
           "showland": true,
           "subunitcolor": "white"
          },
          "hoverlabel": {
           "align": "left"
          },
          "hovermode": "closest",
          "mapbox": {
           "style": "light"
          },
          "paper_bgcolor": "white",
          "plot_bgcolor": "#E5ECF6",
          "polar": {
           "angularaxis": {
            "gridcolor": "white",
            "linecolor": "white",
            "ticks": ""
           },
           "bgcolor": "#E5ECF6",
           "radialaxis": {
            "gridcolor": "white",
            "linecolor": "white",
            "ticks": ""
           }
          },
          "scene": {
           "xaxis": {
            "backgroundcolor": "#E5ECF6",
            "gridcolor": "white",
            "gridwidth": 2,
            "linecolor": "white",
            "showbackground": true,
            "ticks": "",
            "zerolinecolor": "white"
           },
           "yaxis": {
            "backgroundcolor": "#E5ECF6",
            "gridcolor": "white",
            "gridwidth": 2,
            "linecolor": "white",
            "showbackground": true,
            "ticks": "",
            "zerolinecolor": "white"
           },
           "zaxis": {
            "backgroundcolor": "#E5ECF6",
            "gridcolor": "white",
            "gridwidth": 2,
            "linecolor": "white",
            "showbackground": true,
            "ticks": "",
            "zerolinecolor": "white"
           }
          },
          "shapedefaults": {
           "line": {
            "color": "#2a3f5f"
           }
          },
          "ternary": {
           "aaxis": {
            "gridcolor": "white",
            "linecolor": "white",
            "ticks": ""
           },
           "baxis": {
            "gridcolor": "white",
            "linecolor": "white",
            "ticks": ""
           },
           "bgcolor": "#E5ECF6",
           "caxis": {
            "gridcolor": "white",
            "linecolor": "white",
            "ticks": ""
           }
          },
          "title": {
           "x": 0.05
          },
          "xaxis": {
           "automargin": true,
           "gridcolor": "white",
           "linecolor": "white",
           "ticks": "",
           "title": {
            "standoff": 15
           },
           "zerolinecolor": "white",
           "zerolinewidth": 2
          },
          "yaxis": {
           "automargin": true,
           "gridcolor": "white",
           "linecolor": "white",
           "ticks": "",
           "title": {
            "standoff": 15
           },
           "zerolinecolor": "white",
           "zerolinewidth": 2
          }
         }
        },
        "title": {
         "text": "porcentage of sales by region"
        }
       }
      }
     },
     "metadata": {},
     "output_type": "display_data"
    }
   ],
   "source": [
    "fig4 = px.pie(countrys, values='Sales', names=countrys.index, color=countrys.index, title='porcentage of sales by region',\n",
    "             color_discrete_map={'California':'skyblue',\n",
    "                                 'Washington':'cyan',\n",
    "                                 'Arizona':'royalblue',\n",
    "                                 'Colorado':'darkblue',\n",
    "                                 'Oregon':'medium blue',\n",
    "                                 'Nevada': 'mediumturquoise',\n",
    "                                 'Utah': 'deepskyblue',\n",
    "                                 'New Mexico' : 'aqua',\n",
    "                                 'Idaho':'Dodger blue',\n",
    "                                 'Wyoming' : 'green'})\n",
    "fig4.show()\n"
   ]
  },
  {
   "cell_type": "markdown",
   "id": "b40290f4-558a-40e9-9e32-a205f4a076ef",
   "metadata": {
    "scrolled": true
   },
   "source": [
    "### frequency of sales "
   ]
  },
  {
   "cell_type": "code",
   "execution_count": 32,
   "id": "6a82d96a-aa8f-4c5c-90f5-333d500aee9e",
   "metadata": {},
   "outputs": [
    {
     "data": {
      "text/html": [
       "<div>\n",
       "<style scoped>\n",
       "    .dataframe tbody tr th:only-of-type {\n",
       "        vertical-align: middle;\n",
       "    }\n",
       "\n",
       "    .dataframe tbody tr th {\n",
       "        vertical-align: top;\n",
       "    }\n",
       "\n",
       "    .dataframe thead th {\n",
       "        text-align: right;\n",
       "    }\n",
       "</style>\n",
       "<table border=\"1\" class=\"dataframe\">\n",
       "  <thead>\n",
       "    <tr style=\"text-align: right;\">\n",
       "      <th></th>\n",
       "      <th>Order ID</th>\n",
       "      <th>Order Date</th>\n",
       "      <th>Ship Date</th>\n",
       "      <th>EmailID</th>\n",
       "      <th>Geography</th>\n",
       "      <th>Category</th>\n",
       "      <th>Product Name</th>\n",
       "      <th>Sales</th>\n",
       "      <th>Quantity</th>\n",
       "      <th>Profit</th>\n",
       "      <th>year</th>\n",
       "      <th>month</th>\n",
       "      <th>quarter</th>\n",
       "    </tr>\n",
       "  </thead>\n",
       "  <tbody>\n",
       "    <tr>\n",
       "      <th>0</th>\n",
       "      <td>CA-2013-138688</td>\n",
       "      <td>2013-06-13</td>\n",
       "      <td>2013-06-17</td>\n",
       "      <td>DarrinVanHuff@gmail.com</td>\n",
       "      <td>California</td>\n",
       "      <td>Labels</td>\n",
       "      <td>Self-Adhesive Address Labels for Typewriters b...</td>\n",
       "      <td>14.620</td>\n",
       "      <td>2</td>\n",
       "      <td>6.8714</td>\n",
       "      <td>2013</td>\n",
       "      <td>6</td>\n",
       "      <td>2</td>\n",
       "    </tr>\n",
       "    <tr>\n",
       "      <th>1</th>\n",
       "      <td>CA-2011-115812</td>\n",
       "      <td>2011-06-09</td>\n",
       "      <td>2011-06-14</td>\n",
       "      <td>BrosinaHoffman@gmail.com</td>\n",
       "      <td>California</td>\n",
       "      <td>Furnishings</td>\n",
       "      <td>Eldon Expressions Wood and Plastic Desk Access...</td>\n",
       "      <td>48.860</td>\n",
       "      <td>7</td>\n",
       "      <td>14.1694</td>\n",
       "      <td>2011</td>\n",
       "      <td>6</td>\n",
       "      <td>2</td>\n",
       "    </tr>\n",
       "    <tr>\n",
       "      <th>2</th>\n",
       "      <td>CA-2011-115812</td>\n",
       "      <td>2011-06-09</td>\n",
       "      <td>2011-06-14</td>\n",
       "      <td>BrosinaHoffman@gmail.com</td>\n",
       "      <td>California</td>\n",
       "      <td>Art</td>\n",
       "      <td>Newell 322</td>\n",
       "      <td>7.280</td>\n",
       "      <td>4</td>\n",
       "      <td>1.9656</td>\n",
       "      <td>2011</td>\n",
       "      <td>6</td>\n",
       "      <td>2</td>\n",
       "    </tr>\n",
       "    <tr>\n",
       "      <th>3</th>\n",
       "      <td>CA-2011-115812</td>\n",
       "      <td>2011-06-09</td>\n",
       "      <td>2011-06-14</td>\n",
       "      <td>BrosinaHoffman@gmail.com</td>\n",
       "      <td>California</td>\n",
       "      <td>Phones</td>\n",
       "      <td>Mitel 5320 IP Phone VoIP phone</td>\n",
       "      <td>907.152</td>\n",
       "      <td>4</td>\n",
       "      <td>90.7152</td>\n",
       "      <td>2011</td>\n",
       "      <td>6</td>\n",
       "      <td>2</td>\n",
       "    </tr>\n",
       "    <tr>\n",
       "      <th>4</th>\n",
       "      <td>CA-2011-115812</td>\n",
       "      <td>2011-06-09</td>\n",
       "      <td>2011-06-14</td>\n",
       "      <td>BrosinaHoffman@gmail.com</td>\n",
       "      <td>California</td>\n",
       "      <td>Binders</td>\n",
       "      <td>DXL Angle-View Binders with Locking Rings by S...</td>\n",
       "      <td>18.504</td>\n",
       "      <td>3</td>\n",
       "      <td>5.7825</td>\n",
       "      <td>2011</td>\n",
       "      <td>6</td>\n",
       "      <td>2</td>\n",
       "    </tr>\n",
       "  </tbody>\n",
       "</table>\n",
       "</div>"
      ],
      "text/plain": [
       "         Order ID Order Date  Ship Date                   EmailID   Geography  \\\n",
       "0  CA-2013-138688 2013-06-13 2013-06-17   DarrinVanHuff@gmail.com  California   \n",
       "1  CA-2011-115812 2011-06-09 2011-06-14  BrosinaHoffman@gmail.com  California   \n",
       "2  CA-2011-115812 2011-06-09 2011-06-14  BrosinaHoffman@gmail.com  California   \n",
       "3  CA-2011-115812 2011-06-09 2011-06-14  BrosinaHoffman@gmail.com  California   \n",
       "4  CA-2011-115812 2011-06-09 2011-06-14  BrosinaHoffman@gmail.com  California   \n",
       "\n",
       "      Category                                       Product Name    Sales  \\\n",
       "0       Labels  Self-Adhesive Address Labels for Typewriters b...   14.620   \n",
       "1  Furnishings  Eldon Expressions Wood and Plastic Desk Access...   48.860   \n",
       "2          Art                                         Newell 322    7.280   \n",
       "3       Phones                     Mitel 5320 IP Phone VoIP phone  907.152   \n",
       "4      Binders  DXL Angle-View Binders with Locking Rings by S...   18.504   \n",
       "\n",
       "   Quantity   Profit  year  month  quarter  \n",
       "0         2   6.8714  2013      6        2  \n",
       "1         7  14.1694  2011      6        2  \n",
       "2         4   1.9656  2011      6        2  \n",
       "3         4  90.7152  2011      6        2  \n",
       "4         3   5.7825  2011      6        2  "
      ]
     },
     "execution_count": 32,
     "metadata": {},
     "output_type": "execute_result"
    }
   ],
   "source": [
    "time_frequency = amazon_dta.copy()\n",
    "time_frequency['year'] = amazon_dta['Order Date'].dt.year\n",
    "time_frequency['month'] = amazon_dta['Order Date'].dt.month\n",
    "time_frequency['quarter'] = amazon_dta['Order Date'].dt.quarter\n",
    "time_frequency.head()"
   ]
  },
  {
   "cell_type": "code",
   "execution_count": 33,
   "id": "4bf4de16-5611-4219-a850-4a597abf7aac",
   "metadata": {},
   "outputs": [
    {
     "data": {
      "text/html": [
       "<div>\n",
       "<style scoped>\n",
       "    .dataframe tbody tr th:only-of-type {\n",
       "        vertical-align: middle;\n",
       "    }\n",
       "\n",
       "    .dataframe tbody tr th {\n",
       "        vertical-align: top;\n",
       "    }\n",
       "\n",
       "    .dataframe thead th {\n",
       "        text-align: right;\n",
       "    }\n",
       "</style>\n",
       "<table border=\"1\" class=\"dataframe\">\n",
       "  <thead>\n",
       "    <tr style=\"text-align: right;\">\n",
       "      <th></th>\n",
       "      <th>year</th>\n",
       "      <th>EmailID</th>\n",
       "      <th>Order ID</th>\n",
       "      <th>Profit</th>\n",
       "    </tr>\n",
       "  </thead>\n",
       "  <tbody>\n",
       "    <tr>\n",
       "      <th>0</th>\n",
       "      <td>2011</td>\n",
       "      <td>AaronBergman@gmail.com</td>\n",
       "      <td>3</td>\n",
       "      <td>15.0033</td>\n",
       "    </tr>\n",
       "    <tr>\n",
       "      <th>1</th>\n",
       "      <td>2011</td>\n",
       "      <td>AaronHawkins@gmail.com</td>\n",
       "      <td>3</td>\n",
       "      <td>43.3272</td>\n",
       "    </tr>\n",
       "    <tr>\n",
       "      <th>2</th>\n",
       "      <td>2011</td>\n",
       "      <td>AdamHart@gmail.com</td>\n",
       "      <td>1</td>\n",
       "      <td>2.4012</td>\n",
       "    </tr>\n",
       "    <tr>\n",
       "      <th>3</th>\n",
       "      <td>2011</td>\n",
       "      <td>AdamShillingsburg@gmail.com</td>\n",
       "      <td>1</td>\n",
       "      <td>3.6322</td>\n",
       "    </tr>\n",
       "    <tr>\n",
       "      <th>4</th>\n",
       "      <td>2011</td>\n",
       "      <td>AdrianHane@gmail.com</td>\n",
       "      <td>1</td>\n",
       "      <td>-25.9136</td>\n",
       "    </tr>\n",
       "  </tbody>\n",
       "</table>\n",
       "</div>"
      ],
      "text/plain": [
       "   year                      EmailID  Order ID   Profit\n",
       "0  2011       AaronBergman@gmail.com         3  15.0033\n",
       "1  2011       AaronHawkins@gmail.com         3  43.3272\n",
       "2  2011           AdamHart@gmail.com         1   2.4012\n",
       "3  2011  AdamShillingsburg@gmail.com         1   3.6322\n",
       "4  2011         AdrianHane@gmail.com         1 -25.9136"
      ]
     },
     "execution_count": 33,
     "metadata": {},
     "output_type": "execute_result"
    }
   ],
   "source": [
    "frequency_by_year = time_frequency.groupby(['year', 'EmailID']).agg({'Order ID': 'count', 'Profit':'sum'})\n",
    "frequency_by_year.reset_index(inplace=True)\n",
    "frequency_by_year.head()"
   ]
  },
  {
   "cell_type": "code",
   "execution_count": 34,
   "id": "53e23cf1-b161-4a6c-a7ed-59e3fd209d31",
   "metadata": {},
   "outputs": [
    {
     "name": "stdout",
     "output_type": "stream",
     "text": [
      "year                               2014\n",
      "EmailID     ZuschussDonatelli@gmail.com\n",
      "Order ID                             14\n",
      "Profit                         6734.472\n",
      "dtype: object\n",
      "year                          2011\n",
      "EmailID     AaronBergman@gmail.com\n",
      "Order ID                         1\n",
      "Profit                  -3424.3546\n",
      "dtype: object\n"
     ]
    }
   ],
   "source": [
    "print(frequency_by_year.max())\n",
    "print(frequency_by_year.min())\n"
   ]
  },
  {
   "cell_type": "code",
   "execution_count": 35,
   "id": "bcb39142-10cf-4ef8-aa5b-e22e2ce3da24",
   "metadata": {},
   "outputs": [
    {
     "data": {
      "text/plain": [
       "(array([809., 178., 111., 116.,  28.,  14.,  12.,   1.,   1.,   2.]),\n",
       " array([ 1. ,  2.3,  3.6,  4.9,  6.2,  7.5,  8.8, 10.1, 11.4, 12.7, 14. ]),\n",
       " <BarContainer object of 10 artists>)"
      ]
     },
     "execution_count": 35,
     "metadata": {},
     "output_type": "execute_result"
    },
    {
     "data": {
      "image/png": "[encoded data removed]",
      "text/plain": [
       "<Figure size 640x480 with 1 Axes>"
      ]
     },
     "metadata": {},
     "output_type": "display_data"
    }
   ],
   "source": [
    "plt.hist(frequency_by_year['Order ID'])"
   ]
  },
  {
   "cell_type": "code",
   "execution_count": 36,
   "id": "886cf672-c619-4664-a760-5be9e37bef17",
   "metadata": {},
   "outputs": [],
   "source": [
    "def sales_year(frequency_by_year):\n",
    "    if frequency_by_year['Order ID'] > 7 :\n",
    "        return '7 or more'\n",
    "    elif (frequency_by_year['Order ID'] > 2) and (frequency_by_year['Order ID'] <= 7 ):\n",
    "        return '3 or 6'\n",
    "    else:  \n",
    "        return '2 or less'\n"
   ]
  },
  {
   "cell_type": "code",
   "execution_count": 37,
   "id": "9c400808",
   "metadata": {},
   "outputs": [
    {
     "data": {
      "text/plain": [
       "(1272, 5)"
      ]
     },
     "execution_count": 37,
     "metadata": {},
     "output_type": "execute_result"
    }
   ],
   "source": [
    "frequency_by_year['frecquency of sales'] = frequency_by_year.apply(sales_year,axis=1)\n",
    "frequency_by_year.shape"
   ]
  },
  {
   "cell_type": "code",
   "execution_count": 38,
   "id": "57403cea",
   "metadata": {},
   "outputs": [
    {
     "data": {
      "text/html": [
       "<div>\n",
       "<style scoped>\n",
       "    .dataframe tbody tr th:only-of-type {\n",
       "        vertical-align: middle;\n",
       "    }\n",
       "\n",
       "    .dataframe tbody tr th {\n",
       "        vertical-align: top;\n",
       "    }\n",
       "\n",
       "    .dataframe thead th {\n",
       "        text-align: right;\n",
       "    }\n",
       "</style>\n",
       "<table border=\"1\" class=\"dataframe\">\n",
       "  <thead>\n",
       "    <tr style=\"text-align: right;\">\n",
       "      <th></th>\n",
       "      <th>year</th>\n",
       "      <th>EmailID</th>\n",
       "      <th>Order ID</th>\n",
       "      <th>Profit</th>\n",
       "      <th>frecquency of sales</th>\n",
       "    </tr>\n",
       "  </thead>\n",
       "  <tbody>\n",
       "    <tr>\n",
       "      <th>0</th>\n",
       "      <td>2011</td>\n",
       "      <td>AaronBergman@gmail.com</td>\n",
       "      <td>3</td>\n",
       "      <td>15.0033</td>\n",
       "      <td>3 or 6</td>\n",
       "    </tr>\n",
       "    <tr>\n",
       "      <th>1</th>\n",
       "      <td>2011</td>\n",
       "      <td>AaronHawkins@gmail.com</td>\n",
       "      <td>3</td>\n",
       "      <td>43.3272</td>\n",
       "      <td>3 or 6</td>\n",
       "    </tr>\n",
       "    <tr>\n",
       "      <th>2</th>\n",
       "      <td>2011</td>\n",
       "      <td>AdamHart@gmail.com</td>\n",
       "      <td>1</td>\n",
       "      <td>2.4012</td>\n",
       "      <td>2 or less</td>\n",
       "    </tr>\n",
       "    <tr>\n",
       "      <th>3</th>\n",
       "      <td>2011</td>\n",
       "      <td>AdamShillingsburg@gmail.com</td>\n",
       "      <td>1</td>\n",
       "      <td>3.6322</td>\n",
       "      <td>2 or less</td>\n",
       "    </tr>\n",
       "    <tr>\n",
       "      <th>4</th>\n",
       "      <td>2011</td>\n",
       "      <td>AdrianHane@gmail.com</td>\n",
       "      <td>1</td>\n",
       "      <td>-25.9136</td>\n",
       "      <td>2 or less</td>\n",
       "    </tr>\n",
       "    <tr>\n",
       "      <th>...</th>\n",
       "      <td>...</td>\n",
       "      <td>...</td>\n",
       "      <td>...</td>\n",
       "      <td>...</td>\n",
       "      <td>...</td>\n",
       "    </tr>\n",
       "    <tr>\n",
       "      <th>1267</th>\n",
       "      <td>2014</td>\n",
       "      <td>WilliamBrown@gmail.com</td>\n",
       "      <td>4</td>\n",
       "      <td>367.0544</td>\n",
       "      <td>3 or 6</td>\n",
       "    </tr>\n",
       "    <tr>\n",
       "      <th>1268</th>\n",
       "      <td>2014</td>\n",
       "      <td>XylonaPreis@gmail.com</td>\n",
       "      <td>1</td>\n",
       "      <td>16.5440</td>\n",
       "      <td>2 or less</td>\n",
       "    </tr>\n",
       "    <tr>\n",
       "      <th>1269</th>\n",
       "      <td>2014</td>\n",
       "      <td>YanaSorensen@gmail.com</td>\n",
       "      <td>5</td>\n",
       "      <td>1507.0353</td>\n",
       "      <td>3 or 6</td>\n",
       "    </tr>\n",
       "    <tr>\n",
       "      <th>1270</th>\n",
       "      <td>2014</td>\n",
       "      <td>ZuschussCarroll@gmail.com</td>\n",
       "      <td>3</td>\n",
       "      <td>12.2162</td>\n",
       "      <td>3 or 6</td>\n",
       "    </tr>\n",
       "    <tr>\n",
       "      <th>1271</th>\n",
       "      <td>2014</td>\n",
       "      <td>ZuschussDonatelli@gmail.com</td>\n",
       "      <td>1</td>\n",
       "      <td>16.5888</td>\n",
       "      <td>2 or less</td>\n",
       "    </tr>\n",
       "  </tbody>\n",
       "</table>\n",
       "<p>1272 rows × 5 columns</p>\n",
       "</div>"
      ],
      "text/plain": [
       "      year                      EmailID  Order ID     Profit  \\\n",
       "0     2011       AaronBergman@gmail.com         3    15.0033   \n",
       "1     2011       AaronHawkins@gmail.com         3    43.3272   \n",
       "2     2011           AdamHart@gmail.com         1     2.4012   \n",
       "3     2011  AdamShillingsburg@gmail.com         1     3.6322   \n",
       "4     2011         AdrianHane@gmail.com         1   -25.9136   \n",
       "...    ...                          ...       ...        ...   \n",
       "1267  2014       WilliamBrown@gmail.com         4   367.0544   \n",
       "1268  2014        XylonaPreis@gmail.com         1    16.5440   \n",
       "1269  2014       YanaSorensen@gmail.com         5  1507.0353   \n",
       "1270  2014    ZuschussCarroll@gmail.com         3    12.2162   \n",
       "1271  2014  ZuschussDonatelli@gmail.com         1    16.5888   \n",
       "\n",
       "     frecquency of sales  \n",
       "0                 3 or 6  \n",
       "1                 3 or 6  \n",
       "2              2 or less  \n",
       "3              2 or less  \n",
       "4              2 or less  \n",
       "...                  ...  \n",
       "1267              3 or 6  \n",
       "1268           2 or less  \n",
       "1269              3 or 6  \n",
       "1270              3 or 6  \n",
       "1271           2 or less  \n",
       "\n",
       "[1272 rows x 5 columns]"
      ]
     },
     "execution_count": 38,
     "metadata": {},
     "output_type": "execute_result"
    }
   ],
   "source": [
    "frequency_by_year"
   ]
  },
  {
   "cell_type": "code",
   "execution_count": 39,
   "id": "3a563d6e",
   "metadata": {},
   "outputs": [
    {
     "data": {
      "text/html": [
       "<div>\n",
       "<style scoped>\n",
       "    .dataframe tbody tr th:only-of-type {\n",
       "        vertical-align: middle;\n",
       "    }\n",
       "\n",
       "    .dataframe tbody tr th {\n",
       "        vertical-align: top;\n",
       "    }\n",
       "\n",
       "    .dataframe thead th {\n",
       "        text-align: right;\n",
       "    }\n",
       "</style>\n",
       "<table border=\"1\" class=\"dataframe\">\n",
       "  <thead>\n",
       "    <tr style=\"text-align: right;\">\n",
       "      <th></th>\n",
       "      <th>Order ID</th>\n",
       "    </tr>\n",
       "    <tr>\n",
       "      <th>frecquency of sales</th>\n",
       "      <th></th>\n",
       "    </tr>\n",
       "  </thead>\n",
       "  <tbody>\n",
       "    <tr>\n",
       "      <th>2 or less</th>\n",
       "      <td>809</td>\n",
       "    </tr>\n",
       "    <tr>\n",
       "      <th>3 or 6</th>\n",
       "      <td>433</td>\n",
       "    </tr>\n",
       "    <tr>\n",
       "      <th>7 or more</th>\n",
       "      <td>30</td>\n",
       "    </tr>\n",
       "  </tbody>\n",
       "</table>\n",
       "</div>"
      ],
      "text/plain": [
       "                     Order ID\n",
       "frecquency of sales          \n",
       "2 or less                 809\n",
       "3 or 6                    433\n",
       "7 or more                  30"
      ]
     },
     "execution_count": 39,
     "metadata": {},
     "output_type": "execute_result"
    }
   ],
   "source": [
    "num_of_purchases = frequency_by_year.groupby('frecquency of sales').agg({'Order ID' : 'count'}) \n",
    "num_of_purchases"
   ]
  },
  {
   "cell_type": "code",
   "execution_count": 40,
   "id": "3a37ab2f",
   "metadata": {},
   "outputs": [
    {
     "data": {
      "application/vnd.plotly.v1+json": {
       "config": {
        "plotlyServerURL": "https://plot.ly"
       },
       "data": [
        {
         "customdata": [
          [
           "2 or less"
          ],
          [
           "3 or 6"
          ],
          [
           "7 or more"
          ]
         ],
         "domain": {
          "x": [
           0,
           1
          ],
          "y": [
           0,
           1
          ]
         },
         "hovertemplate": "frecquency of sales=%{customdata[0]}<br>Order ID=%{value}<extra></extra>",
         "labels": [
          "2 or less",
          "3 or 6",
          "7 or more"
         ],
         "legendgroup": "",
         "marker": {
          "colors": [
           "#636efa",
           "#EF553B",
           "#00cc96"
          ]
         },
         "name": "",
         "showlegend": true,
         "type": "pie",
         "values": [
          809,
          433,
          30
         ]
        }
       ],
       "layout": {
        "legend": {
         "tracegroupgap": 0
        },
        "template": {
         "data": {
          "bar": [
           {
            "error_x": {
             "color": "#2a3f5f"
            },
            "error_y": {
             "color": "#2a3f5f"
            },
            "marker": {
             "line": {
              "color": "#E5ECF6",
              "width": 0.5
             },
             "pattern": {
              "fillmode": "overlay",
              "size": 10,
              "solidity": 0.2
             }
            },
            "type": "bar"
           }
          ],
          "barpolar": [
           {
            "marker": {
             "line": {
              "color": "#E5ECF6",
              "width": 0.5
             },
             "pattern": {
              "fillmode": "overlay",
              "size": 10,
              "solidity": 0.2
             }
            },
            "type": "barpolar"
           }
          ],
          "carpet": [
           {
            "aaxis": {
             "endlinecolor": "#2a3f5f",
             "gridcolor": "white",
             "linecolor": "white",
             "minorgridcolor": "white",
             "startlinecolor": "#2a3f5f"
            },
            "baxis": {
             "endlinecolor": "#2a3f5f",
             "gridcolor": "white",
             "linecolor": "white",
             "minorgridcolor": "white",
             "startlinecolor": "#2a3f5f"
            },
            "type": "carpet"
           }
          ],
          "choropleth": [
           {
            "colorbar": {
             "outlinewidth": 0,
             "ticks": ""
            },
            "type": "choropleth"
           }
          ],
          "contour": [
           {
            "colorbar": {
             "outlinewidth": 0,
             "ticks": ""
            },
            "colorscale": [
             [
              0,
              "#0d0887"
             ],
             [
              0.1111111111111111,
              "#46039f"
             ],
             [
              0.2222222222222222,
              "#7201a8"
             ],
             [
              0.3333333333333333,
              "#9c179e"
             ],
             [
              0.4444444444444444,
              "#bd3786"
             ],
             [
              0.5555555555555556,
              "#d8576b"
             ],
             [
              0.6666666666666666,
              "#ed7953"
             ],
             [
              0.7777777777777778,
              "#fb9f3a"
             ],
             [
              0.8888888888888888,
              "#fdca26"
             ],
             [
              1,
              "#f0f921"
             ]
            ],
            "type": "contour"
           }
          ],
          "contourcarpet": [
           {
            "colorbar": {
             "outlinewidth": 0,
             "ticks": ""
            },
            "type": "contourcarpet"
           }
          ],
          "heatmap": [
           {
            "colorbar": {
             "outlinewidth": 0,
             "ticks": ""
            },
            "colorscale": [
             [
              0,
              "#0d0887"
             ],
             [
              0.1111111111111111,
              "#46039f"
             ],
             [
              0.2222222222222222,
              "#7201a8"
             ],
             [
              0.3333333333333333,
              "#9c179e"
             ],
             [
              0.4444444444444444,
              "#bd3786"
             ],
             [
              0.5555555555555556,
              "#d8576b"
             ],
             [
              0.6666666666666666,
              "#ed7953"
             ],
             [
              0.7777777777777778,
              "#fb9f3a"
             ],
             [
              0.8888888888888888,
              "#fdca26"
             ],
             [
              1,
              "#f0f921"
             ]
            ],
            "type": "heatmap"
           }
          ],
          "heatmapgl": [
           {
            "colorbar": {
             "outlinewidth": 0,
             "ticks": ""
            },
            "colorscale": [
             [
              0,
              "#0d0887"
             ],
             [
              0.1111111111111111,
              "#46039f"
             ],
             [
              0.2222222222222222,
              "#7201a8"
             ],
             [
              0.3333333333333333,
              "#9c179e"
             ],
             [
              0.4444444444444444,
              "#bd3786"
             ],
             [
              0.5555555555555556,
              "#d8576b"
             ],
             [
              0.6666666666666666,
              "#ed7953"
             ],
             [
              0.7777777777777778,
              "#fb9f3a"
             ],
             [
              0.8888888888888888,
              "#fdca26"
             ],
             [
              1,
              "#f0f921"
             ]
            ],
            "type": "heatmapgl"
           }
          ],
          "histogram": [
           {
            "marker": {
             "pattern": {
              "fillmode": "overlay",
              "size": 10,
              "solidity": 0.2
             }
            },
            "type": "histogram"
           }
          ],
          "histogram2d": [
           {
            "colorbar": {
             "outlinewidth": 0,
             "ticks": ""
            },
            "colorscale": [
             [
              0,
              "#0d0887"
             ],
             [
              0.1111111111111111,
              "#46039f"
             ],
             [
              0.2222222222222222,
              "#7201a8"
             ],
             [
              0.3333333333333333,
              "#9c179e"
             ],
             [
              0.4444444444444444,
              "#bd3786"
             ],
             [
              0.5555555555555556,
              "#d8576b"
             ],
             [
              0.6666666666666666,
              "#ed7953"
             ],
             [
              0.7777777777777778,
              "#fb9f3a"
             ],
             [
              0.8888888888888888,
              "#fdca26"
             ],
             [
              1,
              "#f0f921"
             ]
            ],
            "type": "histogram2d"
           }
          ],
          "histogram2dcontour": [
           {
            "colorbar": {
             "outlinewidth": 0,
             "ticks": ""
            },
            "colorscale": [
             [
              0,
              "#0d0887"
             ],
             [
              0.1111111111111111,
              "#46039f"
             ],
             [
              0.2222222222222222,
              "#7201a8"
             ],
             [
              0.3333333333333333,
              "#9c179e"
             ],
             [
              0.4444444444444444,
              "#bd3786"
             ],
             [
              0.5555555555555556,
              "#d8576b"
             ],
             [
              0.6666666666666666,
              "#ed7953"
             ],
             [
              0.7777777777777778,
              "#fb9f3a"
             ],
             [
              0.8888888888888888,
              "#fdca26"
             ],
             [
              1,
              "#f0f921"
             ]
            ],
            "type": "histogram2dcontour"
           }
          ],
          "mesh3d": [
           {
            "colorbar": {
             "outlinewidth": 0,
             "ticks": ""
            },
            "type": "mesh3d"
           }
          ],
          "parcoords": [
           {
            "line": {
             "colorbar": {
              "outlinewidth": 0,
              "ticks": ""
             }
            },
            "type": "parcoords"
           }
          ],
          "pie": [
           {
            "automargin": true,
            "type": "pie"
           }
          ],
          "scatter": [
           {
            "fillpattern": {
             "fillmode": "overlay",
             "size": 10,
             "solidity": 0.2
            },
            "type": "scatter"
           }
          ],
          "scatter3d": [
           {
            "line": {
             "colorbar": {
              "outlinewidth": 0,
              "ticks": ""
             }
            },
            "marker": {
             "colorbar": {
              "outlinewidth": 0,
              "ticks": ""
             }
            },
            "type": "scatter3d"
           }
          ],
          "scattercarpet": [
           {
            "marker": {
             "colorbar": {
              "outlinewidth": 0,
              "ticks": ""
             }
            },
            "type": "scattercarpet"
           }
          ],
          "scattergeo": [
           {
            "marker": {
             "colorbar": {
              "outlinewidth": 0,
              "ticks": ""
             }
            },
            "type": "scattergeo"
           }
          ],
          "scattergl": [
           {
            "marker": {
             "colorbar": {
              "outlinewidth": 0,
              "ticks": ""
             }
            },
            "type": "scattergl"
           }
          ],
          "scattermapbox": [
           {
            "marker": {
             "colorbar": {
              "outlinewidth": 0,
              "ticks": ""
             }
            },
            "type": "scattermapbox"
           }
          ],
          "scatterpolar": [
           {
            "marker": {
             "colorbar": {
              "outlinewidth": 0,
              "ticks": ""
             }
            },
            "type": "scatterpolar"
           }
          ],
          "scatterpolargl": [
           {
            "marker": {
             "colorbar": {
              "outlinewidth": 0,
              "ticks": ""
             }
            },
            "type": "scatterpolargl"
           }
          ],
          "scatterternary": [
           {
            "marker": {
             "colorbar": {
              "outlinewidth": 0,
              "ticks": ""
             }
            },
            "type": "scatterternary"
           }
          ],
          "surface": [
           {
            "colorbar": {
             "outlinewidth": 0,
             "ticks": ""
            },
            "colorscale": [
             [
              0,
              "#0d0887"
             ],
             [
              0.1111111111111111,
              "#46039f"
             ],
             [
              0.2222222222222222,
              "#7201a8"
             ],
             [
              0.3333333333333333,
              "#9c179e"
             ],
             [
              0.4444444444444444,
              "#bd3786"
             ],
             [
              0.5555555555555556,
              "#d8576b"
             ],
             [
              0.6666666666666666,
              "#ed7953"
             ],
             [
              0.7777777777777778,
              "#fb9f3a"
             ],
             [
              0.8888888888888888,
              "#fdca26"
             ],
             [
              1,
              "#f0f921"
             ]
            ],
            "type": "surface"
           }
          ],
          "table": [
           {
            "cells": {
             "fill": {
              "color": "#EBF0F8"
             },
             "line": {
              "color": "white"
             }
            },
            "header": {
             "fill": {
              "color": "#C8D4E3"
             },
             "line": {
              "color": "white"
             }
            },
            "type": "table"
           }
          ]
         },
         "layout": {
          "annotationdefaults": {
           "arrowcolor": "#2a3f5f",
           "arrowhead": 0,
           "arrowwidth": 1
          },
          "autotypenumbers": "strict",
          "coloraxis": {
           "colorbar": {
            "outlinewidth": 0,
            "ticks": ""
           }
          },
          "colorscale": {
           "diverging": [
            [
             0,
             "#8e0152"
            ],
            [
             0.1,
             "#c51b7d"
            ],
            [
             0.2,
             "#de77ae"
            ],
            [
             0.3,
             "#f1b6da"
            ],
            [
             0.4,
             "#fde0ef"
            ],
            [
             0.5,
             "#f7f7f7"
            ],
            [
             0.6,
             "#e6f5d0"
            ],
            [
             0.7,
             "#b8e186"
            ],
            [
             0.8,
             "#7fbc41"
            ],
            [
             0.9,
             "#4d9221"
            ],
            [
             1,
             "#276419"
            ]
           ],
           "sequential": [
            [
             0,
             "#0d0887"
            ],
            [
             0.1111111111111111,
             "#46039f"
            ],
            [
             0.2222222222222222,
             "#7201a8"
            ],
            [
             0.3333333333333333,
             "#9c179e"
            ],
            [
             0.4444444444444444,
             "#bd3786"
            ],
            [
             0.5555555555555556,
             "#d8576b"
            ],
            [
             0.6666666666666666,
             "#ed7953"
            ],
            [
             0.7777777777777778,
             "#fb9f3a"
            ],
            [
             0.8888888888888888,
             "#fdca26"
            ],
            [
             1,
             "#f0f921"
            ]
           ],
           "sequentialminus": [
            [
             0,
             "#0d0887"
            ],
            [
             0.1111111111111111,
             "#46039f"
            ],
            [
             0.2222222222222222,
             "#7201a8"
            ],
            [
             0.3333333333333333,
             "#9c179e"
            ],
            [
             0.4444444444444444,
             "#bd3786"
            ],
            [
             0.5555555555555556,
             "#d8576b"
            ],
            [
             0.6666666666666666,
             "#ed7953"
            ],
            [
             0.7777777777777778,
             "#fb9f3a"
            ],
            [
             0.8888888888888888,
             "#fdca26"
            ],
            [
             1,
             "#f0f921"
            ]
           ]
          },
          "colorway": [
           "#636efa",
           "#EF553B",
           "#00cc96",
           "#ab63fa",
           "#FFA15A",
           "#19d3f3",
           "#FF6692",
           "#B6E880",
           "#FF97FF",
           "#FECB52"
          ],
          "font": {
           "color": "#2a3f5f"
          },
          "geo": {
           "bgcolor": "white",
           "lakecolor": "white",
           "landcolor": "#E5ECF6",
           "showlakes": true,
           "showland": true,
           "subunitcolor": "white"
          },
          "hoverlabel": {
           "align": "left"
          },
          "hovermode": "closest",
          "mapbox": {
           "style": "light"
          },
          "paper_bgcolor": "white",
          "plot_bgcolor": "#E5ECF6",
          "polar": {
           "angularaxis": {
            "gridcolor": "white",
            "linecolor": "white",
            "ticks": ""
           },
           "bgcolor": "#E5ECF6",
           "radialaxis": {
            "gridcolor": "white",
            "linecolor": "white",
            "ticks": ""
           }
          },
          "scene": {
           "xaxis": {
            "backgroundcolor": "#E5ECF6",
            "gridcolor": "white",
            "gridwidth": 2,
            "linecolor": "white",
            "showbackground": true,
            "ticks": "",
            "zerolinecolor": "white"
           },
           "yaxis": {
            "backgroundcolor": "#E5ECF6",
            "gridcolor": "white",
            "gridwidth": 2,
            "linecolor": "white",
            "showbackground": true,
            "ticks": "",
            "zerolinecolor": "white"
           },
           "zaxis": {
            "backgroundcolor": "#E5ECF6",
            "gridcolor": "white",
            "gridwidth": 2,
            "linecolor": "white",
            "showbackground": true,
            "ticks": "",
            "zerolinecolor": "white"
           }
          },
          "shapedefaults": {
           "line": {
            "color": "#2a3f5f"
           }
          },
          "ternary": {
           "aaxis": {
            "gridcolor": "white",
            "linecolor": "white",
            "ticks": ""
           },
           "baxis": {
            "gridcolor": "white",
            "linecolor": "white",
            "ticks": ""
           },
           "bgcolor": "#E5ECF6",
           "caxis": {
            "gridcolor": "white",
            "linecolor": "white",
            "ticks": ""
           }
          },
          "title": {
           "x": 0.05
          },
          "xaxis": {
           "automargin": true,
           "gridcolor": "white",
           "linecolor": "white",
           "ticks": "",
           "title": {
            "standoff": 15
           },
           "zerolinecolor": "white",
           "zerolinewidth": 2
          },
          "yaxis": {
           "automargin": true,
           "gridcolor": "white",
           "linecolor": "white",
           "ticks": "",
           "title": {
            "standoff": 15
           },
           "zerolinecolor": "white",
           "zerolinewidth": 2
          }
         }
        },
        "title": {
         "text": "porcentage of sales by region"
        }
       }
      }
     },
     "metadata": {},
     "output_type": "display_data"
    }
   ],
   "source": [
    "fig5 = px.pie(num_of_purchases, values='Order ID', names=num_of_purchases.index, color=num_of_purchases.index, title='porcentage of sales by region')\n",
    "fig5.show()"
   ]
  },
  {
   "cell_type": "markdown",
   "id": "be30eb63",
   "metadata": {},
   "source": [
    "#### seasonal plot "
   ]
  },
  {
   "cell_type": "code",
   "execution_count": 41,
   "id": "faa4eb5f",
   "metadata": {},
   "outputs": [
    {
     "data": {
      "text/html": [
       "<div>\n",
       "<style scoped>\n",
       "    .dataframe tbody tr th:only-of-type {\n",
       "        vertical-align: middle;\n",
       "    }\n",
       "\n",
       "    .dataframe tbody tr th {\n",
       "        vertical-align: top;\n",
       "    }\n",
       "\n",
       "    .dataframe thead th {\n",
       "        text-align: right;\n",
       "    }\n",
       "</style>\n",
       "<table border=\"1\" class=\"dataframe\">\n",
       "  <thead>\n",
       "    <tr style=\"text-align: right;\">\n",
       "      <th>year</th>\n",
       "      <th>2011</th>\n",
       "      <th>2012</th>\n",
       "      <th>2013</th>\n",
       "      <th>2014</th>\n",
       "      <th>mean sales</th>\n",
       "    </tr>\n",
       "    <tr>\n",
       "      <th>month</th>\n",
       "      <th></th>\n",
       "      <th></th>\n",
       "      <th></th>\n",
       "      <th></th>\n",
       "      <th></th>\n",
       "    </tr>\n",
       "  </thead>\n",
       "  <tbody>\n",
       "    <tr>\n",
       "      <th>1</th>\n",
       "      <td>2648.0570</td>\n",
       "      <td>6026.7360</td>\n",
       "      <td>3657.8220</td>\n",
       "      <td>12586.0040</td>\n",
       "      <td>6229.654750</td>\n",
       "    </tr>\n",
       "    <tr>\n",
       "      <th>2</th>\n",
       "      <td>1348.6220</td>\n",
       "      <td>2004.9140</td>\n",
       "      <td>3100.1620</td>\n",
       "      <td>9814.9170</td>\n",
       "      <td>4067.153750</td>\n",
       "    </tr>\n",
       "    <tr>\n",
       "      <th>3</th>\n",
       "      <td>11008.8980</td>\n",
       "      <td>15461.4120</td>\n",
       "      <td>17559.0310</td>\n",
       "      <td>28994.3980</td>\n",
       "      <td>18255.934750</td>\n",
       "    </tr>\n",
       "    <tr>\n",
       "      <th>4</th>\n",
       "      <td>9343.4870</td>\n",
       "      <td>9056.0240</td>\n",
       "      <td>10370.1210</td>\n",
       "      <td>13196.9530</td>\n",
       "      <td>10491.646250</td>\n",
       "    </tr>\n",
       "    <tr>\n",
       "      <th>5</th>\n",
       "      <td>6570.4380</td>\n",
       "      <td>12042.6555</td>\n",
       "      <td>10806.1350</td>\n",
       "      <td>15901.6460</td>\n",
       "      <td>11330.218625</td>\n",
       "    </tr>\n",
       "    <tr>\n",
       "      <th>6</th>\n",
       "      <td>9629.4220</td>\n",
       "      <td>5088.9500</td>\n",
       "      <td>18598.0950</td>\n",
       "      <td>15203.0785</td>\n",
       "      <td>12129.886375</td>\n",
       "    </tr>\n",
       "    <tr>\n",
       "      <th>7</th>\n",
       "      <td>21808.5530</td>\n",
       "      <td>7089.8260</td>\n",
       "      <td>14417.7550</td>\n",
       "      <td>21390.7600</td>\n",
       "      <td>16176.723500</td>\n",
       "    </tr>\n",
       "    <tr>\n",
       "      <th>8</th>\n",
       "      <td>13248.2310</td>\n",
       "      <td>12548.3590</td>\n",
       "      <td>12680.9800</td>\n",
       "      <td>24196.7580</td>\n",
       "      <td>15668.582000</td>\n",
       "    </tr>\n",
       "    <tr>\n",
       "      <th>9</th>\n",
       "      <td>14900.5370</td>\n",
       "      <td>13898.9240</td>\n",
       "      <td>23620.8765</td>\n",
       "      <td>29198.1230</td>\n",
       "      <td>20404.615125</td>\n",
       "    </tr>\n",
       "    <tr>\n",
       "      <th>10</th>\n",
       "      <td>8728.7580</td>\n",
       "      <td>14016.6800</td>\n",
       "      <td>13135.3540</td>\n",
       "      <td>21556.0060</td>\n",
       "      <td>14359.199500</td>\n",
       "    </tr>\n",
       "    <tr>\n",
       "      <th>11</th>\n",
       "      <td>23191.6245</td>\n",
       "      <td>14548.8960</td>\n",
       "      <td>26412.3450</td>\n",
       "      <td>28915.9570</td>\n",
       "      <td>23267.205625</td>\n",
       "    </tr>\n",
       "    <tr>\n",
       "      <th>12</th>\n",
       "      <td>25456.4055</td>\n",
       "      <td>28182.8730</td>\n",
       "      <td>32617.3400</td>\n",
       "      <td>29677.9250</td>\n",
       "      <td>28983.635875</td>\n",
       "    </tr>\n",
       "  </tbody>\n",
       "</table>\n",
       "</div>"
      ],
      "text/plain": [
       "year         2011        2012        2013        2014    mean sales\n",
       "month                                                              \n",
       "1       2648.0570   6026.7360   3657.8220  12586.0040   6229.654750\n",
       "2       1348.6220   2004.9140   3100.1620   9814.9170   4067.153750\n",
       "3      11008.8980  15461.4120  17559.0310  28994.3980  18255.934750\n",
       "4       9343.4870   9056.0240  10370.1210  13196.9530  10491.646250\n",
       "5       6570.4380  12042.6555  10806.1350  15901.6460  11330.218625\n",
       "6       9629.4220   5088.9500  18598.0950  15203.0785  12129.886375\n",
       "7      21808.5530   7089.8260  14417.7550  21390.7600  16176.723500\n",
       "8      13248.2310  12548.3590  12680.9800  24196.7580  15668.582000\n",
       "9      14900.5370  13898.9240  23620.8765  29198.1230  20404.615125\n",
       "10      8728.7580  14016.6800  13135.3540  21556.0060  14359.199500\n",
       "11     23191.6245  14548.8960  26412.3450  28915.9570  23267.205625\n",
       "12     25456.4055  28182.8730  32617.3400  29677.9250  28983.635875"
      ]
     },
     "execution_count": 41,
     "metadata": {},
     "output_type": "execute_result"
    }
   ],
   "source": [
    "seasonal_analisys = time_frequency.groupby(['year', 'month']).agg({'Order ID':'count', 'Sales':'sum'})\n",
    "seasonal_analisys.reset_index(inplace=True)\n",
    "df_pivot = seasonal_analisys.pivot(index='month', columns='year', values='Sales')\n",
    "df_pivot['mean sales'] = (df_pivot[2011] + df_pivot[2012] + df_pivot[2013] + df_pivot[2014])/4 \n",
    "df_pivot "
   ]
  },
  {
   "cell_type": "code",
   "execution_count": 42,
   "id": "df299155",
   "metadata": {},
   "outputs": [
    {
     "data": {
      "image/png": "[encoded data removed]",
      "text/plain": [
       "<Figure size 640x480 with 1 Axes>"
      ]
     },
     "metadata": {},
     "output_type": "display_data"
    }
   ],
   "source": [
    "plt.plot(df_pivot[2011], color='red', label='2011')\n",
    "plt.plot(df_pivot[2012], color='blue', label='2012')\n",
    "plt.plot(df_pivot[2013], color='green', label='2013')\n",
    "plt.plot(df_pivot[2014], color='purple', label='2014')\n",
    "plt.plot(df_pivot['mean sales'], color='black',linewidth=5, label='mean')\n",
    "plt.title('sales by month')\n",
    "plt.xlabel('Months')\n",
    "plt.ylabel('quantiti of sales')\n",
    "plt.legend()\n",
    "plt.show()"
   ]
  },
  {
   "cell_type": "code",
   "execution_count": 43,
   "id": "4be09eca",
   "metadata": {},
   "outputs": [],
   "source": [
    "#num_of_purchases.reset_index(inplace=True)\n",
    "#num_of_purchases.to_json('purchases.json', orient='records')"
   ]
  },
  {
   "cell_type": "code",
   "execution_count": 44,
   "id": "e25d8b1a",
   "metadata": {},
   "outputs": [
    {
     "data": {
      "text/html": [
       "<div>\n",
       "<style scoped>\n",
       "    .dataframe tbody tr th:only-of-type {\n",
       "        vertical-align: middle;\n",
       "    }\n",
       "\n",
       "    .dataframe tbody tr th {\n",
       "        vertical-align: top;\n",
       "    }\n",
       "\n",
       "    .dataframe thead th {\n",
       "        text-align: right;\n",
       "    }\n",
       "</style>\n",
       "<table border=\"1\" class=\"dataframe\">\n",
       "  <thead>\n",
       "    <tr style=\"text-align: right;\">\n",
       "      <th></th>\n",
       "      <th>year</th>\n",
       "      <th>quarter</th>\n",
       "      <th>Profit</th>\n",
       "    </tr>\n",
       "  </thead>\n",
       "  <tbody>\n",
       "    <tr>\n",
       "      <th>0</th>\n",
       "      <td>2011</td>\n",
       "      <td>1</td>\n",
       "      <td>1784.0288</td>\n",
       "    </tr>\n",
       "    <tr>\n",
       "      <th>1</th>\n",
       "      <td>2011</td>\n",
       "      <td>2</td>\n",
       "      <td>4274.8337</td>\n",
       "    </tr>\n",
       "    <tr>\n",
       "      <th>2</th>\n",
       "      <td>2011</td>\n",
       "      <td>3</td>\n",
       "      <td>7583.1099</td>\n",
       "    </tr>\n",
       "    <tr>\n",
       "      <th>3</th>\n",
       "      <td>2011</td>\n",
       "      <td>4</td>\n",
       "      <td>6423.7188</td>\n",
       "    </tr>\n",
       "    <tr>\n",
       "      <th>4</th>\n",
       "      <td>2012</td>\n",
       "      <td>1</td>\n",
       "      <td>5277.8446</td>\n",
       "    </tr>\n",
       "  </tbody>\n",
       "</table>\n",
       "</div>"
      ],
      "text/plain": [
       "   year  quarter     Profit\n",
       "0  2011        1  1784.0288\n",
       "1  2011        2  4274.8337\n",
       "2  2011        3  7583.1099\n",
       "3  2011        4  6423.7188\n",
       "4  2012        1  5277.8446"
      ]
     },
     "execution_count": 44,
     "metadata": {},
     "output_type": "execute_result"
    }
   ],
   "source": [
    "waterfall_dta = time_frequency.groupby(['year', 'quarter']).agg({'Profit':'sum'})\n",
    "waterfall_dta.reset_index(inplace=True)\n",
    "waterfall_dta.head()"
   ]
  },
  {
   "cell_type": "code",
   "execution_count": 45,
   "id": "2cf588a4",
   "metadata": {},
   "outputs": [
    {
     "name": "stderr",
     "output_type": "stream",
     "text": [
      "C:\\Users\\eduar\\AppData\\Local\\Temp\\ipykernel_18084\\3424973067.py:2: SettingWithCopyWarning:\n",
      "\n",
      "\n",
      "A value is trying to be set on a copy of a slice from a DataFrame\n",
      "\n",
      "See the caveats in the documentation: https://pandas.pydata.org/pandas-docs/stable/user_guide/indexing.html#returning-a-view-versus-a-copy\n",
      "\n"
     ]
    }
   ],
   "source": [
    "waterfall_dta['diference']= waterfall_dta['Profit'].diff()\n",
    "waterfall_dta.diference[0] = waterfall_dta.Profit[0]"
   ]
  },
  {
   "cell_type": "code",
   "execution_count": 46,
   "id": "a8a61549",
   "metadata": {},
   "outputs": [],
   "source": [
    "map = {1:'q1',2:'q2',3:'q3',4:'q4'}\n",
    "\n",
    "def aplly_map(number): \n",
    "    if number in map:\n",
    "        return map[number]\n",
    "    else: \n",
    "        return number\n",
    "    \n",
    "waterfall_dta['quarter'] = waterfall_dta['quarter'].apply(aplly_map)"
   ]
  },
  {
   "cell_type": "code",
   "execution_count": 47,
   "id": "632527cc",
   "metadata": {},
   "outputs": [
    {
     "data": {
      "text/plain": [
       "0      1784.0288\n",
       "1      2490.8049\n",
       "2      3308.2762\n",
       "3     -1159.3911\n",
       "4     -1145.8742\n",
       "5     -1269.5524\n",
       "6      -293.8547\n",
       "7      3777.1829\n",
       "8     -5248.7584\n",
       "9      1873.6539\n",
       "10     4388.2648\n",
       "11      590.9981\n",
       "12     4959.4798\n",
       "13   -10495.5714\n",
       "14    11693.2515\n",
       "15    -4220.1976\n",
       "Name: diference, dtype: float64"
      ]
     },
     "execution_count": 47,
     "metadata": {},
     "output_type": "execute_result"
    }
   ],
   "source": [
    "waterfall_dta['diference'] "
   ]
  },
  {
   "cell_type": "code",
   "execution_count": 48,
   "id": "59da601b",
   "metadata": {},
   "outputs": [
    {
     "data": {
      "application/vnd.plotly.v1+json": {
       "config": {
        "plotlyServerURL": "https://plot.ly"
       },
       "data": [
        {
         "decreasing": {
          "marker": {
           "color": "Maroon",
           "line": {
            "color": "red",
            "width": 2
           }
          }
         },
         "increasing": {
          "marker": {
           "color": "Teal"
          }
         },
         "measure": [
          "absolute",
          "relative",
          "relative",
          "relative",
          "relative",
          "relative",
          "relative",
          "relative",
          "relative",
          "relative",
          "relative",
          "relative",
          "relative",
          "relative",
          "relative",
          "total"
         ],
         "totals": {
          "marker": {
           "color": "deep sky blue",
           "line": {
            "color": "blue",
            "width": 3
           }
          }
         },
         "type": "waterfall",
         "x": [
          [
           2011,
           2011,
           2011,
           2011,
           2012,
           2012,
           2012,
           2012,
           2013,
           2013,
           2013,
           2013,
           2014,
           2014,
           2014,
           2014
          ],
          [
           "q1",
           "q2",
           "q3",
           "q4",
           "q1",
           "q2",
           "q3",
           "q4",
           "q1",
           "q2",
           "q3",
           "q4",
           "q1",
           "q2",
           "q3",
           "q4"
          ]
         ],
         "y": [
          1784.0288,
          2490.8049,
          3308.2761999999993,
          -1159.391099999999,
          -1145.8742000000002,
          -1269.5524000000005,
          -293.85469999999987,
          3777.1829,
          -5248.7584,
          1873.6539000000002,
          4388.264799999999,
          590.9981000000007,
          4959.479800000001,
          -10495.5714,
          11693.2515,
          -4220.197600000001
         ]
        }
       ],
       "layout": {
        "template": {
         "data": {
          "bar": [
           {
            "error_x": {
             "color": "#2a3f5f"
            },
            "error_y": {
             "color": "#2a3f5f"
            },
            "marker": {
             "line": {
              "color": "#E5ECF6",
              "width": 0.5
             },
             "pattern": {
              "fillmode": "overlay",
              "size": 10,
              "solidity": 0.2
             }
            },
            "type": "bar"
           }
          ],
          "barpolar": [
           {
            "marker": {
             "line": {
              "color": "#E5ECF6",
              "width": 0.5
             },
             "pattern": {
              "fillmode": "overlay",
              "size": 10,
              "solidity": 0.2
             }
            },
            "type": "barpolar"
           }
          ],
          "carpet": [
           {
            "aaxis": {
             "endlinecolor": "#2a3f5f",
             "gridcolor": "white",
             "linecolor": "white",
             "minorgridcolor": "white",
             "startlinecolor": "#2a3f5f"
            },
            "baxis": {
             "endlinecolor": "#2a3f5f",
             "gridcolor": "white",
             "linecolor": "white",
             "minorgridcolor": "white",
             "startlinecolor": "#2a3f5f"
            },
            "type": "carpet"
           }
          ],
          "choropleth": [
           {
            "colorbar": {
             "outlinewidth": 0,
             "ticks": ""
            },
            "type": "choropleth"
           }
          ],
          "contour": [
           {
            "colorbar": {
             "outlinewidth": 0,
             "ticks": ""
            },
            "colorscale": [
             [
              0,
              "#0d0887"
             ],
             [
              0.1111111111111111,
              "#46039f"
             ],
             [
              0.2222222222222222,
              "#7201a8"
             ],
             [
              0.3333333333333333,
              "#9c179e"
             ],
             [
              0.4444444444444444,
              "#bd3786"
             ],
             [
              0.5555555555555556,
              "#d8576b"
             ],
             [
              0.6666666666666666,
              "#ed7953"
             ],
             [
              0.7777777777777778,
              "#fb9f3a"
             ],
             [
              0.8888888888888888,
              "#fdca26"
             ],
             [
              1,
              "#f0f921"
             ]
            ],
            "type": "contour"
           }
          ],
          "contourcarpet": [
           {
            "colorbar": {
             "outlinewidth": 0,
             "ticks": ""
            },
            "type": "contourcarpet"
           }
          ],
          "heatmap": [
           {
            "colorbar": {
             "outlinewidth": 0,
             "ticks": ""
            },
            "colorscale": [
             [
              0,
              "#0d0887"
             ],
             [
              0.1111111111111111,
              "#46039f"
             ],
             [
              0.2222222222222222,
              "#7201a8"
             ],
             [
              0.3333333333333333,
              "#9c179e"
             ],
             [
              0.4444444444444444,
              "#bd3786"
             ],
             [
              0.5555555555555556,
              "#d8576b"
             ],
             [
              0.6666666666666666,
              "#ed7953"
             ],
             [
              0.7777777777777778,
              "#fb9f3a"
             ],
             [
              0.8888888888888888,
              "#fdca26"
             ],
             [
              1,
              "#f0f921"
             ]
            ],
            "type": "heatmap"
           }
          ],
          "heatmapgl": [
           {
            "colorbar": {
             "outlinewidth": 0,
             "ticks": ""
            },
            "colorscale": [
             [
              0,
              "#0d0887"
             ],
             [
              0.1111111111111111,
              "#46039f"
             ],
             [
              0.2222222222222222,
              "#7201a8"
             ],
             [
              0.3333333333333333,
              "#9c179e"
             ],
             [
              0.4444444444444444,
              "#bd3786"
             ],
             [
              0.5555555555555556,
              "#d8576b"
             ],
             [
              0.6666666666666666,
              "#ed7953"
             ],
             [
              0.7777777777777778,
              "#fb9f3a"
             ],
             [
              0.8888888888888888,
              "#fdca26"
             ],
             [
              1,
              "#f0f921"
             ]
            ],
            "type": "heatmapgl"
           }
          ],
          "histogram": [
           {
            "marker": {
             "pattern": {
              "fillmode": "overlay",
              "size": 10,
              "solidity": 0.2
             }
            },
            "type": "histogram"
           }
          ],
          "histogram2d": [
           {
            "colorbar": {
             "outlinewidth": 0,
             "ticks": ""
            },
            "colorscale": [
             [
              0,
              "#0d0887"
             ],
             [
              0.1111111111111111,
              "#46039f"
             ],
             [
              0.2222222222222222,
              "#7201a8"
             ],
             [
              0.3333333333333333,
              "#9c179e"
             ],
             [
              0.4444444444444444,
              "#bd3786"
             ],
             [
              0.5555555555555556,
              "#d8576b"
             ],
             [
              0.6666666666666666,
              "#ed7953"
             ],
             [
              0.7777777777777778,
              "#fb9f3a"
             ],
             [
              0.8888888888888888,
              "#fdca26"
             ],
             [
              1,
              "#f0f921"
             ]
            ],
            "type": "histogram2d"
           }
          ],
          "histogram2dcontour": [
           {
            "colorbar": {
             "outlinewidth": 0,
             "ticks": ""
            },
            "colorscale": [
             [
              0,
              "#0d0887"
             ],
             [
              0.1111111111111111,
              "#46039f"
             ],
             [
              0.2222222222222222,
              "#7201a8"
             ],
             [
              0.3333333333333333,
              "#9c179e"
             ],
             [
              0.4444444444444444,
              "#bd3786"
             ],
             [
              0.5555555555555556,
              "#d8576b"
             ],
             [
              0.6666666666666666,
              "#ed7953"
             ],
             [
              0.7777777777777778,
              "#fb9f3a"
             ],
             [
              0.8888888888888888,
              "#fdca26"
             ],
             [
              1,
              "#f0f921"
             ]
            ],
            "type": "histogram2dcontour"
           }
          ],
          "mesh3d": [
           {
            "colorbar": {
             "outlinewidth": 0,
             "ticks": ""
            },
            "type": "mesh3d"
           }
          ],
          "parcoords": [
           {
            "line": {
             "colorbar": {
              "outlinewidth": 0,
              "ticks": ""
             }
            },
            "type": "parcoords"
           }
          ],
          "pie": [
           {
            "automargin": true,
            "type": "pie"
           }
          ],
          "scatter": [
           {
            "fillpattern": {
             "fillmode": "overlay",
             "size": 10,
             "solidity": 0.2
            },
            "type": "scatter"
           }
          ],
          "scatter3d": [
           {
            "line": {
             "colorbar": {
              "outlinewidth": 0,
              "ticks": ""
             }
            },
            "marker": {
             "colorbar": {
              "outlinewidth": 0,
              "ticks": ""
             }
            },
            "type": "scatter3d"
           }
          ],
          "scattercarpet": [
           {
            "marker": {
             "colorbar": {
              "outlinewidth": 0,
              "ticks": ""
             }
            },
            "type": "scattercarpet"
           }
          ],
          "scattergeo": [
           {
            "marker": {
             "colorbar": {
              "outlinewidth": 0,
              "ticks": ""
             }
            },
            "type": "scattergeo"
           }
          ],
          "scattergl": [
           {
            "marker": {
             "colorbar": {
              "outlinewidth": 0,
              "ticks": ""
             }
            },
            "type": "scattergl"
           }
          ],
          "scattermapbox": [
           {
            "marker": {
             "colorbar": {
              "outlinewidth": 0,
              "ticks": ""
             }
            },
            "type": "scattermapbox"
           }
          ],
          "scatterpolar": [
           {
            "marker": {
             "colorbar": {
              "outlinewidth": 0,
              "ticks": ""
             }
            },
            "type": "scatterpolar"
           }
          ],
          "scatterpolargl": [
           {
            "marker": {
             "colorbar": {
              "outlinewidth": 0,
              "ticks": ""
             }
            },
            "type": "scatterpolargl"
           }
          ],
          "scatterternary": [
           {
            "marker": {
             "colorbar": {
              "outlinewidth": 0,
              "ticks": ""
             }
            },
            "type": "scatterternary"
           }
          ],
          "surface": [
           {
            "colorbar": {
             "outlinewidth": 0,
             "ticks": ""
            },
            "colorscale": [
             [
              0,
              "#0d0887"
             ],
             [
              0.1111111111111111,
              "#46039f"
             ],
             [
              0.2222222222222222,
              "#7201a8"
             ],
             [
              0.3333333333333333,
              "#9c179e"
             ],
             [
              0.4444444444444444,
              "#bd3786"
             ],
             [
              0.5555555555555556,
              "#d8576b"
             ],
             [
              0.6666666666666666,
              "#ed7953"
             ],
             [
              0.7777777777777778,
              "#fb9f3a"
             ],
             [
              0.8888888888888888,
              "#fdca26"
             ],
             [
              1,
              "#f0f921"
             ]
            ],
            "type": "surface"
           }
          ],
          "table": [
           {
            "cells": {
             "fill": {
              "color": "#EBF0F8"
             },
             "line": {
              "color": "white"
             }
            },
            "header": {
             "fill": {
              "color": "#C8D4E3"
             },
             "line": {
              "color": "white"
             }
            },
            "type": "table"
           }
          ]
         },
         "layout": {
          "annotationdefaults": {
           "arrowcolor": "#2a3f5f",
           "arrowhead": 0,
           "arrowwidth": 1
          },
          "autotypenumbers": "strict",
          "coloraxis": {
           "colorbar": {
            "outlinewidth": 0,
            "ticks": ""
           }
          },
          "colorscale": {
           "diverging": [
            [
             0,
             "#8e0152"
            ],
            [
             0.1,
             "#c51b7d"
            ],
            [
             0.2,
             "#de77ae"
            ],
            [
             0.3,
             "#f1b6da"
            ],
            [
             0.4,
             "#fde0ef"
            ],
            [
             0.5,
             "#f7f7f7"
            ],
            [
             0.6,
             "#e6f5d0"
            ],
            [
             0.7,
             "#b8e186"
            ],
            [
             0.8,
             "#7fbc41"
            ],
            [
             0.9,
             "#4d9221"
            ],
            [
             1,
             "#276419"
            ]
           ],
           "sequential": [
            [
             0,
             "#0d0887"
            ],
            [
             0.1111111111111111,
             "#46039f"
            ],
            [
             0.2222222222222222,
             "#7201a8"
            ],
            [
             0.3333333333333333,
             "#9c179e"
            ],
            [
             0.4444444444444444,
             "#bd3786"
            ],
            [
             0.5555555555555556,
             "#d8576b"
            ],
            [
             0.6666666666666666,
             "#ed7953"
            ],
            [
             0.7777777777777778,
             "#fb9f3a"
            ],
            [
             0.8888888888888888,
             "#fdca26"
            ],
            [
             1,
             "#f0f921"
            ]
           ],
           "sequentialminus": [
            [
             0,
             "#0d0887"
            ],
            [
             0.1111111111111111,
             "#46039f"
            ],
            [
             0.2222222222222222,
             "#7201a8"
            ],
            [
             0.3333333333333333,
             "#9c179e"
            ],
            [
             0.4444444444444444,
             "#bd3786"
            ],
            [
             0.5555555555555556,
             "#d8576b"
            ],
            [
             0.6666666666666666,
             "#ed7953"
            ],
            [
             0.7777777777777778,
             "#fb9f3a"
            ],
            [
             0.8888888888888888,
             "#fdca26"
            ],
            [
             1,
             "#f0f921"
            ]
           ]
          },
          "colorway": [
           "#636efa",
           "#EF553B",
           "#00cc96",
           "#ab63fa",
           "#FFA15A",
           "#19d3f3",
           "#FF6692",
           "#B6E880",
           "#FF97FF",
           "#FECB52"
          ],
          "font": {
           "color": "#2a3f5f"
          },
          "geo": {
           "bgcolor": "white",
           "lakecolor": "white",
           "landcolor": "#E5ECF6",
           "showlakes": true,
           "showland": true,
           "subunitcolor": "white"
          },
          "hoverlabel": {
           "align": "left"
          },
          "hovermode": "closest",
          "mapbox": {
           "style": "light"
          },
          "paper_bgcolor": "white",
          "plot_bgcolor": "#E5ECF6",
          "polar": {
           "angularaxis": {
            "gridcolor": "white",
            "linecolor": "white",
            "ticks": ""
           },
           "bgcolor": "#E5ECF6",
           "radialaxis": {
            "gridcolor": "white",
            "linecolor": "white",
            "ticks": ""
           }
          },
          "scene": {
           "xaxis": {
            "backgroundcolor": "#E5ECF6",
            "gridcolor": "white",
            "gridwidth": 2,
            "linecolor": "white",
            "showbackground": true,
            "ticks": "",
            "zerolinecolor": "white"
           },
           "yaxis": {
            "backgroundcolor": "#E5ECF6",
            "gridcolor": "white",
            "gridwidth": 2,
            "linecolor": "white",
            "showbackground": true,
            "ticks": "",
            "zerolinecolor": "white"
           },
           "zaxis": {
            "backgroundcolor": "#E5ECF6",
            "gridcolor": "white",
            "gridwidth": 2,
            "linecolor": "white",
            "showbackground": true,
            "ticks": "",
            "zerolinecolor": "white"
           }
          },
          "shapedefaults": {
           "line": {
            "color": "#2a3f5f"
           }
          },
          "ternary": {
           "aaxis": {
            "gridcolor": "white",
            "linecolor": "white",
            "ticks": ""
           },
           "baxis": {
            "gridcolor": "white",
            "linecolor": "white",
            "ticks": ""
           },
           "bgcolor": "#E5ECF6",
           "caxis": {
            "gridcolor": "white",
            "linecolor": "white",
            "ticks": ""
           }
          },
          "title": {
           "x": 0.05
          },
          "xaxis": {
           "automargin": true,
           "gridcolor": "white",
           "linecolor": "white",
           "ticks": "",
           "title": {
            "standoff": 15
           },
           "zerolinecolor": "white",
           "zerolinewidth": 2
          },
          "yaxis": {
           "automargin": true,
           "gridcolor": "white",
           "linecolor": "white",
           "ticks": "",
           "title": {
            "standoff": 15
           },
           "zerolinecolor": "white",
           "zerolinewidth": 2
          }
         }
        },
        "title": {
         "text": "Profit and loss statement"
        },
        "waterfallgap": 0.3
       }
      }
     },
     "metadata": {},
     "output_type": "display_data"
    }
   ],
   "source": [
    "\n",
    "\n",
    "import plotly.graph_objects as go\n",
    "\n",
    "fig6 = go.Figure(go.Waterfall(\n",
    "    x=[waterfall_dta['year'], waterfall_dta['quarter']],\n",
    "    measure=['absolute', 'relative', 'relative', 'relative', 'relative', 'relative', 'relative',\n",
    "             'relative', 'relative', 'relative', 'relative', 'relative', 'relative', 'relative','relative', 'total'],\n",
    "    y=waterfall_dta['diference'],\n",
    "\n",
    "    decreasing={\"marker\": {\"color\": \"Maroon\", \"line\": {\"color\": \"red\", \"width\": 2}}},\n",
    "    increasing={\"marker\": {\"color\": \"Teal\"}},\n",
    "    totals={\"marker\": {\"color\": \"deep sky blue\", \"line\": {\"color\": \"blue\", \"width\": 3}}}\n",
    "))\n",
    "\n",
    "fig6.update_layout(title=\"Profit and loss statement\", waterfallgap=0.3)\n",
    "\n",
    "fig6.show()"
   ]
  },
  {
   "cell_type": "code",
   "execution_count": 50,
   "id": "914371dc",
   "metadata": {},
   "outputs": [
    {
     "data": {
      "text/plain": [
       "0      1784.0288\n",
       "1      4274.8337\n",
       "2      7583.1099\n",
       "3      6423.7188\n",
       "4      5277.8446\n",
       "5      4008.2922\n",
       "6      3714.4375\n",
       "7      7491.6204\n",
       "8      2242.8620\n",
       "9      4116.5159\n",
       "10     8504.7807\n",
       "11     9095.7788\n",
       "12    14055.2586\n",
       "13     3559.6872\n",
       "14    15252.9387\n",
       "15    11032.7411\n",
       "Name: Profit, dtype: float64"
      ]
     },
     "execution_count": 50,
     "metadata": {},
     "output_type": "execute_result"
    }
   ],
   "source": [
    "waterfall_dta['Profit']"
   ]
  },
  {
   "cell_type": "code",
   "execution_count": 64,
   "id": "e0fd6a2b",
   "metadata": {},
   "outputs": [
    {
     "data": {
      "application/vnd.plotly.v1+json": {
       "config": {
        "plotlyServerURL": "https://plot.ly"
       },
       "data": [
        {
         "coloraxis": "coloraxis",
         "geo": "geo",
         "hovertemplate": "regions=%{location}<br>Sales=%{z}<extra></extra>",
         "locationmode": "USA-states",
         "locations": [
          "AZ",
          "CA",
          "CO",
          "ID",
          "MT",
          "NV",
          "NM",
          "OR",
          "UT",
          "WA",
          "WY"
         ],
         "name": "",
         "type": "choropleth",
         "z": [
          35282.001,
          457687.6315,
          32108.118,
          4382.486,
          5589.352,
          16729.102,
          4783.522,
          17431.15,
          11220.056,
          138641.27,
          1603.136
         ]
        }
       ],
       "layout": {
        "coloraxis": {
         "colorbar": {
          "title": {
           "text": "Sales"
          }
         },
         "colorscale": [
          [
           0,
           "rgb(36, 86, 104)"
          ],
          [
           0.16666666666666666,
           "rgb(15, 114, 121)"
          ],
          [
           0.3333333333333333,
           "rgb(13, 143, 129)"
          ],
          [
           0.5,
           "rgb(57, 171, 126)"
          ],
          [
           0.6666666666666666,
           "rgb(110, 197, 116)"
          ],
          [
           0.8333333333333334,
           "rgb(169, 220, 103)"
          ],
          [
           1,
           "rgb(237, 239, 93)"
          ]
         ]
        },
        "geo": {
         "center": {},
         "domain": {
          "x": [
           0,
           1
          ],
          "y": [
           0,
           1
          ]
         },
         "scope": "usa"
        },
        "legend": {
         "tracegroupgap": 0
        },
        "margin": {
         "t": 60
        },
        "template": {
         "data": {
          "bar": [
           {
            "error_x": {
             "color": "#2a3f5f"
            },
            "error_y": {
             "color": "#2a3f5f"
            },
            "marker": {
             "line": {
              "color": "#E5ECF6",
              "width": 0.5
             },
             "pattern": {
              "fillmode": "overlay",
              "size": 10,
              "solidity": 0.2
             }
            },
            "type": "bar"
           }
          ],
          "barpolar": [
           {
            "marker": {
             "line": {
              "color": "#E5ECF6",
              "width": 0.5
             },
             "pattern": {
              "fillmode": "overlay",
              "size": 10,
              "solidity": 0.2
             }
            },
            "type": "barpolar"
           }
          ],
          "carpet": [
           {
            "aaxis": {
             "endlinecolor": "#2a3f5f",
             "gridcolor": "white",
             "linecolor": "white",
             "minorgridcolor": "white",
             "startlinecolor": "#2a3f5f"
            },
            "baxis": {
             "endlinecolor": "#2a3f5f",
             "gridcolor": "white",
             "linecolor": "white",
             "minorgridcolor": "white",
             "startlinecolor": "#2a3f5f"
            },
            "type": "carpet"
           }
          ],
          "choropleth": [
           {
            "colorbar": {
             "outlinewidth": 0,
             "ticks": ""
            },
            "type": "choropleth"
           }
          ],
          "contour": [
           {
            "colorbar": {
             "outlinewidth": 0,
             "ticks": ""
            },
            "colorscale": [
             [
              0,
              "#0d0887"
             ],
             [
              0.1111111111111111,
              "#46039f"
             ],
             [
              0.2222222222222222,
              "#7201a8"
             ],
             [
              0.3333333333333333,
              "#9c179e"
             ],
             [
              0.4444444444444444,
              "#bd3786"
             ],
             [
              0.5555555555555556,
              "#d8576b"
             ],
             [
              0.6666666666666666,
              "#ed7953"
             ],
             [
              0.7777777777777778,
              "#fb9f3a"
             ],
             [
              0.8888888888888888,
              "#fdca26"
             ],
             [
              1,
              "#f0f921"
             ]
            ],
            "type": "contour"
           }
          ],
          "contourcarpet": [
           {
            "colorbar": {
             "outlinewidth": 0,
             "ticks": ""
            },
            "type": "contourcarpet"
           }
          ],
          "heatmap": [
           {
            "colorbar": {
             "outlinewidth": 0,
             "ticks": ""
            },
            "colorscale": [
             [
              0,
              "#0d0887"
             ],
             [
              0.1111111111111111,
              "#46039f"
             ],
             [
              0.2222222222222222,
              "#7201a8"
             ],
             [
              0.3333333333333333,
              "#9c179e"
             ],
             [
              0.4444444444444444,
              "#bd3786"
             ],
             [
              0.5555555555555556,
              "#d8576b"
             ],
             [
              0.6666666666666666,
              "#ed7953"
             ],
             [
              0.7777777777777778,
              "#fb9f3a"
             ],
             [
              0.8888888888888888,
              "#fdca26"
             ],
             [
              1,
              "#f0f921"
             ]
            ],
            "type": "heatmap"
           }
          ],
          "heatmapgl": [
           {
            "colorbar": {
             "outlinewidth": 0,
             "ticks": ""
            },
            "colorscale": [
             [
              0,
              "#0d0887"
             ],
             [
              0.1111111111111111,
              "#46039f"
             ],
             [
              0.2222222222222222,
              "#7201a8"
             ],
             [
              0.3333333333333333,
              "#9c179e"
             ],
             [
              0.4444444444444444,
              "#bd3786"
             ],
             [
              0.5555555555555556,
              "#d8576b"
             ],
             [
              0.6666666666666666,
              "#ed7953"
             ],
             [
              0.7777777777777778,
              "#fb9f3a"
             ],
             [
              0.8888888888888888,
              "#fdca26"
             ],
             [
              1,
              "#f0f921"
             ]
            ],
            "type": "heatmapgl"
           }
          ],
          "histogram": [
           {
            "marker": {
             "pattern": {
              "fillmode": "overlay",
              "size": 10,
              "solidity": 0.2
             }
            },
            "type": "histogram"
           }
          ],
          "histogram2d": [
           {
            "colorbar": {
             "outlinewidth": 0,
             "ticks": ""
            },
            "colorscale": [
             [
              0,
              "#0d0887"
             ],
             [
              0.1111111111111111,
              "#46039f"
             ],
             [
              0.2222222222222222,
              "#7201a8"
             ],
             [
              0.3333333333333333,
              "#9c179e"
             ],
             [
              0.4444444444444444,
              "#bd3786"
             ],
             [
              0.5555555555555556,
              "#d8576b"
             ],
             [
              0.6666666666666666,
              "#ed7953"
             ],
             [
              0.7777777777777778,
              "#fb9f3a"
             ],
             [
              0.8888888888888888,
              "#fdca26"
             ],
             [
              1,
              "#f0f921"
             ]
            ],
            "type": "histogram2d"
           }
          ],
          "histogram2dcontour": [
           {
            "colorbar": {
             "outlinewidth": 0,
             "ticks": ""
            },
            "colorscale": [
             [
              0,
              "#0d0887"
             ],
             [
              0.1111111111111111,
              "#46039f"
             ],
             [
              0.2222222222222222,
              "#7201a8"
             ],
             [
              0.3333333333333333,
              "#9c179e"
             ],
             [
              0.4444444444444444,
              "#bd3786"
             ],
             [
              0.5555555555555556,
              "#d8576b"
             ],
             [
              0.6666666666666666,
              "#ed7953"
             ],
             [
              0.7777777777777778,
              "#fb9f3a"
             ],
             [
              0.8888888888888888,
              "#fdca26"
             ],
             [
              1,
              "#f0f921"
             ]
            ],
            "type": "histogram2dcontour"
           }
          ],
          "mesh3d": [
           {
            "colorbar": {
             "outlinewidth": 0,
             "ticks": ""
            },
            "type": "mesh3d"
           }
          ],
          "parcoords": [
           {
            "line": {
             "colorbar": {
              "outlinewidth": 0,
              "ticks": ""
             }
            },
            "type": "parcoords"
           }
          ],
          "pie": [
           {
            "automargin": true,
            "type": "pie"
           }
          ],
          "scatter": [
           {
            "fillpattern": {
             "fillmode": "overlay",
             "size": 10,
             "solidity": 0.2
            },
            "type": "scatter"
           }
          ],
          "scatter3d": [
           {
            "line": {
             "colorbar": {
              "outlinewidth": 0,
              "ticks": ""
             }
            },
            "marker": {
             "colorbar": {
              "outlinewidth": 0,
              "ticks": ""
             }
            },
            "type": "scatter3d"
           }
          ],
          "scattercarpet": [
           {
            "marker": {
             "colorbar": {
              "outlinewidth": 0,
              "ticks": ""
             }
            },
            "type": "scattercarpet"
           }
          ],
          "scattergeo": [
           {
            "marker": {
             "colorbar": {
              "outlinewidth": 0,
              "ticks": ""
             }
            },
            "type": "scattergeo"
           }
          ],
          "scattergl": [
           {
            "marker": {
             "colorbar": {
              "outlinewidth": 0,
              "ticks": ""
             }
            },
            "type": "scattergl"
           }
          ],
          "scattermapbox": [
           {
            "marker": {
             "colorbar": {
              "outlinewidth": 0,
              "ticks": ""
             }
            },
            "type": "scattermapbox"
           }
          ],
          "scatterpolar": [
           {
            "marker": {
             "colorbar": {
              "outlinewidth": 0,
              "ticks": ""
             }
            },
            "type": "scatterpolar"
           }
          ],
          "scatterpolargl": [
           {
            "marker": {
             "colorbar": {
              "outlinewidth": 0,
              "ticks": ""
             }
            },
            "type": "scatterpolargl"
           }
          ],
          "scatterternary": [
           {
            "marker": {
             "colorbar": {
              "outlinewidth": 0,
              "ticks": ""
             }
            },
            "type": "scatterternary"
           }
          ],
          "surface": [
           {
            "colorbar": {
             "outlinewidth": 0,
             "ticks": ""
            },
            "colorscale": [
             [
              0,
              "#0d0887"
             ],
             [
              0.1111111111111111,
              "#46039f"
             ],
             [
              0.2222222222222222,
              "#7201a8"
             ],
             [
              0.3333333333333333,
              "#9c179e"
             ],
             [
              0.4444444444444444,
              "#bd3786"
             ],
             [
              0.5555555555555556,
              "#d8576b"
             ],
             [
              0.6666666666666666,
              "#ed7953"
             ],
             [
              0.7777777777777778,
              "#fb9f3a"
             ],
             [
              0.8888888888888888,
              "#fdca26"
             ],
             [
              1,
              "#f0f921"
             ]
            ],
            "type": "surface"
           }
          ],
          "table": [
           {
            "cells": {
             "fill": {
              "color": "#EBF0F8"
             },
             "line": {
              "color": "white"
             }
            },
            "header": {
             "fill": {
              "color": "#C8D4E3"
             },
             "line": {
              "color": "white"
             }
            },
            "type": "table"
           }
          ]
         },
         "layout": {
          "annotationdefaults": {
           "arrowcolor": "#2a3f5f",
           "arrowhead": 0,
           "arrowwidth": 1
          },
          "autotypenumbers": "strict",
          "coloraxis": {
           "colorbar": {
            "outlinewidth": 0,
            "ticks": ""
           }
          },
          "colorscale": {
           "diverging": [
            [
             0,
             "#8e0152"
            ],
            [
             0.1,
             "#c51b7d"
            ],
            [
             0.2,
             "#de77ae"
            ],
            [
             0.3,
             "#f1b6da"
            ],
            [
             0.4,
             "#fde0ef"
            ],
            [
             0.5,
             "#f7f7f7"
            ],
            [
             0.6,
             "#e6f5d0"
            ],
            [
             0.7,
             "#b8e186"
            ],
            [
             0.8,
             "#7fbc41"
            ],
            [
             0.9,
             "#4d9221"
            ],
            [
             1,
             "#276419"
            ]
           ],
           "sequential": [
            [
             0,
             "#0d0887"
            ],
            [
             0.1111111111111111,
             "#46039f"
            ],
            [
             0.2222222222222222,
             "#7201a8"
            ],
            [
             0.3333333333333333,
             "#9c179e"
            ],
            [
             0.4444444444444444,
             "#bd3786"
            ],
            [
             0.5555555555555556,
             "#d8576b"
            ],
            [
             0.6666666666666666,
             "#ed7953"
            ],
            [
             0.7777777777777778,
             "#fb9f3a"
            ],
            [
             0.8888888888888888,
             "#fdca26"
            ],
            [
             1,
             "#f0f921"
            ]
           ],
           "sequentialminus": [
            [
             0,
             "#0d0887"
            ],
            [
             0.1111111111111111,
             "#46039f"
            ],
            [
             0.2222222222222222,
             "#7201a8"
            ],
            [
             0.3333333333333333,
             "#9c179e"
            ],
            [
             0.4444444444444444,
             "#bd3786"
            ],
            [
             0.5555555555555556,
             "#d8576b"
            ],
            [
             0.6666666666666666,
             "#ed7953"
            ],
            [
             0.7777777777777778,
             "#fb9f3a"
            ],
            [
             0.8888888888888888,
             "#fdca26"
            ],
            [
             1,
             "#f0f921"
            ]
           ]
          },
          "colorway": [
           "#636efa",
           "#EF553B",
           "#00cc96",
           "#ab63fa",
           "#FFA15A",
           "#19d3f3",
           "#FF6692",
           "#B6E880",
           "#FF97FF",
           "#FECB52"
          ],
          "font": {
           "color": "#2a3f5f"
          },
          "geo": {
           "bgcolor": "white",
           "lakecolor": "white",
           "landcolor": "#E5ECF6",
           "showlakes": true,
           "showland": true,
           "subunitcolor": "white"
          },
          "hoverlabel": {
           "align": "left"
          },
          "hovermode": "closest",
          "mapbox": {
           "style": "light"
          },
          "paper_bgcolor": "white",
          "plot_bgcolor": "#E5ECF6",
          "polar": {
           "angularaxis": {
            "gridcolor": "white",
            "linecolor": "white",
            "ticks": ""
           },
           "bgcolor": "#E5ECF6",
           "radialaxis": {
            "gridcolor": "white",
            "linecolor": "white",
            "ticks": ""
           }
          },
          "scene": {
           "xaxis": {
            "backgroundcolor": "#E5ECF6",
            "gridcolor": "white",
            "gridwidth": 2,
            "linecolor": "white",
            "showbackground": true,
            "ticks": "",
            "zerolinecolor": "white"
           },
           "yaxis": {
            "backgroundcolor": "#E5ECF6",
            "gridcolor": "white",
            "gridwidth": 2,
            "linecolor": "white",
            "showbackground": true,
            "ticks": "",
            "zerolinecolor": "white"
           },
           "zaxis": {
            "backgroundcolor": "#E5ECF6",
            "gridcolor": "white",
            "gridwidth": 2,
            "linecolor": "white",
            "showbackground": true,
            "ticks": "",
            "zerolinecolor": "white"
           }
          },
          "shapedefaults": {
           "line": {
            "color": "#2a3f5f"
           }
          },
          "ternary": {
           "aaxis": {
            "gridcolor": "white",
            "linecolor": "white",
            "ticks": ""
           },
           "baxis": {
            "gridcolor": "white",
            "linecolor": "white",
            "ticks": ""
           },
           "bgcolor": "#E5ECF6",
           "caxis": {
            "gridcolor": "white",
            "linecolor": "white",
            "ticks": ""
           }
          },
          "title": {
           "x": 0.05
          },
          "xaxis": {
           "automargin": true,
           "gridcolor": "white",
           "linecolor": "white",
           "ticks": "",
           "title": {
            "standoff": 15
           },
           "zerolinecolor": "white",
           "zerolinewidth": 2
          },
          "yaxis": {
           "automargin": true,
           "gridcolor": "white",
           "linecolor": "white",
           "ticks": "",
           "title": {
            "standoff": 15
           },
           "zerolinecolor": "white",
           "zerolinewidth": 2
          }
         }
        }
       }
      }
     },
     "metadata": {},
     "output_type": "display_data"
    }
   ],
   "source": [
    "regions = countrys.index.astype(str)\n",
    "\n",
    "fig9 = px.choropleth(\n",
    "    locations=['AZ', 'CA', 'CO', 'ID', 'MT', 'NV', 'NM', 'OR', 'UT', 'WA','WY'], \n",
    "    locationmode=\"USA-states\", \n",
    "    color=countrys['Sales'], \n",
    "    scope=\"usa\", \n",
    "    labels={'locations':'regions', 'color':'Sales'},\n",
    "    color_continuous_scale='aggrnyl')\n",
    "\n",
    "# Mostrar el mapa\n",
    "fig9.show()"
   ]
  },
  {
   "cell_type": "code",
   "execution_count": 53,
   "id": "dce6fc5f",
   "metadata": {},
   "outputs": [
    {
     "data": {
      "text/html": [
       "<div>\n",
       "<style scoped>\n",
       "    .dataframe tbody tr th:only-of-type {\n",
       "        vertical-align: middle;\n",
       "    }\n",
       "\n",
       "    .dataframe tbody tr th {\n",
       "        vertical-align: top;\n",
       "    }\n",
       "\n",
       "    .dataframe thead th {\n",
       "        text-align: right;\n",
       "    }\n",
       "</style>\n",
       "<table border=\"1\" class=\"dataframe\">\n",
       "  <thead>\n",
       "    <tr style=\"text-align: right;\">\n",
       "      <th></th>\n",
       "      <th>Sales</th>\n",
       "    </tr>\n",
       "    <tr>\n",
       "      <th>Geography</th>\n",
       "      <th></th>\n",
       "    </tr>\n",
       "  </thead>\n",
       "  <tbody>\n",
       "    <tr>\n",
       "      <th>Arizona</th>\n",
       "      <td>35282.0010</td>\n",
       "    </tr>\n",
       "    <tr>\n",
       "      <th>California</th>\n",
       "      <td>457687.6315</td>\n",
       "    </tr>\n",
       "    <tr>\n",
       "      <th>Colorado</th>\n",
       "      <td>32108.1180</td>\n",
       "    </tr>\n",
       "    <tr>\n",
       "      <th>Idaho</th>\n",
       "      <td>4382.4860</td>\n",
       "    </tr>\n",
       "    <tr>\n",
       "      <th>Montana</th>\n",
       "      <td>5589.3520</td>\n",
       "    </tr>\n",
       "    <tr>\n",
       "      <th>Nevada</th>\n",
       "      <td>16729.1020</td>\n",
       "    </tr>\n",
       "    <tr>\n",
       "      <th>New Mexico</th>\n",
       "      <td>4783.5220</td>\n",
       "    </tr>\n",
       "    <tr>\n",
       "      <th>Oregon</th>\n",
       "      <td>17431.1500</td>\n",
       "    </tr>\n",
       "    <tr>\n",
       "      <th>Utah</th>\n",
       "      <td>11220.0560</td>\n",
       "    </tr>\n",
       "    <tr>\n",
       "      <th>Washington</th>\n",
       "      <td>138641.2700</td>\n",
       "    </tr>\n",
       "    <tr>\n",
       "      <th>Wyoming</th>\n",
       "      <td>1603.1360</td>\n",
       "    </tr>\n",
       "  </tbody>\n",
       "</table>\n",
       "</div>"
      ],
      "text/plain": [
       "                  Sales\n",
       "Geography              \n",
       "Arizona      35282.0010\n",
       "California  457687.6315\n",
       "Colorado     32108.1180\n",
       "Idaho         4382.4860\n",
       "Montana       5589.3520\n",
       "Nevada       16729.1020\n",
       "New Mexico    4783.5220\n",
       "Oregon       17431.1500\n",
       "Utah         11220.0560\n",
       "Washington  138641.2700\n",
       "Wyoming       1603.1360"
      ]
     },
     "execution_count": 53,
     "metadata": {},
     "output_type": "execute_result"
    }
   ],
   "source": [
    "countrys"
   ]
  }
 ],
 "metadata": {
  "kernelspec": {
   "display_name": "Python 3 (ipykernel)",
   "language": "python",
   "name": "python3"
  },
  "language_info": {
   "codemirror_mode": {
    "name": "ipython",
    "version": 3
   },
   "file_extension": ".py",
   "mimetype": "text/x-python",
   "name": "python",
   "nbconvert_exporter": "python",
   "pygments_lexer": "ipython3",
   "version": "3.11.5"
  }
 },
 "nbformat": 4,
 "nbformat_minor": 5
}
